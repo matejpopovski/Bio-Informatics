{
 "cells": [
  {
   "cell_type": "markdown",
   "metadata": {
    "nbgrader": {
     "grade": false,
     "grade_id": "cell-1cfef6f801e46019",
     "locked": true,
     "schema_version": 3,
     "solution": false
    }
   },
   "source": [
    "# BMI/CS 576 HW1\n",
    "The objectives of this homework are to practice\n",
    "\n",
    "* with the basic algorithms for sequence assembly\n",
    "* reasoning about graphs and paths for the sequence assembly task\n",
    "\n",
    "## HW policies\n",
    "Before starting this homework, please read over the [homework policies](https://canvas.wisc.edu/courses/374201/pages/hw-policies) for this course.  In particular, note that homeworks are to be completed *individually* and plagiarism from any source (with the one exception noted below) will be considered **academic misconduct**.\n",
    "\n",
    "You are welcome to use any code from the weekly notebooks (including the official solutions) in your solutions to the HW."
   ]
  },
  {
   "cell_type": "markdown",
   "metadata": {
    "nbgrader": {
     "grade": false,
     "grade_id": "cell-b7e70bd885b91622",
     "locked": true,
     "schema_version": 3,
     "solution": false
    }
   },
   "source": [
    "## PROBLEM 1: A \"sometimes greedy\" algorithm for fragment assembly (50 points)\n",
    "Write a function, `sometimes_greedy_assemble`, that takes as input a list of read strings and uses a modified version of the greedy fragment assembly algorithm to assemble them into a single superstring.  We will consider a modification to the greedy algorithm described for fragment assembly (Page 9 of the [Sequence Assembly - Graphs and fragment assembly](https://canvas.wisc.edu/courses/374201/pages/day-4-online-lecture-sequence-assembly-graphs-and-fragment-assembly)) in which the algorithm does not always add the next (largest overlap) compatible edge from the queue.  Instead, after popping the next edge off of the queue and checking that it is compatible with the current graph, we will choose to add it to the graph with probability $p$, and if not, we will instead add it to a list, $H$, of \"held aside\" edges that will be considered later, and then continue with the algorithm.  The modified pseudocode for the algorithm is:\n",
    "\n",
    "* Let $G$ be a graph with fragments as vertices and no edges\n",
    "* Create a queue, $Q$, of overlap edges (not currently in $G$), with edges in order of increasing weight (decreasing overlap length)\n",
    "* Initialize $H$ to be an empty list\n",
    "* While $G$ is disconnected\n",
    "    * Pop the next possible edge $e = (u, v)$ off of $Q$\n",
    "    * If $outdegree(u) = 0$ and $indegree(v) = 0$ and $e$ does not create a cycle\n",
    "        * Let $x$ be a random number drawn uniformly from $[0, 1)$\n",
    "        * If $x < p$\n",
    "            * add *e* to *G*\n",
    "            * move the edges in $H$ back to $Q$ in sorted order\n",
    "        * Else\n",
    "            * add *e* to *H*\n",
    "    * If $Q$ is empty\n",
    "        * move the edges in $H$ back to $Q$ in sorted order\n",
    "\n",
    "A potential advantage of this randomized algorithm is that, in cases where the deterministic greedy algorithm fails to find the shortest superstring, there is a non-zero probability that the randomized algorithm will find a shorter superstring than the deterministic algorithm.  And we can run the randomized algorithm many times to increase these chances.\n",
    "\n",
    "To keep things simple for this homework we will allow overlaps of any length (including zero).  In practice, we would typically require some minimum overlap length.  For simplicity, we will also assume that:\n",
    "1. we are assembling a single-stranded sequence and\n",
    "2. that no read is a substring of any other read.\n",
    "\n",
    "## Important implementation details\n",
    "\n",
    "### Random number generation \n",
    "Random number generation should occur only at the line specified in the pseudocode, and you should use the [random.random](https://docs.python.org/3/library/random.html#random.random) function for this purpose.\n",
    "\n",
    "### Tie-breaking criteria\n",
    "\n",
    "For the purpose of making this algorithm deterministic, we must establish tiebreaking criteria for edges in the overlap graph that have the same weight. For two edges with the same weight, we will first choose the edge whose source vertex read is first in lexicographical order. If the source vertices are identical, then we choose the edge whose target vertex read is first in lexicographical order. For example, if e1 = ATCGGA → GGAT and e2 = ATCGGA → GGAA, we will attempt to use edge e2 first because GGAA < GGAT according to lexicographical order.  You may find useful the fact that comparison operators for sequences in Python (e.g., tuples) use lexicographical ordering.  For example,"
   ]
  },
  {
   "cell_type": "code",
   "execution_count": 1,
   "metadata": {
    "nbgrader": {
     "grade": false,
     "grade_id": "cell-a67189d048b0c569",
     "locked": true,
     "schema_version": 3,
     "solution": false,
     "task": false
    }
   },
   "outputs": [
    {
     "data": {
      "text/plain": [
       "True"
      ]
     },
     "execution_count": 1,
     "metadata": {},
     "output_type": "execute_result"
    }
   ],
   "source": [
    "(-3, \"ATCGGA\", \"GGAA\") < (-3, \"ATCGGA\", \"GGAT\")"
   ]
  },
  {
   "cell_type": "code",
   "execution_count": 2,
   "metadata": {
    "nbgrader": {
     "grade": false,
     "grade_id": "cell-11ef4347de632758",
     "locked": false,
     "schema_version": 3,
     "solution": true
    }
   },
   "outputs": [],
   "source": [
    "# Code for PROBLEM 1\n",
    "# You are welcome to develop your code as a separate Python module\n",
    "# and import it here if that is more convenient for you.\n",
    "def sometimes_greedy_assemble(reads, p=1.0):\n",
    "    \"\"\"Assembles a set of reads using the graph-based 'sometimes' greedy algorithm.\n",
    "    \n",
    "    Args:\n",
    "        reads: a list of strings\n",
    "        p: probability of a compatible edge being added at each iteration\n",
    "           (default: 1.0, which is equilavent to the deterministic greedy algorithm)\n",
    "    Returns:\n",
    "        A string that is a superstring of the input reads\n",
    "    \"\"\"\n",
    "    ### BEGIN SOLUTION\n",
    "    import assemble\n",
    "    return assemble.sometimes_greedy_assemble(reads, p)\n",
    "    ### END SOLUTION"
   ]
  },
  {
   "cell_type": "markdown",
   "metadata": {
    "nbgrader": {
     "grade": false,
     "grade_id": "cell-4420925e7c715bff",
     "locked": true,
     "schema_version": 3,
     "solution": false
    }
   },
   "source": [
    "Tests for `sometimes_greedy_assemble` are provided at the bottom of this notebook."
   ]
  },
  {
   "cell_type": "markdown",
   "metadata": {
    "nbgrader": {
     "grade": false,
     "grade_id": "cell-83f65a46d5679261",
     "locked": true,
     "schema_version": 3,
     "solution": false
    }
   },
   "source": [
    "## PROBLEM 2: Assembling the SARS-CoV-2 genome (10 points)"
   ]
  },
  {
   "cell_type": "markdown",
   "metadata": {
    "nbgrader": {
     "grade": false,
     "grade_id": "cell-88391004f10fc368",
     "locked": true,
     "schema_version": 3,
     "solution": false
    }
   },
   "source": [
    "Included with this notebook is the file `sarscov2_reads.fasta` which is a set of reads from a SARS-CoV-2 variant genome.  In this problem, we will use your `sometimes_greedy_assemble` function to assemble this genome and then *determine the identity of the variant*.  A few notes about these reads:\n",
    "\n",
    "1. The reads are free of sequencing errors\n",
    "2. The reads are all in the same orientation as the SARS-CoV-2 genome"
   ]
  },
  {
   "cell_type": "markdown",
   "metadata": {
    "nbgrader": {
     "grade": false,
     "grade_id": "cell-2f2d4a0b97a35096",
     "locked": true,
     "schema_version": 3,
     "solution": false,
     "task": false
    }
   },
   "source": [
    "**(a)** Write code to read in the SARS-CoV-2 reads and asssemble them with your `sometimes_greedy_assemble` function, with `p = 1` (deterministic).  Write the code assuming your `sometimes_greedy_assemble` function is correct.  This problem will be graded manually.  "
   ]
  },
  {
   "cell_type": "code",
   "execution_count": 3,
   "metadata": {
    "nbgrader": {
     "grade": true,
     "grade_id": "cell-53939e0d87d150f6",
     "locked": false,
     "points": 5,
     "schema_version": 3,
     "solution": true,
     "task": false
    }
   },
   "outputs": [
    {
     "name": "stdout",
     "output_type": "stream",
     "text": [
      "Computing overlaps...\n",
      "Running greedy algorithm...\n"
     ]
    }
   ],
   "source": [
    "### BEGIN SOLUTION\n",
    "import fasta\n",
    "sarscov2_read_records = fasta.read_sequences_from_fasta_file(\"sarscov2_reads.fasta\")\n",
    "sarscov2_reads = [read for (name, read) in sarscov2_read_records]\n",
    "assembly = sometimes_greedy_assemble(sarscov2_reads)\n",
    "### END SOLUTION"
   ]
  },
  {
   "cell_type": "markdown",
   "metadata": {
    "nbgrader": {
     "grade": false,
     "grade_id": "cell-daa50969beab5818",
     "locked": true,
     "schema_version": 3,
     "solution": false,
     "task": false
    }
   },
   "source": [
    "**(b)** The file `sarscov2_variant_genomes.fasta` contains the genome sequences for eight SARS-CoV-2 variants of concern or variants of interest: alpha, beta, delta, gamma, epsilon, omicron BA.1, omicron BA.4, omicron BA.5, omicron EG.5.1, and omicron XBB.1.5  If your code is correct, your assembly should be identical to one of these genomes (*note: typically, a newly sequenced viral genome will not match exactly to a reference genome, but we are keeping it simple in this assignment*).  **Which variant do these reads come from?**\n",
    "\n",
    "A few notes:\n",
    "1. If your `sometimes_greedy_assemble` function is not correct, you may use an alternative strategy for determining the identity of the variant (e.g., by examining the reads and the candidate variant genome sequences provided)\n",
    "2. This problem will be manually graded.  The majority of the credit will be providing the code that you used to determine the identity of the variant."
   ]
  },
  {
   "cell_type": "code",
   "execution_count": 4,
   "metadata": {
    "nbgrader": {
     "grade": true,
     "grade_id": "cell-34c0c82b3935b4cb",
     "locked": false,
     "points": 5,
     "schema_version": 3,
     "solution": true,
     "task": false
    }
   },
   "outputs": [
    {
     "name": "stdout",
     "output_type": "stream",
     "text": [
      "The variant is: omicron_eg_5.1\n",
      "The variant is: omicron_eg_5.1\n"
     ]
    }
   ],
   "source": [
    "### BEGIN SOLUTION\n",
    "variant_genomes = fasta.read_sequences_from_fasta_file(\"sarscov2_variant_genomes.fasta\")\n",
    "for name, genome in variant_genomes:\n",
    "    if assembly == genome:\n",
    "        print(\"The variant is:\", name)\n",
    "\n",
    "# alternative strategy\n",
    "for name, genome in variant_genomes:\n",
    "    if all(read in genome for read in sarscov2_reads):\n",
    "        print(\"The variant is:\", name)\n",
    "### END SOLUTION"
   ]
  },
  {
   "cell_type": "markdown",
   "metadata": {},
   "source": [
    "## PROBLEM 3: SBH graphs and Eulerian paths (20 points) \n",
    "For the following strings, (i) give the k = 3 spectrum for the string, (ii) draw the SBH graph for the spectrum, (iii) give one Eulerian path and its corresponding string for the SBH graph, and (iv) show whether or not there exists an Eulerian path in the graph that corresponds to the original string.\n",
    "\n",
    "(a) `AGTTAAATTGCAG`\n",
    "\n",
    "(b) `TATCGGATCGTTA`"
   ]
  },
  {
   "cell_type": "markdown",
   "metadata": {
    "nbgrader": {
     "grade": true,
     "grade_id": "problem3",
     "locked": false,
     "points": 20,
     "schema_version": 3,
     "solution": true
    }
   },
   "source": [
    "### BEGIN SOLUTION  TEMPLATE=*YOUR ANSWER TO PROBLEM 3 HERE*\n",
    "\n",
    "(b)  AGTTAAATTGCAG\n",
    "\n",
    "i. {AAA, AAT, AGT, ATT, CAG, GCA, GTT, TAA, TGC, TTA, TTG}\n",
    "\n",
    "ii. See figure below.\n",
    "![p3a](p3a.png)\n",
    "\n",
    "iii. There is one Eulerian cycle in this graph\n",
    "TA -> AA -> AA -> AT -> TT -> TG -> GC -> CA -> AG -> GT -> TT -> TA\n",
    "which contains the following Eulerian paths and their corresponding strings:\n",
    "\n",
    "    TAAATTGCAGTTA: TA -> AA -> AA -> AT -> TT -> TG -> GC -> CA -> AG -> GT -> TT -> TA\n",
    "    AAATTGCAGTTAA: AA -> AA -> AT -> TT -> TG -> GC -> CA -> AG -> GT -> TT -> TA -> AA\n",
    "    AATTGCAGTTAAA: AA -> AT -> TT -> TG -> GC -> CA -> AG -> GT -> TT -> TA -> AA -> AA\n",
    "    ATTGCAGTTAAAT: AT -> TT -> TG -> GC -> CA -> AG -> GT -> TT -> TA -> AA -> AA -> AT\n",
    "    TTGCAGTTAAATT: TT -> TG -> GC -> CA -> AG -> GT -> TT -> TA -> AA -> AA -> AT -> TT\n",
    "    TGCAGTTAAATTG: TG -> GC -> CA -> AG -> GT -> TT -> TA -> AA -> AA -> AT -> TT -> TG\n",
    "    GCAGTTAAATTGC: GC -> CA -> AG -> GT -> TT -> TA -> AA -> AA -> AT -> TT -> TG -> GC\n",
    "    CAGTTAAATTGCA: CA -> AG -> GT -> TT -> TA -> AA -> AA -> AT -> TT -> TG -> GC -> CA\n",
    "    AGTTAAATTGCAG: AG -> GT -> TT -> TA -> AA -> AA -> AT -> TT -> TG -> GC -> CA -> AG\n",
    "    GTTAAATTGCAGT: GT -> TT -> TA -> AA -> AA -> AT -> TT -> TG -> GC -> CA -> AG -> GT\n",
    "    TTAAATTGCAGTT: TT -> TA -> AA -> AA -> AT -> TT -> TG -> GC -> CA -> AG -> GT -> TT\n",
    "    TAAATTGCAGTTA: TA -> AA -> AA -> AT -> TT -> TG -> GC -> CA -> AG -> GT -> TT -> TA\n",
    "\n",
    "iv. Yes, there exists an Eulerian path in the graph that corresponds to the\n",
    "original string (see the ninth string and path in the list above).\n",
    "\n",
    "(b) TATCGGATCGTTA\n",
    "\n",
    "i. {ATC, CGG, CGT, GAT, GGA, GTT, TAT, TCG, TTA}\n",
    "\n",
    "ii. See figure below.\n",
    "![p3b](p3b.png)\n",
    "\n",
    "iii. The two possible Eulerian paths in this graph and their corresponding\n",
    "strings are:\n",
    "\n",
    "    CGGATCGTTAT: CG -> GG -> GA -> AT -> TC -> CG -> GT -> TT -> TA -> AT\n",
    "    CGTTATCGGAT: CG -> GT -> TT -> TA -> AT -> TC -> CG -> GG -> GA -> AT\n",
    "\n",
    "iv. No.  No Eulerian path in this SBH graph can correspond to the original string because the original string has k-mers that are present more than once (ATC and TCG) and in the SBH graph each unique k-mer is represented by a single edge, which can only be traversed once by an Eulerian path.  One can also see this by noting that there are only 9 edges in the graph, and thus a string corresponding to an Eulerian path will be $11 = 9 + 3 - 1$ characters long, whereas the original string is $13$ characters long.\n",
    "\n",
    "           \n",
    "### END SOLUTION"
   ]
  },
  {
   "cell_type": "markdown",
   "metadata": {
    "nbgrader": {
     "grade": false,
     "grade_id": "cell-21682023e23904ca",
     "locked": true,
     "schema_version": 3,
     "solution": false
    }
   },
   "source": [
    "## PROBLEM 4: Which data will assemble correctly? (20 points) \n",
    "Suppose that the true genome sequence of an organism is `AACGCCGCTAG`.\n",
    "\n",
    "**(a)** Suppose you use the fragment assembly paradigm and the greedy algorithm for assembling these three reads into a superstring.\n",
    "\n",
    "**(a.i)** Identify three reads, each with length = 5, that cover the genome and for which the algorithm will *successfully* assemble the genome.  Draw the overlap graph and specify the order in which the edges are added to form the path.\n",
    "\n",
    "**(a.ii)** Identify three reads, each with length = 5, that cover the genome and for which the algorithm will *fail* to assemble the genome.  Draw the overlap graph and specify the order in which the edges are added to form the path.\n",
    "\n",
    "**(a.iii)** Identify three reads, each with length = 5, that cover the genome and for which the algorithm *may fail or may succeed* depending on how edge weight ties are arbitrarily broken.  Draw the overlap graph and specify the order in which the edges are added to form a correct assembly and also an order in which the edges are added to form an incorrect assembly.\n",
    "\n",
    "**(b)** Suppose instead that you use the spectral assembly paradigm.  What is the smallest value of $k$ for which this assembly approach will succeed?  For this value of $k$, give the spectral assembly graph and an Eulerian path through the graph."
   ]
  },
  {
   "cell_type": "markdown",
   "metadata": {
    "nbgrader": {
     "grade": true,
     "grade_id": "problem4",
     "locked": false,
     "points": 20,
     "schema_version": 3,
     "solution": true,
     "task": false
    }
   },
   "source": [
    "### BEGIN SOLUTION  TEMPLATE=*YOUR ANSWER TO PROBLEM 4 HERE*\n",
    "\n",
    "**(a)** In order for the reads to cover the genome, reads corresponding to the first five bases (CTAGC) and the last five bases (GCGTT) of the genome must be included in the read set.  To cover the genome, the third read must be one of the following substrings: ACGCC, CGCCG, GCCGC, CCGCT, or CGCTA.\n",
    "\n",
    "**(i)** Either CGCCG or CCGCT can be the third read to guarantee successful assembly.  With CGCCG the overlap graph is\n",
    "\n",
    "![p4ai_overlap graph](p4ai_overlap_graph.png)\n",
    "\n",
    "and the order of edge additions are as follows:\n",
    "* Iteration 1: Edge AACGC → CGCCG added\n",
    "* Iteration 2: Edge AACGC → GCTAG rejected\n",
    "* Iteration 3: Edge CGCCG → GCTAG added\n",
    "\n",
    "**(ii)** CGCTA as the third read will guarantee failed assembly.  The overlap graph is\n",
    "\n",
    "![p4aii_overlap graph](p4aii_overlap_graph.png)\n",
    "\n",
    "and the order of edge additions are as follows:\n",
    "* Iteration 1: Edge CGCTA → GCTAG added\n",
    "* Iteration 2: Edge AACGC → CGCTA added\n",
    "\n",
    "**(iii)** ACGCC or GCCGC as the third read may result in failure or success depending on edge weight ties. For ACGCC The overlap graph is\n",
    "\n",
    "![p4aiii_overlap graph](p4aiii_overlap_graph.png)\n",
    "\n",
    "An order of edge additions that leads to a correct assembly is:\n",
    "* Iteration 1: Edge AACGC → ACGCC added (weight = 4)\n",
    "* Iteration 2: Edge AACGC → GCTAG rejected (weight = 2)\n",
    "* Iteration 3: Edge ACGCC → GCTAG added (weight = 0)\n",
    "\n",
    "An order of edge additions that leads to an incorrect assembly is:\n",
    "* Iteration 1: Edge AACGC → ACGCC added (weight = 4)\n",
    "* Iteration 2: Edge AACGC → GCTAG rejected (weight = 2)\n",
    "* Iteration 3: Edge GCTAG → AACGC added (weight = 0)\n",
    "\n",
    "**(b)** $k = 4$.  For $k = 4$, all k-mers in the genome are unique, which allows for the spectral assembly approach to succeed.  Note that for $k =3$, not all k-mers in the genome are unique (CGC is found twice), thus 4 is the smallest value for $k$.  The spectral assembly graph for $k = 4$ is:\n",
    "\n",
    "![p4b](p4b.png)\n",
    "\n",
    "And the Eulerian path through this graph is AAC → ACG → CGC → GCC → CCG → CGC → GCT → CTA → TAG\n",
    "\n",
    "### END SOLUTION"
   ]
  },
  {
   "cell_type": "markdown",
   "metadata": {
    "nbgrader": {
     "grade": false,
     "grade_id": "cell-f886d5b063ddba39",
     "locked": true,
     "schema_version": 3,
     "solution": false
    }
   },
   "source": [
    "### Tests for problem 1"
   ]
  },
  {
   "cell_type": "code",
   "execution_count": 5,
   "metadata": {
    "nbgrader": {
     "grade": false,
     "grade_id": "cell-edb12d33afef11ca",
     "locked": true,
     "schema_version": 3,
     "solution": false
    }
   },
   "outputs": [],
   "source": [
    "# read sets for testing\n",
    "tiny_reads = [\"ATAG\", \"CATA\", \"TAAT\"]\n",
    "single_base_reads = [\"C\", \"A\", \"T\", \"G\"]\n",
    "medium_reads = [\"ATGCT\", \"CTAT\", \"CCTATA\", \"CCC\", \"CTCC\", \"AAG\"]\n",
    "\n",
    "# utility functions for testing\n",
    "import random\n",
    "\n",
    "def read_strings_from_file(filename):\n",
    "    return [line.rstrip() for line in open(filename)]\n",
    "\n",
    "def test_sometimes_greedy_assemble_with_files(reads_filename, superstring_filename, p = 1.0):\n",
    "    reads = read_strings_from_file(reads_filename)\n",
    "    superstring = read_strings_from_file(superstring_filename)[0]\n",
    "    assert sometimes_greedy_assemble(reads, p) == superstring"
   ]
  },
  {
   "cell_type": "code",
   "execution_count": 6,
   "metadata": {
    "nbgrader": {
     "grade": true,
     "grade_id": "returns_a_string",
     "locked": true,
     "points": 8,
     "schema_version": 3,
     "solution": false,
     "task": false
    }
   },
   "outputs": [
    {
     "name": "stdout",
     "output_type": "stream",
     "text": [
      "Computing overlaps...\n",
      "Running greedy algorithm...\n",
      "SUCCESS: returns a string passed!\n"
     ]
    }
   ],
   "source": [
    "# TEST: returns a string\n",
    "assembly = sometimes_greedy_assemble(tiny_reads)\n",
    "assert isinstance(assembly, str), \"Return value of sometimes_greedy_assemble is not a str\"\n",
    "print(\"SUCCESS: returns a string passed!\")"
   ]
  },
  {
   "cell_type": "code",
   "execution_count": 7,
   "metadata": {
    "nbgrader": {
     "grade": true,
     "grade_id": "returns_a_superstring",
     "locked": true,
     "points": 6,
     "schema_version": 3,
     "solution": false
    }
   },
   "outputs": [
    {
     "name": "stdout",
     "output_type": "stream",
     "text": [
      "Computing overlaps...\n",
      "Running greedy algorithm...\n",
      "SUCCESS: returns a superstring passed!\n"
     ]
    }
   ],
   "source": [
    "# TEST: returns a superstring\n",
    "def check_is_superstring(assembly, reads):\n",
    "    for read in reads:\n",
    "        assert read in assembly, f\"read '{read}' is not contained in assembly\"\n",
    "\n",
    "assembly = sometimes_greedy_assemble(tiny_reads)\n",
    "check_is_superstring(assembly, tiny_reads)\n",
    "print(\"SUCCESS: returns a superstring passed!\")"
   ]
  },
  {
   "cell_type": "code",
   "execution_count": 8,
   "metadata": {
    "nbgrader": {
     "grade": true,
     "grade_id": "tiny_deterministic",
     "locked": true,
     "points": 4,
     "schema_version": 3,
     "solution": false,
     "task": false
    }
   },
   "outputs": [
    {
     "name": "stdout",
     "output_type": "stream",
     "text": [
      "Computing overlaps...\n",
      "Running greedy algorithm...\n",
      "SUCCESS: tiny_deterministic passed\n"
     ]
    }
   ],
   "source": [
    "# TEST: tiny_deterministic\n",
    "assembly = sometimes_greedy_assemble(tiny_reads, 1.0)\n",
    "assert assembly == 'CATAGTAAT'\n",
    "print(\"SUCCESS: tiny_deterministic passed\")"
   ]
  },
  {
   "cell_type": "code",
   "execution_count": 9,
   "metadata": {
    "nbgrader": {
     "grade": true,
     "grade_id": "tiny_single_skip",
     "locked": true,
     "points": 4,
     "schema_version": 3,
     "solution": false,
     "task": false
    }
   },
   "outputs": [
    {
     "name": "stdout",
     "output_type": "stream",
     "text": [
      "Computing overlaps...\n",
      "Running greedy algorithm...\n",
      "SUCCESS: tiny_single_skip passed!\n"
     ]
    }
   ],
   "source": [
    "# TEST: tiny_single_skip\n",
    "random.seed(0)\n",
    "assembly = sometimes_greedy_assemble(tiny_reads, 0.8)\n",
    "assert assembly == 'CATAATAG'\n",
    "print(\"SUCCESS: tiny_single_skip passed!\")"
   ]
  },
  {
   "cell_type": "code",
   "execution_count": 10,
   "metadata": {
    "nbgrader": {
     "grade": true,
     "grade_id": "tiny_double_skip",
     "locked": true,
     "points": 2,
     "schema_version": 3,
     "solution": false,
     "task": false
    }
   },
   "outputs": [
    {
     "name": "stdout",
     "output_type": "stream",
     "text": [
      "Computing overlaps...\n",
      "Running greedy algorithm...\n",
      "SUCCESS: tiny_double_skip passed!\n"
     ]
    }
   ],
   "source": [
    "# TEST: tiny_double_skip\n",
    "random.seed(78)\n",
    "assembly = sometimes_greedy_assemble(tiny_reads, 0.8)\n",
    "assert assembly == 'ATAGCATAAT'\n",
    "print(\"SUCCESS: tiny_double_skip passed!\")"
   ]
  },
  {
   "cell_type": "code",
   "execution_count": 11,
   "metadata": {
    "nbgrader": {
     "grade": true,
     "grade_id": "tiny_triple_skip",
     "locked": true,
     "points": 2,
     "schema_version": 3,
     "solution": false,
     "task": false
    }
   },
   "outputs": [
    {
     "name": "stdout",
     "output_type": "stream",
     "text": [
      "Computing overlaps...\n",
      "Running greedy algorithm...\n",
      "SUCCESS: tiny_triple_skip passed!\n"
     ]
    }
   ],
   "source": [
    "# TEST: tiny_triple_skip\n",
    "random.seed(23)\n",
    "assembly = sometimes_greedy_assemble(tiny_reads, 0.8)\n",
    "assert assembly == 'ATAGCATAAT'\n",
    "print(\"SUCCESS: tiny_triple_skip passed!\")"
   ]
  },
  {
   "cell_type": "code",
   "execution_count": 12,
   "metadata": {
    "nbgrader": {
     "grade": true,
     "grade_id": "tiny_empty_queue",
     "locked": true,
     "points": 2,
     "schema_version": 3,
     "solution": false,
     "task": false
    }
   },
   "outputs": [
    {
     "name": "stdout",
     "output_type": "stream",
     "text": [
      "Computing overlaps...\n",
      "Running greedy algorithm...\n",
      "SUCCESS: tiny_empty_queue passed!\n"
     ]
    }
   ],
   "source": [
    "# TEST: tiny_empty_queue\n",
    "import random\n",
    "random.seed(17)\n",
    "assembly = sometimes_greedy_assemble(tiny_reads, 0.8)\n",
    "assert assembly == 'CATAGTAAT'\n",
    "print(\"SUCCESS: tiny_empty_queue passed!\")"
   ]
  },
  {
   "cell_type": "code",
   "execution_count": 13,
   "metadata": {
    "nbgrader": {
     "grade": true,
     "grade_id": "tiny_multiple_empty_queue",
     "locked": true,
     "points": 2,
     "schema_version": 3,
     "solution": false,
     "task": false
    }
   },
   "outputs": [
    {
     "name": "stdout",
     "output_type": "stream",
     "text": [
      "Computing overlaps...\n",
      "Running greedy algorithm...\n",
      "SUCCESS: tiny_multiple_empty_queue passed!\n"
     ]
    }
   ],
   "source": [
    "# TEST: tiny_multiple_empty_queue\n",
    "import random\n",
    "random.seed(36)\n",
    "assembly = sometimes_greedy_assemble(tiny_reads, 0.5)\n",
    "assert assembly == 'TAATCATAG'\n",
    "print(\"SUCCESS: tiny_multiple_empty_queue passed!\")"
   ]
  },
  {
   "cell_type": "code",
   "execution_count": 14,
   "metadata": {
    "nbgrader": {
     "grade": true,
     "grade_id": "single_bases",
     "locked": true,
     "points": 2,
     "schema_version": 3,
     "solution": false
    }
   },
   "outputs": [
    {
     "name": "stdout",
     "output_type": "stream",
     "text": [
      "Computing overlaps...\n",
      "Running greedy algorithm...\n",
      "SUCCESS: single_bases passed!\n"
     ]
    }
   ],
   "source": [
    "# TEST: single_bases\n",
    "assembly = sometimes_greedy_assemble(single_base_reads)\n",
    "assert assembly == \"ACGT\"\n",
    "print(\"SUCCESS: single_bases passed!\")"
   ]
  },
  {
   "cell_type": "code",
   "execution_count": 15,
   "metadata": {
    "nbgrader": {
     "grade": true,
     "grade_id": "medium",
     "locked": true,
     "points": 2,
     "schema_version": 3,
     "solution": false,
     "task": false
    }
   },
   "outputs": [
    {
     "name": "stdout",
     "output_type": "stream",
     "text": [
      "Computing overlaps...\n",
      "Running greedy algorithm...\n",
      "SUCCESS: medium passed!\n"
     ]
    }
   ],
   "source": [
    "# TEST: medium\n",
    "assembly = sometimes_greedy_assemble(medium_reads)\n",
    "assert assembly == \"CTCCCTATAAGATGCTAT\"\n",
    "print(\"SUCCESS: medium passed!\")"
   ]
  },
  {
   "cell_type": "code",
   "execution_count": 16,
   "metadata": {
    "nbgrader": {
     "grade": true,
     "grade_id": "medium_randomized",
     "locked": true,
     "points": 2,
     "schema_version": 3,
     "solution": false,
     "task": false
    }
   },
   "outputs": [
    {
     "name": "stdout",
     "output_type": "stream",
     "text": [
      "Computing overlaps...\n",
      "Running greedy algorithm...\n",
      "SUCCESS: medium_randomized passed!\n"
     ]
    }
   ],
   "source": [
    "# TEST: medium_randomized\n",
    "random.seed(15)\n",
    "assembly = sometimes_greedy_assemble(medium_reads, p=0.7)\n",
    "assert assembly == \"CTATGCTCCCTATAAG\"\n",
    "print(\"SUCCESS: medium_randomized passed!\")"
   ]
  },
  {
   "cell_type": "code",
   "execution_count": 17,
   "metadata": {
    "nbgrader": {
     "grade": true,
     "grade_id": "large0",
     "locked": true,
     "points": 4,
     "schema_version": 3,
     "solution": false
    }
   },
   "outputs": [
    {
     "name": "stdout",
     "output_type": "stream",
     "text": [
      "Computing overlaps...\n",
      "Running greedy algorithm...\n",
      "SUCCESS: large0 passed!\n"
     ]
    }
   ],
   "source": [
    "# TEST: large0\n",
    "random.seed(0)\n",
    "test_sometimes_greedy_assemble_with_files(\"tests/large0_reads.txt\", \"tests/large0_assembly.txt\", p = 0.8)\n",
    "print(\"SUCCESS: large0 passed!\")"
   ]
  },
  {
   "cell_type": "code",
   "execution_count": 18,
   "metadata": {
    "nbgrader": {
     "grade": true,
     "grade_id": "large1",
     "locked": true,
     "points": 2,
     "schema_version": 3,
     "solution": false
    }
   },
   "outputs": [
    {
     "name": "stdout",
     "output_type": "stream",
     "text": [
      "Computing overlaps...\n",
      "Running greedy algorithm...\n",
      "SUCCESS: large1 passed!\n"
     ]
    }
   ],
   "source": [
    "# TEST: large1\n",
    "### BEGIN HIDDEN TESTS\n",
    "random.seed(1)\n",
    "test_sometimes_greedy_assemble_with_files(\"tests/large1_reads.txt\", \"tests/large1_assembly.txt\", p = 0.8)\n",
    "print(\"SUCCESS: large1 passed!\")\n",
    "### END HIDDEN TESTS"
   ]
  },
  {
   "cell_type": "code",
   "execution_count": 19,
   "metadata": {
    "nbgrader": {
     "grade": true,
     "grade_id": "large2",
     "locked": true,
     "points": 2,
     "schema_version": 3,
     "solution": false
    }
   },
   "outputs": [
    {
     "name": "stdout",
     "output_type": "stream",
     "text": [
      "Computing overlaps...\n",
      "Running greedy algorithm...\n",
      "SUCCESS: large2 passed!\n"
     ]
    }
   ],
   "source": [
    "# TEST: large2\n",
    "### BEGIN HIDDEN TESTS\n",
    "random.seed(2)\n",
    "test_sometimes_greedy_assemble_with_files(\"tests/large2_reads.txt\", \"tests/large2_assembly.txt\", p = 0.8)\n",
    "print(\"SUCCESS: large2 passed!\")\n",
    "### END HIDDEN TESTS"
   ]
  },
  {
   "cell_type": "code",
   "execution_count": 20,
   "metadata": {
    "nbgrader": {
     "grade": true,
     "grade_id": "large3",
     "locked": true,
     "points": 2,
     "schema_version": 3,
     "solution": false
    }
   },
   "outputs": [
    {
     "name": "stdout",
     "output_type": "stream",
     "text": [
      "Computing overlaps...\n",
      "Running greedy algorithm...\n",
      "SUCCESS: large3 passed!\n"
     ]
    }
   ],
   "source": [
    "# TEST: large3\n",
    "### BEGIN HIDDEN TESTS\n",
    "random.seed(3)\n",
    "test_sometimes_greedy_assemble_with_files(\"tests/large3_reads.txt\", \"tests/large3_assembly.txt\", p = 0.8)\n",
    "print(\"SUCCESS: large3 passed!\")\n",
    "### END HIDDEN TESTS"
   ]
  },
  {
   "cell_type": "code",
   "execution_count": 21,
   "metadata": {
    "nbgrader": {
     "grade": true,
     "grade_id": "large4",
     "locked": true,
     "points": 2,
     "schema_version": 3,
     "solution": false
    }
   },
   "outputs": [
    {
     "name": "stdout",
     "output_type": "stream",
     "text": [
      "Computing overlaps...\n",
      "Running greedy algorithm...\n",
      "SUCCESS: large4 passed!\n"
     ]
    }
   ],
   "source": [
    "# TEST: large4\n",
    "### BEGIN HIDDEN TESTS\n",
    "random.seed(4)\n",
    "test_sometimes_greedy_assemble_with_files(\"tests/large4_reads.txt\", \"tests/large4_assembly.txt\", p = 0.8)\n",
    "print(\"SUCCESS: large4 passed!\")\n",
    "### END HIDDEN TESTS"
   ]
  },
  {
   "cell_type": "code",
   "execution_count": 22,
   "metadata": {
    "nbgrader": {
     "grade": true,
     "grade_id": "large5",
     "locked": true,
     "points": 2,
     "schema_version": 3,
     "solution": false
    }
   },
   "outputs": [
    {
     "name": "stdout",
     "output_type": "stream",
     "text": [
      "Computing overlaps...\n",
      "Running greedy algorithm...\n",
      "SUCCESS: large5 passed!\n"
     ]
    }
   ],
   "source": [
    "# TEST: large5\n",
    "### BEGIN HIDDEN TESTS\n",
    "random.seed(5)\n",
    "test_sometimes_greedy_assemble_with_files(\"tests/large5_reads.txt\", \"tests/large5_assembly.txt\", p = 0.8)\n",
    "print(\"SUCCESS: large5 passed!\")\n",
    "### END HIDDEN TESTS"
   ]
  }
 ],
 "metadata": {
  "celltoolbar": "Create Assignment",
  "kernelspec": {
   "display_name": "Python 3 [3.10]",
   "language": "python",
   "name": "python3"
  },
  "language_info": {
   "codemirror_mode": {
    "name": "ipython",
    "version": 3
   },
   "file_extension": ".py",
   "mimetype": "text/x-python",
   "name": "python",
   "nbconvert_exporter": "python",
   "pygments_lexer": "ipython3",
   "version": "3.10.2"
  }
 },
 "nbformat": 4,
 "nbformat_minor": 4
}
