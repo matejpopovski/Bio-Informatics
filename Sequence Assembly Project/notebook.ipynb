{
 "cells": [
  {
   "cell_type": "markdown",
   "metadata": {
    "nbgrader": {
     "grade": false,
     "grade_id": "cell-1cfef6f801e46019",
     "locked": true,
     "schema_version": 1,
     "solution": false
    }
   },
   "source": [
    "# BMI/CS 576 HW1\n",
    "The objectives of this homework are to practice\n",
    "\n",
    "* with the basic algorithms for sequence assembly\n",
    "* reasoning about graphs and paths for the sequence assembly task\n",
    "\n",
    "## HW policies\n",
    "Before starting this homework, please read over the [homework policies](https://canvas.wisc.edu/courses/167969/pages/hw-policies) for this course.  In particular, note that homeworks are to be completed *individually*.\n",
    "\n",
    "You are welcome to use any code from the weekly notebooks in your solutions to the HW."
   ]
  },
  {
   "cell_type": "markdown",
   "metadata": {
    "nbgrader": {
     "grade": false,
     "grade_id": "cell-b7e70bd885b91622",
     "locked": true,
     "schema_version": 1,
     "solution": false
    }
   },
   "source": [
    "## PROBLEM 1: The greedy algorithm for fragment assembly (60 points)\n",
    "Write a function, `greedy_assemble`, that takes as input a list of read strings and uses the greedy fragment assembly algorithm to output a *single* superstring that contains all reads as substrings. You must use the graph-based (Hamiltonian path) version of the greedy algorithm. We will assume that:\n",
    "1. we are assembling a single-stranded sequence and\n",
    "2. that no read is a substring of any other read.\n",
    "\n",
    "To keep things simple, for this homeowork, we will allow overlaps of any length (including zero).  In practice, for sequence assembly we would typically require some minimum overlap length.\n",
    "\n",
    "### Tie-breaking criteria\n",
    "\n",
    "For the purpose of making this algorithm deterministic, we must establish tiebreaking criteria for edges in the overlap graph that have the same weight. For two edges with the same weight, we will first choose the edge whose source vertex read is first in lexicographical order. If the source vertices are identical, then we choose the edge whose target vertex read is first in lexicographical order. For example, if e1 = ATCGGA → GGAT and e2 = ATCGGA → GGAA, we will attempt to use edge e2 first because GGAA < GGAT according to lexicographical order."
   ]
  },
  {
   "cell_type": "code",
   "execution_count": 1,
   "metadata": {
    "collapsed": true,
    "nbgrader": {
     "grade": false,
     "grade_id": "cell-11ef4347de632758",
     "locked": false,
     "schema_version": 1,
     "solution": true
    }
   },
   "outputs": [],
   "source": [
    "# Code for PROBLEM 1\n",
    "# You are welcome to develop your code as a separate Python module\n",
    "# and import it here if that is more convenient for you.\n",
    "def greedy_assemble(reads):\n",
    "    \"\"\"Assembles a set of reads using the graph-based greedy algorithm.\n",
    "    \n",
    "    Args:\n",
    "        reads: a list of strings\n",
    "    Returns:\n",
    "        A string that is a superstring of the input reads\n",
    "    \"\"\"\n",
    "    ### BEGIN SOLUTION\n",
    "    import assemble\n",
    "    return assemble.greedy_assemble(reads)\n",
    "    ### END SOLUTION"
   ]
  },
  {
   "cell_type": "markdown",
   "metadata": {
    "nbgrader": {
     "grade": false,
     "grade_id": "cell-4420925e7c715bff",
     "locked": true,
     "schema_version": 1,
     "solution": false
    }
   },
   "source": [
    "Tests for `greedy_assemble` are provided at the bottom of this notebook."
   ]
  },
  {
   "cell_type": "markdown",
   "metadata": {
    "nbgrader": {
     "grade": false,
     "grade_id": "cell-83f65a46d5679261",
     "locked": true,
     "schema_version": 1,
     "solution": false
    }
   },
   "source": [
    "## PROBLEM 2: Assembling a small subset of Ebola virus reads (10 points)"
   ]
  },
  {
   "cell_type": "markdown",
   "metadata": {
    "nbgrader": {
     "grade": false,
     "grade_id": "cell-88391004f10fc368",
     "locked": true,
     "schema_version": 1,
     "solution": false
    }
   },
   "source": [
    "Included with this notebook is the file `ebola_reads.txt` which is small subset of the Illumina reads used to assemble the genome of an isolate of the Ebola virus, which caused a major epidemic in West Africa. \n",
    "\n",
    "Use your greedy assemble function to assemble these reads. Once correctly assembled, these reads form a short segment of the genome of this virus. To allow your assembler to succeed, the reads have been cleaned of errors and have have been oriented so that they all come from the same strand of the genome.  You may find the following function below of use, which produces a list of reads from the contents of a file."
   ]
  },
  {
   "cell_type": "code",
   "execution_count": 2,
   "metadata": {
    "collapsed": true,
    "nbgrader": {
     "grade": false,
     "grade_id": "cell-4781468a16877496",
     "locked": true,
     "schema_version": 1,
     "solution": false
    }
   },
   "outputs": [],
   "source": [
    "def read_strings_from_file(filename):\n",
    "    return [line.rstrip() for line in open(filename)]"
   ]
  },
  {
   "cell_type": "code",
   "execution_count": 3,
   "metadata": {
    "nbgrader": {
     "grade": false,
     "grade_id": "cell-d08017f16c0169bf",
     "locked": false,
     "schema_version": 1,
     "solution": true
    }
   },
   "outputs": [
    {
     "name": "stdout",
     "output_type": "stream",
     "text": [
      "ATTAAGAAAAACTGCTTATTGGGTCTTTCCGTGTTTTAGATGAAGCAGTTGACATTCTTCCTCTTGATATTAAATGGCTACACAACATACCCAATACCCAGACGCCAGGTTATCATCACCAATTGTATTGGACCAATGTGACCTTGTCACTAGAGCTTGCGGGTTGTATTCATCATACTCCCTTAATCCGCAACTACGCAACTGTAAACTCCCGAAACATATATACCGTTTAAAATATGATGTAACTGTTACCAAGTTCTTAAGTGATGTACCAGTGGCGACATTGCCCATAGATTTCATAGTCCCAATTCTTCTCAAGGCACTATCAGGCAATGGGTTCTGTCCTGTTGAGCCGCGGTGCCAACAGTTCTTAGATGAAATTATTAAGTACACAATGCAAGATGCTCTCTTCCTGAAATATTATCTCAAAAATGTGGGTGCTCAAGAAGACTGTGTTGATGACCACTTTCAAGAAAAAATCTTATCTTCAATTCAGGGCAATGAATTTTTACATCAAATGTTTTTCTGGTATGACCTGGCTATTTTAACTCGAAGGGGTAGATTAAATCGAGGAAACTCTAGATCAACGTGGTTTGTTCATGATGATTTAATAGACATCTTAGGCTATGGGGACTATGTTTTTTGGAAGATCCCAATTTCACTGTTACCACTGAACACACAAGGAATCCCCCATGCTGCTATGGATTGGTATCAGACATCAGTATTCAAAGAAGCGGTTCAAGGGCATACACACATTGTTTCTGTTTCTACTGCCGATGTCTTGATAATGTGCAAAGATTTAATTACATGTCGATTCAACACAACTCTAATCTCAAAAATAGCAGAGGTTGAGGACCCAGTTTGCTCTGATTATCCCAATTTTAAGATTGTGTCTATGCTTTACCAGAGCGGAGATTACTTACTCTCCATATTAGGGTCTGATGGGTATAAAATCATTAAGTTTCTCGAACCATTGTGCTTGGCTAAAATTCAATTGTGCTCAAAGTACACCGAGAGGAAGGGCCGATTCTTAACACAAATGCATTTAGCTGTAAATCACACCCTGGAAGAAATTACAGAAATACGTGCACTAAAGCCTTCACAGGCTCACAAGATCCGTGAATTCCATAGAACATTGATAAGGCTGGAGATGACGCCACAACAACTTTGTGAGCTATTTTCCATACAAAAACACTGGGGGCATCCTGTGCTACATAGTGAAACAGCAATCCAAAAAGTTAAAAAACATGCTACGGTGCTAAAAGCATTACGCCCTATCGTGATTTTCGAGACATATTGTGTTTTTAAATATAGCATTGCAAAACATTATTTTGATAGTCAAGGATCTTGGTACAGTGTTACCTCAGATAGAAATCTAACACCAGGTCTTAATTCTTATATCAAAAGAAATCAATTCCCTCCGTTGCCAATGATTAAAGAACTGCTATGGGAATTTTACCACCTTGACCATCCTCCACTTTTCTCAACCAAAATTATTAGTGACTTAAGTATTTTTATAAAAGACAGAGCTACTGCAGTAGAAAGGACATGCTGGGATGCAGTATTCGAGCCTAATGTTCTGGGATATAATCCACCTCACAAATTCAGTACCAAACGTGTACCGGAACAATTTTTAGAGCAAGAAAACTTTTCTATTGAGAATGTTCTTTCCTACGCGCAAAAACTCGAGTATCTACTACCACAATATCGGAATTTTTCTTTCTCATTGAAAGAGAAAGAGTTGAATGTAGGTAGAACTTTCGGAAAATTGCCTTATCCGACTCGCAATGTTCAAACACTTTGTGAAGCTCTGTTAGCTGATGGTCTTGCTAAAGCATTTCCTAGCAATATGATGGTAGTTACGGAACGTGAACAAAAAGAAAGCTTATTGCATCAAGCATCATGGCACCACACAAGTGATGATTTCGGTGAGCATGCCACAGTTAGAGGGAGTAGCTTTGTAACTGATTTAGAGAAATACAATCTTGCATTTAGGTATGAGTTTACAGCACCTTTTATAGAATATTGCAACCGTTGCTATGGTGTTAAGAATGTTTTTAATTGGATGCATTATACAATCCCACAGTGTTATATGCATGTCAGTGATTATTATAATCCACCGCATAACCTCACACTGGAAAATCGAAACAACCCCCCTGAAGGGCCTAGTTCATACAGGGGTCATATGGGAGGGATTGAAGGACTGCAACAAAAACTCTGGACAAGTATTTCATGTGCTCAAATTTCTTTAGTTGAAATTAAGACTGGTTTTAAGTTGCGCTCAGCTGTGATGGGTGACAATCAGTGCATTACCGTTTTATCAGTCTTCCCCTTAGAGACTGATGCAGGCGAGCAGGAACAGAGCGCCGAGGACAATGCAGCGAGGGTGGCCGCCAGCCTAGCAAAAGTTACAAGTGCCTGTGGAATCTTTTTAAAACCTGATGAAACATTTGTACATTCAGGTTTTATCTATTTTGGAAAAAAACAATATTTGAATGGGGTCCAATTGCCTCAGTCCCTTAAAACGGCTACAAGAATGGCACCATTGTCTGATGCAATTTTTGATGATCTTCAAGGGACCCTGGCTAGTATAGGTACTGCTTTTGAGCGATCCATCTCTGAGACACGACATATCTTTCCTTGCAGAATAACCGCAGCTTTCCATACGTTCTTTTCGGTGAGAATCTTGCAATATCATCACCTCGGATTTAATAAAGGTTTTGACCTTGGACAGTTAACACTCGGCAAACCTCTGGATTTCGGAACAATATCATTGGCACTAGCGGTACCGCAGGTGCTTGGAGGGTTATCCTTCTTGAATCCTGAGAAATGTTTCTACCGGAATCTAGGAGATCCAGTTACCTCAGGTTTATTCCAGTTAAAAACTTATCTCCGAATGATTGAGATGGATGATTTATTCTTACCTTTAATTGCGAAGAACCCTGGGAACTGCACTGCCATTGACTTTGTGCTAAATCCTAGCGGATTAAATGTTCCTGGGTCGCAAGACTTAACTTCATTTCTGCGCCAGATTGTACGTAGGACTATCACCCTAAGTGCGAAAAACAAACTTATTAATACCTTATTTCATGCATCAGCTGACTTCGAAGACGAAATGGTTTGTAAGTGGCTCTTATCATCAACTCCTGTTATGAGTCGTTTCGCAGCCGATATATTTTCACGCACGCCGAGCGGGAAGCGATTGCAAATTCTAGGATACTTGGAAGGAACACGCACATTATTAGCCTCTAAGATCATCAACAATAATACAGAGACGCCGGTTTTGGACAGACTGAGGAAGATAACATTGCAAAGGTGGAGTCTATGGTTTAGTTATCTTGATCATTGTGATAATATCCTGGCGGAGGCTTTAACCCAAATAACTTGCACAGTTGATTTAGCACAGATCCTGAGGGAATATTCATGGGCACATATTTTAGAGGGGAGACCTCTTATTGGAGCCACACTCCCATGTATGATTGAGCAATTCAAAGTGGTTTGGCTGAAACCCTACGAACAATGTCCGCAGTGTTCAAATGCCAAGCAACCTGGTGGGAAACCATTCGTGTCAGTAGCAGTCAAGAAACATATTGTTAGTGCATGGCCAAATGCATCCCGAATAAGCTGGACTATCGGGGATGGAATCCCATACATTGGATCAAGGACAGAAGATAAGATAGGGCAACCTGCTATTAAACCAAAATGTCCTTCCGCAGCCTTAAGAGAGGCCATTGAATTGGCGTCCCGTTTAACATGGGTAACTCAAGGCAGTTCGAACAGTGACTTGCTAATAAAACCATTTTTGGAAGCACGAGTAAATTTAAGTGTTCAAGAAATACTTCAAATGACCCCTTCACATTACTCGGGAAATATTGTTCATAGGTACAACGATCAATACAGTCCTCATTCTTTCATGGCCAATCGTATGAGTAACTCAGCAACGCGATTGATTGTTTCTACAAACACTTTAGGTGAGTTTTCAGGAGGTGGCCAATCGGCACGCGACAGCAATATTATTTTCCAGAATGTTATAAATTATGCAGTTGCACTGTTCGATATTAAATTTAGAAACACTGAGGCTACAGATATCCAGTATAATCGTGCTCACCTTCATCTAACTAAGTGTTGCACCCGGGAGGTACCAGCTCAGTACTTAACATACACATCTACATTGGATTTAGATTTAACAAGATACCGAGAAAATGAATTGATTTATGACAATAATCCTCTAAAAGGAGGACTCAATTGCAATATCTCATTTGATAACCCATTTTTCCAAGGCAAACAGCTGAACATTATAGAAGATGACCTTATTCGACTGCCTCACTTATCTGGATGGGAGCTAGCTAAGACCATCATGCAATCAATTATTTCAGATAGCAATAATTCGTCTACAGACCCAATTAGCAGTGGAGAAACAAGATCATTCACTACCCATTTCTTAACTTATCCCAAAATAGGACTTCTGTACAGTTTTGGGGCCTTTGTAAGTTATTATCTTGGCAATACAATTCTTCGGACTAAGAAATTAACACTTGACAATTTTTTATATTACTTAACTACCCAAATTCATAATCTACCACATCGCTCATTGCGAATACTTAAGCCAACATTCAAACATGCAAGCGTTATGTCACGATTAATGAGTATTGATCCCCATTTTTCTATTTACATAGGCGGTGCTGCAGGTGACAGAGGACTCTCAGATGCGGCCAGGTTATTTTTGAGAACGTCCATTTCATCTTTTCTTACATTTGTAAAGGAATGGATAATTAATCGCGGAACAATTGTCCCTTTATGGATAGTATATCCATTAGAGGGTCAAAATCCAACACCTGTTAATAATTTCCTCCATCAGATCGTAGAACTGCTGGTGCATGATTCATCAAGACACCAGGCTTTTAAAACTACCATAAATGATCATGTACATCCTCACGACAATCTTGTTTACACATGTAAGAGTACAGCCAGCAATTTCTTCCATGCGTCATTGGCGTACTGGAGGAGCAGGCACAGAAACAGCAACCGAAAAGACTTGACAAGAAACTCTTCAACTGGATCAAGCACAAACAACAGTGATGGTCATATTAAGAGAAGTCAAGAACAAACCACCAGAGATCCACATGATGGCACTGAACGGAGTCTAGTCCTGCAAATGAGCCATGAAATAAAAAGAACGACAATTCCACAAGAGAACACGCACCAGGGTCCGTCGTTCCAGTCATTTCTAAGTGACTCTGCTTGCGGTACAGCAAACCCAAAACTAAATTTCGATAGATCGAGACACAATGTGAAATCTCAGGATCATAACTCAGCATCCAAGAGGGAAGGTCATCAAATAATCTCACATCGTCTAGTCCTACCTTTCTTTACATTATCTCAAGGGACACGCCAATTAACGTCATCCAATGAGTCACAAACCCAAGATGAGATATCAAAGTACTTACGGCAATTGAGATCCGTCATTGATACCACAGTTTATTGTAGGTTTACCGGTATAGTCTCGTCCATGCATTACAAACTTGATGAGGTCCTTTGGGAAATAGAGAATTTTAAGTCGGCTGTGACGCTGGCAGAGGGAGAAGGTGCTGGTGCCTTACTATTGATTCAGAAATACCAAGTTAAGACCTTATTCTTCAACACGCTAGCTACTGAGTCCAGTATAGAGTCAGAAATAGTATCAGGAATGACTACTCCTAGGATGCTTCTACCTGTTATGTCAAAATTCCATAATGACCAAATTGAGATTATTCTTAACAACTCAGCAAGCCAAATAACAGACATAACAAATCCTACTTGGTTTAAAGACCAAAGAGCAAGGCTACCTAGGCAAGTCGAGGTTATAACCATGGATGCAGAGACGACAGAGAATATAAACAGATCGAAATTGTACGAAGCTGTACATAAATTGATCTTACACCATGTTGATCCCAGCGTATTGAAAGCAGTGGTCCTTAAAGTCTTTCTAAGTGATACCGAGGGTATGTTATGGCTAAATGATAATCTAGCCCCGTTTTTTGCCACTGGGTATTTAATTAAGCCAATAACGTCAAGTGCCAGGTCTAGTGAGTGGTATCTTTGTCTGACGAACTTCTTATCAACTACACGTAAGATGCCACACCAAAACCATCTCAGTTGTAAGCAGGTAATACTTACGGCATTGCAACTGCAAATTCAACGGAGCCCATACTGGCTAAGTCATTTAACTCAGTATGCTGACTGCGATTTACATTTAAGCTATATCCGCCTTGGTTTTCCATCATTAGAGAAAGTACTATACCACAGGTATAACCTTGTCGATTCAAAAAGAGGTCCACTAGTCTCTGTCACTCAGCACTTAGCACATCTTAGGGCAGAGATTCGAGAATTGACCAATGATTATAATCAACAGCGACAAAGTCGGACTCAAACATATCACTTTATTCGTACTGCAAAAGGACGAATCACAAAACTAGTCAATGATTATTTAAAATTCTTTCTTATTGTACAAGCATTAAAACATAATGGGACATGGCAAGCTGAGTTTAAGAAATTACCAGAGTTGATTAGTGTGTGCAATAGGTTCTATCATATTAGAGATTGTAATTGTGAAGAACGTTTCTTAGTTCAAACCTTATATTTACATAGAATGCAGGATTCTGAAGTTAAGCTTATCGAAAGGCTGACAGGGCTTCTGAGTTTATTTCCAGATGGTCTCTACAGGTTCGATTGAATAACCGTGCATAGTATTTTGATACTTGTAAAGGTTGGTTATCAACATACAGATTATAAAAAACTCATAAATTGCTCTCATACATCATCTTGATCTGATTTCAATAAATAACTATTTAGATAACGAAAGGAGTCCTTACATTATACACTATATTTGGCCTCTC\n",
      "6875\n"
     ]
    }
   ],
   "source": [
    "### BEGIN SOLUTION TEMPLATE=code for assembling the ebola reads\n",
    "ebola_reads = read_strings_from_file(\"ebola_reads.txt\")\n",
    "ebola_assembly = greedy_assemble(ebola_reads)\n",
    "print(ebola_assembly)\n",
    "print(len(ebola_assembly))\n",
    "### END SOLUTION"
   ]
  },
  {
   "cell_type": "markdown",
   "metadata": {
    "nbgrader": {
     "grade": false,
     "grade_id": "cell-87b98e606eb6267b",
     "locked": true,
     "schema_version": 1,
     "solution": false
    }
   },
   "source": [
    "Once you have assembled the genomic segment, use the [BLAST](https://blast.ncbi.nlm.nih.gov/Blast.cgi) web service to search the NCBI database of proteins with your assembled sequence. You should use BLASTX with its default settings. Based on the results of your BLASTX search, which gene is contained within this genomic segment?"
   ]
  },
  {
   "cell_type": "markdown",
   "metadata": {
    "nbgrader": {
     "grade": true,
     "grade_id": "problem2",
     "locked": false,
     "points": 10,
     "schema_version": 1,
     "solution": true
    }
   },
   "source": [
    "### BEGIN SOLUTION  TEMPLATE=*YOUR ANSWER TO PROBLEM 2 HERE*\n",
    "The protein-coding gene contained within this genomic segment is a polymerase, specifically, an RNA polymerase.\n",
    "### END SOLUTION"
   ]
  },
  {
   "cell_type": "markdown",
   "metadata": {
    "nbgrader": {
     "grade": false,
     "grade_id": "cell-76337bb686267e4c",
     "locked": true,
     "schema_version": 1,
     "solution": false
    }
   },
   "source": [
    "### BONUS CHALLENGE\n",
    "A subset of Illumina reads from an Ebola virus genome sequencing experiment that cover the entire genome are included in the file `ebola_full_genome_reads.txt`. Can you get your code to assemble these reads in under 2 minutes? Sorry, no extra credit here, just personal satisfaction!"
   ]
  },
  {
   "cell_type": "markdown",
   "metadata": {
    "nbgrader": {
     "grade": false,
     "grade_id": "cell-21682023e23904ca",
     "locked": true,
     "schema_version": 1,
     "solution": false
    }
   },
   "source": [
    "## PROBLEM 3: SBH graphs and Eulerian paths (20 points) \n",
    "For the following strings, (i) give the k = 3 spectrum for the string, (ii) draw the SBH graph for the spectrum, (iii) give one Eulerian path and its corresponding string for the SBH graph, and (iv) show whether or not there exists an Eulerian path in the graph that corresponds to the original string.\n",
    "\n",
    "(a) ATGGCCTGAATCC\n",
    "\n",
    "(b) ATAGCCTAGCAAT"
   ]
  },
  {
   "cell_type": "markdown",
   "metadata": {
    "nbgrader": {
     "grade": true,
     "grade_id": "problem3",
     "locked": false,
     "points": 20,
     "schema_version": 1,
     "solution": true
    }
   },
   "source": [
    "### BEGIN SOLUTION  TEMPLATE=*YOUR ANSWER TO PROBLEM 3 HERE*\n",
    "(a) ATGGCCTGAATCC\n",
    "\n",
    "i. {TGG, TGA, TCC, GGC, GCC, GAA, CTG, CCT, ATG, ATC, AAT}\n",
    "\n",
    "ii. See figure below\n",
    "![](3-1-2.PNG)\n",
    "iii. The three possible Eulerian paths in this graph and their corresponding\n",
    "strings are:\n",
    "- ATGGCCTGAATCC: AT -> TG -> GG -> GC -> CC -> CT -> TG -> GA -> AA -> AT -> TC -> CC\n",
    "- ATGAATCCTGGCC: AT -> TG -> GA -> AA -> AT -> TC -> CC -> CT -> TG -> GG -> GC -> CC\n",
    "- ATCCTGAATGGCC: AT -> TC -> CC -> CT -> TG -> GA -> AA -> AT -> TG -> GG -> GC -> CC\n",
    "\n",
    "iv. Yes, there exists an Eulerian path in the graph that corresponds to the\n",
    "original string. See the first path listed in part (iii) above.\n",
    "\n",
    "(b)  ATAGCCTAGCAAT\n",
    "\n",
    "i. {TAG, GCC, GCA, CTA, CCT, CAA, ATA, AGC, AAT}\n",
    "\n",
    "ii. See figure below.\n",
    "![](3-2-2.PNG)\n",
    "iii.  The two possible Eulerian paths in this graph and their corresponding\n",
    "strings are:\n",
    "- GCCTAGCAATA: GC -> CC -> CT -> TA -> AG -> GC -> CA -> AA -> AT -> TA\n",
    "- GCAATAGCCTA: GC -> CA -> AA -> AT -> TA -> AG -> GC -> CC -> CT -> TA\n",
    "\n",
    "iv.  No, the only two possible Eulerian paths are listed in part (iii) above. Also, note that all Eulerian paths in this graph must start with GC and end with\n",
    "TA because those are the two unbalanced vertices in the graph. Because a\n",
    "path spelling the original string must start and end with AT, such a path\n",
    "cannot be Eulerian.\n",
    "\n",
    "### END SOLUTION"
   ]
  },
  {
   "cell_type": "markdown",
   "metadata": {
    "nbgrader": {
     "grade": false,
     "grade_id": "cell-595590e6c27d63ba",
     "locked": true,
     "schema_version": 1,
     "solution": false
    }
   },
   "source": [
    "## PROBLEM 4: Existence of DNA sequence with complete spectrum (10 points)\n",
    "For any value of $k$, does there exist a DNA sequence that contains every possible $k$-mer exactly once?  Prove your answer.  *Hint: consider the SBH graph for the spectrum of such a sequence, should it exist*"
   ]
  },
  {
   "cell_type": "markdown",
   "metadata": {
    "nbgrader": {
     "grade": true,
     "grade_id": "problem4",
     "locked": false,
     "points": 10,
     "schema_version": 1,
     "solution": true
    }
   },
   "source": [
    "### BEGIN SOLUTION  TEMPLATE=*YOUR ANSWER TO PROBLEM 4 HERE*\n",
    "\n",
    "Consider the SBH graph for the spectrum that contains all possible $k$-mers.  Each vertex in the graph corresponds to a $(k-1)$-mer.  Let $s$ be the $(k-1)$-mer labeling some vertex in the graph.  Outgoing edges from this vertex are $k$-mers that have $s$ as a prefix.  For DNA sequences, there are four such $k$-mers, $sA$, $sC$, $sG$, and $sT$, and thus the outdegree for any vertex is four.  Similarly, incoming edges to the vertex are $k$-mers that have $s$ as a suffix.  There are four such $k$-mers, $As$, $Cs$, $Gs$, and $Ts$.  Thus the number of incoming edges to any vertex is four.  Since the number of incoming edges equals the number of outgoing edges for each vertex, all vertices are balanced, and thus the graph contains an Eulerian cycle.  Any Eulerian cycle in this graph corresponds to a sequence that contains each $k$-mer exactly once, and thus the answer is **yes**, there exists a DNA sequence that contains every possible $k$-mer exactly once.\n",
    "\n",
    "### END SOLUTION"
   ]
  },
  {
   "cell_type": "markdown",
   "metadata": {
    "nbgrader": {
     "grade": false,
     "grade_id": "cell-f886d5b063ddba39",
     "locked": true,
     "schema_version": 1,
     "solution": false
    }
   },
   "source": [
    "### Tests for problem 1"
   ]
  },
  {
   "cell_type": "code",
   "execution_count": 4,
   "metadata": {
    "collapsed": true,
    "nbgrader": {
     "grade": false,
     "grade_id": "cell-edb12d33afef11ca",
     "locked": true,
     "schema_version": 1,
     "solution": false
    }
   },
   "outputs": [],
   "source": [
    "def test_greedy_assemble_with_files(reads_filename, superstring_filename):\n",
    "    reads = read_strings_from_file(reads_filename)\n",
    "    [superstring] = read_strings_from_file(superstring_filename)\n",
    "    assert greedy_assemble(reads) == superstring "
   ]
  },
  {
   "cell_type": "code",
   "execution_count": 5,
   "metadata": {
    "nbgrader": {
     "grade": true,
     "grade_id": "greedy_assemble_returns_a_string",
     "locked": true,
     "points": 20,
     "schema_version": 1,
     "solution": false
    }
   },
   "outputs": [
    {
     "name": "stdout",
     "output_type": "stream",
     "text": [
      "SUCCESS: greedy_assemble returns a string passed!\n"
     ]
    }
   ],
   "source": [
    "# TEST: greedy_assemble returns a string\n",
    "sanity_test_reads = read_strings_from_file(\"tests/test_reads.txt\")\n",
    "assert isinstance(greedy_assemble(sanity_test_reads), str)\n",
    "print(\"SUCCESS: greedy_assemble returns a string passed!\")"
   ]
  },
  {
   "cell_type": "code",
   "execution_count": 6,
   "metadata": {
    "nbgrader": {
     "grade": true,
     "grade_id": "greedy_assemble_returns_a_superstring",
     "locked": true,
     "points": 10,
     "schema_version": 1,
     "solution": false
    }
   },
   "outputs": [
    {
     "name": "stdout",
     "output_type": "stream",
     "text": [
      "SUCCESS: greedy_assemble returns a superstring passed!\n"
     ]
    }
   ],
   "source": [
    "# TEST: greedy_assemble returns a superstring\n",
    "def is_superstring(s, reads):\n",
    "    return all(read in s for read in reads)\n",
    "assert is_superstring(greedy_assemble(sanity_test_reads), sanity_test_reads)\n",
    "print(\"SUCCESS: greedy_assemble returns a superstring passed!\")"
   ]
  },
  {
   "cell_type": "code",
   "execution_count": 7,
   "metadata": {
    "nbgrader": {
     "grade": true,
     "grade_id": "greedy_assemble_small_test_1",
     "locked": true,
     "points": 5,
     "schema_version": 1,
     "solution": false
    }
   },
   "outputs": [
    {
     "name": "stdout",
     "output_type": "stream",
     "text": [
      "SUCCESS: greedy_assemble_small_test_1 passed!\n"
     ]
    }
   ],
   "source": [
    "# TEST: greedy_assemble_small_test_1\n",
    "small_test1_reads = [\"GTT\", \"ATCTC\", \"CTCAA\"]\n",
    "assert greedy_assemble(small_test1_reads) == \"ATCTCAAGTT\"\n",
    "print(\"SUCCESS: greedy_assemble_small_test_1 passed!\")"
   ]
  },
  {
   "cell_type": "code",
   "execution_count": 8,
   "metadata": {
    "nbgrader": {
     "grade": true,
     "grade_id": "greedy_assemble_small_test_2",
     "locked": true,
     "points": 5,
     "schema_version": 1,
     "solution": false
    }
   },
   "outputs": [
    {
     "name": "stdout",
     "output_type": "stream",
     "text": [
      "SUCCESS: greedy_assemble_small_test_2 passed!\n"
     ]
    }
   ],
   "source": [
    "# TEST: greedy_assemble_small_test_2\n",
    "small_test2_reads = [\"CGAAG\", \"ATCGA\", \"AGAG\", \"GGG\"]\n",
    "assert greedy_assemble(small_test2_reads) == \"ATCGAAGAGGG\"\n",
    "print(\"SUCCESS: greedy_assemble_small_test_2 passed!\")"
   ]
  },
  {
   "cell_type": "code",
   "execution_count": 9,
   "metadata": {
    "nbgrader": {
     "grade": true,
     "grade_id": "greedy_assemble_small_test_3",
     "locked": true,
     "points": 5,
     "schema_version": 1,
     "solution": false
    }
   },
   "outputs": [
    {
     "name": "stdout",
     "output_type": "stream",
     "text": [
      "SUCCESS: greedy_assemble_small_test_3 passed!\n"
     ]
    }
   ],
   "source": [
    "# TEST: greedy_assemble_small_test_3\n",
    "small_test3_reads = [\"C\", \"T\", \"G\", \"A\"]\n",
    "assert greedy_assemble(small_test3_reads) == 'ACGT'\n",
    "print(\"SUCCESS: greedy_assemble_small_test_3 passed!\")"
   ]
  },
  {
   "cell_type": "code",
   "execution_count": 10,
   "metadata": {
    "nbgrader": {
     "grade": true,
     "grade_id": "greedy_assemble_large_test_1",
     "locked": true,
     "points": 5,
     "schema_version": 1,
     "solution": false
    }
   },
   "outputs": [
    {
     "name": "stdout",
     "output_type": "stream",
     "text": [
      "SUCCESS: greedy_assemble large test 1 passed!\n"
     ]
    }
   ],
   "source": [
    "# TEST: greedy_assemble large test 1\n",
    "test_greedy_assemble_with_files(\"tests/large_test1_reads.txt\", \"tests/large_test1_superstring.txt\")\n",
    "print(\"SUCCESS: greedy_assemble large test 1 passed!\")"
   ]
  },
  {
   "cell_type": "code",
   "execution_count": 11,
   "metadata": {
    "nbgrader": {
     "grade": true,
     "grade_id": "greedy_assemble_reads_7",
     "locked": true,
     "points": 2,
     "schema_version": 1,
     "solution": false
    }
   },
   "outputs": [
    {
     "name": "stdout",
     "output_type": "stream",
     "text": [
      "SUCCESS: greedy_assemble_reads_7 passed!\n"
     ]
    }
   ],
   "source": [
    "# TEST: greedy_assemble_reads_7 (hidden)\n",
    "### BEGIN HIDDEN TESTS\n",
    "test_greedy_assemble_with_files(\"tests/reads7.in.txt\", \"tests/reads7.out.txt\")\n",
    "print(\"SUCCESS: greedy_assemble_reads_7 passed!\")\n",
    "### END HIDDEN TESTS"
   ]
  },
  {
   "cell_type": "code",
   "execution_count": 12,
   "metadata": {
    "nbgrader": {
     "grade": true,
     "grade_id": "greedy_assemble_reads_8",
     "locked": true,
     "points": 2,
     "schema_version": 1,
     "solution": false
    }
   },
   "outputs": [
    {
     "name": "stdout",
     "output_type": "stream",
     "text": [
      "SUCCESS: greedy_assemble_reads_8 passed!\n"
     ]
    }
   ],
   "source": [
    "# TEST: greedy_assemble_reads_8 (hidden)\n",
    "### BEGIN HIDDEN TESTS\n",
    "test_greedy_assemble_with_files(\"tests/reads8.in.txt\", \"tests/reads8.out.txt\")\n",
    "print(\"SUCCESS: greedy_assemble_reads_8 passed!\")\n",
    "### END HIDDEN TESTS"
   ]
  },
  {
   "cell_type": "code",
   "execution_count": 13,
   "metadata": {
    "nbgrader": {
     "grade": true,
     "grade_id": "greedy_assemble_reads_9",
     "locked": true,
     "points": 2,
     "schema_version": 1,
     "solution": false
    }
   },
   "outputs": [
    {
     "name": "stdout",
     "output_type": "stream",
     "text": [
      "SUCCESS: greedy_assemble_reads_9 passed!\n"
     ]
    }
   ],
   "source": [
    "# TEST: greedy_assemble_reads_9 (hidden)\n",
    "### BEGIN HIDDEN TESTS\n",
    "test_greedy_assemble_with_files(\"tests/reads9.in.txt\", \"tests/reads9.out.txt\")\n",
    "print(\"SUCCESS: greedy_assemble_reads_9 passed!\")\n",
    "### END HIDDEN TESTS"
   ]
  },
  {
   "cell_type": "code",
   "execution_count": 14,
   "metadata": {
    "nbgrader": {
     "grade": true,
     "grade_id": "greedy_assemble_reads_10",
     "locked": true,
     "points": 2,
     "schema_version": 1,
     "solution": false
    }
   },
   "outputs": [
    {
     "name": "stdout",
     "output_type": "stream",
     "text": [
      "SUCCESS: greedy_assemble_reads_10 passed!\n"
     ]
    }
   ],
   "source": [
    "# TEST: greedy_assemble_reads_10 (hidden)\n",
    "### BEGIN HIDDEN TESTS\n",
    "test_greedy_assemble_with_files(\"tests/reads10.in.txt\", \"tests/reads10.out.txt\")\n",
    "print(\"SUCCESS: greedy_assemble_reads_10 passed!\")\n",
    "### END HIDDEN TESTS"
   ]
  },
  {
   "cell_type": "code",
   "execution_count": 15,
   "metadata": {
    "nbgrader": {
     "grade": true,
     "grade_id": "greedy_assemble_reads_11",
     "locked": true,
     "points": 2,
     "schema_version": 1,
     "solution": false
    }
   },
   "outputs": [
    {
     "name": "stdout",
     "output_type": "stream",
     "text": [
      "SUCCESS: greedy_assemble_reads_11 passed!\n"
     ]
    }
   ],
   "source": [
    "# TEST: greedy_assemble_reads_11 (hidden)\n",
    "### BEGIN HIDDEN TESTS\n",
    "test_greedy_assemble_with_files(\"tests/reads11.in.txt\", \"tests/reads11.out.txt\")\n",
    "print(\"SUCCESS: greedy_assemble_reads_11 passed!\")\n",
    "### END HIDDEN TESTS"
   ]
  }
 ],
 "metadata": {
  "celltoolbar": "Create Assignment",
  "kernelspec": {
   "display_name": "Python 3 [3.6]",
   "language": "python",
   "name": "python3"
  },
  "language_info": {
   "codemirror_mode": {
    "name": "ipython",
    "version": 3
   },
   "file_extension": ".py",
   "mimetype": "text/x-python",
   "name": "python",
   "nbconvert_exporter": "python",
   "pygments_lexer": "ipython3",
   "version": "3.6.4"
  }
 },
 "nbformat": 4,
 "nbformat_minor": 2
}
