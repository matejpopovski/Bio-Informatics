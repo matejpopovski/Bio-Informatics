{
 "cells": [
  {
   "cell_type": "markdown",
   "metadata": {
    "deletable": false,
    "editable": false,
    "nbgrader": {
     "grade": false,
     "grade_id": "cell-43115b884ed99e6e",
     "locked": true,
     "schema_version": 3,
     "solution": false
    }
   },
   "source": [
    "# Day 8 notebook\n",
    "\n",
    "The objectives of this notebook are to practice with the concepts of\n",
    "\n",
    "* dynamic programming\n",
    "* memoization\n",
    "* higher-order functions"
   ]
  },
  {
   "cell_type": "markdown",
   "metadata": {
    "deletable": false,
    "editable": false,
    "nbgrader": {
     "grade": false,
     "grade_id": "cell-74938f6735d4539c",
     "locked": true,
     "schema_version": 3,
     "solution": false
    }
   },
   "source": [
    "## Knapsack problem\n",
    "\n",
    "In today's activity, we will practice the concept of dynamic programming with a classical problem in Computer Sciences, the \"Knapsack problem.\"  In the knapsack problem, we imagine that we are packing a knapsack (also known as a backpack) for a trip somewhere (e.g., a long backpacking trip in a remote area).  There are many items that we might like to pack in our knapsack, but it has a limited amount of space.  Suppose that there are $n$ items that we might want to pack, and the $i$th item has \"size\" $s_i$ and a \"value\" $v_i$.  The \"size\" is how much space the item will take up in the knapsack and the \"value\" is some measure of how important that item is for our trip (e.g., perhaps all of our items are food items and the value could be the number of calories in each food item).  We are given that the knapsack has a capacity $C$.\n",
    "\n",
    "The Knapsack problem is thus to determine a subset of items to pack that \n",
    "1. can all fit in the knapsack together and \n",
    "2. maximizes the total value of the items in the knapsack.  \n",
    "    \n",
    "Mathematically, we wish to perform the following optimization, where $I$ is the set of $n$ items:\n",
    "\n",
    "$\\max_{I^* \\subset I} \\sum_{i \\in I^*} v_i \\\\ \\textrm{subject to the constraint}\\ \\sum_{i \\in I^*} s_i \\leq C$\n",
    "\n",
    "### Solving Knapsack by dynamic programming\n",
    "The Knapsack problem can be solved via a dynamic programming algorithm that breaks this problem down into the following subproblem. Let $F[capacity, num\\_items]$ be the maximum value of items that could be packed into a knapsack with $capacity$ available space, only considering the first $num\\_items$.  This subproblem can be solved recursively via the following recurrence:\n",
    "\n",
    "$F[capacity, num\\_items] = \\left\\{\n",
    "\\begin{array}{ll}\n",
    "F[capacity, num\\_items - 1], & \\textrm{if } s_{num\\_items} > capacity \\\\\n",
    "\\max\\left\\{\n",
    "\\begin{array}{l}\n",
    "F[capacity, num\\_items - 1], \\\\\n",
    "F[capacity - s_{num\\_items}, num\\_items - 1] + v_{num\\_items}\n",
    "\\end{array}\\right.,& \\textrm{if } s_{num\\_items} \\leq capacity\n",
    "\\end{array}\\right.$\n",
    "\n",
    "The intuition behind this recurrence is that we consider two cases for the item indexed by $num\\_items$:\n",
    "1.  we *exclude* this item from the knapsack (first term in the max) or\n",
    "2.  we *include* this item in the knapsack, assuming it can fit in the given capacity (second term in the max)\n",
    "\n",
    "Below we will practice with implementing a dynamic programming algorithm that uses this subproblem definition to solve the problem of finding the maximum total *value* of items that could be packed into the knapsack.  We will *not* address the related problem of determining the actual subset of items that achieves that maximum total value."
   ]
  },
  {
   "cell_type": "markdown",
   "metadata": {
    "deletable": false,
    "editable": false,
    "nbgrader": {
     "grade": false,
     "grade_id": "cell-eb684527cd8954fb",
     "locked": true,
     "schema_version": 3,
     "solution": false
    }
   },
   "source": [
    "### PROBLEM 1: Recursive implementation (1 POINT)\n",
    "\n",
    "We will start by simply implementing the solution via a recursive function, which implements the recurrence above.  This will not be an efficient algorithm, but it will be helpful to start with this as a baseline.  You are provided with some of the code already."
   ]
  },
  {
   "cell_type": "code",
   "execution_count": 1,
   "metadata": {
    "nbgrader": {
     "grade": false,
     "grade_id": "cell-880617c3792b0553",
     "locked": false,
     "schema_version": 3,
     "solution": true
    }
   },
   "outputs": [],
   "source": [
    "def knapsack_score_recursive(capacity, sizes, values):\n",
    "    \"\"\"Solves the Knapsack problem via a recursive algorithm.\n",
    "\n",
    "    Args:\n",
    "        capacity: a number giving the amount of space in the knapsack.\n",
    "        sizes: a list of the size of each possible item\n",
    "        values: a list of the value of each possible item\n",
    "    Returns:\n",
    "        A number indicating the maximum total value of items that can be packed\n",
    "        in the knapsack, with each item included in the knapsack at most once.\n",
    "    \"\"\"\n",
    "\n",
    "    # A local helper function that computes the Knapsack subproblem (F[capacity, num_items])\n",
    "    # described above in a recursive manner\n",
    "    def subproblem(capacity, num_items):\n",
    "        # base case\n",
    "        if num_items == 0:\n",
    "            return 0\n",
    "        # case in which the item indexed by num_items (1-based) *cannot* fit in remaining capacity\n",
    "        # only case #1 (exclusion) is possible\n",
    "        elif sizes[num_items - 1] > capacity:\n",
    "            return subproblem(capacity, num_items - 1)\n",
    "        # case in which the item indexed by num_items (1-based) can fit in remaining capacity\n",
    "        # either case #1 (exclusion) or case #2 (inclusion) is possible\n",
    "        else:\n",
    "            ### YOUR CODE HERE\n",
    "            return max(subproblem(capacity, num_items - 1), \n",
    "                       subproblem(capacity - sizes[num_items - 1], num_items - 1)+values[num_items - 1])\n",
    "            \n",
    "\n",
    "    return subproblem(capacity, len(sizes))"
   ]
  },
  {
   "cell_type": "code",
   "execution_count": 2,
   "metadata": {
    "deletable": false,
    "editable": false,
    "nbgrader": {
     "grade": true,
     "grade_id": "knapsack_score_recursive",
     "locked": true,
     "points": 1,
     "schema_version": 3,
     "solution": false
    }
   },
   "outputs": [
    {
     "name": "stdout",
     "output_type": "stream",
     "text": [
      "SUCCESS: knapsack_score_recursive passed all tests!\n"
     ]
    }
   ],
   "source": [
    "# tests for knapsack_score_recursive\n",
    "test_sizes = (5, 7, 3, 2)\n",
    "test_values = (7, 8, 5, 3)\n",
    "assert knapsack_score_recursive(0, test_sizes, test_values) == 0\n",
    "assert knapsack_score_recursive(2, test_sizes, test_values) == 3\n",
    "assert knapsack_score_recursive(3, test_sizes, test_values) == 5\n",
    "assert knapsack_score_recursive(5, test_sizes, test_values) == 8\n",
    "assert knapsack_score_recursive(12, test_sizes, test_values) == 16\n",
    "assert knapsack_score_recursive(17, test_sizes, test_values) == 23\n",
    "assert knapsack_score_recursive(17, [], []) == 0\n",
    "assert knapsack_score_recursive(17, [18], [1]) == 0\n",
    "print(\"SUCCESS: knapsack_score_recursive passed all tests!\")"
   ]
  },
  {
   "cell_type": "markdown",
   "metadata": {
    "deletable": false,
    "editable": false,
    "nbgrader": {
     "grade": false,
     "grade_id": "cell-80f332b28f7afc92",
     "locked": true,
     "schema_version": 3,
     "solution": false
    }
   },
   "source": [
    "### PROBLEM 2: Memoized implementation (1 POINT)\n",
    "To implement a dynamic programming approach to this problem, we will either need to use *memoization*, or compute values to the subproblems in a *bottom-up* approach.  Let's start with the memoization strategy, as it requires minimal modification to your recursive solution above.\n",
    "\n",
    "Recall that the memoization strategy is to store the return values of a function in a lookup table (say a Python dictionary) indexed by the argument values for the function and to simply return the value in the lookup table when the function is called again with the same arguments.  We could do this by re-writing the `subproblem` code above, but it will be cleaner to do this in a general way via a *higher-order function* that can create a memoized version of *any* function. Below is the skeleton code for such a function that will return a memoized version of its input function, `func`, which we will assume takes exactly two arguments.  Complete the code below."
   ]
  },
  {
   "cell_type": "code",
   "execution_count": 3,
   "metadata": {
    "nbgrader": {
     "grade": false,
     "grade_id": "cell-8b3fd59f0545dc5d",
     "locked": false,
     "schema_version": 3,
     "solution": true
    }
   },
   "outputs": [],
   "source": [
    "def memoize_2arg_func(func):\n",
    "    \"\"\"Creates a memoized version of a function that takes exactly two arguments.\n",
    "\n",
    "    Args:\n",
    "        func: a function that takes exactly two arguments\n",
    "    Returns:\n",
    "        A memoized version of the function func\n",
    "    \"\"\"\n",
    "    # create a dictionary that will map arguments to return values of func\n",
    "    outputs = dict()\n",
    "    # define a new function that will be the memoized version\n",
    "    def memoized(arg1, arg2):\n",
    "        if (arg1, arg2) not in outputs:\n",
    "        ### YOUR CODE HERE\n",
    "            outputs[(arg1,arg2)]=func(arg1, arg2)\n",
    "        return outputs[(arg1,arg2)]\n",
    "        \n",
    "    return memoized"
   ]
  },
  {
   "cell_type": "code",
   "execution_count": 4,
   "metadata": {
    "deletable": false,
    "editable": false,
    "nbgrader": {
     "grade": true,
     "grade_id": "memoize_2arg_func",
     "locked": true,
     "points": 1,
     "schema_version": 3,
     "solution": false
    }
   },
   "outputs": [
    {
     "name": "stdout",
     "output_type": "stream",
     "text": [
      "SUCCESS: memoize_2arg_func passed all tests!\n"
     ]
    }
   ],
   "source": [
    "# tests for memoize_2arg_func\n",
    "num_calls_to_test_func = 0 # keep track of how many times test_func is run\n",
    "# a test function that returns the sum of two numbers\n",
    "def test_func(x, y):\n",
    "    global num_calls_to_test_func\n",
    "    num_calls_to_test_func += 1\n",
    "    return x + y\n",
    "test_func = memoize_2arg_func(test_func)\n",
    "\n",
    "assert test_func(1, 2) == 3\n",
    "assert num_calls_to_test_func == 1\n",
    "assert test_func(2, 3) == 5\n",
    "assert num_calls_to_test_func == 2\n",
    "assert test_func(1, 2) == 3 # repeated call\n",
    "assert num_calls_to_test_func == 2\n",
    "assert test_func(2, 3) == 5 # another repeated call\n",
    "assert num_calls_to_test_func == 2\n",
    "\n",
    "num_calls_to_test2_func = 0 # keep track of how many times test2_func is run\n",
    "# a second test function that returns the length k prefix of string s\n",
    "def test2_func(s, k):\n",
    "    global num_calls_to_test2_func\n",
    "    num_calls_to_test2_func += 1\n",
    "    return s[:k]\n",
    "test2_func = memoize_2arg_func(test2_func)\n",
    "\n",
    "assert test2_func(\"madison\", 3) == \"mad\"\n",
    "assert num_calls_to_test2_func == 1\n",
    "assert test2_func(\"madison\", 3) == \"mad\" # repeated call\n",
    "assert num_calls_to_test2_func == 1\n",
    "assert test2_func(\"madison\", 1) == \"m\"\n",
    "assert num_calls_to_test2_func == 2\n",
    "assert test2_func(\"madison\", 1) == \"m\" # another repeated call\n",
    "assert num_calls_to_test2_func == 2\n",
    "\n",
    "print(\"SUCCESS: memoize_2arg_func passed all tests!\")"
   ]
  },
  {
   "cell_type": "markdown",
   "metadata": {
    "deletable": false,
    "editable": false,
    "nbgrader": {
     "grade": false,
     "grade_id": "cell-407b0c35a72018a7",
     "locked": true,
     "schema_version": 3,
     "solution": false
    }
   },
   "source": [
    "Now paste in your `knapsack_score_recursive` code from above into the `knapsack_score_memoized` dynamic programming version of the algorithm below.  Note that `knapsack_score_memoized` creates a memoized version of the `subproblem` function using your `memoize_2arg_func` higher-order function. "
   ]
  },
  {
   "cell_type": "code",
   "execution_count": 5,
   "metadata": {
    "nbgrader": {
     "grade": false,
     "grade_id": "cell-1f57595cad8de8b1",
     "locked": false,
     "schema_version": 3,
     "solution": true
    }
   },
   "outputs": [],
   "source": [
    "def knapsack_score_memoized(capacity, sizes, values):\n",
    "    \"\"\"Solves the Knapsack problem via a top-down dynamic programming algorithm.\n",
    "\n",
    "    Args:\n",
    "        capacity: a number giving the amount of space in the knapsack.\n",
    "        sizes: a list of the size of each possible item\n",
    "        values: a list of the value of each possible item\n",
    "    Returns:\n",
    "        A number indicating the maximum total value of items that can be packed\n",
    "        in the knapsack, with each item included in the knapsack at most once.\n",
    "    \"\"\"\n",
    "    \n",
    "    def subproblem(capacity, num_items):\n",
    "        if num_items == 0:\n",
    "            return 0\n",
    "        elif sizes[num_items - 1] > capacity:\n",
    "            return subproblem(capacity, num_items - 1)\n",
    "        else:\n",
    "            ### your solution from knapsack_score_recursive\n",
    "            return max(subproblem(capacity, num_items - 1), \n",
    "                       subproblem(capacity - sizes[num_items - 1], num_items - 1) + values[num_items - 1])\n",
    "\n",
    "\n",
    "    subproblem = memoize_2arg_func(subproblem)\n",
    "    return subproblem(capacity, len(sizes))"
   ]
  },
  {
   "cell_type": "code",
   "execution_count": 6,
   "metadata": {
    "deletable": false,
    "editable": false,
    "nbgrader": {
     "grade": false,
     "grade_id": "cell-6fb0586e53ddda29",
     "locked": true,
     "schema_version": 3,
     "solution": false
    }
   },
   "outputs": [
    {
     "name": "stdout",
     "output_type": "stream",
     "text": [
      "SUCCESS: knapsack_score_memoized passed all tests!\n"
     ]
    }
   ],
   "source": [
    "# tests for knapsack_score_memoized (not graded)\n",
    "test_sizes = (5, 7, 3, 2)\n",
    "test_values = (7, 8, 5, 3)\n",
    "assert knapsack_score_memoized(0, test_sizes, test_values) == 0\n",
    "assert knapsack_score_memoized(2, test_sizes, test_values) == 3\n",
    "assert knapsack_score_memoized(3, test_sizes, test_values) == 5\n",
    "assert knapsack_score_memoized(5, test_sizes, test_values) == 8\n",
    "assert knapsack_score_memoized(12, test_sizes, test_values) == 16\n",
    "assert knapsack_score_memoized(17, test_sizes, test_values) == 23\n",
    "assert knapsack_score_memoized(17, [], []) == 0\n",
    "assert knapsack_score_memoized(17, [18], [1]) == 0\n",
    "print(\"SUCCESS: knapsack_score_memoized passed all tests!\")"
   ]
  },
  {
   "cell_type": "markdown",
   "metadata": {
    "deletable": false,
    "editable": false,
    "nbgrader": {
     "grade": false,
     "grade_id": "cell-c63a47bd9123f78f",
     "locked": true,
     "schema_version": 3,
     "solution": false
    }
   },
   "source": [
    "#### Higher-order functions available in Python\n",
    "Python is a rich functional language and offers a number of higher-order functions in its standard library.  For example, the [`map`](https://docs.python.org/3/library/functions.html#map) and [`filter`](https://docs.python.org/3/library/functions.html#filter) functions are commonly-used higher-order functions that you should consider using.  Other higher-order functions are found in the [`functools`](https://docs.python.org/3/library/functools.html) module. In particular, the [functools.lru_cache](https://docs.python.org/3/library/functools.html#functools.lru_cache) function is a more general implementation of the memoize function that you wrote above.\n",
    "\n",
    "For higher-order functions that return functions, \"[decorator](https://docs.python.org/3/glossary.html#term-decorator)\" syntax can help.  For example,"
   ]
  },
  {
   "cell_type": "code",
   "execution_count": 7,
   "metadata": {
    "deletable": false,
    "editable": false,
    "nbgrader": {
     "grade": false,
     "grade_id": "cell-0eb96f0073b41d89",
     "locked": true,
     "schema_version": 3,
     "solution": false
    }
   },
   "outputs": [],
   "source": [
    "def test_func(x, y):\n",
    "    return x + y\n",
    "test_func = memoize_2arg_func(test_func)\n",
    "\n",
    "# is more succinctly written with decorator syntax as\n",
    "@memoize_2arg_func\n",
    "def test_func(x, y):\n",
    "    return x + y"
   ]
  },
  {
   "cell_type": "markdown",
   "metadata": {
    "deletable": false,
    "editable": false,
    "nbgrader": {
     "grade": false,
     "grade_id": "cell-5a2966d47a7d80a3",
     "locked": true,
     "schema_version": 3,
     "solution": false
    }
   },
   "source": [
    "### PROBLEM 3: Bottom-up implementation (1 POINT)\n",
    "Lastly, we will implement the knapsack dynamic programming algorithm in a bottom-up style.  Here we first create a matrix that will store all of the results of the subproblems, and compute the subproblems iteratively, starting with the smallest subproblems first.  Below is some partially completed code that you are to fill in.\n",
    "\n",
    "*Note: you should not make any calls to knapsack_score_recursive or knapsack_score_memoized in your solution.  You should simply be calculating entries in the matrix based on other previously calculated entries in the matrix.*"
   ]
  },
  {
   "cell_type": "code",
   "execution_count": 8,
   "metadata": {
    "nbgrader": {
     "grade": false,
     "grade_id": "cell-c4b37b13600a6a07",
     "locked": false,
     "schema_version": 3,
     "solution": true
    }
   },
   "outputs": [],
   "source": [
    "def knapsack_score_bottomup(capacity, sizes, values):\n",
    "    \"\"\"Solves the Knapsack problem via a bottom-up dynamic programming algorithm.\n",
    "\n",
    "    Args:\n",
    "        capacity: a number giving the amount of space in the knapsack.\n",
    "        sizes: a list of the size of each possible item\n",
    "        values: a list of the value of each possible item\n",
    "    Returns:\n",
    "        A number indicating the maximum total value of items that can be packed\n",
    "        in the knapsack, with each item included in the knapsack at most once.\n",
    "    \"\"\"\n",
    "    # inititialize a matrix (list of lists) to store the results\n",
    "    # of the subproblem F[num_items, capacity]\n",
    "    matrix = [[None] * (len(sizes) + 1) for i in range(capacity + 1)]\n",
    "    # fill in first row\n",
    "    for j in range(len(sizes) + 1):\n",
    "        matrix[0][j] = 0\n",
    "    # fill in first column\n",
    "    for i in range(capacity + 1):\n",
    "        matrix[i][0] = 0\n",
    "    # fill in remaining elements\n",
    "    for i in range(1, capacity + 1):\n",
    "        for j in range(1, len(sizes) + 1):\n",
    "            ###\n",
    "            ### YOUR CODE HERE\n",
    "            if sizes[j - 1] > i:\n",
    "                matrix[i][j] = matrix[i][j - 1]\n",
    "            else:\n",
    "                matrix[i][j] = max(matrix[i][j - 1], \n",
    "                                   matrix[i - sizes[j - 1]][j - 1] + values[j - 1])\n",
    "\n",
    "    return matrix[capacity][len(sizes)]"
   ]
  },
  {
   "cell_type": "code",
   "execution_count": 9,
   "metadata": {
    "deletable": false,
    "editable": false,
    "nbgrader": {
     "grade": true,
     "grade_id": "knapsack_score_bottomup",
     "locked": true,
     "points": 1,
     "schema_version": 3,
     "solution": false
    }
   },
   "outputs": [
    {
     "name": "stdout",
     "output_type": "stream",
     "text": [
      "SUCCESS: knapsack_score_bottomup passed all tests!\n"
     ]
    }
   ],
   "source": [
    "# tests for knapsack_score_bottomup\n",
    "test_sizes = (5, 7, 3, 2)\n",
    "test_values = (7, 8, 5, 3)\n",
    "assert knapsack_score_bottomup(0, test_sizes, test_values) == 0\n",
    "assert knapsack_score_bottomup(2, test_sizes, test_values) == 3\n",
    "assert knapsack_score_bottomup(3, test_sizes, test_values) == 5\n",
    "assert knapsack_score_bottomup(5, test_sizes, test_values) == 8\n",
    "assert knapsack_score_bottomup(12, test_sizes, test_values) == 16\n",
    "assert knapsack_score_bottomup(17, test_sizes, test_values) == 23\n",
    "assert knapsack_score_bottomup(17, [], []) == 0\n",
    "assert knapsack_score_bottomup(17, [18], [1]) == 0\n",
    "print(\"SUCCESS: knapsack_score_bottomup passed all tests!\")"
   ]
  },
  {
   "cell_type": "markdown",
   "metadata": {
    "deletable": false,
    "editable": false,
    "nbgrader": {
     "grade": false,
     "grade_id": "cell-264258bc1c1fe5e1",
     "locked": true,
     "schema_version": 3,
     "solution": false
    }
   },
   "source": [
    "### Comparing performance of the three implementations\n",
    "\n",
    "With your three implementations of an algorithm to solve the knapsack problem, let's test their runtime to see how they perform relative to each other."
   ]
  },
  {
   "cell_type": "code",
   "execution_count": 10,
   "metadata": {
    "deletable": false,
    "editable": false,
    "nbgrader": {
     "grade": false,
     "grade_id": "cell-988d67027cc8e4dc",
     "locked": true,
     "schema_version": 3,
     "solution": false
    }
   },
   "outputs": [
    {
     "name": "stdout",
     "output_type": "stream",
     "text": [
      "Recursive: 17.015870869974606 seconds\n",
      " Memoized: 0.7686753370217048 seconds\n",
      "Bottom-up: 0.5705448210064787 seconds\n"
     ]
    }
   ],
   "source": [
    "import timeit\n",
    "capacity = 100\n",
    "bigger_test_values = (6, 18, 28, 34, 4, 26, 38, 9, 36, 39, 33, 29, 3, 16, 37, 2, 24, 22, 30, 5)\n",
    "bigger_test_sizes = (21, 12, 6, 0, 34, 1, 17, 22, 4, 32, 16, 33, 8, 20, 3, 18, 39, 36, 37, 19)\n",
    "num_trials = 500 # number of times that timeit will run the function\n",
    "\n",
    "print(\"Recursive:\", timeit.timeit('knapsack_score_recursive(capacity, bigger_test_sizes, bigger_test_values)', \n",
    "                                  number=num_trials, globals=globals()), \"seconds\")\n",
    "print(\" Memoized:\", timeit.timeit('knapsack_score_memoized(capacity, bigger_test_sizes, bigger_test_values)', \n",
    "                                  number=num_trials, globals=globals()), \"seconds\")\n",
    "print(\"Bottom-up:\", timeit.timeit('knapsack_score_bottomup(capacity, bigger_test_sizes, bigger_test_values)', \n",
    "                                  number=num_trials, globals=globals()), \"seconds\")\n"
   ]
  },
  {
   "cell_type": "markdown",
   "metadata": {
    "deletable": false,
    "editable": false,
    "nbgrader": {
     "grade": false,
     "grade_id": "cell-97044924a2d817a3",
     "locked": true,
     "schema_version": 3,
     "solution": false
    }
   },
   "source": [
    "Do those timings match your expectations of how efficient these algorithms are relative to each other?  Write your thoughts in the cell below."
   ]
  },
  {
   "cell_type": "markdown",
   "metadata": {},
   "source": []
  }
 ],
 "metadata": {
  "celltoolbar": "Create Assignment",
  "kernelspec": {
   "display_name": "Python 3 [3.10]",
   "language": "python",
   "name": "python3"
  },
  "language_info": {
   "codemirror_mode": {
    "name": "ipython",
    "version": 3
   },
   "file_extension": ".py",
   "mimetype": "text/x-python",
   "name": "python",
   "nbconvert_exporter": "python",
   "pygments_lexer": "ipython3",
   "version": "3.10.2"
  }
 },
 "nbformat": 4,
 "nbformat_minor": 4
}
