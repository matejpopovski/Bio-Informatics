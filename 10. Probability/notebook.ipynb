{
 "cells": [
  {
   "cell_type": "markdown",
   "metadata": {
    "deletable": false,
    "editable": false,
    "nbgrader": {
     "grade": false,
     "grade_id": "cell-e09abccbe16870e6",
     "locked": true,
     "schema_version": 3,
     "solution": false
    }
   },
   "source": [
    "# Day 10 notebook\n",
    "\n",
    "The objectives of this notebook are to practice\n",
    "\n",
    "* representing characters in sequences as random variables\n",
    "* computing marginal probabilities\n",
    "* computing conditional probabilities\n",
    "* checking for independence of random variables\n",
    "* extracting features (e.g., gaps and mismatches) from an alignment\n",
    "* comparing the distribution of some observations to a common distribution"
   ]
  },
  {
   "cell_type": "markdown",
   "metadata": {
    "deletable": false,
    "editable": false,
    "nbgrader": {
     "grade": false,
     "grade_id": "cell-1a98f11557106a8b",
     "locked": true,
     "schema_version": 3,
     "solution": false
    }
   },
   "source": [
    "## Modules used in this notebook"
   ]
  },
  {
   "cell_type": "code",
   "execution_count": 1,
   "metadata": {
    "deletable": false,
    "editable": false,
    "nbgrader": {
     "grade": false,
     "grade_id": "cell-a8d097c0ebb2ad54",
     "locked": true,
     "schema_version": 3,
     "solution": false
    }
   },
   "outputs": [],
   "source": [
    "from matplotlib import pyplot as plt    # for plotting\n",
    "import collections                      # for helpful functions/classes, such as Counter and defaultdict\n",
    "import fasta                            # for reading sequences in FASTA format"
   ]
  },
  {
   "cell_type": "markdown",
   "metadata": {
    "deletable": false,
    "editable": false,
    "nbgrader": {
     "grade": false,
     "grade_id": "cell-f76db383ef5346fd",
     "locked": true,
     "schema_version": 3,
     "solution": false
    }
   },
   "source": [
    "## Python functions to consider\n",
    "In this activity, you will likely find some of the functions in the [collections](https://docs.python.org/3/library/collections.html) module to be extremely helpful.  \n",
    "\n",
    "### Counter\n",
    "The [Counter](https://docs.python.org/3/library/collections.html#collections.Counter) class is very helpful for counting the number of occurrences of things.  For example,"
   ]
  },
  {
   "cell_type": "code",
   "execution_count": 2,
   "metadata": {
    "deletable": false,
    "editable": false,
    "nbgrader": {
     "grade": false,
     "grade_id": "cell-a16fbc0f68fc0159",
     "locked": true,
     "schema_version": 3,
     "solution": false
    },
    "scrolled": true
   },
   "outputs": [
    {
     "name": "stdout",
     "output_type": "stream",
     "text": [
      "Counter({'C': 7, 'A': 6, 'T': 5, 'G': 4})\n",
      "Counter({('apple', 1): 2, ('pear', 2): 1, ('orange', 3): 1})\n"
     ]
    }
   ],
   "source": [
    "print(collections.Counter(\"CATGATCTCATCGTACGCAACG\"))\n",
    "print(collections.Counter([(\"apple\", 1), (\"pear\", 2), (\"apple\", 1), (\"orange\", 3)]))"
   ]
  },
  {
   "cell_type": "markdown",
   "metadata": {
    "deletable": false,
    "editable": false,
    "nbgrader": {
     "grade": false,
     "grade_id": "cell-f64a4eb0de4876ec",
     "locked": true,
     "schema_version": 3,
     "solution": false
    }
   },
   "source": [
    "### defaultdict\n",
    "The [defaultdict](https://docs.python.org/3/library/collections.html#collections.defaultdict) class is very useful for automatically providing default values for keys in a dictionary.  For example,"
   ]
  },
  {
   "cell_type": "code",
   "execution_count": 3,
   "metadata": {
    "deletable": false,
    "editable": false,
    "nbgrader": {
     "grade": false,
     "grade_id": "cell-5ee0f180373341b4",
     "locked": true,
     "schema_version": 3,
     "solution": false
    }
   },
   "outputs": [
    {
     "name": "stdout",
     "output_type": "stream",
     "text": [
      "defaultdict(<class 'float'>, {'apple': 1.8, 'pear': 3.0})\n"
     ]
    }
   ],
   "source": [
    "costs = collections.defaultdict(float)\n",
    "# note that no errors are raised below\n",
    "# if the key is not in the dictionary, it is added with a default value of 0.0 (the result of calling float)\n",
    "costs[\"apple\"] += 1.3\n",
    "costs[\"pear\"] += 3\n",
    "costs[\"apple\"] += 0.5\n",
    "print(costs)"
   ]
  },
  {
   "cell_type": "markdown",
   "metadata": {
    "deletable": false,
    "editable": false,
    "nbgrader": {
     "grade": false,
     "grade_id": "cell-7ccaab78ebd9e96c",
     "locked": true,
     "schema_version": 3,
     "solution": false
    }
   },
   "source": [
    "## Data sets\n",
    "Here are some of the data sets we will test and/or explore with this notebook."
   ]
  },
  {
   "cell_type": "markdown",
   "metadata": {
    "deletable": false,
    "editable": false,
    "nbgrader": {
     "grade": false,
     "grade_id": "cell-0c88787295bc8680",
     "locked": true,
     "schema_version": 3,
     "solution": false
    }
   },
   "source": [
    "### Weather/Flight data set\n",
    "This is the dataset provided as an example in the lecture.\n",
    "\n",
    "We will represent a probability distribution with a dictionary for which the keys are tuples (or other \"sequence\"-like objects, such as strings) representing a specific configuration of random variables and the values are the floating point values corresponding to the probabilities of the configurations.  Here is the joint probability distribution for the example given in the lecture in which there are two random variables: the current weather and the arrival status of a flight."
   ]
  },
  {
   "cell_type": "code",
   "execution_count": 4,
   "metadata": {
    "deletable": false,
    "editable": false,
    "nbgrader": {
     "grade": false,
     "grade_id": "cell-4b7f5e679cb009ca",
     "locked": true,
     "schema_version": 3,
     "solution": false
    }
   },
   "outputs": [],
   "source": [
    "weather_flight_joint_dist = {(\"sun\",  \"on-time\"): 0.20,\n",
    "                             (\"rain\", \"on-time\"): 0.20,\n",
    "                             (\"snow\", \"on-time\"): 0.05,\n",
    "                             (\"sun\",  \"late\"):    0.10,\n",
    "                             (\"rain\", \"late\"):    0.30,\n",
    "                             (\"snow\", \"late\"):    0.15}"
   ]
  },
  {
   "cell_type": "markdown",
   "metadata": {
    "deletable": false,
    "editable": false,
    "nbgrader": {
     "grade": false,
     "grade_id": "cell-fbbe2ae2e80c92db",
     "locked": true,
     "schema_version": 3,
     "solution": false
    }
   },
   "source": [
    "We will represent a set of observations of a given system as a list of tuples (or other \"sequence\"-like objects, such as strings) representing a specific observation of all of the random variables in the system.  Such a set of observations can be thought of as a series of random draws from the joint probability distribution.  A set of observations for the weather/flight system is stored in the file [weather_flight_dataset.txt](weather_flight_dataset.txt), with each line corresponding to an observation.  We read this dataset from the file using the code below:"
   ]
  },
  {
   "cell_type": "code",
   "execution_count": 5,
   "metadata": {
    "deletable": false,
    "editable": false,
    "nbgrader": {
     "grade": false,
     "grade_id": "cell-124e227ba22099c3",
     "locked": true,
     "schema_version": 3,
     "solution": false
    }
   },
   "outputs": [],
   "source": [
    "weather_flight_dataset = [tuple(line.split()) for line in open(\"weather_flight_dataset.txt\")]"
   ]
  },
  {
   "cell_type": "markdown",
   "metadata": {
    "deletable": false,
    "editable": false,
    "nbgrader": {
     "grade": false,
     "grade_id": "cell-8be7d39aa26e8bf7",
     "locked": true,
     "schema_version": 3,
     "solution": false
    }
   },
   "source": [
    "Here are the first 6 observations of this dataset:"
   ]
  },
  {
   "cell_type": "code",
   "execution_count": 6,
   "metadata": {
    "deletable": false,
    "editable": false,
    "nbgrader": {
     "grade": false,
     "grade_id": "cell-fdf3ff9da8b89ab6",
     "locked": true,
     "schema_version": 3,
     "solution": false
    },
    "scrolled": true
   },
   "outputs": [
    {
     "name": "stdout",
     "output_type": "stream",
     "text": [
      "('rain', 'on-time')\n",
      "('snow', 'late')\n",
      "('rain', 'on-time')\n",
      "('sun', 'on-time')\n",
      "('sun', 'on-time')\n",
      "('rain', 'late')\n"
     ]
    }
   ],
   "source": [
    "print(*weather_flight_dataset[:6], sep=\"\\n\")"
   ]
  },
  {
   "cell_type": "markdown",
   "metadata": {
    "deletable": false,
    "editable": false,
    "nbgrader": {
     "grade": false,
     "grade_id": "cell-f7457c7bfe1af13d",
     "locked": true,
     "schema_version": 3,
     "solution": false
    }
   },
   "source": [
    "### Single base data set\n",
    "This is a very simple dataset in which the observations are single DNA bases (sequences of length = 1)."
   ]
  },
  {
   "cell_type": "code",
   "execution_count": 7,
   "metadata": {
    "deletable": false,
    "editable": false,
    "nbgrader": {
     "grade": false,
     "grade_id": "cell-72e318a768284936",
     "locked": true,
     "schema_version": 3,
     "solution": false
    }
   },
   "outputs": [],
   "source": [
    "single_base_joint_dist = {'A': 0.3, 'C': 0.3, 'G': 0.2, 'T': 0.2}\n",
    "single_base_dataset = ['A', 'C', 'A', 'T', 'G', 'T', 'C', 'A', 'G', 'C']"
   ]
  },
  {
   "cell_type": "markdown",
   "metadata": {
    "deletable": false,
    "editable": false,
    "nbgrader": {
     "grade": false,
     "grade_id": "cell-ead053a60aed5e98",
     "locked": true,
     "schema_version": 3,
     "solution": false
    }
   },
   "source": [
    "## Fruit fly splice site donor sequences\n",
    "\n",
    "One of the two main datasets you will work with in this activity is a set of sequences from the fruit fly (*Drosophila melanogaster*) genome.  These sequences are taken from intervals of the genome that are called *donor splice sites*.  Donor splice sites are signals within genes that guide the processing of RNAs transcribed from those genes.  Specifically, donor splice site signals mark the 3' boundaries of *exons*, which are the intervals of genes that are retained in mature messenger RNAs.\n",
    "\n",
    "The set of donor sequences are found in the file [fly_donor_sequences.txt](fly_donor_sequences.txt) within this workspace.  We will first read these sequences into a list:"
   ]
  },
  {
   "cell_type": "code",
   "execution_count": 8,
   "metadata": {
    "deletable": false,
    "editable": false,
    "nbgrader": {
     "grade": false,
     "grade_id": "cell-cbca74f6a44f090c",
     "locked": true,
     "schema_version": 3,
     "solution": false
    }
   },
   "outputs": [],
   "source": [
    "donors = [line.rstrip() for line in open(\"fly_donor_sequences.txt\")]"
   ]
  },
  {
   "cell_type": "markdown",
   "metadata": {
    "deletable": false,
    "editable": false,
    "nbgrader": {
     "grade": false,
     "grade_id": "cell-47b21d049c1d7abf",
     "locked": true,
     "schema_version": 3,
     "solution": false
    }
   },
   "source": [
    "Here are the first 6 donor sequences just to give you a sense of what they look like:"
   ]
  },
  {
   "cell_type": "code",
   "execution_count": 9,
   "metadata": {
    "deletable": false,
    "editable": false,
    "nbgrader": {
     "grade": false,
     "grade_id": "cell-f935b4ba5a8c1d9b",
     "locked": true,
     "schema_version": 3,
     "solution": false
    }
   },
   "outputs": [
    {
     "name": "stdout",
     "output_type": "stream",
     "text": [
      "TTGGTGAGT\n",
      "AAGGTATTT\n",
      "TTTGTGAGT\n",
      "CTGGTGAGA\n",
      "CAGGTGTGC\n",
      "GAGGTAAGC\n"
     ]
    }
   ],
   "source": [
    "print(*donors[:6], sep=\"\\n\")"
   ]
  },
  {
   "cell_type": "markdown",
   "metadata": {
    "deletable": false,
    "editable": false,
    "nbgrader": {
     "grade": false,
     "grade_id": "cell-b903e3f4b31fe47f",
     "locked": true,
     "schema_version": 3,
     "solution": false
    }
   },
   "source": [
    "## PROBLEM 1: Estimating joint distributions (1 POINT)\n",
    "We will first write a function that takes a list of observations, where each observation is a sequence (e.g., a string or tuple) of random variable values and estimates a joint distribution for those random variables, by simply computing the frequency of each joint configuration of the random variables.  Consider using the [Counter](https://docs.python.org/3/library/collections.html#collections.Counter) class for this problem."
   ]
  },
  {
   "cell_type": "code",
   "execution_count": 10,
   "metadata": {
    "nbgrader": {
     "grade": false,
     "grade_id": "cell-b6ffa320bbe479da",
     "locked": false,
     "schema_version": 3,
     "solution": true
    }
   },
   "outputs": [],
   "source": [
    "def estimate_joint_dist(observations):\n",
    "    \"\"\"Estimates the joint distribution from a list of observations.\n",
    "    \n",
    "    Args:\n",
    "        observations: a list of observations.  Each observation should be a \n",
    "                      sequence-like object (e.g., a string or tuple), \n",
    "                      where the ith element of each sequence represents the \n",
    "                      observed value of the ith random variable.\n",
    "    Returns:\n",
    "        A dictionary with random variable configurations as keys and probabilities as values.\"\"\"\n",
    "    ###\n",
    "    ### YOUR CODE HERE\n",
    "    counter = collections.Counter(observations)\n",
    "    return {key: count / len(observations) for key, count in counter.items()}\n"
   ]
  },
  {
   "cell_type": "code",
   "execution_count": 11,
   "metadata": {
    "deletable": false,
    "editable": false,
    "nbgrader": {
     "grade": true,
     "grade_id": "estimate_joint_dist",
     "locked": true,
     "points": 1,
     "schema_version": 3,
     "solution": false
    },
    "scrolled": true
   },
   "outputs": [
    {
     "name": "stdout",
     "output_type": "stream",
     "text": [
      "SUCCESS: estimate_joint_dist passed all tests!\n"
     ]
    }
   ],
   "source": [
    "# tests for estimate_joint_dist\n",
    "\n",
    "# Because of floating point issues, we will use the function below to \n",
    "# round probabilities such that we can check for correctness to a certain \n",
    "# number of digits.\n",
    "def round_dist(dist, digits=5):\n",
    "    \"\"\"Returns a new distribution with probabilities rounded to the specified number of digits.\"\"\"\n",
    "    return {key: round(value, digits) for key, value in dist.items()}\n",
    "\n",
    "assert round_dist(estimate_joint_dist(single_base_dataset)) == single_base_joint_dist\n",
    "assert round_dist(estimate_joint_dist(weather_flight_dataset)) == weather_flight_joint_dist\n",
    "assert estimate_joint_dist([(\"apple\",)]) == {(\"apple\",): 1.0}\n",
    "assert estimate_joint_dist([(22, \"apple\", 3.0), (3, \"banana\", 1.5)]) == {(22, \"apple\", 3.0): 0.5,\n",
    "                                                                         (3, \"banana\", 1.5): 0.5}\n",
    "print(\"SUCCESS: estimate_joint_dist passed all tests!\")"
   ]
  },
  {
   "cell_type": "markdown",
   "metadata": {
    "deletable": false,
    "editable": false,
    "nbgrader": {
     "grade": false,
     "grade_id": "cell-5af683ab53217682",
     "locked": true,
     "schema_version": 3,
     "solution": false
    }
   },
   "source": [
    "### Examining the joint distribution of the donor sequences\n",
    "Now use your function to estimate the joint distribution of the characters in the donor sequences:"
   ]
  },
  {
   "cell_type": "code",
   "execution_count": 12,
   "metadata": {
    "deletable": false,
    "editable": false,
    "nbgrader": {
     "grade": false,
     "grade_id": "cell-991e0cad5f658d58",
     "locked": true,
     "schema_version": 3,
     "solution": false
    }
   },
   "outputs": [],
   "source": [
    "donor_joint_dist = estimate_joint_dist(donors)"
   ]
  },
  {
   "cell_type": "markdown",
   "metadata": {
    "deletable": false,
    "editable": false,
    "nbgrader": {
     "grade": false,
     "grade_id": "cell-bf63c0e9aead94de",
     "locked": true,
     "schema_version": 3,
     "solution": false
    }
   },
   "source": [
    "Examine this distribution.  What is the most probabable donor sequence and what is its probability?"
   ]
  },
  {
   "cell_type": "code",
   "execution_count": 14,
   "metadata": {
    "nbgrader": {
     "grade": false,
     "grade_id": "cell-d596264fb3a93d63",
     "locked": false,
     "schema_version": 3,
     "solution": true
    }
   },
   "outputs": [
    {
     "name": "stdout",
     "output_type": "stream",
     "text": [
      "Most probable donor sequences: ['CAGGTGAGT'] (prob = 0.020)\n"
     ]
    }
   ],
   "source": [
    "###\n",
    "### Your analysis here\n",
    "max_prob = max(donor_joint_dist.values())\n",
    "most_probable_donors = [donor for donor, prob in donor_joint_dist.items() if prob == max_prob]\n",
    "print(\"Most probable donor sequences:\", most_probable_donors, \"(prob = %.3f)\" % max_prob)\n",
    "\n"
   ]
  },
  {
   "cell_type": "markdown",
   "metadata": {
    "deletable": false,
    "editable": false,
    "nbgrader": {
     "grade": false,
     "grade_id": "cell-287ae321db6b373e",
     "locked": true,
     "schema_version": 3,
     "solution": false
    }
   },
   "source": [
    "## PROBLEM 2: Computing marginal distributions (1 POINT)\n",
    "Now let us write a function that takes as input a joint distribution and computes the marginal distribution of one of the random variables.  Consider using the [defaultdict](https://docs.python.org/3/library/collections.html#collections.defaultdict) class for this problem."
   ]
  },
  {
   "cell_type": "code",
   "execution_count": 15,
   "metadata": {
    "nbgrader": {
     "grade": false,
     "grade_id": "cell-e473d4613b5006c1",
     "locked": false,
     "schema_version": 3,
     "solution": true
    }
   },
   "outputs": [],
   "source": [
    "def compute_marginal_dist(joint_distribution, index):\n",
    "    \"\"\"Computes the marginal distribution of a single random variable given a joint distribution.\n",
    "    \n",
    "    Args:\n",
    "        joint_distribution: A dictionary representing a joint probability distribution.  In the\n",
    "                            dictionary, variable configurations are keys and probabilities are values\n",
    "        index: an integer giving the index of the random variable for which the marginal \n",
    "               distribution is to be computed.  The index is with respect to the sequence objects\n",
    "               that represent each variable configuration.\n",
    "    Returns:\n",
    "        A dictionary with the possible values of the specified random variable\n",
    "        as keys and probabilities as values.\"\"\"\n",
    "    ###\n",
    "    ### YOUR CODE HERE\n",
    "    dist = collections.defaultdict(float)\n",
    "    for joint_config, prob in joint_distribution.items():\n",
    "        dist[joint_config[index]] += prob\n",
    "    return dist\n",
    "    \n",
    "    \n"
   ]
  },
  {
   "cell_type": "code",
   "execution_count": 16,
   "metadata": {
    "deletable": false,
    "editable": false,
    "nbgrader": {
     "grade": true,
     "grade_id": "compute_marginal_dist",
     "locked": true,
     "points": 1,
     "schema_version": 3,
     "solution": false
    }
   },
   "outputs": [
    {
     "name": "stdout",
     "output_type": "stream",
     "text": [
      "SUCCESS: compute_marginal_dist passed all tests!\n"
     ]
    }
   ],
   "source": [
    "# tests for compute_marginal_dist\n",
    "assert round_dist(compute_marginal_dist(single_base_joint_dist, 0)) == single_base_joint_dist\n",
    "assert round_dist(compute_marginal_dist(weather_flight_joint_dist, 0)) == {'rain': 0.5, 'snow': 0.2, 'sun': 0.3}\n",
    "assert round_dist(compute_marginal_dist(weather_flight_joint_dist, 1)) == {'late': 0.55, 'on-time': 0.45}\n",
    "assert round_dist(compute_marginal_dist(donor_joint_dist, 0)) == {'A': 0.36, 'C': 0.275, 'G': 0.196, 'T': 0.169}\n",
    "print(\"SUCCESS: compute_marginal_dist passed all tests!\")"
   ]
  },
  {
   "cell_type": "markdown",
   "metadata": {
    "deletable": false,
    "editable": false,
    "nbgrader": {
     "grade": false,
     "grade_id": "cell-02768e47e53185dd",
     "locked": true,
     "schema_version": 3,
     "solution": false
    }
   },
   "source": [
    "### Examining the marginal distributions of the positions within donor sequences\n",
    "We will now use your `compute_marginal_dist` function to compute the marginal distribution of each position within the donor sequences."
   ]
  },
  {
   "cell_type": "code",
   "execution_count": 17,
   "metadata": {
    "deletable": false,
    "editable": false,
    "nbgrader": {
     "grade": false,
     "grade_id": "cell-ad7b3ae345578c2f",
     "locked": true,
     "schema_version": 3,
     "solution": false
    }
   },
   "outputs": [],
   "source": [
    "donor_marginal_dists = [compute_marginal_dist(donor_joint_dist, i) for i in range(len(donors[0]))]"
   ]
  },
  {
   "cell_type": "markdown",
   "metadata": {
    "deletable": false,
    "editable": false,
    "nbgrader": {
     "grade": false,
     "grade_id": "cell-4f53fa5a969901f7",
     "locked": true,
     "schema_version": 3,
     "solution": false
    }
   },
   "source": [
    "It will be useful to plot these marginal distributions in a series of bar plots."
   ]
  },
  {
   "cell_type": "code",
   "execution_count": 18,
   "metadata": {
    "deletable": false,
    "editable": false,
    "nbgrader": {
     "grade": false,
     "grade_id": "cell-28e06581ab075a84",
     "locked": true,
     "schema_version": 3,
     "solution": false
    }
   },
   "outputs": [
    {
     "data": {
      "image/png": "[encoded data removed]",
      "text/plain": [
       "<Figure size 1008x216 with 9 Axes>"
      ]
     },
     "metadata": {
      "needs_background": "light"
     },
     "output_type": "display_data"
    }
   ],
   "source": [
    "DNA_BASES = (\"A\", \"C\", \"G\", \"T\")\n",
    "\n",
    "plt.figure(figsize=(14, 3))\n",
    "for index, dist in enumerate(donor_marginal_dists):\n",
    "    if index == 0:\n",
    "        ax1 = plt.subplot(1, len(donor_marginal_dists), index + 1, title=index)\n",
    "        plt.ylabel(\"probability\")\n",
    "    else:\n",
    "        ax = plt.subplot(1, len(donor_marginal_dists), index + 1, sharey=ax1, title=index)\n",
    "        plt.setp(ax.get_yticklabels(), visible=False)\n",
    "    plt.bar(DNA_BASES, [dist.get(base, 0) for base in DNA_BASES])\n",
    "plt.suptitle('Marginal distributions of bases at each donor position')\n",
    "plt.subplots_adjust(wspace=0.15, top=0.8)\n",
    "plt.show()"
   ]
  },
  {
   "cell_type": "markdown",
   "metadata": {
    "deletable": false,
    "editable": false,
    "nbgrader": {
     "grade": false,
     "grade_id": "cell-281c85ad121d13fd",
     "locked": true,
     "schema_version": 3,
     "solution": false
    }
   },
   "source": [
    "What strikes you about these disributions?"
   ]
  },
  {
   "cell_type": "markdown",
   "metadata": {},
   "source": [
    "###\n",
    "### *Your observations here*\n",
    "###\n"
   ]
  },
  {
   "cell_type": "markdown",
   "metadata": {
    "deletable": false,
    "editable": false,
    "nbgrader": {
     "grade": false,
     "grade_id": "cell-a019f45a3d129acc",
     "locked": true,
     "schema_version": 3,
     "solution": false
    }
   },
   "source": [
    "## PROBLEM 3: Computing conditional distributions (1 POINT)\n",
    "Now let us write a function that takes as input a joint distribution and computes the conditional distribution of one of the random variables given another.  The conditional distribution should be represented as a dictionary with the keys being values of the random variable being conditioned on, and the values being distributions over the values of the other random variable."
   ]
  },
  {
   "cell_type": "code",
   "execution_count": 19,
   "metadata": {
    "nbgrader": {
     "grade": false,
     "grade_id": "compute_conditional_dist_implementation",
     "locked": false,
     "schema_version": 3,
     "solution": true
    }
   },
   "outputs": [],
   "source": [
    "def compute_conditional_dist(joint_distribution, index, condition_index):\n",
    "    \"\"\"Computes the conditional distribution of one random variable given another and a joint distribution.\n",
    "    \n",
    "    Args:\n",
    "        joint_distribution: A dictionary representing a joint probability distribution.  In the\n",
    "                            dictionary, variable configurations are keys and probabilities are values\n",
    "        index: an integer giving the index of the target random variable for which the conditional \n",
    "               distribution is to be computed. For example, if we are computing P(X|Y), \n",
    "               this is the index of X. The index is with respect to the sequence objects\n",
    "               that represent each variable configuration. \n",
    "        condition_index: an integer giving the index of the random variable on which to condition.\n",
    "               For example, if we are computing P(X|Y), this is the index of Y.\n",
    "    Returns:\n",
    "        A dictionary with the possible values of the conditioning random variable as keys\n",
    "        and distributions (represented as dictionaries) over the target variable as values.\"\"\"\n",
    "    ###\n",
    "    ### YOUR CODE HERE\n",
    "    cond_marginal = compute_marginal_dist(joint_distribution, condition_index)\n",
    "    cond_dist = collections.defaultdict(lambda: collections.defaultdict(float))\n",
    "    for joint_config, prob in joint_distribution.items():\n",
    "        cond_dist[joint_config[condition_index]][joint_config[index]] += prob / cond_marginal[joint_config[condition_index]]\n",
    "    return cond_dist\n",
    "    \n"
   ]
  },
  {
   "cell_type": "code",
   "execution_count": 20,
   "metadata": {
    "deletable": false,
    "editable": false,
    "nbgrader": {
     "grade": true,
     "grade_id": "compute_conditional_dist",
     "locked": true,
     "points": 1,
     "schema_version": 3,
     "solution": false
    },
    "scrolled": true
   },
   "outputs": [
    {
     "name": "stdout",
     "output_type": "stream",
     "text": [
      "SUCCESS: compute_conditional_dist passed all tests!\n"
     ]
    }
   ],
   "source": [
    "# tests for compute_conditional_dist\n",
    "\n",
    "def round_cond_dist(cond_dist, digits=5):\n",
    "    \"\"\"Returns a new conditional distribution with probabilities rounded to the specified number of digits.\"\"\"\n",
    "    return {key: round_dist(dist, digits) for key, dist in cond_dist.items()}\n",
    "\n",
    "assert round_cond_dist(compute_conditional_dist(weather_flight_joint_dist, 1, 0)) == \\\n",
    "{'rain': {'late': 0.6,     'on-time': 0.4},\n",
    " 'snow': {'late': 0.75,    'on-time': 0.25},\n",
    "  'sun': {'late': 0.33333, 'on-time': 0.66667}}\n",
    "\n",
    "# Flu-symptom joint distribution from lecture\n",
    "#               Variables: Flu   Fever   Vomit\n",
    "flu_symptom_joint_dist = {( True,  True,  True): 0.04,\n",
    "                          ( True,  True, False): 0.04,\n",
    "                          ( True, False,  True): 0.01,                          \n",
    "                          ( True, False, False): 0.01,                          \n",
    "                          (False,  True,  True): 0.009,                          \n",
    "                          (False,  True, False): 0.081,                          \n",
    "                          (False, False,  True): 0.081,                          \n",
    "                          (False, False, False): 0.729}\n",
    "# P(Flu | Vomit)\n",
    "assert round_cond_dist(compute_conditional_dist(flu_symptom_joint_dist, 0, 2)) == \\\n",
    "{ True: {True: 0.35714, False: 0.64286}, \n",
    " False: {True: 0.05814, False: 0.94186}}\n",
    "\n",
    "print(\"SUCCESS: compute_conditional_dist passed all tests!\")"
   ]
  },
  {
   "cell_type": "markdown",
   "metadata": {
    "deletable": false,
    "editable": false,
    "nbgrader": {
     "grade": false,
     "grade_id": "cell-3a422a52760eb51d",
     "locked": true,
     "schema_version": 3,
     "solution": false
    }
   },
   "source": [
    "### Examining conditional distributions of the positions within donor sequences\n",
    "We will now use your `compute_conditional_dist` function to compute the conditional distribution of base at position 5 in the donor sequences given the base at position 7."
   ]
  },
  {
   "cell_type": "code",
   "execution_count": 21,
   "metadata": {
    "deletable": false,
    "editable": false,
    "nbgrader": {
     "grade": false,
     "grade_id": "cell-e52b4bf015378ef0",
     "locked": true,
     "schema_version": 3,
     "solution": false
    }
   },
   "outputs": [],
   "source": [
    "donor_5_given_7_conditional_dist = compute_conditional_dist(donor_joint_dist, 5, 7)"
   ]
  },
  {
   "cell_type": "markdown",
   "metadata": {
    "deletable": false,
    "editable": false,
    "nbgrader": {
     "grade": false,
     "grade_id": "cell-7cd4737487d97ec9",
     "locked": true,
     "schema_version": 3,
     "solution": false
    }
   },
   "source": [
    "Here is a series of plots showing these conditional distributions."
   ]
  },
  {
   "cell_type": "code",
   "execution_count": 22,
   "metadata": {
    "deletable": false,
    "editable": false,
    "nbgrader": {
     "grade": false,
     "grade_id": "cell-aa21213bbdc6ccd2",
     "locked": true,
     "schema_version": 3,
     "solution": false
    },
    "scrolled": true
   },
   "outputs": [
    {
     "data": {
      "image/png": "[encoded data removed]",
      "text/plain": [
       "<Figure size 1008x216 with 4 Axes>"
      ]
     },
     "metadata": {
      "needs_background": "light"
     },
     "output_type": "display_data"
    }
   ],
   "source": [
    "plt.figure(figsize=(14, 3))\n",
    "for index, (base, dist) in enumerate(sorted(donor_5_given_7_conditional_dist.items())):\n",
    "    if index == 0:\n",
    "        ax1 = plt.subplot(1, len(donor_5_given_7_conditional_dist), index + 1, title=\"position 7 = \" + base)\n",
    "        plt.ylabel(\"probability\")\n",
    "    else:\n",
    "        ax = plt.subplot(1, len(donor_5_given_7_conditional_dist), index + 1, sharey=ax1, title=\"position 7 = \" + base)\n",
    "        plt.setp(ax.get_yticklabels(), visible=False)\n",
    "    plt.bar(DNA_BASES, [dist.get(base, 0) for base in DNA_BASES])\n",
    "plt.suptitle('Conditional distribution of the base at position 5 given the base at position 7')\n",
    "plt.subplots_adjust(wspace=0.15, top=0.8)\n",
    "plt.show()"
   ]
  },
  {
   "cell_type": "markdown",
   "metadata": {
    "deletable": false,
    "editable": false,
    "nbgrader": {
     "grade": false,
     "grade_id": "cell-ea4dcab894267555",
     "locked": true,
     "schema_version": 3,
     "solution": false
    }
   },
   "source": [
    "Compare the above plots to the marginal distribution of the base at position 5 in the previous section.  Does it look like the base at position 5 is *independent* of the base at position 7?"
   ]
  },
  {
   "cell_type": "markdown",
   "metadata": {},
   "source": [
    "###\n",
    "### *Your thoughts here*\n",
    "###\n"
   ]
  },
  {
   "cell_type": "markdown",
   "metadata": {
    "deletable": false,
    "editable": false,
    "nbgrader": {
     "grade": false,
     "grade_id": "cell-7211c3813d657e2f",
     "locked": true,
     "schema_version": 3,
     "solution": false
    }
   },
   "source": [
    "## Human-Chimp genomic alignment from chromosome 21\n",
    "For the remainder of this activity we will analyze the distributions of various features within a pairwise sequence alignment.  In particular, we will consider the pairwise alignment of a pair orthologous segments of the human and chimpanzee genomes.  This alignment was produced using the [MUMmer](http://mummer.sourceforge.net/) genomic alignment software.  The human segment comes from bases 26727427-26958359 of chromosome 21, and is about 231,000 bases long.  We will first read this alignment from a file [human_chimp_chr21_block.fasta](human_chimp_chr21_block.fasta), which is in FASTA format."
   ]
  },
  {
   "cell_type": "code",
   "execution_count": 23,
   "metadata": {
    "deletable": false,
    "editable": false,
    "nbgrader": {
     "grade": false,
     "grade_id": "cell-01e3caa4ebac612e",
     "locked": true,
     "schema_version": 3,
     "solution": false
    }
   },
   "outputs": [],
   "source": [
    "aligned_seqs = fasta.read_sequences_from_fasta_file(\"human_chimp_chr21_block.fasta\")\n",
    "human_chimp_alignment = [aligned_seq for (seq_name, aligned_seq) in aligned_seqs]"
   ]
  },
  {
   "cell_type": "markdown",
   "metadata": {
    "deletable": false,
    "editable": false,
    "nbgrader": {
     "grade": false,
     "grade_id": "cell-54d679776196c337",
     "locked": true,
     "schema_version": 3,
     "solution": false
    }
   },
   "source": [
    "The `slice_alignment` function below will be useful for looking at pieces of this alignment, which is very long."
   ]
  },
  {
   "cell_type": "code",
   "execution_count": 24,
   "metadata": {
    "deletable": false,
    "editable": false,
    "nbgrader": {
     "grade": false,
     "grade_id": "cell-867b78e968cb3a4e",
     "locked": true,
     "schema_version": 3,
     "solution": false
    }
   },
   "outputs": [],
   "source": [
    "def slice_alignment(alignment, start_column, length):\n",
    "    \"\"\"Returns a slice of the alignment starting at start_column and with the given length.\"\"\"\n",
    "    return [aligned_seq[start_column: start_column + length] for aligned_seq in alignment]"
   ]
  },
  {
   "cell_type": "markdown",
   "metadata": {
    "deletable": false,
    "editable": false,
    "nbgrader": {
     "grade": false,
     "grade_id": "cell-e40ecf5e661fff0f",
     "locked": true,
     "schema_version": 3,
     "solution": false
    }
   },
   "source": [
    "And here is a view of a small 70-column slice of this alignment:"
   ]
  },
  {
   "cell_type": "code",
   "execution_count": 25,
   "metadata": {
    "deletable": false,
    "editable": false,
    "nbgrader": {
     "grade": false,
     "grade_id": "cell-36eb0100f2e542a2",
     "locked": true,
     "schema_version": 3,
     "solution": false
    }
   },
   "outputs": [
    {
     "data": {
      "text/plain": [
       "['AAAGAGGAGTTCCCCTGCACAGGCTCTCTCTCTTTGCCAGCCG-CATCCACGCAAGACATGACTTGCTCC',\n",
       " 'AAAGAGGAGGTCCCCTGCATAGG--CTCTCTCTTTGCCAGCCGCCATCCACGCAAGACATGACTTGCTCC']"
      ]
     },
     "execution_count": 25,
     "metadata": {},
     "output_type": "execute_result"
    }
   ],
   "source": [
    "slice_alignment(human_chimp_alignment, 107950, 70)"
   ]
  },
  {
   "cell_type": "markdown",
   "metadata": {
    "deletable": false,
    "editable": false,
    "nbgrader": {
     "grade": false,
     "grade_id": "cell-4baa44c93b25af44",
     "locked": true,
     "schema_version": 3,
     "solution": false
    }
   },
   "source": [
    "### Gap lengths"
   ]
  },
  {
   "cell_type": "markdown",
   "metadata": {
    "deletable": false,
    "editable": false,
    "nbgrader": {
     "grade": false,
     "grade_id": "cell-309f00f875b1eb1f",
     "locked": true,
     "schema_version": 3,
     "solution": false
    }
   },
   "source": [
    "We will first examine the gaps in this alignment, and, in particular, the lengths of the gaps."
   ]
  },
  {
   "cell_type": "markdown",
   "metadata": {
    "deletable": false,
    "editable": false,
    "nbgrader": {
     "grade": false,
     "grade_id": "cell-decba447f4f7eba0",
     "locked": true,
     "schema_version": 3,
     "solution": false
    }
   },
   "source": [
    "#### PROBLEM 4: Compute gap lengths in an alignment (1 POINT)"
   ]
  },
  {
   "cell_type": "markdown",
   "metadata": {
    "deletable": false,
    "editable": false,
    "nbgrader": {
     "grade": false,
     "grade_id": "cell-abc5cbbfdb55ade7",
     "locked": true,
     "schema_version": 3,
     "solution": false
    }
   },
   "source": [
    "Write a function that takes as input a *single* sequence from an alignment that potentially has gaps (consecutive runs of space (`-`) characters), and returns a list of the lengths of the gaps it contains, in left to right order."
   ]
  },
  {
   "cell_type": "code",
   "execution_count": 31,
   "metadata": {
    "nbgrader": {
     "grade": false,
     "grade_id": "cell-d84e54c47ae76294",
     "locked": false,
     "schema_version": 3,
     "solution": true
    }
   },
   "outputs": [],
   "source": [
    "def gap_lengths(s):\n",
    "    \"\"\"Computes a list of the lengths of the gaps in an aligned sequence\n",
    "    \n",
    "    Args:\n",
    "        s: a string representing a single sequence from an alignment, which possibly\n",
    "           contains gaps (consecutive runs of space characters, '-')\n",
    "    Returns:\n",
    "        A list of the lengths of the gaps in s (in left to right order)\n",
    "    \"\"\"\n",
    "    ###\n",
    "    ### YOUR CODE HERE\n",
    "    lengths = []\n",
    "    curr_gap_length = 0\n",
    "    for c in s:\n",
    "        if c == '-':\n",
    "            curr_gap_length += 1\n",
    "        else:\n",
    "            if curr_gap_length:\n",
    "                lengths.append(curr_gap_length)\n",
    "                curr_gap_length = 0\n",
    "    if curr_gap_length:\n",
    "        lengths.append(curr_gap_length)\n",
    "    return lengths\n",
    "\n",
    "\n"
   ]
  },
  {
   "cell_type": "code",
   "execution_count": 32,
   "metadata": {
    "deletable": false,
    "editable": false,
    "nbgrader": {
     "grade": true,
     "grade_id": "gap_lengths",
     "locked": true,
     "points": 1,
     "schema_version": 3,
     "solution": false
    }
   },
   "outputs": [
    {
     "name": "stdout",
     "output_type": "stream",
     "text": [
      "SUCCESS: gap_lengths passed all tests!\n"
     ]
    }
   ],
   "source": [
    "# tests for gap_lengths\n",
    "assert gap_lengths(\"CTAGC---CGAT-C\") == [3, 1]\n",
    "assert gap_lengths(\"--CTAGC---CGAT-C\") == [2, 3, 1]\n",
    "assert gap_lengths(\"CTAGC---CGAT-C--\") == [3, 1, 2]\n",
    "assert gap_lengths(\"----------\") == [10]\n",
    "assert gap_lengths(\"CTAGCCGATC\") == []\n",
    "assert gap_lengths(\"\") == []\n",
    "print(\"SUCCESS: gap_lengths passed all tests!\")"
   ]
  },
  {
   "cell_type": "markdown",
   "metadata": {
    "deletable": false,
    "editable": false,
    "nbgrader": {
     "grade": false,
     "grade_id": "cell-c419862f6956f835",
     "locked": true,
     "schema_version": 3,
     "solution": false
    }
   },
   "source": [
    "#### PROBLEM 5: Examination of the gap length distribution in a  human-chimp alignment (1 POINT)"
   ]
  },
  {
   "cell_type": "markdown",
   "metadata": {
    "deletable": false,
    "editable": false,
    "nbgrader": {
     "grade": false,
     "grade_id": "cell-b1024fad7c9f0f86",
     "locked": true,
     "schema_version": 3,
     "solution": false
    }
   },
   "source": [
    "We will now use your `gap_lengths` function to compile a list of all gaps from both sequences of the human-chimp alignment."
   ]
  },
  {
   "cell_type": "code",
   "execution_count": 33,
   "metadata": {
    "deletable": false,
    "editable": false,
    "nbgrader": {
     "grade": false,
     "grade_id": "cell-af5a1f89048f3fdf",
     "locked": true,
     "schema_version": 3,
     "solution": false
    }
   },
   "outputs": [
    {
     "name": "stdout",
     "output_type": "stream",
     "text": [
      "[1, 6, 2, 5, 4, 2, 3, 3, 4, 1, 4, 1, 4, 1, 1, 2, 1, 4, 2, 2, 1, 1, 2, 5, 2, 2, 2, 1, 5, 3, 3, 3, 1, 9, 1, 6, 4, 1, 1, 1, 1, 22, 1, 1, 3, 1, 1, 1, 1, 2, 3, 3, 1, 1, 1, 1, 1, 5, 2, 1, 4, 3, 1, 2, 2, 2, 4, 2, 4, 1, 1, 3, 5, 3, 1, 1, 1, 1, 10, 1, 4, 2, 1, 1, 3, 3, 2, 2, 4, 4, 1, 3, 8, 7, 1, 3, 6, 7, 3, 7, 1, 1, 3, 1, 1, 1, 1, 1, 4, 1, 7, 7, 6, 18, 80, 1, 1, 1, 4, 1, 1, 2, 1, 34, 2, 1, 1, 1, 10, 2, 1, 1, 1, 3, 7, 1, 1, 5, 2, 2, 1, 1, 1, 1, 1, 1, 1, 7, 1, 1, 6, 2, 23, 1, 2, 4, 4, 10, 9, 2, 2, 1, 2, 2, 1, 2, 1, 3, 1, 3, 1, 3, 1, 5, 9, 1, 1, 2, 1, 1, 51, 1, 1, 4, 1, 1, 2, 3, 2, 1, 2, 1, 1, 1, 5, 1, 2, 2, 1, 1, 4, 4, 1, 4, 1, 8, 4, 12, 13, 3, 9, 3, 4, 1, 2, 2, 1, 14, 4, 4, 6, 1, 1, 2, 1, 5, 1, 1, 1, 1, 3, 1, 1, 1, 14, 1, 2, 4, 1, 6, 2, 2, 16, 3, 2, 3, 1, 11, 4, 4, 3, 3, 1, 1, 5, 3, 4, 1, 1, 2, 1, 1, 1, 2, 4, 15, 1, 1, 2, 1, 2, 5, 12, 72, 3, 1, 3, 2, 2, 2, 2, 1, 4, 4, 2, 4, 6, 2, 1, 6, 7, 2, 2, 1, 4, 1, 1, 7, 1, 1, 11, 1, 1, 1, 12, 4, 4, 5, 13, 2, 8, 2, 2, 1, 2, 1, 1, 1, 2, 2, 4, 1, 4, 16, 3, 1, 19]\n"
     ]
    }
   ],
   "source": [
    "human_chimp_gap_lengths = gap_lengths(human_chimp_alignment[0]) + gap_lengths(human_chimp_alignment[1])\n",
    "print(human_chimp_gap_lengths)"
   ]
  },
  {
   "cell_type": "markdown",
   "metadata": {
    "deletable": false,
    "editable": false,
    "nbgrader": {
     "grade": false,
     "grade_id": "cell-1cfd0da10e102db5",
     "locked": true,
     "schema_version": 3,
     "solution": false
    }
   },
   "source": [
    "Use `matplotlib.pyplot` to make a plot of the distribution of the gap lengths.  I recommend using the [`pyplot.hist`](https://matplotlib.org/api/_as_gen/matplotlib.pyplot.hist.html) on the list of lengths for this purpose."
   ]
  },
  {
   "cell_type": "code",
   "execution_count": 34,
   "metadata": {
    "nbgrader": {
     "grade": false,
     "grade_id": "cell-3f69b4a0e9ed827a",
     "locked": false,
     "schema_version": 3,
     "solution": true
    }
   },
   "outputs": [
    {
     "data": {
      "image/png": "[encoded data removed]",
      "text/plain": [
       "<Figure size 1080x216 with 1 Axes>"
      ]
     },
     "metadata": {
      "needs_background": "light"
     },
     "output_type": "display_data"
    }
   ],
   "source": [
    "###\n",
    "### Code for plotting a histogram of the human_chimp_gap_lengths\n",
    "plt.figure(figsize=(15, 3))\n",
    "plt.hist(human_chimp_gap_lengths, bins=range(min(human_chimp_gap_lengths),\n",
    "                                             max(human_chimp_gap_lengths), 1))\n",
    "plt.xlabel(\"Gap length\")\n",
    "plt.ylabel(\"# of gaps\")\n",
    "plt.show()\n"
   ]
  },
  {
   "cell_type": "markdown",
   "metadata": {
    "deletable": false,
    "editable": false,
    "nbgrader": {
     "grade": false,
     "grade_id": "cell-d7c945ad715ef51f",
     "locked": true,
     "schema_version": 3,
     "solution": false
    }
   },
   "source": [
    "Which common distribution described in the online lecture does this gap length distribution resemble?  Record your answer by assigning one of the following strings to the `gap_length_distribution` variable."
   ]
  },
  {
   "cell_type": "code",
   "execution_count": 39,
   "metadata": {
    "deletable": false,
    "editable": false,
    "nbgrader": {
     "grade": false,
     "grade_id": "cell-59b5b961cdd761f5",
     "locked": true,
     "schema_version": 3,
     "solution": false
    }
   },
   "outputs": [],
   "source": [
    "common_distributions = {\"geometric\", \"binomial\", \"multinomial\", \"gaussian\", \"exponential\"}"
   ]
  },
  {
   "cell_type": "code",
   "execution_count": 40,
   "metadata": {
    "nbgrader": {
     "grade": false,
     "grade_id": "cell-454b7b6f77a393c9",
     "locked": false,
     "schema_version": 3,
     "solution": true
    }
   },
   "outputs": [],
   "source": [
    "###\n",
    "gap_length_distribution = \"geometric\"\n",
    "###\n"
   ]
  },
  {
   "cell_type": "code",
   "execution_count": 41,
   "metadata": {
    "deletable": false,
    "editable": false,
    "nbgrader": {
     "grade": true,
     "grade_id": "gap_length_distribution",
     "locked": true,
     "points": 1,
     "schema_version": 3,
     "solution": false
    }
   },
   "outputs": [
    {
     "name": "stdout",
     "output_type": "stream",
     "text": [
      "SUCCESS: gap_length_distribution passed all visible tests!\n"
     ]
    }
   ],
   "source": [
    "# tests for gap_length_count_distribution\n",
    "assert gap_length_distribution in common_distributions, \"The distribution must be one of the common distributions above\"\n",
    "###\n",
    "### AUTOGRADER TEST - DO NOT REMOVE\n",
    "###\n",
    "print(\"SUCCESS: gap_length_distribution passed all visible tests!\")"
   ]
  },
  {
   "cell_type": "markdown",
   "metadata": {
    "deletable": false,
    "editable": false,
    "nbgrader": {
     "grade": false,
     "grade_id": "cell-c39878de5e863879",
     "locked": true,
     "schema_version": 3,
     "solution": false
    }
   },
   "source": [
    "### Number of mismatches\n",
    "Let's turn now to examining mismatches in this alignment."
   ]
  },
  {
   "cell_type": "markdown",
   "metadata": {
    "deletable": false,
    "editable": false,
    "nbgrader": {
     "grade": false,
     "grade_id": "cell-e4f18a7520331d19",
     "locked": true,
     "schema_version": 3,
     "solution": false
    }
   },
   "source": [
    "#### PROBLEM 6: Compute the number of mismatches in an alignment (1 POINT)\n",
    "Write a function that takes as input an alignment (represented as a list with two string elements) and returns the number of columns that have a mismatched pair of bases (ignoring gapped columns)."
   ]
  },
  {
   "cell_type": "code",
   "execution_count": 44,
   "metadata": {
    "nbgrader": {
     "grade": false,
     "grade_id": "cell-d90d4571bd527965",
     "locked": false,
     "schema_version": 3,
     "solution": true
    }
   },
   "outputs": [],
   "source": [
    "def num_mismatches(alignment):\n",
    "    \"\"\"Computes the number of mismatch columns (ignoring gapped columns) in alignment.\n",
    "    \n",
    "    Args:\n",
    "        alignment: a pairwise alignment represented as a list with two string elements,\n",
    "                   each string of the same length (the number of columns)\n",
    "    Returns:\n",
    "        The integer number of mismatch columns.\n",
    "    \"\"\"\n",
    "    ###\n",
    "    ### YOUR CODE HERE\n",
    "    return sum(c1 != c2 for c1, c2 in zip(*alignment) if '-' not in (c1, c2))\n",
    "\n"
   ]
  },
  {
   "cell_type": "code",
   "execution_count": 45,
   "metadata": {
    "deletable": false,
    "editable": false,
    "nbgrader": {
     "grade": true,
     "grade_id": "num_mismatches",
     "locked": true,
     "points": 1,
     "schema_version": 3,
     "solution": false
    },
    "scrolled": true
   },
   "outputs": [
    {
     "name": "stdout",
     "output_type": "stream",
     "text": [
      "SUCCESS: num_mismatches passed all tests!\n"
     ]
    }
   ],
   "source": [
    "# tests for num_mismatches\n",
    "test_align1 = [\"CTAGGT\",\n",
    "               \"C-ATCT\"]\n",
    "assert num_mismatches(test_align1) == 2\n",
    "test_align2 = [\"CTAG-T\",\n",
    "               \"C-ATCT\"]\n",
    "assert num_mismatches(test_align2) == 1\n",
    "test_align3 = [\"TTTTTT\",\n",
    "               \"AAAAAA\"]\n",
    "assert num_mismatches(test_align3) == 6\n",
    "test_align4 = [\"\",\n",
    "               \"\"]\n",
    "assert num_mismatches(test_align4) == 0\n",
    "print(\"SUCCESS: num_mismatches passed all tests!\")"
   ]
  },
  {
   "cell_type": "markdown",
   "metadata": {
    "deletable": false,
    "editable": false,
    "nbgrader": {
     "grade": false,
     "grade_id": "cell-07ae503dd5335df4",
     "locked": true,
     "schema_version": 3,
     "solution": false
    }
   },
   "source": [
    "#### PROBLEM 7: Examination of the distribution of the number of mismatches in slices of a human-chimp alignment (1 POINT)"
   ]
  },
  {
   "cell_type": "markdown",
   "metadata": {
    "deletable": false,
    "editable": false,
    "nbgrader": {
     "grade": false,
     "grade_id": "cell-085d4ee3a26080e8",
     "locked": true,
     "schema_version": 3,
     "solution": false
    }
   },
   "source": [
    "Now let's use your `num_mismatches` function to count the number of mismatches in slices of the human-chimp alignment.  We will slice the alignment into disjoint slices of 1000 columns each and count the number of mismatches in each slice."
   ]
  },
  {
   "cell_type": "code",
   "execution_count": 46,
   "metadata": {
    "deletable": false,
    "editable": false,
    "nbgrader": {
     "grade": false,
     "grade_id": "cell-b40e5fcea686b95b",
     "locked": true,
     "schema_version": 3,
     "solution": false
    }
   },
   "outputs": [],
   "source": [
    "slice_width = 1000\n",
    "mismatch_counts = [num_mismatches(slice_alignment(human_chimp_alignment, start, slice_width))\n",
    "                   for start in range(0, len(human_chimp_alignment[0]), slice_width)]"
   ]
  },
  {
   "cell_type": "markdown",
   "metadata": {
    "deletable": false,
    "editable": false,
    "nbgrader": {
     "grade": false,
     "grade_id": "cell-5543ebc1b6c269fe",
     "locked": true,
     "schema_version": 3,
     "solution": false
    }
   },
   "source": [
    "Use `matplotlib.pyplot` to make a plot of the distribution of the mismatch counts.  I recommend using the [`pyplot.hist`](https://matplotlib.org/api/_as_gen/matplotlib.pyplot.hist.html) for this purpose."
   ]
  },
  {
   "cell_type": "code",
   "execution_count": 47,
   "metadata": {
    "nbgrader": {
     "grade": false,
     "grade_id": "cell-29a7aadd9d08f257",
     "locked": false,
     "schema_version": 3,
     "solution": true
    },
    "scrolled": true
   },
   "outputs": [
    {
     "data": {
      "image/png": "[encoded data removed]",
      "text/plain": [
       "<Figure size 1080x216 with 1 Axes>"
      ]
     },
     "metadata": {
      "needs_background": "light"
     },
     "output_type": "display_data"
    }
   ],
   "source": [
    "###\n",
    "### Code for plotting a histogram of the mismatch_counts\n",
    "plt.figure(figsize=(15,3))\n",
    "plt.hist(mismatch_counts)\n",
    "plt.xlabel(\"Number of mismatches\")\n",
    "plt.ylabel(\"# of alignment slices\")\n",
    "plt.show()\n"
   ]
  },
  {
   "cell_type": "markdown",
   "metadata": {
    "deletable": false,
    "editable": false,
    "nbgrader": {
     "grade": false,
     "grade_id": "cell-f017ed6a9fd3247b",
     "locked": true,
     "schema_version": 3,
     "solution": false
    }
   },
   "source": [
    "Which common distribution described in the online lecture does this mismatch count distribution resemble?  Record your answer by assigning one of the following strings to the `mismatch_count_distribution` variable."
   ]
  },
  {
   "cell_type": "code",
   "execution_count": 49,
   "metadata": {
    "nbgrader": {
     "grade": false,
     "grade_id": "cell-69c3807049ef91b1",
     "locked": false,
     "schema_version": 3,
     "solution": true
    }
   },
   "outputs": [],
   "source": [
    "###\n",
    "mismatch_count_distribution = \"binomial\"\n"
   ]
  },
  {
   "cell_type": "code",
   "execution_count": 50,
   "metadata": {
    "deletable": false,
    "editable": false,
    "nbgrader": {
     "grade": true,
     "grade_id": "mismatch_count_distribution",
     "locked": true,
     "points": 1,
     "schema_version": 3,
     "solution": false
    }
   },
   "outputs": [
    {
     "name": "stdout",
     "output_type": "stream",
     "text": [
      "SUCCESS: mismatch_count_distribution passed all visible tests!\n"
     ]
    }
   ],
   "source": [
    "# tests for mismatch_count_distribution\n",
    "assert mismatch_count_distribution in common_distributions, \"The distribution must be one of the common distributions above\"\n",
    "###\n",
    "### AUTOGRADER TEST - DO NOT REMOVE\n",
    "###\n",
    "print(\"SUCCESS: mismatch_count_distribution passed all visible tests!\")"
   ]
  },
  {
   "cell_type": "code",
   "execution_count": null,
   "metadata": {},
   "outputs": [],
   "source": []
  }
 ],
 "metadata": {
  "celltoolbar": "Create Assignment",
  "kernelspec": {
   "display_name": "Python 3 [3.10]",
   "language": "python",
   "name": "python3"
  },
  "language_info": {
   "codemirror_mode": {
    "name": "ipython",
    "version": 3
   },
   "file_extension": ".py",
   "mimetype": "text/x-python",
   "name": "python",
   "nbconvert_exporter": "python",
   "pygments_lexer": "ipython3",
   "version": "3.10.2"
  }
 },
 "nbformat": 4,
 "nbformat_minor": 4
}
