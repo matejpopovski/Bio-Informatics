{
 "cells": [
  {
   "cell_type": "markdown",
   "metadata": {
    "deletable": false,
    "editable": false,
    "nbgrader": {
     "grade": false,
     "grade_id": "cell-d7633eae4025ebc5",
     "locked": true,
     "schema_version": 3,
     "solution": false
    }
   },
   "source": [
    "# Day 4 notebook\n",
    "\n",
    "The objectives of this notebook are to practice\n",
    "\n",
    "* the concept of read overlap and merging\n",
    "* finding solutions to the shortest superstring task\n",
    "* implementing graph data structures\n",
    "* defining Python classes\n",
    "* using inheritance with Python classes"
   ]
  },
  {
   "cell_type": "markdown",
   "metadata": {
    "deletable": false,
    "editable": false,
    "nbgrader": {
     "grade": false,
     "grade_id": "cell-ad38c88420c2bc64",
     "locked": true,
     "schema_version": 3,
     "solution": false
    }
   },
   "source": [
    "## The shortest superstring problem"
   ]
  },
  {
   "cell_type": "markdown",
   "metadata": {
    "deletable": false,
    "editable": false,
    "nbgrader": {
     "grade": false,
     "grade_id": "cell-69c74081c312af66",
     "locked": true,
     "schema_version": 3,
     "solution": false
    }
   },
   "source": [
    "### PROBLEM 1: Finding the maximum overlap length of two strings (reads) (1 POINT)\n",
    "\n",
    "A key component of most algorithms for addressing the shortest superstring problem is determining the length of the longest exact overlap between two strings.  In particular, for two strings, $left$ and $right$, we need to compute $overlap\\_length(left, right)$, which is defined as the length of the longest **suffix** of $left$ that is a **prefix** of $right$.  Define a function that computes this value.  You may find the [endswith](https://docs.python.org/3/library/stdtypes.html#str.endswith) or [startswith](https://docs.python.org/3/library/stdtypes.html#str.startswith) methods of Python string objects helpful.  You do not need to implement the most efficient algorithm possible (a simple polynomial-time algorithm will suffice)."
   ]
  },
  {
   "cell_type": "code",
   "execution_count": 1,
   "metadata": {
    "nbgrader": {
     "grade": false,
     "grade_id": "cell-896b9ae2c8d31caf",
     "locked": false,
     "schema_version": 3,
     "solution": true,
     "task": false
    }
   },
   "outputs": [],
   "source": [
    "def overlap_length(left, right):\n",
    "    \"\"\"Returns the length of the longest suffix of left that is a prefix of right\n",
    "    \n",
    "    Args:\n",
    "        left: a string\n",
    "        right: a string\n",
    "    Returns:\n",
    "        An integer length of the longest overlap (0 if there is no overlap)\n",
    "    \"\"\"\n",
    "    ### YOUR CODE HERE\n",
    "    \n",
    "    count = 0\n",
    "    for x in range(len(left)):\n",
    "        #print(left[x:])\n",
    "        if right.startswith(left[x:]):\n",
    "            #print('entered if')    \n",
    "            count = len(left[x:])\n",
    "            break\n",
    "    #print(count)\n",
    "    return count"
   ]
  },
  {
   "cell_type": "code",
   "execution_count": 2,
   "metadata": {
    "deletable": false,
    "editable": false,
    "nbgrader": {
     "grade": true,
     "grade_id": "overlap_length",
     "locked": true,
     "points": 1,
     "schema_version": 3,
     "solution": false
    },
    "scrolled": true
   },
   "outputs": [
    {
     "name": "stdout",
     "output_type": "stream",
     "text": [
      "SUCCESS: overlap_length passed all tests!\n"
     ]
    }
   ],
   "source": [
    "# tests for overlap_length\n",
    "assert overlap_length(\"ATGC\", \"GCAT\") == 2\n",
    "assert overlap_length(\"AGCA\", \"AGCA\") == 4\n",
    "assert overlap_length(\"AGAG\", \"GAGT\") == 3\n",
    "assert overlap_length(\"GAGT\", \"AGAG\") == 0\n",
    "assert overlap_length(\"ATGC\", \"CA\") == 1\n",
    "assert overlap_length(\"CA\", \"ATCG\") == 1\n",
    "assert overlap_length(\"\", \"\") == 0\n",
    "print(\"SUCCESS: overlap_length passed all tests!\")"
   ]
  },
  {
   "cell_type": "markdown",
   "metadata": {
    "deletable": false,
    "editable": false,
    "nbgrader": {
     "grade": false,
     "grade_id": "cell-f56ed66ffd9bd501",
     "locked": true,
     "schema_version": 3,
     "solution": false
    }
   },
   "source": [
    "### PROBLEM 2: Merging ordered reads (1 POINT)\n",
    "One way to think about constructing a superstring for a set of strings (reads) is to note that any given superstring imposes an ordering on the input strings, namely, the order in which those strings appear as substrings within the superstring.  With the assumption that no input string is a substring of any other input string, for any fixed ordering of of the input strings, there is a unique shortest superstring that imposes that ordering.  That superstring may be constructed by simply merging strings from left to right in the ordering, using the maximum possible overlap between adjacent strings.  Write a function below that computes the shortest superstring for a given ordered list of strings (reads).  You will likely need your `overlap_length` function from above."
   ]
  },
  {
   "cell_type": "code",
   "execution_count": 3,
   "metadata": {
    "nbgrader": {
     "grade": false,
     "grade_id": "cell-1f9034df2ecb42fe",
     "locked": false,
     "schema_version": 3,
     "solution": true,
     "task": false
    }
   },
   "outputs": [],
   "source": [
    "def merge_ordered_reads(reads):\n",
    "    \"\"\"Returns the shortest superstring resulting from\n",
    "    merging a list of ordered reads.\n",
    "    \n",
    "    Args:\n",
    "        reads: a list of strings\n",
    "    Returns:\n",
    "        A string that is a shortest superstring of the ordered input read strings.\n",
    "    \"\"\"\n",
    "    ### YOUR CODE HERE\n",
    "    result = \"\"\n",
    "    temp = \"\"\n",
    "    \n",
    "    if not reads:\n",
    "        return result\n",
    "    \n",
    "    result = reads[0]    \n",
    "    for x in range(len(reads)-1):\n",
    "        temp = reads[x+1]    \n",
    "        result += (temp[overlap_length(reads[x], reads[x+1]):])\n",
    "        \n",
    "    return result\n",
    "    \n"
   ]
  },
  {
   "cell_type": "code",
   "execution_count": 4,
   "metadata": {
    "deletable": false,
    "editable": false,
    "nbgrader": {
     "grade": true,
     "grade_id": "merge_ordered_reads",
     "locked": true,
     "points": 1,
     "schema_version": 3,
     "solution": false
    }
   },
   "outputs": [
    {
     "name": "stdout",
     "output_type": "stream",
     "text": [
      "SUCCESS: merge_ordered_reads passed all tests!\n"
     ]
    }
   ],
   "source": [
    "# tests for merge_ordered_reads\n",
    "assert merge_ordered_reads([\"AGAG\", \"GAGT\"]) == \"AGAGT\"\n",
    "assert merge_ordered_reads([\"AGAG\"]) == \"AGAG\"\n",
    "assert merge_ordered_reads([\"AGAG\", \"GAGT\", \"AGTC\"]) == \"AGAGTC\"\n",
    "assert merge_ordered_reads([\"AGAG\", \"CGAG\", \"TCGA\"]) == \"AGAGCGAGTCGA\"\n",
    "assert merge_ordered_reads([]) == \"\"\n",
    "print(\"SUCCESS: merge_ordered_reads passed all tests!\")"
   ]
  },
  {
   "cell_type": "markdown",
   "metadata": {
    "deletable": false,
    "editable": false,
    "nbgrader": {
     "grade": false,
     "grade_id": "cell-fbfbe8a8b5d77f10",
     "locked": true,
     "schema_version": 3,
     "solution": false
    }
   },
   "source": [
    "### PROBLEM 3: Brute-force shortest superstring algorithm (1 POINT)\n",
    "Continuing with the reasoning from the previous problem, note that a shortest superstring for a set of (unordered) strings corresponds to some ordering of the strings.  So if we try every possible ordering of the strings and compute the shortest superstring for each ordering (using the `merge_ordered_reads` function above), we could find a solution to the shortest superstring problem.  Write a function `shortest_superstring` below, which implements this \"brute-force\" strategy for solving the shortest superstring problem given a set of input strings (reads). In the case that there are multiple shortest superstrings, your function should return the superstring that is *lexicographically smallest* (i.e., first in alphabetical order).\n",
    "\n",
    "You will likely find the [`permutations`](https://docs.python.org/3/library/itertools.html#itertools.permutations) function from the [`itertools`](https://docs.python.org/3/library/itertools.html) module in the Python standard library of use.  This function returns an iterator over all possible orderings (permutations) of the sequence given to it as input.  For example,"
   ]
  },
  {
   "cell_type": "code",
   "execution_count": 5,
   "metadata": {},
   "outputs": [
    {
     "name": "stdout",
     "output_type": "stream",
     "text": [
      "('A', 'B', 'C')\n",
      "('A', 'C', 'B')\n",
      "('B', 'A', 'C')\n",
      "('B', 'C', 'A')\n",
      "('C', 'A', 'B')\n",
      "('C', 'B', 'A')\n"
     ]
    }
   ],
   "source": [
    "import itertools\n",
    "for ordering in itertools.permutations([\"A\", \"B\", \"C\"]):\n",
    "    print(ordering)"
   ]
  },
  {
   "cell_type": "code",
   "execution_count": 6,
   "metadata": {
    "nbgrader": {
     "grade": false,
     "grade_id": "cell-fff44de4588b4aa7",
     "locked": false,
     "schema_version": 3,
     "solution": true,
     "task": false
    }
   },
   "outputs": [],
   "source": [
    "import itertools\n",
    "\n",
    "def shortest_superstring(reads):\n",
    "    \"\"\"Returns the shortest superstring of a set of reads.\n",
    "\n",
    "    Assumes that no string in the input is a substring of another input string.\n",
    "    \n",
    "    Args:\n",
    "        reads: a list of strings\n",
    "    Returns:\n",
    "        A string that is a shortest superstring of reads.  In the case\n",
    "        of multiple shortest superstrings, the lexicographically\n",
    "        smallest is returned.\n",
    "    \"\"\"\n",
    "    ### YOUR CODE HERE\n",
    "    allResults = []\n",
    "    for ordering in itertools.permutations(reads):\n",
    "        #print(ordering)\n",
    "        allResults.append(merge_ordered_reads(ordering))\n",
    "    allResults.sort()\n",
    "    #print(allResults)\n",
    "    #print(min(allResults, key=len))\n",
    "    return min(allResults, key=len)\n",
    "    "
   ]
  },
  {
   "cell_type": "code",
   "execution_count": 7,
   "metadata": {
    "deletable": false,
    "editable": false,
    "nbgrader": {
     "grade": true,
     "grade_id": "shortest_superstring",
     "locked": true,
     "points": 1,
     "schema_version": 3,
     "solution": false
    }
   },
   "outputs": [
    {
     "name": "stdout",
     "output_type": "stream",
     "text": [
      "SUCCESS: shortest_superstring passed all tests!\n"
     ]
    }
   ],
   "source": [
    "# tests for shortest_superstring\n",
    "assert len(shortest_superstring(['AGAT', 'CAGA', 'ATAT'])) == 7\n",
    "assert shortest_superstring(['AGAT', 'CAGA', 'ATAT']) == \"CAGATAT\", \"You did not return the lexicographically smallest superstring\"\n",
    "assert len(shortest_superstring(['GACC', 'ATCC', 'TACC'])) == 12\n",
    "assert shortest_superstring(['GACC', 'ATCC', 'TACC']) == \"ATCCGACCTACC\", \"You did not return the lexicographically smallest superstring\"\n",
    "assert len(shortest_superstring(['TGA', 'GAC', 'ATGC'])) == 8\n",
    "assert shortest_superstring(['TGA', 'GAC', 'ATGC']) == \"ATGCTGAC\", \"You did not return the lexicographically smallest superstring\"\n",
    "assert shortest_superstring(['TGA']) == \"TGA\"\n",
    "assert shortest_superstring(['TGA', 'CTG']) == \"CTGA\"\n",
    "print(\"SUCCESS: shortest_superstring passed all tests!\")"
   ]
  },
  {
   "cell_type": "markdown",
   "metadata": {
    "deletable": false,
    "editable": false,
    "nbgrader": {
     "grade": false,
     "grade_id": "cell-25d6ebe80e2e2749",
     "locked": true,
     "schema_version": 3,
     "solution": false
    }
   },
   "source": [
    "### Thinking about the brute-force shortest superstring algorithm\n",
    "Assuming you have written it correctly, the above function solves the shortest superstring problem.  Is the algorithm implemented by this function efficient?  In the cell below, write down your thoughts regarding the computational complexity of this algorithm."
   ]
  },
  {
   "cell_type": "markdown",
   "metadata": {
    "tags": []
   },
   "source": [
    "###\n",
    "### YOUR THOUGHTS HERE REGARDING THE COMPUTATIONAL COMPLEXITY OF THE ALGORITHM YOU IMPLEMENTED ABOVE\n",
    "###\n"
   ]
  },
  {
   "cell_type": "markdown",
   "metadata": {
    "deletable": false,
    "editable": false,
    "nbgrader": {
     "grade": false,
     "grade_id": "cell-d979522d6fa7b97c",
     "locked": true,
     "schema_version": 3,
     "solution": false
    }
   },
   "source": [
    "### Experimenting with your shortest superstring algorithm\n",
    "If you have time, experiment with running your brute-force shortest superstring algorithm on various inputs.  For example,\n",
    "\n",
    "1. Experiment with inputs of random DNA strings (I've provided some code for you below to generate such strings).  How short can the shortest superstring be given random inputs, relative to the the trivial superstring that simply concatenates the input strings?  Perhaps try with many random inputs and plot the distribution of the shortest superstring length, say with the [hist](https://matplotlib.org/stable/api/_as_gen/matplotlib.pyplot.hist.html) function of Pyplot.\n",
    "\n",
    "2. Experiment with (very small sets) of strings generated by your shotgun sequencing simulator in the Day 3 notebook.  Does the shortest superstring reconstruct the full DNA sequence?  "
   ]
  },
  {
   "cell_type": "code",
   "execution_count": 8,
   "metadata": {
    "deletable": false,
    "editable": false,
    "nbgrader": {
     "grade": false,
     "grade_id": "cell-65b04a93121b004e",
     "locked": true,
     "schema_version": 3,
     "solution": false
    }
   },
   "outputs": [],
   "source": [
    "# Some functions that you may find of use in experimenting with random inputs of DNA strings\n",
    "import random\n",
    "DNA_BASES = \"ACGT\"\n",
    "\n",
    "def random_dna_string(length):\n",
    "    \"\"\"Returns a random DNA string of the given length\"\"\"\n",
    "    return ''.join([random.choice(DNA_BASES) for i in range(length)])\n",
    "\n",
    "def random_dna_strings(length, num_strings):\n",
    "    \"\"\"Returns a list of num_strings random DNA strings of the given length\"\"\"\n",
    "    return [random_dna_string(length) for i in range(num_strings)]"
   ]
  },
  {
   "cell_type": "markdown",
   "metadata": {},
   "source": [
    "*YOUR EXPERIMENTS HERE*"
   ]
  },
  {
   "cell_type": "markdown",
   "metadata": {
    "deletable": false,
    "editable": false,
    "nbgrader": {
     "grade": false,
     "grade_id": "cell-51ecaa7c9f0ebce7",
     "locked": true,
     "schema_version": 3,
     "solution": false
    }
   },
   "source": [
    "## Implementing graphs as Python classes\n",
    "Many sequence assembly algorithms are formulated in terms of *graphs*.  In this section of the notebook, we will define a Python class that implements a graph data structure."
   ]
  },
  {
   "cell_type": "markdown",
   "metadata": {
    "deletable": false,
    "editable": false,
    "nbgrader": {
     "grade": false,
     "grade_id": "cell-e5f788e4ea97216b",
     "locked": true,
     "schema_version": 3,
     "solution": false
    }
   },
   "source": [
    "### A base class for directed graphs\n",
    "\n",
    "There are many possible ways to implement a graph data structure and each has its own strengths and weaknesses in terms of memory usage and efficiency of various graph operations.  Algorithms that use graphs do not necessarily need to know how those graphs are implemented, and therefore it is helpful to separate the *interface* of a graph object from its underlying *implementation*.  Classes are a great way to provide such abstractions.\n",
    "\n",
    "Below I have provided a *base* class for a directed graph, which specifies the interface that a general directed graph object should have.  This is an *abstract base class*, which is only meant to provide an interface and some default method definitions.  It is not meant to be instantiated directly.  Note that the key methods of `had_edge` and `add_edge` are not implemented.\n",
    "\n",
    "With this directed graph class, we simply refer to each vertex by an integer index (0 to `num_vertices - 1`), and an edge *from* vertex `i` *to* vertex `j` is represented by the tuple `(i, j)`.\n",
    "\n",
    "Study the class definition below to understand the interface and the default implementations."
   ]
  },
  {
   "cell_type": "code",
   "execution_count": 9,
   "metadata": {
    "deletable": false,
    "editable": false,
    "nbgrader": {
     "grade": false,
     "grade_id": "cell-a5dd6fb86df91825",
     "locked": true,
     "schema_version": 3,
     "solution": false
    }
   },
   "outputs": [],
   "source": [
    "class DirectedGraph:\n",
    "    \"\"\"Abstract base class for a directed graph.\n",
    "\n",
    "    A functional directed graph class can be obtained by inheriting from \n",
    "    this class and overriding the methods has_edge and add_edge.  All other\n",
    "    methods have default implementations, which may not be the most efficient.\n",
    "    These other methods should also be overriden as appropriate to improve\n",
    "    efficiency.\n",
    "    \"\"\"\n",
    "    def __init__(self, num_vertices):\n",
    "        \"\"\"Constructs a directed graph with num_vertices vertices and zero edges\"\"\"\n",
    "        self._num_vertices = num_vertices\n",
    "    \n",
    "    def has_edge(self, i, j):\n",
    "        \"\"\"Returns True if the graph contains the directed edge (i, j), False otherwise.\"\"\"\n",
    "        raise NotImplementedError\n",
    "        \n",
    "    def add_edge(self, i, j):\n",
    "        \"\"\"Adds the directed edge (i, j) to the graph.\"\"\"\n",
    "        raise NotImplementedError\n",
    "        \n",
    "    def out_edges(self, i):\n",
    "        \"\"\"Returns a list of directed edges outgoing from vertex i.\"\"\"\n",
    "        return [(i, j) for j in range(self._num_vertices) if self.has_edge(i, j)]\n",
    "    \n",
    "    def in_edges(self, j):\n",
    "        \"\"\"Returns a list of directed edges incoming to vertex j.\"\"\"\n",
    "        return [(i, j) for i in range(self._num_vertices) if self.has_edge(i, j)]\n",
    "    \n",
    "    def outdegree(self, i):\n",
    "        \"\"\"Returns the outdegree of vertex i.\"\"\"\n",
    "        return len(self.out_edges(i))\n",
    "    \n",
    "    def indegree(self, i):\n",
    "        \"\"\"Returns the indegree of vertex i.\"\"\"\n",
    "        return len(self.in_edges(i))\n",
    "    \n",
    "    def degree(self, i):\n",
    "        \"\"\"Returns the degree of vertex i.\"\"\"\n",
    "        return self.indegree(i) + self.outdegree(i)\n",
    "        \n",
    "    def add_edges(self, edges):\n",
    "        \"\"\"Adds all edges from a list to the graph.\"\"\"\n",
    "        for i, j in edges:\n",
    "            self.add_edge(i, j)\n",
    "            \n",
    "    def num_vertices(self):\n",
    "        \"\"\"Returns the number of vertices in the graph.\"\"\"\n",
    "        return self._num_vertices\n",
    "\n",
    "    def num_edges(self):\n",
    "        \"\"\"Returns the number of edges in the graph.\"\"\"\n",
    "        return len(tuple(self.edges()))\n",
    "    \n",
    "    def edges(self):\n",
    "        \"\"\"Returns an iterator over the edges of the graph.\"\"\"\n",
    "        for i in range(self._num_vertices):\n",
    "            for edge in self.out_edges(i):\n",
    "                yield edge\n",
    "    \n",
    "    def __str__(self):\n",
    "        \"\"\"Returns a string representation of the graph, so that it may be printed.\"\"\"\n",
    "        return \"DirectedGraph with %d vertices and %d edge(s):\\n%s\" % (self.num_vertices(),\n",
    "                                                                       self.num_edges(),\n",
    "                                                                       sorted(self.edges()))"
   ]
  },
  {
   "cell_type": "markdown",
   "metadata": {
    "deletable": false,
    "editable": false,
    "nbgrader": {
     "grade": false,
     "grade_id": "cell-a7b68f4ded2734b4",
     "locked": true,
     "schema_version": 3,
     "solution": false
    }
   },
   "source": [
    "### A trivial functional DirectedGraph class\n",
    "As an example of how to construct a fully-functional class that provides the DirectedGraph interface, below is a class that simply stores its edges in a set.  This results in relatively inefficient graph operations.  Examine the implementation below and how it *inherits* functionality from the base class `DirectedGraph`."
   ]
  },
  {
   "cell_type": "code",
   "execution_count": 10,
   "metadata": {
    "deletable": false,
    "editable": false,
    "nbgrader": {
     "grade": false,
     "grade_id": "cell-d167a71e28339909",
     "locked": true,
     "schema_version": 3,
     "solution": false
    }
   },
   "outputs": [],
   "source": [
    "class TrivialSetDirectedGraph(DirectedGraph):\n",
    "    def __init__(self, num_vertices):\n",
    "        # call the parent class's constructor\n",
    "        super().__init__(num_vertices)\n",
    "        # start with an empty set of edges\n",
    "        self._edges = set()\n",
    "    \n",
    "    def has_edge(self, i, j):\n",
    "        return (i, j) in self._edges\n",
    "        \n",
    "    def add_edge(self, i, j):\n",
    "        self._edges.add((i, j))"
   ]
  },
  {
   "cell_type": "code",
   "execution_count": null,
   "metadata": {
    "deletable": false,
    "editable": false,
    "nbgrader": {
     "grade": false,
     "grade_id": "cell-8150cddce90d51ed",
     "locked": true,
     "schema_version": 3,
     "solution": false
    },
    "scrolled": true
   },
   "outputs": [],
   "source": [
    "# An example of using TrivialSetDirectedGraph\n",
    "my_graph = TrivialSetDirectedGraph(4)\n",
    "print(my_graph)\n",
    "my_graph.add_edge(3, 0)\n",
    "print(my_graph)\n",
    "my_graph.add_edges([(0, 2), (2, 3), (3, 1)])\n",
    "print(my_graph)\n",
    "print(\"Outdegree of vertex 3 =\", my_graph.outdegree(3))\n",
    "print(\"Graph has edge (2, 3):\", my_graph.has_edge(2, 3))\n",
    "print(\"Graph has edge (3, 2):\", my_graph.has_edge(3, 2))"
   ]
  },
  {
   "cell_type": "markdown",
   "metadata": {
    "deletable": false,
    "editable": false,
    "nbgrader": {
     "grade": false,
     "grade_id": "cell-f12bb33f7518d352",
     "locked": true,
     "schema_version": 3,
     "solution": false
    }
   },
   "source": [
    "### PROBLEM 4: Adjacency list implementation of a directed graph (4 POINTS)\n",
    "A more efficent and common implementation strategy for graphs is to use *adjacency lists*.  In an adjacency list data structure, for each vertex, a list of vertices to which that vertex is connected by an edge is maintained.  For directed graphs, two lists per vertex can be used, one for all vertices that are adjacent via an *outgoing* edge and one for all vertices that are adjacent via an *incoming* edge.\n",
    "\n",
    "With this implementation strategy, define the `AdjacencyListDirectedGraph` class below.  You will need to provide concrete definitions for the methods `add_edge` and `has_edge`.  You also need to override the constructor `__init__`, and methods `out_edges`, `in_edges`, `indegree`, and `outdegree` to make them more efficient with this implementation."
   ]
  },
  {
   "cell_type": "code",
   "execution_count": null,
   "metadata": {
    "nbgrader": {
     "grade": false,
     "grade_id": "cell-b719a9fdc10c19ba",
     "locked": false,
     "schema_version": 3,
     "solution": true,
     "task": false
    }
   },
   "outputs": [],
   "source": [
    "class AdjacencyListDirectedGraph(DirectedGraph):\n",
    "    def __init__(self, num_vertices):\n",
    "        ### YOUR CODE HERE\n",
    "        super().__init__(num_vertices)\n",
    "        self._edges = set()\n",
    "    \n",
    "    def add_edge(self, i, j):\n",
    "        ### YOUR CODE HERE\n",
    "        self._edges.add((i, j))\n",
    "    \n",
    "    def has_edge(self, i, j):\n",
    "        ### YOUR CODE HERE\n",
    "        return (i, j) in self._edges\n",
    "        \n",
    "    def out_edges(self, i):\n",
    "        ### YOUR CODE HERE\n",
    "        return [(i, j) for j in range(self._num_vertices) if self.has_edge(i, j)]\n",
    "        \n",
    "    def in_edges(self, j):\n",
    "        ### YOUR CODE HERE\n",
    "        return [(i, j) for i in range(self._num_vertices) if self.has_edge(i, j)]\n",
    "    \n",
    "    def indegree(self, i):\n",
    "        ### YOUR CODE HERE\n",
    "        return len(self.in_edges(i))\n",
    "        \n",
    "    def outdegree(self, i):\n",
    "        ### YOUR CODE HERE\n",
    "        return len(self.out_edges(i))\n"
   ]
  },
  {
   "cell_type": "code",
   "execution_count": null,
   "metadata": {
    "deletable": false,
    "editable": false,
    "nbgrader": {
     "grade": true,
     "grade_id": "AdjacencyListDirectedGraph_constructor",
     "locked": true,
     "points": 1,
     "schema_version": 3,
     "solution": false
    }
   },
   "outputs": [],
   "source": [
    "# test for AdjacencyListDirectedGraph constructor\n",
    "assert AdjacencyListDirectedGraph.__init__ != DirectedGraph.__init__, \"__init__ not overridden\"\n",
    "test_graph = AdjacencyListDirectedGraph(10)\n",
    "assert str(test_graph) == \"DirectedGraph with 10 vertices and 0 edge(s):\\n[]\"\n",
    "print(\"SUCCESS: AdjacencyListDirectedGraph constructor passed all tests!\")"
   ]
  },
  {
   "cell_type": "code",
   "execution_count": null,
   "metadata": {
    "deletable": false,
    "editable": false,
    "nbgrader": {
     "grade": true,
     "grade_id": "AdjacencyListDirectedGraph_add_edge_and_has_edge",
     "locked": true,
     "points": 1,
     "schema_version": 3,
     "solution": false
    }
   },
   "outputs": [],
   "source": [
    "# test for AdjacencyListDirectedGraph add_edge and has_edge\n",
    "test_graph = AdjacencyListDirectedGraph(10)\n",
    "test_graph.add_edge(3, 5)\n",
    "assert test_graph.has_edge(3, 5)\n",
    "test_graph.add_edge(2, 3)\n",
    "assert test_graph.has_edge(2, 3)\n",
    "assert not test_graph.has_edge(3, 2)\n",
    "assert sorted(test_graph.edges()) == [(2, 3), (3, 5)]\n",
    "print(\"SUCCESS: AdjacencyListDirectedGraph add_edge and has_edge passed all tests!\")"
   ]
  },
  {
   "cell_type": "code",
   "execution_count": null,
   "metadata": {
    "deletable": false,
    "editable": false,
    "nbgrader": {
     "grade": true,
     "grade_id": "AdjacencyListDirectedGraph_out_edges_and_in_edges",
     "locked": true,
     "points": 1,
     "schema_version": 3,
     "solution": false
    }
   },
   "outputs": [],
   "source": [
    "# test for AdjacencyListDirectedGraph out_edges and in_edges\n",
    "assert AdjacencyListDirectedGraph.out_edges != DirectedGraph.out_edges, \"out_edges not overridden\"\n",
    "assert AdjacencyListDirectedGraph.in_edges != DirectedGraph.in_edges, \"in_edges not overridden\"\n",
    "test_graph = AdjacencyListDirectedGraph(10)\n",
    "test_graph.add_edges([(2, 3), (2, 4), (4, 0)])\n",
    "assert test_graph.out_edges(2) == [(2, 3), (2, 4)]\n",
    "assert test_graph.out_edges(0) == []\n",
    "assert test_graph.in_edges(0) == [(4, 0)]\n",
    "assert test_graph.in_edges(2) == []\n",
    "print(\"SUCCESS: AdjacencyListDirectedGraph out_edges and in_edges passed all tests!\")"
   ]
  },
  {
   "cell_type": "code",
   "execution_count": null,
   "metadata": {
    "deletable": false,
    "editable": false,
    "nbgrader": {
     "grade": true,
     "grade_id": "AdjacencyListDirectedGraph_outdegree_and_indegree",
     "locked": true,
     "points": 1,
     "schema_version": 3,
     "solution": false
    }
   },
   "outputs": [],
   "source": [
    "# test for AdjacencyListDirectedGraph outdegree and indegree\n",
    "assert AdjacencyListDirectedGraph.outdegree != DirectedGraph.outdegree, \"outdegree not overridden\"\n",
    "assert AdjacencyListDirectedGraph.indegree != DirectedGraph.indegree, \"indegree not overridden\"\n",
    "test_graph = AdjacencyListDirectedGraph(10)\n",
    "test_graph.add_edges([(2, 3), (2, 4), (4, 0)])\n",
    "assert test_graph.outdegree(2) == 2\n",
    "assert test_graph.outdegree(0) == 0\n",
    "assert test_graph.indegree(0) == 1\n",
    "assert test_graph.indegree(2) == 0\n",
    "print(\"SUCCESS: AdjacencyListDirectedGraph outdegree and indegree passed all tests!\")"
   ]
  },
  {
   "cell_type": "code",
   "execution_count": null,
   "metadata": {},
   "outputs": [],
   "source": []
  },
  {
   "cell_type": "code",
   "execution_count": null,
   "metadata": {},
   "outputs": [],
   "source": []
  }
 ],
 "metadata": {
  "celltoolbar": "Create Assignment",
  "kernelspec": {
   "display_name": "Python 3 [3.10]",
   "language": "python",
   "name": "python3"
  },
  "language_info": {
   "codemirror_mode": {
    "name": "ipython",
    "version": 3
   },
   "file_extension": ".py",
   "mimetype": "text/x-python",
   "name": "python",
   "nbconvert_exporter": "python",
   "pygments_lexer": "ipython3",
   "version": "3.10.2"
  }
 },
 "nbformat": 4,
 "nbformat_minor": 4
}
