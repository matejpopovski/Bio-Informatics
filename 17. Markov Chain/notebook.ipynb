{
 "cells": [
  {
   "cell_type": "markdown",
   "metadata": {
    "deletable": false,
    "editable": false,
    "nbgrader": {
     "grade": false,
     "grade_id": "cell-9899927f0d8d4b7f",
     "locked": true,
     "schema_version": 3,
     "solution": false
    }
   },
   "source": [
    "# Day 16 notebook\n",
    "\n",
    "The objectives of this notebook are to practice\n",
    "\n",
    "* Fitch's algorithm\n",
    "* Estimating a tree based on parsimony\n",
    "* Reconstructing ancestral sequences based on parsimony"
   ]
  },
  {
   "cell_type": "markdown",
   "metadata": {
    "deletable": false,
    "editable": false,
    "nbgrader": {
     "grade": false,
     "grade_id": "cell-5e9de512320e1d99",
     "locked": true,
     "schema_version": 3,
     "solution": false
    }
   },
   "source": [
    "## Modules used for this assignment"
   ]
  },
  {
   "cell_type": "code",
   "execution_count": 3,
   "metadata": {
    "deletable": false,
    "editable": false,
    "nbgrader": {
     "grade": false,
     "grade_id": "cell-d21b84256c8103fc",
     "locked": true,
     "schema_version": 3,
     "solution": false
    }
   },
   "outputs": [],
   "source": [
    "import toytree # for working with trees\n",
    "import fasta   # for reading alignments stored in FASTA files"
   ]
  },
  {
   "cell_type": "markdown",
   "metadata": {
    "deletable": false,
    "editable": false,
    "nbgrader": {
     "grade": false,
     "grade_id": "cell-f45aee01a5f4611d",
     "locked": true,
     "schema_version": 3,
     "solution": false
    }
   },
   "source": [
    "## Important Python data structures used in this assignment\n",
    "You should become familiar with how to use two data structures that will be important for implementing the algorithms in this activity.\n",
    "\n",
    "### Sets\n",
    "You have used the Python [set](https://docs.python.org/3/library/stdtypes.html#set-types-set-frozenset) class before, but have perhaps not used the common set operators.  Here are some important ones for this assignment:"
   ]
  },
  {
   "cell_type": "code",
   "execution_count": 4,
   "metadata": {
    "deletable": false,
    "editable": false,
    "nbgrader": {
     "grade": false,
     "grade_id": "cell-f3a6232cd3692c79",
     "locked": true,
     "schema_version": 3,
     "solution": false
    }
   },
   "outputs": [
    {
     "name": "stdout",
     "output_type": "stream",
     "text": [
      "The intersection of A and B is: {'C'}\n",
      "       The union of A and B is: {'C', 'A', 'G', 'T'}\n"
     ]
    }
   ],
   "source": [
    "A = {'C', 'G', 'T'}\n",
    "B = {'A', 'C'}\n",
    "print(\"The intersection of A and B is:\", A & B)\n",
    "print(\"       The union of A and B is:\", A | B)"
   ]
  },
  {
   "cell_type": "markdown",
   "metadata": {
    "deletable": false,
    "editable": false,
    "nbgrader": {
     "grade": false,
     "grade_id": "cell-f547db4004cd7092",
     "locked": true,
     "schema_version": 3,
     "solution": false
    }
   },
   "source": [
    "### Toytree trees\n",
    "We have used the [toytree](https://toytree.readthedocs.io/) module for drawing trees, but there is also significant functionality provided by this module for traversing trees and accessing attributes of nodes within trees.  This functionality is contained within the `treenode` attribute of a toytree object.  A reference for all functionality of this object can be found in the [documentation for the ETE Toolkit Master Tree class](http://etetoolkit.org/docs/latest/reference/reference_tree.html).  Below I will highlight the methods and attributes that you will need in this activity.\n",
    "\n",
    "First, here is a tree that we will use in a few examples of this functionality and a function for drawing rooted trees in a convenient way for this activity:"
   ]
  },
  {
   "cell_type": "code",
   "execution_count": 5,
   "metadata": {
    "deletable": false,
    "editable": false,
    "nbgrader": {
     "grade": false,
     "grade_id": "cell-7296876b3a07439a",
     "locked": true,
     "schema_version": 3,
     "solution": false
    }
   },
   "outputs": [],
   "source": [
    "def draw_tree_with_internal_labels(t):\n",
    "    \"\"\"Draws the given toytree tree with all nodes labeled to show their names\"\"\"\n",
    "    t.draw(node_labels=t.get_node_values(feature=\"name\", show_root=True, show_tips=True),\n",
    "           tip_labels=False,\n",
    "           node_sizes=20,\n",
    "           use_edge_lengths=False,)"
   ]
  },
  {
   "cell_type": "code",
   "execution_count": 6,
   "metadata": {
    "deletable": false,
    "editable": false,
    "nbgrader": {
     "grade": false,
     "grade_id": "cell-e4658078fa13067b",
     "locked": true,
     "schema_version": 3,
     "solution": false
    },
    "scrolled": true
   },
   "outputs": [
    {
     "data": {
      "text/html": [
       "<div class=\"toyplot\" id=\"td2cb87d4062044ba965db3bd6ef88be9\" style=\"text-align:center\"><svg class=\"toyplot-canvas-Canvas\" xmlns:toyplot=\"http://www.sandia.gov/toyplot\" xmlns:xlink=\"http://www.w3.org/1999/xlink\" xmlns=\"http://www.w3.org/2000/svg\" width=\"250.0px\" height=\"275.0px\" viewBox=\"0 0 250.0 275.0\" preserveAspectRatio=\"xMidYMid meet\" style=\"background-color:transparent;border-color:#292724;border-style:none;border-width:1.0;fill:rgb(16.1%,15.3%,14.1%);fill-opacity:1.0;font-family:Helvetica;font-size:12px;opacity:1.0;stroke:rgb(16.1%,15.3%,14.1%);stroke-opacity:1.0;stroke-width:1.0\" id=\"tb645fd4e0620449e983a3022a42cef8c\"><g class=\"toyplot-coordinates-Cartesian\" id=\"tf5f24ffd19854370aac07a728f60887f\"><clipPath id=\"t131449b52d714d17bedf966f32e38a43\"><rect x=\"30.0\" y=\"30.0\" width=\"190.0\" height=\"215.0\"></rect></clipPath><g clip-path=\"url(#t131449b52d714d17bedf966f32e38a43)\"><g class=\"toytree-mark-Toytree\" id=\"tdcb951b66b57428ab0dee38b895f0a57\"><g class=\"toytree-Edges\" style=\"fill:none;stroke:rgb(14.9%,14.9%,14.9%);stroke-linecap:round;stroke-opacity:1;stroke-width:2\"><path d=\"M 65.8 124.1 L 65.8 84.1 L 144.7 84.1\" id=\"8,7\"></path><path d=\"M 65.8 124.1 L 65.8 164.2 L 105.3 164.2\" id=\"8,6\"></path><path d=\"M 105.3 164.2 L 105.3 190.9 L 144.7 190.9\" id=\"6,5\"></path><path d=\"M 144.7 84.1 L 144.7 66.3 L 184.2 66.3\" id=\"7,4\"></path><path d=\"M 144.7 84.1 L 144.7 101.9 L 184.2 101.9\" id=\"7,3\"></path><path d=\"M 105.3 164.2 L 105.3 137.5 L 184.2 137.5\" id=\"6,2\"></path><path d=\"M 144.7 190.9 L 144.7 173.1 L 184.2 173.1\" id=\"5,1\"></path><path d=\"M 144.7 190.9 L 144.7 208.7 L 184.2 208.7\" id=\"5,0\"></path></g><g class=\"toytree-Nodes\" style=\"fill:rgb(40%,76.1%,64.7%);fill-opacity:1.0;stroke:None;stroke-width:1\"><g id=\"node-0\" transform=\"translate(184.211,208.721)\"><circle r=\"10.0\"></circle></g><g id=\"node-1\" transform=\"translate(184.211,173.110)\"><circle r=\"10.0\"></circle></g><g id=\"node-2\" transform=\"translate(184.211,137.500)\"><circle r=\"10.0\"></circle></g><g id=\"node-3\" transform=\"translate(184.211,101.890)\"><circle r=\"10.0\"></circle></g><g id=\"node-4\" transform=\"translate(184.211,66.279)\"><circle r=\"10.0\"></circle></g><g id=\"node-5\" transform=\"translate(144.737,190.916)\"><circle r=\"10.0\"></circle></g><g id=\"node-6\" transform=\"translate(105.263,164.208)\"><circle r=\"10.0\"></circle></g><g id=\"node-7\" transform=\"translate(144.737,84.084)\"><circle r=\"10.0\"></circle></g><g id=\"node-8\" transform=\"translate(65.789,124.146)\"><circle r=\"10.0\"></circle></g></g><g class=\"toytree-NodeLabels\" style=\"fill:rgb(14.9%,14.9%,14.9%);fill-opacity:1.0;font-size:9px;stroke:none\"><g transform=\"translate(178.21,211.02)\"><text>PA</text></g><g transform=\"translate(178.46,175.41)\"><text>C2</text></g><g transform=\"translate(178.21,139.80)\"><text>PB</text></g><g transform=\"translate(178.46,104.19)\"><text>C1</text></g><g transform=\"translate(180.96,68.58)\"><text>D</text></g><g transform=\"translate(142.23,193.22)\"><text>5</text></g><g transform=\"translate(102.76,166.51)\"><text>6</text></g><g transform=\"translate(142.23,86.38)\"><text>7</text></g><g transform=\"translate(63.29,126.45)\"><text>8</text></g></g></g></g></g></svg><div class=\"toyplot-behavior\"><script>(function()\n",
       "{\n",
       "var modules={};\n",
       "})();</script></div></div>"
      ]
     },
     "metadata": {},
     "output_type": "display_data"
    }
   ],
   "source": [
    "test_newick = '((D,C1),(PB,(C2,PA)));'\n",
    "test_tree = toytree.tree(test_newick)\n",
    "draw_tree_with_internal_labels(test_tree)"
   ]
  },
  {
   "cell_type": "markdown",
   "metadata": {
    "deletable": false,
    "editable": false,
    "nbgrader": {
     "grade": false,
     "grade_id": "cell-5996216cf7c2135a",
     "locked": true,
     "schema_version": 3,
     "solution": false
    }
   },
   "source": [
    "The `treenode` attribute of a toytree tree represents the root node of the tree.  You can access the name of any given node using the `name` attribute of a node."
   ]
  },
  {
   "cell_type": "code",
   "execution_count": 7,
   "metadata": {
    "deletable": false,
    "editable": false,
    "nbgrader": {
     "grade": false,
     "grade_id": "cell-816f07f17cd18089",
     "locked": true,
     "schema_version": 3,
     "solution": false
    },
    "scrolled": true
   },
   "outputs": [
    {
     "name": "stdout",
     "output_type": "stream",
     "text": [
      "The name of the root node is: 8\n"
     ]
    }
   ],
   "source": [
    "print(\"The name of the root node is:\", test_tree.treenode.name)"
   ]
  },
  {
   "cell_type": "markdown",
   "metadata": {
    "deletable": false,
    "editable": false,
    "nbgrader": {
     "grade": false,
     "grade_id": "cell-b3e569be6b53b323",
     "locked": true,
     "schema_version": 3,
     "solution": false
    }
   },
   "source": [
    "You can traverse all of the nodes within the subtree below a given node with the `traverse` method.  You can tell the traverse method the order in which you wish to traverse the nodes, which can either be \"preorder\", \"postorder\", or \"levelorder\"."
   ]
  },
  {
   "cell_type": "code",
   "execution_count": 8,
   "metadata": {
    "deletable": false,
    "editable": false,
    "nbgrader": {
     "grade": false,
     "grade_id": "cell-9aabd3dd14bfd6d9",
     "locked": true,
     "schema_version": 3,
     "solution": false
    }
   },
   "outputs": [
    {
     "name": "stdout",
     "output_type": "stream",
     "text": [
      "preorder: ['8', '7', 'D', 'C1', '6', 'PB', '5', 'C2', 'PA']\n",
      "postorder: ['D', 'C1', '7', 'PB', 'C2', 'PA', '5', '6', '8']\n",
      "levelorder: ['8', '7', '6', 'D', 'C1', 'PB', '5', 'C2', 'PA']\n"
     ]
    }
   ],
   "source": [
    "for order in ('preorder', 'postorder', 'levelorder'):\n",
    "    print(order + \":\", [node.name for node in test_tree.treenode.traverse(order)])"
   ]
  },
  {
   "cell_type": "markdown",
   "metadata": {
    "deletable": false,
    "editable": false,
    "nbgrader": {
     "grade": false,
     "grade_id": "cell-85c001f8837b41c1",
     "locked": true,
     "schema_version": 3,
     "solution": false
    }
   },
   "source": [
    "You can access the children and parent of a node via a tree node objects `children` and `up` attributes, repsectively."
   ]
  },
  {
   "cell_type": "code",
   "execution_count": 9,
   "metadata": {
    "deletable": false,
    "editable": false,
    "nbgrader": {
     "grade": false,
     "grade_id": "cell-ce79b6331adb8399",
     "locked": true,
     "schema_version": 3,
     "solution": false
    },
    "scrolled": true
   },
   "outputs": [
    {
     "name": "stdout",
     "output_type": "stream",
     "text": [
      "8 Parent: None Children: 7, 6\n",
      "7 Parent: 8 Children: D, C1\n",
      "D Parent: 7 Children: \n",
      "C1 Parent: 7 Children: \n",
      "6 Parent: 8 Children: PB, 5\n",
      "PB Parent: 6 Children: \n",
      "5 Parent: 6 Children: C2, PA\n",
      "C2 Parent: 5 Children: \n",
      "PA Parent: 5 Children: \n"
     ]
    }
   ],
   "source": [
    "for node in test_tree.treenode.traverse('preorder'):\n",
    "    print(node.name, \n",
    "          \"Parent:\", node.up.name if not node.is_root() else None, \n",
    "          \"Children:\", \", \".join(child.name for child in node.children))"
   ]
  },
  {
   "cell_type": "markdown",
   "metadata": {
    "deletable": false,
    "editable": false,
    "nbgrader": {
     "grade": false,
     "grade_id": "cell-a2f0a092c551767d",
     "locked": true,
     "schema_version": 3,
     "solution": false
    }
   },
   "source": [
    "Lastly, you can use the convenience methods `is_root` and `is_leaf` to check if a tree node is a root or leaf node, respectively."
   ]
  },
  {
   "cell_type": "code",
   "execution_count": 10,
   "metadata": {
    "deletable": false,
    "editable": false,
    "nbgrader": {
     "grade": false,
     "grade_id": "cell-54f4de70db38159c",
     "locked": true,
     "schema_version": 3,
     "solution": false
    }
   },
   "outputs": [
    {
     "name": "stdout",
     "output_type": "stream",
     "text": [
      "8 is_root: True is_leaf: False\n",
      "7 is_root: False is_leaf: False\n",
      "D is_root: False is_leaf: True\n",
      "C1 is_root: False is_leaf: True\n",
      "6 is_root: False is_leaf: False\n",
      "PB is_root: False is_leaf: True\n",
      "5 is_root: False is_leaf: False\n",
      "C2 is_root: False is_leaf: True\n",
      "PA is_root: False is_leaf: True\n"
     ]
    }
   ],
   "source": [
    "for node in test_tree.treenode.traverse('preorder'):\n",
    "    print(node.name, \n",
    "          \"is_root:\", node.is_root(), \n",
    "          \"is_leaf:\", node.is_leaf())"
   ]
  },
  {
   "cell_type": "markdown",
   "metadata": {
    "deletable": false,
    "editable": false,
    "nbgrader": {
     "grade": false,
     "grade_id": "cell-ddd81b5843687905",
     "locked": true,
     "schema_version": 3,
     "solution": false
    }
   },
   "source": [
    "## Data used for this assignment\n",
    "We will again use the data from the case of possible HIV transmission from dentist to patient that we considered in the Day 15 notebook.  Recall that the CDC had performed DNA sequencing on a set of HIV samples and subsequent phylogenetic analyses to determine whether or not the molecular data provided evidence that the dentist had transmitted HIV to his patients.  If you read the paper ([Ou et al. Science, 1992](http://science.sciencemag.org/content/256/5060/1165)), you will find that the researchers actually used parsimony based methods to estimate trees.  In this activity we will redo some their analyses by implementing (unweighted) parsimony algorithms and running the algorithms on a multiple alignment of the V3 variable region of the HIV genome for these samples.\n",
    "\n",
    "Below we will read in the multiple alignment that will be used as data for this activity.  The sequences from samples of HIV from the dentist (D), patient A (PA), patient B (PB), local control 1 (C1), and local control 2 (C2)."
   ]
  },
  {
   "cell_type": "code",
   "execution_count": 17,
   "metadata": {
    "deletable": false,
    "editable": false,
    "nbgrader": {
     "grade": false,
     "grade_id": "cell-46cf87e972cc238f",
     "locked": true,
     "schema_version": 3,
     "solution": false
    }
   },
   "outputs": [],
   "source": [
    "v3_alignment_filename = \"v3_alignment.fasta\"\n",
    "v3_aligned_sequences = fasta.read_sequences_from_fasta_file(v3_alignment_filename)\n",
    "v3_sequence_names, v3_alignment = zip(*v3_aligned_sequences)"
   ]
  },
  {
   "cell_type": "markdown",
   "metadata": {
    "deletable": false,
    "editable": false,
    "nbgrader": {
     "grade": false,
     "grade_id": "cell-03a683c1fc8d8bb9",
     "locked": true,
     "schema_version": 3,
     "solution": false
    }
   },
   "source": [
    "## PROBLEM 1: Fitch's Algorithm (stage 1) (1 POINT)"
   ]
  },
  {
   "cell_type": "markdown",
   "metadata": {
    "deletable": false,
    "editable": false,
    "nbgrader": {
     "grade": false,
     "grade_id": "cell-e6092327d318559d",
     "locked": true,
     "schema_version": 3,
     "solution": false
    }
   },
   "source": [
    "We will begin by implementing the first stage of Fitch's algorithm for computing the minimum cost of a tree for a single column of a multiple alignment, i.e., where each leaf node is assigned a single character.  Recall that the first stage of Fitch's algorithm traverses the tree in a post-order and computes the possible states at each node that minimize the cost of the tree below that node.  In addition, this stage computes the minimum cost of the tree, which can be determined by counting the number of times the set *union* operator is used.  Implement this algorithm in the function below."
   ]
  },
  {
   "cell_type": "code",
   "execution_count": 20,
   "metadata": {
    "nbgrader": {
     "grade": false,
     "grade_id": "cell-1577ddd4a546cb89",
     "locked": false,
     "schema_version": 3,
     "solution": true
    }
   },
   "outputs": [],
   "source": [
    "def fitch_score_and_min_cost_states(tree, leaf_states):\n",
    "    \"\"\"Runs the first stage of Fitch's algorithm for\n",
    "       the given tree and character states as the leaves.\n",
    "    \n",
    "    Args:\n",
    "        tree: a toytree tree.\n",
    "        leaf_states: a dictionary mapping leaf names to characters.  \n",
    "    Returns:\n",
    "        A two-element tuple, where the first element is the minimum\n",
    "        cost of the tree (minimum number of changes required to explain\n",
    "        the leaf data) and second element is a dictionary mapping the\n",
    "        node names to sets of possible states at the nodes (the R values\n",
    "        in the algorithm)\n",
    "    \"\"\"\n",
    "    R = {}\n",
    "    num_changes = 0\n",
    "    for node in tree.treenode.traverse(\"postorder\"):\n",
    "        if node.is_leaf():\n",
    "            R[node.name] = {leaf_states[node.name]}\n",
    "        else:\n",
    "            ###\n",
    "            ### YOUR CODE HERE\n",
    "            left_states, right_states = [R[child.name] for child in node.children]\n",
    "            states_intersection = left_states & right_states\n",
    "            if states_intersection:\n",
    "                R[node.name] = states_intersection\n",
    "            else:\n",
    "                R[node.name] = left_states | right_states\n",
    "                num_changes += 1\n",
    "            \n",
    "            \n",
    "            ###\n",
    "    return num_changes, R"
   ]
  },
  {
   "cell_type": "code",
   "execution_count": 21,
   "metadata": {
    "deletable": false,
    "editable": false,
    "nbgrader": {
     "grade": true,
     "grade_id": "fitch_score_and_min_cost_states",
     "locked": true,
     "points": 1,
     "schema_version": 3,
     "solution": false
    }
   },
   "outputs": [
    {
     "name": "stdout",
     "output_type": "stream",
     "text": [
      "SUCCESS: fitch_score_and_min_cost_states passed all tests\n"
     ]
    }
   ],
   "source": [
    "# tests for fitch_score_and_min_cost_states\n",
    "test1_tree = toytree.tree('((D,C1),(PB,(C2,PA)));')\n",
    "test1_leaf_states = {'PA': 'C', 'C2': 'A', 'C1': 'T', 'D': 'C', 'PB': 'C'}\n",
    "test1_result = (2,\n",
    " {'D': {'C'},\n",
    "  'C1': {'T'},\n",
    "  'PB': {'C'},\n",
    "  'C2': {'A'},\n",
    "  'PA': {'C'},\n",
    "  '5': {'A', 'C'},\n",
    "  '6': {'C'},\n",
    "  '7': {'C', 'T'},  \n",
    "  '8': {'C'}})\n",
    "assert fitch_score_and_min_cost_states(test1_tree, test1_leaf_states) == test1_result\n",
    "\n",
    "test2_tree = toytree.tree('((D,C1),(PB,(C2,PA)));')\n",
    "test2_leaf_states = {'PA': 'C', 'C2': 'C', 'C1': 'T', 'D': 'T', 'PB': 'C'}\n",
    "test2_result = (1,\n",
    " {'D': {'T'},\n",
    "  'C1': {'T'},\n",
    "  'PB': {'C'},\n",
    "  'C2': {'C'},\n",
    "  'PA': {'C'},\n",
    "  '5': {'C'},\n",
    "  '6': {'C'},\n",
    "  '7': {'T'},  \n",
    "  '8': {'C', 'T'}})\n",
    "assert fitch_score_and_min_cost_states(test2_tree, test2_leaf_states) == test2_result\n",
    "\n",
    "test3_tree = toytree.tree('((D,C1),(PB,(C2,PA)));')\n",
    "test3_leaf_states = {'PA': 'T', 'C2': 'T', 'C1': 'T', 'D': 'T', 'PB': 'T'}\n",
    "test3_result = (0,\n",
    " {'D': {'T'},\n",
    "  'C1': {'T'},\n",
    "  'PB': {'T'},\n",
    "  'C2': {'T'},\n",
    "  'PA': {'T'},\n",
    "  '5': {'T'},\n",
    "  '6': {'T'},\n",
    "  '7': {'T'},  \n",
    "  '8': {'T'}})\n",
    "assert fitch_score_and_min_cost_states(test3_tree, test3_leaf_states) == test3_result\n",
    "print(\"SUCCESS: fitch_score_and_min_cost_states passed all tests\")"
   ]
  },
  {
   "cell_type": "markdown",
   "metadata": {
    "deletable": false,
    "editable": false,
    "nbgrader": {
     "grade": false,
     "grade_id": "cell-c17fabbb0de84686",
     "locked": true,
     "schema_version": 3,
     "solution": false
    }
   },
   "source": [
    "### PROBLEM 2: Parsimony score for an entire alignment (1 POINT)\n",
    "We will next use your `fitch_score_and_min_cost_states` function to compute the parsimony score for an entire alignment, which is simply the sum of the minimum costs for each column in the alignment.  Write a function `score_tree_parsimony` that takes as input a tree, an alignment, a list of the sequence names, and outputs the parsimony score.  You will likely find the function below, which returns a list of leaf state dictonaries, one leaf state dictionary per column of the alignment."
   ]
  },
  {
   "cell_type": "code",
   "execution_count": 22,
   "metadata": {
    "deletable": false,
    "editable": false,
    "nbgrader": {
     "grade": false,
     "grade_id": "cell-53970486cb67f44b",
     "locked": true,
     "schema_version": 3,
     "solution": false
    }
   },
   "outputs": [],
   "source": [
    "def alignment_leaf_states_list(alignment, sequence_names):\n",
    "    \"\"\"Returns a list of dictionaries, where each dictionary corresponds to the leaf states\n",
    "    for a column of the alignment.\"\"\"\n",
    "    return [dict(zip(sequence_names, column)) for column in zip(*alignment)]"
   ]
  },
  {
   "cell_type": "code",
   "execution_count": 23,
   "metadata": {
    "nbgrader": {
     "grade": false,
     "grade_id": "cell-1d94601c5065457d",
     "locked": false,
     "schema_version": 3,
     "solution": true
    }
   },
   "outputs": [],
   "source": [
    "def score_tree_parsimony(tree, alignment, sequence_names):\n",
    "    \"\"\"Computes the parsimony score for a given tree and alignment.\n",
    "    \n",
    "    Args:\n",
    "        tree: a toytree tree object\n",
    "        alignment: a list of strings corresponding to the rows of a multiple alignment.\n",
    "        sequence_names: a list of the names of the sequences in the same order as the\n",
    "                        rows of the multiple alignment.\n",
    "    Returns:\n",
    "        The parsimony score (a number)\n",
    "    \"\"\"\n",
    "    ###\n",
    "    ### YOUR CODE HERE\n",
    "    columns = alignment_leaf_states_list(alignment, sequence_names)\n",
    "    fitch_results = [fitch_score_and_min_cost_states(tree, column) for column in columns]\n",
    "    column_scores, column_Rs = zip(*fitch_results)\n",
    "    return sum(column_scores)\n"
   ]
  },
  {
   "cell_type": "code",
   "execution_count": 24,
   "metadata": {
    "deletable": false,
    "editable": false,
    "nbgrader": {
     "grade": true,
     "grade_id": "score_tree_parsimony",
     "locked": true,
     "points": 1,
     "schema_version": 3,
     "solution": false
    }
   },
   "outputs": [
    {
     "name": "stdout",
     "output_type": "stream",
     "text": [
      "SUCCESS: score_tree_parsimony passed all tests\n"
     ]
    }
   ],
   "source": [
    "# tests for score_tree_parsimony\n",
    "test1_tree = toytree.tree('((D,C1),(PB,(C2,PA)));')\n",
    "assert score_tree_parsimony(test1_tree, v3_alignment, v3_sequence_names) == 64\n",
    "test2_tree = toytree.tree('((C1,C2),(PB,(D,PA)));')\n",
    "assert score_tree_parsimony(test2_tree, v3_alignment, v3_sequence_names) == 58\n",
    "print(\"SUCCESS: score_tree_parsimony passed all tests\")"
   ]
  },
  {
   "cell_type": "markdown",
   "metadata": {
    "deletable": false,
    "editable": false,
    "nbgrader": {
     "grade": false,
     "grade_id": "cell-d74b119be806a42b",
     "locked": true,
     "schema_version": 3,
     "solution": false
    }
   },
   "source": [
    "### Finding the most parsimonious trees for the HIV samples\n",
    "Now we will use your parsimony functions to find the most parsimonious trees for the HIV sequence data.  To do this we will simply use a brute force method that computes the parsimony score for each possible rooted tree of five leaves.  Newick strings for all such trees with leaves labeled by the HIV sample names are provided in the file `all_five_leaf_rooted_trees.txt` and we will read these strings in below."
   ]
  },
  {
   "cell_type": "code",
   "execution_count": 25,
   "metadata": {
    "deletable": false,
    "editable": false,
    "nbgrader": {
     "grade": false,
     "grade_id": "cell-cebd4d33882f3589",
     "locked": true,
     "schema_version": 3,
     "solution": false
    }
   },
   "outputs": [],
   "source": [
    "all_possible_trees_filename = \"all_five_leaf_rooted_trees.txt\"\n",
    "all_possible_trees = [line.strip() for line in open(all_possible_trees_filename)]"
   ]
  },
  {
   "cell_type": "markdown",
   "metadata": {
    "deletable": false,
    "editable": false,
    "nbgrader": {
     "grade": false,
     "grade_id": "cell-f9bb264d71b4f2d0",
     "locked": true,
     "schema_version": 3,
     "solution": false
    }
   },
   "source": [
    "Next, here is a function that take runs your `score_tree_parsimony` on a list of newick string trees, and returns the minimum parsimony score along with the newick strings for the trees that obtain that score:"
   ]
  },
  {
   "cell_type": "code",
   "execution_count": 26,
   "metadata": {
    "deletable": false,
    "editable": false,
    "nbgrader": {
     "grade": false,
     "grade_id": "cell-3f8da9f4e7f2b791",
     "locked": true,
     "schema_version": 3,
     "solution": false
    }
   },
   "outputs": [],
   "source": [
    "def best_trees_parsimony(newick_tree_list, alignment, sequence_names):\n",
    "    \"\"\"Computes the minimum parsimony score and the trees that obtain that score, \n",
    "    given a list of candidate trees.\n",
    "    \n",
    "    Args:\n",
    "        newick_tree_list: a list of newick string trees\n",
    "        alignment: a list of strings corresponding to the rows of a multiple alignment.\n",
    "        sequence_names: a list of the names of the sequences in the same order as the\n",
    "                        rows of the multiple alignment.\n",
    "    Returns:\n",
    "        A two-element tuple, with the first element giving the minimum parsimony score\n",
    "        the second element being a list of newick string trees that obtain that score.\n",
    "    \"\"\"\n",
    "    tree_scores = [score_tree_parsimony(toytree.tree(newick), alignment, sequence_names) \n",
    "                   for newick in newick_tree_list]\n",
    "    min_score = min(tree_scores)\n",
    "    return min_score, [newick for newick, score in zip(newick_tree_list, tree_scores) if score == min_score]"
   ]
  },
  {
   "cell_type": "code",
   "execution_count": 27,
   "metadata": {
    "deletable": false,
    "editable": false,
    "nbgrader": {
     "grade": false,
     "grade_id": "cell-005b9daeadecd196",
     "locked": true,
     "schema_version": 3,
     "solution": false
    }
   },
   "outputs": [
    {
     "name": "stdout",
     "output_type": "stream",
     "text": [
      "V3 best score: 58\n",
      "V3 best trees:\n",
      "((((D,PA),PB),C1),C2);\n",
      "((((D,PB),PA),C1),C2);\n",
      "(((D,(PA,PB)),C1),C2);\n",
      "((((D,PA),PB),C2),C1);\n",
      "((((D,PB),PA),C2),C1);\n",
      "(((D,(PA,PB)),C2),C1);\n",
      "(((D,PA),PB),(C1,C2));\n",
      "(((D,PB),PA),(C1,C2));\n",
      "((D,(PA,PB)),(C1,C2));\n",
      "(((D,PA),(C1,C2)),PB);\n",
      "(((D,(C1,C2)),PA),PB);\n",
      "((D,(PA,(C1,C2))),PB);\n",
      "((D,PA),(PB,(C1,C2)));\n",
      "(((D,PB),(C1,C2)),PA);\n",
      "(((D,(C1,C2)),PB),PA);\n",
      "((D,(PB,(C1,C2))),PA);\n",
      "((D,PB),(PA,(C1,C2)));\n",
      "((D,(C1,C2)),(PA,PB));\n",
      "(D,((PA,PB),(C1,C2)));\n",
      "(D,((PA,(C1,C2)),PB));\n",
      "(D,(PA,(PB,(C1,C2))));\n"
     ]
    }
   ],
   "source": [
    "v3_best_score, v3_best_trees = best_trees_parsimony(all_possible_trees, v3_alignment, v3_sequence_names)\n",
    "print(\"V3 best score:\", v3_best_score)\n",
    "print(\"V3 best trees:\", *v3_best_trees, sep=\"\\n\")"
   ]
  },
  {
   "cell_type": "markdown",
   "metadata": {
    "deletable": false,
    "editable": false,
    "nbgrader": {
     "grade": false,
     "grade_id": "cell-ab9e416592f7b992",
     "locked": true,
     "schema_version": 3,
     "solution": false
    }
   },
   "source": [
    "Many of trees are actually equivalent in their unrooted forms, and since the unweighted parsimony score is independent of the position of the root, it will make sense to consider just the distinct unrooted trees represented by this list.  Below is a function that takes as input a list of newick strings for rooted trees and returns a list of the distinct unrooted trees represented by those trees."
   ]
  },
  {
   "cell_type": "code",
   "execution_count": 28,
   "metadata": {
    "deletable": false,
    "editable": false,
    "nbgrader": {
     "grade": false,
     "grade_id": "cell-2054e28c244fbd3d",
     "locked": true,
     "schema_version": 3,
     "solution": false
    }
   },
   "outputs": [],
   "source": [
    "def distinct_unrooted_trees(rooted_tree_newick_list):\n",
    "    \"\"\"Given a list of rooted trees in newick string format, returns a list of all distict\n",
    "    unrooted trees corresponding to these trees.\"\"\"\n",
    "    distinct_trees = {}\n",
    "    for newick in rooted_tree_newick_list:\n",
    "        unrooted_tree = toytree.tree(newick).unroot()\n",
    "        unrooted_tree_id = unrooted_tree.treenode.get_topology_id()\n",
    "        if unrooted_tree_id not in distinct_trees:\n",
    "            distinct_trees[unrooted_tree_id] = unrooted_tree.write(tree_format=9)\n",
    "    return list(distinct_trees.values())"
   ]
  },
  {
   "cell_type": "code",
   "execution_count": 29,
   "metadata": {
    "deletable": false,
    "editable": false,
    "nbgrader": {
     "grade": false,
     "grade_id": "cell-ebdde015f24b3e2f",
     "locked": true,
     "schema_version": 3,
     "solution": false
    }
   },
   "outputs": [
    {
     "name": "stdout",
     "output_type": "stream",
     "text": [
      "(C2,C1,(PB,(D,PA)));\n",
      "(C2,C1,(PA,(D,PB)));\n",
      "(C2,C1,(D,(PA,PB)));\n"
     ]
    }
   ],
   "source": [
    "v3_best_trees_unrooted = distinct_unrooted_trees(v3_best_trees)\n",
    "print(*v3_best_trees_unrooted, sep=\"\\n\")"
   ]
  },
  {
   "cell_type": "markdown",
   "metadata": {
    "deletable": false,
    "editable": false,
    "nbgrader": {
     "grade": false,
     "grade_id": "cell-7147446425dfb589",
     "locked": true,
     "schema_version": 3,
     "solution": false
    }
   },
   "source": [
    "Some questions to think about with regard to these trees:\n",
    "1. How well do these trees match up with the trees you constructed by UPGMA and neighbor joining in the Day 15 activity?\n",
    "2. Are these trees supportive of the hypothesis that the dentist transmitted HIV to these two patients?"
   ]
  },
  {
   "cell_type": "markdown",
   "metadata": {},
   "source": [
    "###\n",
    "### Your thoughts here\n",
    "###\n"
   ]
  },
  {
   "cell_type": "markdown",
   "metadata": {
    "deletable": false,
    "editable": false,
    "nbgrader": {
     "grade": false,
     "grade_id": "cell-527bf38610a84b1e",
     "locked": true,
     "schema_version": 3,
     "solution": false
    }
   },
   "source": [
    "### PROBLEM 3: Reconstructing ancestral sequences using parsmiony (1 POINT)\n",
    "For the last problem, we will implement the second stage of Fitch's algorithm, which selects a single ancestral state for each internal node of a tree in a configuration that achieves the minimum cost.  Recall that the second stage of Fitch's algorithm traverses the tree in a pre-order and determines the state at each node that minimizes the cost, given the state selected at that node's parent.  This second stage uses the sets R computed in the first stage."
   ]
  },
  {
   "cell_type": "code",
   "execution_count": 32,
   "metadata": {
    "nbgrader": {
     "grade": false,
     "grade_id": "cell-fc4c3ee8f57a5be7",
     "locked": false,
     "schema_version": 3,
     "solution": true
    }
   },
   "outputs": [],
   "source": [
    "def fitch_ancestral_states(tree, R):\n",
    "    \"\"\"Computes a configuration of states for the nodes of the tree that minimizes the cost of the tree.\n",
    "    \n",
    "    When visiting a node, if there are multiple states that give the same cost, \n",
    "    the lexicographically smaller state will be chosen.\n",
    "    \n",
    "    Args:\n",
    "        tree: a toytree tree object\n",
    "        R: the dictionary of possible ancestral states for each node (e.g., as computed by the\n",
    "           fitch_score_and_min_cost_states function)\n",
    "    Returns:\n",
    "        A dictionary mapping node names to character states.\n",
    "    \"\"\"\n",
    "    r = {} # a dictionary mapping node names to character states\n",
    "    for node in tree.treenode.traverse(\"preorder\"):\n",
    "        if node.is_root():\n",
    "            r[node.name] = sorted(R[node.name])[0] # use the lexicographically smallest element\n",
    "        else:\n",
    "            ###\n",
    "            ### YOUR CODE HERE\n",
    "            parent = node.up\n",
    "            if r[parent.name] in R[node.name]:\n",
    "                r[node.name] = r[parent.name]\n",
    "            else:\n",
    "                r[node.name] = sorted(R[node.name])[0]\n",
    "            ###\n",
    "    return r"
   ]
  },
  {
   "cell_type": "code",
   "execution_count": 33,
   "metadata": {
    "deletable": false,
    "editable": false,
    "nbgrader": {
     "grade": true,
     "grade_id": "fitch_ancestral_states",
     "locked": true,
     "points": 1,
     "schema_version": 3,
     "solution": false
    }
   },
   "outputs": [
    {
     "name": "stdout",
     "output_type": "stream",
     "text": [
      "SUCCESS: fitch_ancestral_states passed all tests\n"
     ]
    }
   ],
   "source": [
    "# tests for fitch_ancestral_states\n",
    "test1_tree = toytree.tree('((D,C1),(PB,(C2,PA)));')\n",
    "test1_R = {\n",
    "    'C1': {'T'},\n",
    "    'C2': {'A'},\n",
    "    'D': {'C'},\n",
    "    'PA': {'C'},\n",
    "    'PB': {'C'},\n",
    "    '5': {'A', 'C'},\n",
    "    '6': {'C'},\n",
    "    '7': {'C', 'T'},\n",
    "    '8': {'C'}}\n",
    "test1_states = {\n",
    "    'C1': 'T', \n",
    "    'C2': 'A',\n",
    "    'D': 'C',\n",
    "    'PA': 'C',\n",
    "    'PB': 'C',\n",
    "    '5': 'C',\n",
    "    '6': 'C',\n",
    "    '7': 'C',\n",
    "    '8': 'C'}\n",
    "assert fitch_ancestral_states(test1_tree, test1_R) == test1_states\n",
    "\n",
    "test2_tree = toytree.tree('((D,C1),(PB,(C2,PA)));')\n",
    "test2_R = {\n",
    "    'C1': {'T'},\n",
    "    'C2': {'C'},\n",
    "    'D': {'T'},\n",
    "    'PA': {'C'},\n",
    "    'PB': {'C'},\n",
    "    '5': {'C'},\n",
    "    '6': {'C'},\n",
    "    '7': {'T'},\n",
    "    '8': {'C', 'T'}}\n",
    "test2_states = {\n",
    "    'C1': 'T',\n",
    "    'C2': 'C',\n",
    "    'D': 'T',\n",
    "    'PA': 'C',\n",
    "    'PB': 'C',\n",
    "    '5': 'C',\n",
    "    '6': 'C',\n",
    "    '7': 'T',\n",
    "    '8': 'C'}\n",
    "assert fitch_ancestral_states(test2_tree, test2_R) == test2_states\n",
    "\n",
    "print(\"SUCCESS: fitch_ancestral_states passed all tests\")"
   ]
  },
  {
   "cell_type": "markdown",
   "metadata": {
    "deletable": false,
    "editable": false,
    "nbgrader": {
     "grade": false,
     "grade_id": "cell-e3c5a60ae71da638",
     "locked": true,
     "schema_version": 3,
     "solution": false
    }
   },
   "source": [
    "### Computing a putative ancestral sequence for the dentist's original strain of HIV\n",
    "Finally, we can use your ancestral reconstruction algorithm to reconstruct the entire sequences at the internal nodes of the putative trees that we have reconstructed.  Below is a function that calls the `fitch_ancestral_states` function to reconstruct the ancestral characters at all columns in the multiple alignment."
   ]
  },
  {
   "cell_type": "code",
   "execution_count": 34,
   "metadata": {
    "deletable": false,
    "editable": false,
    "nbgrader": {
     "grade": false,
     "grade_id": "cell-d3d6caa42c6b6a9f",
     "locked": true,
     "schema_version": 3,
     "solution": false
    }
   },
   "outputs": [],
   "source": [
    "def compute_ancestral_sequences(tree, alignment, sequence_names):\n",
    "    \"\"\"Computes (reconstructed) sequences for all nodes in the given tree, given a multiple alignment.\n",
    "    \n",
    "    Args:\n",
    "        tree: a toytree tree object\n",
    "        alignment: a list of strings corresponding to the rows of a multiple alignment.\n",
    "        sequence_names: a list of the names of the sequences in the same order as the\n",
    "                        rows of the multiple alignment.\n",
    "    Returns:\n",
    "        A dictionary mapping node names to strings (reconstructed sequences).\n",
    "    \"\"\"\n",
    "    fitch_results = [fitch_score_and_min_cost_states(tree, leaf_states) \n",
    "                     for leaf_states in alignment_leaf_states_list(alignment, sequence_names)]\n",
    "    column_scores, column_Rs = zip(*fitch_results)\n",
    "    column_ancestral_states = [fitch_ancestral_states(tree, column_R) for column_R in column_Rs]\n",
    "    node_names = [node.name for node in tree.treenode.traverse(\"postorder\")]\n",
    "    full_alignment = [''.join([states[name] for states in column_ancestral_states]) for name in node_names]\n",
    "    return {name: sequence for name, sequence in zip(node_names, full_alignment)}"
   ]
  },
  {
   "cell_type": "markdown",
   "metadata": {
    "deletable": false,
    "editable": false,
    "nbgrader": {
     "grade": false,
     "grade_id": "cell-bb7fbda6afe8de40",
     "locked": true,
     "schema_version": 3,
     "solution": false
    }
   },
   "source": [
    "We can use this function to estimate what the sequence would be for the internal node that is the most recent common ancestor of the dentist and patient samples.  Assuming the hypothesis that the dentist trasmitted HIV to the patients, this internal node represents the sequence of the virus as it existed around the time that the transmission events occurred.  Below is the tree that we will assume in this case."
   ]
  },
  {
   "cell_type": "code",
   "execution_count": 35,
   "metadata": {
    "deletable": false,
    "editable": false,
    "nbgrader": {
     "grade": false,
     "grade_id": "cell-081ede82bdd61388",
     "locked": true,
     "schema_version": 3,
     "solution": false
    },
    "scrolled": true
   },
   "outputs": [
    {
     "data": {
      "text/html": [
       "<div class=\"toyplot\" id=\"ta8a67d6505e747c6b697114874fbed57\" style=\"text-align:center\"><svg class=\"toyplot-canvas-Canvas\" xmlns:toyplot=\"http://www.sandia.gov/toyplot\" xmlns:xlink=\"http://www.w3.org/1999/xlink\" xmlns=\"http://www.w3.org/2000/svg\" width=\"250.0px\" height=\"275.0px\" viewBox=\"0 0 250.0 275.0\" preserveAspectRatio=\"xMidYMid meet\" style=\"background-color:transparent;border-color:#292724;border-style:none;border-width:1.0;fill:rgb(16.1%,15.3%,14.1%);fill-opacity:1.0;font-family:Helvetica;font-size:12px;opacity:1.0;stroke:rgb(16.1%,15.3%,14.1%);stroke-opacity:1.0;stroke-width:1.0\" id=\"t5d8253cc330a4c4f96e13f04e6da93c0\"><g class=\"toyplot-coordinates-Cartesian\" id=\"t881019f74da141238f01a530f8db6d44\"><clipPath id=\"tbd7ae0e703634236b6d683a7220ce281\"><rect x=\"30.0\" y=\"30.0\" width=\"190.0\" height=\"215.0\"></rect></clipPath><g clip-path=\"url(#tbd7ae0e703634236b6d683a7220ce281)\"><g class=\"toytree-mark-Toytree\" id=\"t54925520476c4bc0a2ec0961744c6046\"><g class=\"toytree-Edges\" style=\"fill:none;stroke:rgb(14.9%,14.9%,14.9%);stroke-linecap:round;stroke-opacity:1;stroke-width:2\"><path d=\"M 65.8 124.1 L 65.8 84.1 L 144.7 84.1\" id=\"8,7\"></path><path d=\"M 65.8 124.1 L 65.8 164.2 L 105.3 164.2\" id=\"8,6\"></path><path d=\"M 105.3 164.2 L 105.3 190.9 L 144.7 190.9\" id=\"6,5\"></path><path d=\"M 144.7 84.1 L 144.7 66.3 L 184.2 66.3\" id=\"7,4\"></path><path d=\"M 144.7 84.1 L 144.7 101.9 L 184.2 101.9\" id=\"7,3\"></path><path d=\"M 105.3 164.2 L 105.3 137.5 L 184.2 137.5\" id=\"6,2\"></path><path d=\"M 144.7 190.9 L 144.7 173.1 L 184.2 173.1\" id=\"5,1\"></path><path d=\"M 144.7 190.9 L 144.7 208.7 L 184.2 208.7\" id=\"5,0\"></path></g><g class=\"toytree-Nodes\" style=\"fill:rgb(40%,76.1%,64.7%);fill-opacity:1.0;stroke:None;stroke-width:1\"><g id=\"node-0\" transform=\"translate(184.211,208.721)\"><circle r=\"10.0\"></circle></g><g id=\"node-1\" transform=\"translate(184.211,173.110)\"><circle r=\"10.0\"></circle></g><g id=\"node-2\" transform=\"translate(184.211,137.500)\"><circle r=\"10.0\"></circle></g><g id=\"node-3\" transform=\"translate(184.211,101.890)\"><circle r=\"10.0\"></circle></g><g id=\"node-4\" transform=\"translate(184.211,66.279)\"><circle r=\"10.0\"></circle></g><g id=\"node-5\" transform=\"translate(144.737,190.916)\"><circle r=\"10.0\"></circle></g><g id=\"node-6\" transform=\"translate(105.263,164.208)\"><circle r=\"10.0\"></circle></g><g id=\"node-7\" transform=\"translate(144.737,84.084)\"><circle r=\"10.0\"></circle></g><g id=\"node-8\" transform=\"translate(65.789,124.146)\"><circle r=\"10.0\"></circle></g></g><g class=\"toytree-NodeLabels\" style=\"fill:rgb(14.9%,14.9%,14.9%);fill-opacity:1.0;font-size:9px;stroke:none\"><g transform=\"translate(178.21,211.02)\"><text>PB</text></g><g transform=\"translate(178.21,175.41)\"><text>PA</text></g><g transform=\"translate(180.96,139.80)\"><text>D</text></g><g transform=\"translate(178.46,104.19)\"><text>C2</text></g><g transform=\"translate(178.46,68.58)\"><text>C1</text></g><g transform=\"translate(142.23,193.22)\"><text>5</text></g><g transform=\"translate(102.76,166.51)\"><text>6</text></g><g transform=\"translate(142.23,86.38)\"><text>7</text></g><g transform=\"translate(63.29,126.45)\"><text>8</text></g></g></g></g></g></svg><div class=\"toyplot-behavior\"><script>(function()\n",
       "{\n",
       "var modules={};\n",
       "})();</script></div></div>"
      ]
     },
     "metadata": {},
     "output_type": "display_data"
    }
   ],
   "source": [
    "possible_tree = toytree.tree(\"((D,(PA,PB)),(C1,C2));\")\n",
    "draw_tree_with_internal_labels(possible_tree)"
   ]
  },
  {
   "cell_type": "markdown",
   "metadata": {
    "deletable": false,
    "editable": false,
    "nbgrader": {
     "grade": false,
     "grade_id": "cell-df6a5b27b26be0f1",
     "locked": true,
     "schema_version": 3,
     "solution": false
    }
   },
   "source": [
    "And here is the reconstructed sequence."
   ]
  },
  {
   "cell_type": "code",
   "execution_count": 36,
   "metadata": {
    "deletable": false,
    "editable": false,
    "nbgrader": {
     "grade": false,
     "grade_id": "cell-36a29de130b90798",
     "locked": true,
     "schema_version": 3,
     "solution": false
    }
   },
   "outputs": [
    {
     "name": "stdout",
     "output_type": "stream",
     "text": [
      "GAGGTAGTAATTAGATCTGCCAATTTCACAGACAATGCTAAAATCATAATAGTACAGCTGAATGCATCTGTAGAAATTAATTGTACAAGACCCAACAACAATACAAGAAAAGGTATACATATAGGACCAGGGAGAGCATTTTATGCAACAGGAGAAATAATAGGAGATATAAGACAAGCACATTGTAACATTAGTAGAGAAAAATGGAATAATACTTTAAAACAGGTAGTTACAAAATTAAGAGAACAATTTAAAAAACAATAATCTTTAATCACTCCTCAGGAGGGGACCCAGAAATTGTAATGC\n"
     ]
    }
   ],
   "source": [
    "all_node_sequences = compute_ancestral_sequences(possible_tree, v3_alignment, v3_sequence_names)\n",
    "ancestral_dentist_hiv_sequence = all_node_sequences[\"6\"]\n",
    "print(ancestral_dentist_hiv_sequence)"
   ]
  },
  {
   "cell_type": "code",
   "execution_count": null,
   "metadata": {},
   "outputs": [],
   "source": []
  }
 ],
 "metadata": {
  "celltoolbar": "Create Assignment",
  "kernelspec": {
   "display_name": "Python 3 [3.10]",
   "language": "python",
   "name": "python3"
  },
  "language_info": {
   "codemirror_mode": {
    "name": "ipython",
    "version": 3
   },
   "file_extension": ".py",
   "mimetype": "text/x-python",
   "name": "python",
   "nbconvert_exporter": "python",
   "pygments_lexer": "ipython3",
   "version": "3.10.2"
  }
 },
 "nbformat": 4,
 "nbformat_minor": 4
}
