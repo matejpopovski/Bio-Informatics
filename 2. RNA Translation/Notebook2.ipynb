{
 "cells": [
  {
   "cell_type": "markdown",
   "metadata": {
    "deletable": false,
    "editable": false,
    "nbgrader": {
     "grade": false,
     "grade_id": "cell-8e5b654741062487",
     "locked": true,
     "schema_version": 3,
     "solution": false
    }
   },
   "source": [
    "# Day 2 notebook\n",
    "\n",
    "The objectives of this notebook are to practice\n",
    "* the biological concepts of \n",
    "  * the translation of RNA to protein\n",
    "  * the consequences of mutations in protein-coding DNA\n",
    "  * gene regulatory networks\n",
    "* the Python concepts of \n",
    "  * creating and using Python modules\n",
    "  * reading input from files\n",
    "  * calling functions on lists of arguments using unpacking"
   ]
  },
  {
   "cell_type": "markdown",
   "metadata": {
    "deletable": false,
    "editable": false,
    "nbgrader": {
     "grade": false,
     "grade_id": "cell-16ed2ce63852adde",
     "locked": true,
     "schema_version": 3,
     "solution": false
    }
   },
   "source": [
    "## Translation of RNA to protein"
   ]
  },
  {
   "cell_type": "markdown",
   "metadata": {
    "deletable": false,
    "editable": false,
    "nbgrader": {
     "grade": false,
     "grade_id": "cell-e195bf8b53f0376e",
     "locked": true,
     "schema_version": 3,
     "solution": false
    }
   },
   "source": [
    "### PROBLEM 1 - RNA fragment translation (1 POINT)"
   ]
  },
  {
   "cell_type": "markdown",
   "metadata": {
    "deletable": false,
    "editable": false,
    "nbgrader": {
     "grade": false,
     "grade_id": "cell-812d862ed7cfd243",
     "locked": true,
     "schema_version": 3,
     "solution": false
    }
   },
   "source": [
    "Continuing our work on writing functions that work with DNA, RNA, and protein sequences, let us write a function that translates all codons of a string representing an RNA fragment, where we again assume that the first three bases of the RNA correspond to a codon and that the length of RNA is a multiple of three. At this point, we will not require that the first codon is the start codon and that the last codon is a stop codon."
   ]
  },
  {
   "cell_type": "markdown",
   "metadata": {
    "deletable": false,
    "editable": false,
    "nbgrader": {
     "grade": false,
     "grade_id": "cell-8eaff1b5015a898a",
     "locked": true,
     "schema_version": 3,
     "solution": false
    }
   },
   "source": [
    "You will likely want to copy some of your functions from the Day 1 notebook here to help with implementing this function.  If you wish, you may create a Python module with those functions (see the related Problem 8 below).  Also, as in the previous in-class activities, you will likely find the `join` method of the empty string convenient for concatenating all of the strings in a list together.  For example,"
   ]
  },
  {
   "cell_type": "code",
   "execution_count": 1,
   "metadata": {
    "deletable": false,
    "editable": false,
    "nbgrader": {
     "grade": false,
     "grade_id": "cell-7a4c056ddbe31042",
     "locked": true,
     "schema_version": 3,
     "solution": false
    }
   },
   "outputs": [
    {
     "data": {
      "text/plain": [
       "'ACGT'"
      ]
     },
     "execution_count": 1,
     "metadata": {},
     "output_type": "execute_result"
    }
   ],
   "source": [
    "bases = [\"A\", \"C\", \"G\", \"T\"]\n",
    "''.join(bases)"
   ]
  },
  {
   "cell_type": "code",
   "execution_count": 2,
   "metadata": {
    "nbgrader": {
     "grade": false,
     "grade_id": "cell-fb7ab9f614475153",
     "locked": false,
     "schema_version": 3,
     "solution": true,
     "task": false
    }
   },
   "outputs": [],
   "source": [
    "###\n",
    "### \"\"\n",
    "genetic_code = {\n",
    " 'AAA': 'K', 'AAC': 'N', 'AAG': 'K', 'AAU': 'N',\n",
    " 'ACA': 'U', 'ACC': 'U', 'ACG': 'U', 'ACU': 'U',\n",
    " 'AGA': 'R', 'AGC': 'S', 'AGG': 'R', 'AGU': 'S',\n",
    " 'AUA': 'I', 'AUC': 'I', 'AUG': 'M', 'AUU': 'I',\n",
    " 'CAA': 'Q', 'CAC': 'H', 'CAG': 'Q', 'CAU': 'H',\n",
    " 'CCA': 'P', 'CCC': 'P', 'CCG': 'P', 'CCU': 'P',\n",
    " 'CGA': 'R', 'CGC': 'R', 'CGG': 'R', 'CGU': 'R',\n",
    " 'CUA': 'L', 'CUC': 'L', 'CUG': 'L', 'CUU': 'L',\n",
    " 'GAA': 'E', 'GAC': 'D', 'GAG': 'E', 'GAU': 'D',\n",
    " 'GCA': 'A', 'GCC': 'A', 'GCG': 'A', 'GCU': 'A',\n",
    " 'GGA': 'G', 'GGC': 'G', 'GGG': 'G', 'GGU': 'G',\n",
    " 'GUA': 'V', 'GUC': 'V', 'GUG': 'V', 'GUU': 'V',\n",
    " 'UAA': '*', 'UAC': 'Y', 'UAG': '*', 'UAU': 'Y',\n",
    " 'UCA': 'S', 'UCC': 'S', 'UCG': 'S', 'UCU': 'S',\n",
    " 'UGA': '*', 'UGC': 'C', 'UGG': 'W', 'UGU': 'C',\n",
    " 'UUA': 'L', 'UUC': 'F', 'UUG': 'L', 'UUU': 'F'}\n",
    "###\n",
    "\n",
    "def translate_rna_fragment(rna):\n",
    "###\n",
    "### YOUR CODE HERE\n",
    "    squares = []\n",
    "    for x in range(0, len(rna), 3):\n",
    "        squares.append(rna[x:x+3])\n",
    "    #print(squares)\n",
    "    result = \"\"\n",
    "    for x in range(0, len(squares)):\n",
    "        #print(genetic_code[squares[x]])\n",
    "        squares[x] = genetic_code[squares[x]]\n",
    "    \n",
    "    \n",
    "    for x in squares:\n",
    "        result += x\n",
    "    #print(result)\n",
    "    #print(\"-----\")\n",
    "    return result\n",
    "\n"
   ]
  },
  {
   "cell_type": "code",
   "execution_count": 3,
   "metadata": {
    "deletable": false,
    "editable": false,
    "nbgrader": {
     "grade": true,
     "grade_id": "translate_rna_fragment",
     "locked": true,
     "points": 1,
     "schema_version": 3,
     "solution": false
    }
   },
   "outputs": [
    {
     "name": "stdout",
     "output_type": "stream",
     "text": [
      "SUCCESS: translate_rna_fragment passed all tests!\n"
     ]
    }
   ],
   "source": [
    "# tests for translate_rna_fragment\n",
    "assert translate_rna_fragment(\"UUUGCGACUUAU\") == \"FAUY\", \"Failed on input 'UUUGCGACUUAU'\"\n",
    "assert translate_rna_fragment(\"ACG\") == \"U\", \"Failed on input 'UGA'\"\n",
    "assert translate_rna_fragment(\"\") == \"\", \"Failed on the empty string\"\n",
    "print(\"SUCCESS: translate_rna_fragment passed all tests!\")"
   ]
  },
  {
   "cell_type": "markdown",
   "metadata": {
    "deletable": false,
    "editable": false,
    "nbgrader": {
     "grade": false,
     "grade_id": "cell-6c8899dc7c86b247",
     "locked": true,
     "schema_version": 3,
     "solution": false
    }
   },
   "source": [
    "### PROBLEM 2 - RNA translation (1 POINT)"
   ]
  },
  {
   "cell_type": "markdown",
   "metadata": {
    "deletable": false,
    "editable": false,
    "nbgrader": {
     "grade": false,
     "grade_id": "cell-a2e4a9fe249cbf6e",
     "locked": true,
     "schema_version": 3,
     "solution": false
    }
   },
   "source": [
    "In this problem we step up the complexity and perform RNA translation of an entire RNA molecule.  Recall that RNA translation of a full RNA molecules involves:\n",
    "1. Scanning for the first occurrence of a start codon (\"AUG\")\n",
    "2. Translation of the start codon and successive codons in the same reading frame\n",
    "3. Termination of translation when a stop codon (in the same reading frame as the prior codons) is reached\n",
    "\n",
    "You may assume that the RNA molecule contains a start codon as well as a downstream, in-frame, stop codon."
   ]
  },
  {
   "cell_type": "code",
   "execution_count": 4,
   "metadata": {
    "nbgrader": {
     "grade": false,
     "grade_id": "cell-5a51a94c49f2bf64",
     "locked": false,
     "schema_version": 3,
     "solution": true,
     "task": false
    }
   },
   "outputs": [],
   "source": [
    "genetic_code = {\n",
    " 'AAA': 'K', 'AAC': 'N', 'AAG': 'K', 'AAU': 'N',\n",
    " 'ACA': 'U', 'ACC': 'U', 'ACG': 'U', 'ACU': 'U',\n",
    " 'AGA': 'R', 'AGC': 'S', 'AGG': 'R', 'AGU': 'S',\n",
    " 'AUA': 'I', 'AUC': 'I', 'AUG': 'M', 'AUU': 'I',\n",
    " 'CAA': 'Q', 'CAC': 'H', 'CAG': 'Q', 'CAU': 'H',\n",
    " 'CCA': 'P', 'CCC': 'P', 'CCG': 'P', 'CCU': 'P',\n",
    " 'CGA': 'R', 'CGC': 'R', 'CGG': 'R', 'CGU': 'R',\n",
    " 'CUA': 'L', 'CUC': 'L', 'CUG': 'L', 'CUU': 'L',\n",
    " 'GAA': 'E', 'GAC': 'D', 'GAG': 'E', 'GAU': 'D',\n",
    " 'GCA': 'A', 'GCC': 'A', 'GCG': 'A', 'GCU': 'A',\n",
    " 'GGA': 'G', 'GGC': 'G', 'GGG': 'G', 'GGU': 'G',\n",
    " 'GUA': 'V', 'GUC': 'V', 'GUG': 'V', 'GUU': 'V',\n",
    " 'UAA': '*', 'UAC': 'Y', 'UAG': '*', 'UAU': 'Y',\n",
    " 'UCA': 'S', 'UCC': 'S', 'UCG': 'S', 'UCU': 'S',\n",
    " 'UGA': '*', 'UGC': 'C', 'UGG': 'W', 'UGU': 'C',\n",
    " 'UUA': 'L', 'UUC': 'F', 'UUG': 'L', 'UUU': 'F'}\n",
    "\n",
    "def translate_rna(rna):\n",
    "### YOUR CODE HERE\n",
    "    #rna.find('AUG')\n",
    "    for x in range(0, len(rna)):\n",
    "        #string[start:end:step]\n",
    "        if rna[0:3] == \"AUG\":\n",
    "            #print(\"yes\")\n",
    "            break\n",
    "        else:\n",
    "            #print(\"no\")\n",
    "            rna = rna[1:len(rna)]\n",
    "            continue\n",
    "            \n",
    "    squares = []\n",
    "    for x in range(0, len(rna), 3):\n",
    "        if rna[x:x+3] == \"UAA\" or rna[x:x+3] == \"UGA\" or rna[x:x+3] == \"UAG\":\n",
    "            break\n",
    "        squares.append(rna[x:x+3])\n",
    "    print(squares)\n",
    "    \n",
    "    for x in range(0, len(squares)):\n",
    "         #print(genetic_code[squares[x]])\n",
    "         squares[x] = genetic_code[squares[x]]\n",
    "    print(squares)\n",
    "    result = \"\"\n",
    "    for x in squares:\n",
    "        result += x\n",
    "    print(result)\n",
    "    print(\"-----------\")\n",
    "    \n",
    "    print(result)\n",
    "    return result\n",
    "\n",
    "\n",
    "\n",
    "\n",
    "\n"
   ]
  },
  {
   "cell_type": "code",
   "execution_count": 5,
   "metadata": {
    "deletable": false,
    "editable": false,
    "nbgrader": {
     "grade": true,
     "grade_id": "translate_rna",
     "locked": true,
     "points": 1,
     "schema_version": 3,
     "solution": false
    }
   },
   "outputs": [
    {
     "name": "stdout",
     "output_type": "stream",
     "text": [
      "['AUG', 'ACU', 'UAU']\n",
      "['M', 'U', 'Y']\n",
      "MUY\n",
      "-----------\n",
      "MUY\n",
      "['AUG', 'ACU', 'UAU']\n",
      "['M', 'U', 'Y']\n",
      "MUY\n",
      "-----------\n",
      "MUY\n",
      "['AUG', 'ACU', 'UAU']\n",
      "['M', 'U', 'Y']\n",
      "MUY\n",
      "-----------\n",
      "MUY\n",
      "['AUG', 'ACU', 'UAU']\n",
      "['M', 'U', 'Y']\n",
      "MUY\n",
      "-----------\n",
      "MUY\n",
      "['AUG', 'GCA', 'UAU']\n",
      "['M', 'A', 'Y']\n",
      "MAY\n",
      "-----------\n",
      "MAY\n",
      "['AUG', 'GCA', 'UCU', 'AAG']\n",
      "['M', 'A', 'S', 'K']\n",
      "MASK\n",
      "-----------\n",
      "MASK\n",
      "SUCCESS: translate_rna passed all tests!\n"
     ]
    }
   ],
   "source": [
    "# tests for translate_rna\n",
    "assert translate_rna(\"AUGACUUAUUAG\") == \"MUY\", \"Failed on input 'AUGACUUAUUAG'\"\n",
    "assert translate_rna(\"AAUGACUUAUUAG\") == \"MUY\", \"Failed on input 'AAUGACUUAUUAG'\"\n",
    "assert translate_rna(\"AUGACUUAUUAGCU\") == \"MUY\", \"Failed on input 'AUGACUUAUUAGCU'\"\n",
    "assert translate_rna(\"AAUGACUUAUUAGCU\") == \"MUY\", \"Failed on input 'AAUGACUUAUUAGCU'\"\n",
    "assert translate_rna(\"AAUGGCAUAUUAACU\") == \"MAY\", \"Failed on input 'AAUGGCAUAUUAACU'\"\n",
    "assert translate_rna(\"UAAUGGCAUCUAAGUGACU\") == \"MASK\", \"Failed on input 'UAAUGGCAUCUAAGUGACU'\"\n",
    "print(\"SUCCESS: translate_rna passed all tests!\")"
   ]
  },
  {
   "cell_type": "markdown",
   "metadata": {
    "deletable": false,
    "editable": false,
    "nbgrader": {
     "grade": false,
     "grade_id": "cell-e17d7a0a1e628266",
     "locked": true,
     "schema_version": 3,
     "solution": false
    }
   },
   "source": [
    "### PROBLEM 3 - Consequences of the deltaF508 mutation in CFTR (2 POINTS)\n",
    "\n",
    "We will now revisit the CFTR gene fragment that we saw in the day 1 notebook and examine how the deltaF508 mutation impacts the resulting amino acid sequence of the encoded protein.  Below is again the sequence of the CFTR gene fragment (sense strand)."
   ]
  },
  {
   "cell_type": "code",
   "execution_count": 6,
   "metadata": {
    "deletable": false,
    "editable": false,
    "nbgrader": {
     "grade": false,
     "grade_id": "cell-4d09f69cd1950362",
     "locked": true,
     "schema_version": 3,
     "solution": false
    }
   },
   "outputs": [
    {
     "name": "stdout",
     "output_type": "stream",
     "text": [
      "ACTTCACTTCTAATGGTGATTATGGGAGAACTGGAGCCTTCAGAGGGTAAAATTAAGCACAGTGGAAGAATTTCATTCTGTTCTCAGTTTTCCTGGATTATGCCTGGCACCATTAAAGAAAATATCATCTTTGGTGTTTCCTATGATGAATATAGATACAGAAGCGTCATCAAAGCATGCCAACTAGAAGAG\n"
     ]
    }
   ],
   "source": [
    "cftr_gene_fragment = (\"ACTTCACTTCTAATGGTGATTATGGGAGAACTGGAGCCTTCAGAGGGTAA\"\n",
    "                      \"AATTAAGCACAGTGGAAGAATTTCATTCTGTTCTCAGTTTTCCTGGATTA\"\n",
    "                      \"TGCCTGGCACCATTAAAGAAAATATCATCTTTGGTGTTTCCTATGATGAA\"\n",
    "                      \"TATAGATACAGAAGCGTCATCAAAGCATGCCAACTAGAAGAG\")\n",
    "print(cftr_gene_fragment)"
   ]
  },
  {
   "cell_type": "markdown",
   "metadata": {
    "deletable": false,
    "editable": false,
    "nbgrader": {
     "grade": false,
     "grade_id": "cell-dfedea0c7edb19d5",
     "locked": true,
     "schema_version": 3,
     "solution": false
    }
   },
   "source": [
    "And here is the sequence of the mutated CFTR gene fragment, which has bases 129, 130, and 131 (1-based coordinates) removed."
   ]
  },
  {
   "cell_type": "code",
   "execution_count": 7,
   "metadata": {
    "deletable": false,
    "editable": false,
    "nbgrader": {
     "grade": false,
     "grade_id": "cell-8eb2a05c2713f608",
     "locked": true,
     "schema_version": 3,
     "solution": false
    }
   },
   "outputs": [
    {
     "name": "stdout",
     "output_type": "stream",
     "text": [
      "ACTTCACTTCTAATGGTGATTATGGGAGAACTGGAGCCTTCAGAGGGTAAAATTAAGCACAGTGGAAGAATTTCATTCTGTTCTCAGTTTTCCTGGATTATGCCTGGCACCATTAAAGAAAATATCATTGGTGTTTCCTATGATGAATATAGATACAGAAGCGTCATCAAAGCATGCCAACTAGAAGAG\n"
     ]
    }
   ],
   "source": [
    "deltaf508_fragment = cftr_gene_fragment[:128] + cftr_gene_fragment[131:]\n",
    "print(deltaf508_fragment)"
   ]
  },
  {
   "cell_type": "markdown",
   "metadata": {
    "deletable": false,
    "editable": false,
    "nbgrader": {
     "grade": false,
     "grade_id": "cell-e1318baa1ee8a156",
     "locked": true,
     "schema_version": 3,
     "solution": false
    }
   },
   "source": [
    "Recall that the removed bases were"
   ]
  },
  {
   "cell_type": "code",
   "execution_count": 8,
   "metadata": {
    "deletable": false,
    "editable": false,
    "nbgrader": {
     "grade": false,
     "grade_id": "cell-97d13975eabef352",
     "locked": true,
     "schema_version": 3,
     "solution": false
    }
   },
   "outputs": [
    {
     "name": "stdout",
     "output_type": "stream",
     "text": [
      "CTT\n"
     ]
    }
   ],
   "source": [
    "print(cftr_gene_fragment[128:131])"
   ]
  },
  {
   "cell_type": "markdown",
   "metadata": {
    "deletable": false,
    "editable": false,
    "nbgrader": {
     "grade": false,
     "grade_id": "cell-a8f8d087a1b93396",
     "locked": true,
     "schema_version": 3,
     "solution": false
    }
   },
   "source": [
    "Using your translation function and considering the coordinates of the deltaF508 mutation, determine\n",
    "1. how many codons of the non-mutant fragment overlap with this deletion.  In other words, how many codons in the original gene sequence have bases removed by the deletion.\n",
    "2. which single amino acid is effectively deleted from the resulting mutant RNA fragment\n",
    "\n",
    "Note that this CFTR sequence is only a fragment (substring) of the entire CFTR gene and so will not begin with a start codon or end with a stop codon.  You will also need to know that the first three bases of the fragment are a codon.\n",
    "\n",
    "Answer the above two questions by assigning your answers to the variables in the code below."
   ]
  },
  {
   "cell_type": "code",
   "execution_count": 9,
   "metadata": {
    "nbgrader": {
     "grade": false,
     "grade_id": "cell-1736e840644c19dd",
     "locked": false,
     "schema_version": 3,
     "solution": true,
     "task": false
    }
   },
   "outputs": [
    {
     "name": "stdout",
     "output_type": "stream",
     "text": [
      "USLLMVIMGELEPSEGKIKHSGRISFCSQFSWIMPGUIKENIIGVSYDEYRYRSVIKACQLEE\n",
      "USLLMVIMGELEPSEGKIKHSGRISFCSQFSWIMPGUIKENIIFGVSYDEYRYRSVIKACQLEE\n"
     ]
    }
   ],
   "source": [
    "print(translate_rna_fragment(deltaf508_fragment.replace('T','U')))\n",
    "print(translate_rna_fragment(cftr_gene_fragment.replace('T','U')))\n",
    "#------------------------------\n",
    "# Assign to the variable 'num_codons_overlapping_with_deletion' an integer\n",
    "###\n",
    "num_codons_overlapping_with_deletion = 2\n",
    "###\n",
    "# Assign to the variable 'amino_acid_deleted' a single character string\n",
    "###\n",
    "amino_acid_deleted = \"F\"\n",
    "###\n"
   ]
  },
  {
   "cell_type": "code",
   "execution_count": 10,
   "metadata": {
    "deletable": false,
    "editable": false,
    "nbgrader": {
     "grade": true,
     "grade_id": "deltaf508_num_codons",
     "locked": true,
     "points": 1,
     "schema_version": 3,
     "solution": false
    }
   },
   "outputs": [],
   "source": [
    "# test for num_codon_overlapping_with_deletion\n",
    "assert isinstance(num_codons_overlapping_with_deletion, int), \"num_codons_overlapping_with_deletion is not an integer\"\n",
    "###\n",
    "### AUTOGRADER TEST - DO NOT REMOVE\n",
    "###\n"
   ]
  },
  {
   "cell_type": "code",
   "execution_count": 11,
   "metadata": {
    "deletable": false,
    "editable": false,
    "nbgrader": {
     "grade": true,
     "grade_id": "deltaf508_amino_acid",
     "locked": true,
     "points": 1,
     "schema_version": 3,
     "solution": false
    }
   },
   "outputs": [],
   "source": [
    "# test for amino_acid_deleted\n",
    "assert isinstance(amino_acid_deleted, str), \"amino_acid_deleted is not a string\"\n",
    "###\n",
    "### AUTOGRADER TEST - DO NOT REMOVE\n",
    "###\n"
   ]
  },
  {
   "cell_type": "markdown",
   "metadata": {
    "deletable": false,
    "editable": false,
    "nbgrader": {
     "grade": false,
     "grade_id": "cell-8b4489048a5c397a",
     "locked": true,
     "schema_version": 3,
     "solution": false
    }
   },
   "source": [
    "## The lac operon gene regulatory network\n",
    "For the remainder of this notebook, we will practice with very simple modeling of the lac operon gene regulatory network that was described in lecture.  \n",
    "\n",
    "We will add one more component to this network, which is the *CAP* protein.  In an environment with low levels of glucose the CAP protein binds to the regulatory region for the lac operon and increases transcription of the lac operon, but only when *lacI* is not bound to the regulatory region.  This allows the cell to try to make up for the lack of glucose by increasing its metabolism of lactose instead.\n",
    "\n",
    "The entire network, along with the deterministic functions/circuits for each downstream variable, is defined by the figure below.  The `lactose`, `lacI`, `glucose`, and `CAP` input variables take the value `True` when they are present and the value `False` when they are absent.  The `lacI_bound` and `CAP_bound` variables are also boolean valued and depend on a subset of the input variables.  The `lacZ` variable represents the transcription level of the lac operon, and can take one of three values: \"absent\", \"low\", and \"high.\""
   ]
  },
  {
   "cell_type": "markdown",
   "metadata": {
    "deletable": false,
    "editable": false,
    "nbgrader": {
     "grade": false,
     "grade_id": "cell-7f9ee2438fbe005c",
     "locked": true,
     "schema_version": 3,
     "solution": false
    }
   },
   "source": [
    "![Lac circuit](network.png)"
   ]
  },
  {
   "cell_type": "markdown",
   "metadata": {
    "deletable": false,
    "editable": false,
    "nbgrader": {
     "grade": false,
     "grade_id": "cell-dba304bffb215cac",
     "locked": true,
     "schema_version": 3,
     "solution": false
    }
   },
   "source": [
    "We will define this network in Python using a series of very simple functions, which can then be composed."
   ]
  },
  {
   "cell_type": "markdown",
   "metadata": {
    "deletable": false,
    "editable": false,
    "nbgrader": {
     "grade": false,
     "grade_id": "cell-f66aa7a107e3f2a3",
     "locked": true,
     "schema_version": 3,
     "solution": false
    }
   },
   "source": [
    "### PROBLEM 4 - lacI_bound (1 POINT)\n",
    "Write a function that specifies the lacI-bound circuit, as defined in the figure above.  This should be a simple one-liner that uses a boolean expression (e.g., using the operators `and`, `or`, and `not`)."
   ]
  },
  {
   "cell_type": "code",
   "execution_count": 12,
   "metadata": {
    "nbgrader": {
     "grade": false,
     "grade_id": "cell-dfee9de0eb666d86",
     "locked": false,
     "schema_version": 3,
     "solution": true,
     "task": false
    }
   },
   "outputs": [],
   "source": [
    "def lacI_bound(lactose, lacI):\n",
    "### YOUR CODE HERE\n",
    "    return not lactose and lacI\n"
   ]
  },
  {
   "cell_type": "code",
   "execution_count": 13,
   "metadata": {
    "deletable": false,
    "editable": false,
    "nbgrader": {
     "grade": true,
     "grade_id": "lacI_bound",
     "locked": true,
     "points": 1,
     "schema_version": 3,
     "solution": false
    }
   },
   "outputs": [
    {
     "name": "stdout",
     "output_type": "stream",
     "text": [
      "SUCCESS: lacI_bound passed all tests!\n"
     ]
    }
   ],
   "source": [
    "# tests for function lacI_bound\n",
    "assert lacI_bound(False, False) == False, \"Failed on input False, False\"\n",
    "assert lacI_bound(False, True) == True, \"Failed on input False, True\"\n",
    "assert lacI_bound(True, False) == False, \"Failed on input True, False\"\n",
    "assert lacI_bound(True, True) == False, \"Failed on input True, True\"\n",
    "print(\"SUCCESS: lacI_bound passed all tests!\")"
   ]
  },
  {
   "cell_type": "markdown",
   "metadata": {
    "deletable": false,
    "editable": false,
    "nbgrader": {
     "grade": false,
     "grade_id": "cell-8953b033598705e0",
     "locked": true,
     "schema_version": 3,
     "solution": false
    }
   },
   "source": [
    "### PROBLEM 5 - CAP_bound (1 POINT)\n",
    "Write a function that specifies the CAP-bound circuit, as defined in the figure above.  This should also be a simple one-liner that uses a boolean expression."
   ]
  },
  {
   "cell_type": "code",
   "execution_count": 14,
   "metadata": {
    "nbgrader": {
     "grade": false,
     "grade_id": "cell-ba3588f42788a60c",
     "locked": false,
     "schema_version": 3,
     "solution": true,
     "task": false
    }
   },
   "outputs": [],
   "source": [
    "def CAP_bound(glucose, CAP):\n",
    "### YOUR CODE HERE\n",
    "    return not glucose and CAP\n",
    "\n"
   ]
  },
  {
   "cell_type": "code",
   "execution_count": 15,
   "metadata": {
    "deletable": false,
    "editable": false,
    "nbgrader": {
     "grade": true,
     "grade_id": "CAP_bound",
     "locked": true,
     "points": 1,
     "schema_version": 3,
     "solution": false
    }
   },
   "outputs": [
    {
     "name": "stdout",
     "output_type": "stream",
     "text": [
      "SUCCESS: CAP_bound passed all tests!\n"
     ]
    }
   ],
   "source": [
    "# tests for function CAP_bound\n",
    "assert CAP_bound(False, False) == False, \"Failed on input False, False\"\n",
    "assert CAP_bound(False, True) == True, \"Failed on input False, True\"\n",
    "assert CAP_bound(True, False) == False, \"Failed on input True, False\"\n",
    "assert CAP_bound(True, True) == False, \"Failed on input True, True\"\n",
    "print(\"SUCCESS: CAP_bound passed all tests!\")"
   ]
  },
  {
   "cell_type": "markdown",
   "metadata": {
    "deletable": false,
    "editable": false,
    "nbgrader": {
     "grade": false,
     "grade_id": "cell-4fd61338084bf4f6",
     "locked": true,
     "schema_version": 3,
     "solution": false
    }
   },
   "source": [
    "### PROBLEM 6 - lacZ (1 POINT)\n",
    "Write a function that specifies the lacZ circuit, as defined in the figure above."
   ]
  },
  {
   "cell_type": "code",
   "execution_count": 16,
   "metadata": {
    "nbgrader": {
     "grade": false,
     "grade_id": "cell-15d4575ecea43a74",
     "locked": false,
     "schema_version": 3,
     "solution": true,
     "task": false
    }
   },
   "outputs": [],
   "source": [
    "def lacZ(is_lacI_bound, is_CAP_bound):\n",
    "### YOUR CODE HERE\n",
    "    if is_lacI_bound == False and is_CAP_bound == False:\n",
    "        return \"low\"\n",
    "    elif is_lacI_bound == False and is_CAP_bound == True:\n",
    "        return \"high\"\n",
    "    else:\n",
    "        return \"absent\"\n",
    "        \n",
    "        \n",
    "        \n"
   ]
  },
  {
   "cell_type": "code",
   "execution_count": 17,
   "metadata": {
    "deletable": false,
    "editable": false,
    "nbgrader": {
     "grade": true,
     "grade_id": "lacZ",
     "locked": true,
     "points": 1,
     "schema_version": 3,
     "solution": false
    }
   },
   "outputs": [
    {
     "name": "stdout",
     "output_type": "stream",
     "text": [
      "SUCCESS: lacZ passed all tests!\n"
     ]
    }
   ],
   "source": [
    "# tests for function lacZ\n",
    "assert lacZ(False, False) == \"low\", \"Failed on input False, False\"\n",
    "assert lacZ(False, True) == \"high\", \"Failed on input False, True\"\n",
    "assert lacZ(True, False) == \"absent\", \"Failed on input True, False\"\n",
    "assert lacZ(True, True) == \"absent\", \"Failed on input True, True\"\n",
    "print(\"SUCCESS: lacZ passed all tests!\")"
   ]
  },
  {
   "cell_type": "markdown",
   "metadata": {
    "deletable": false,
    "editable": false,
    "nbgrader": {
     "grade": false,
     "grade_id": "cell-8351841486edf15a",
     "locked": true,
     "schema_version": 3,
     "solution": false
    }
   },
   "source": [
    "### PROBLEM 7 - lacZ full circuit (1 POINT)\n",
    "Finally, let us write a function that gives the value of lacZ depending on the input variables `lactose`, `lacI`, `glucose`, and `CAP`.  Use composition of the functions above to accomplish this in a simple one-liner."
   ]
  },
  {
   "cell_type": "code",
   "execution_count": 18,
   "metadata": {
    "nbgrader": {
     "grade": false,
     "grade_id": "cell-5f03040d0fbdef55",
     "locked": false,
     "schema_version": 3,
     "solution": true,
     "task": false
    }
   },
   "outputs": [],
   "source": [
    "def lacZ_full_circuit(lactose, lacI, glucose, CAP):\n",
    "### YOUR CODE HERE\n",
    "    return lacZ(lacI_bound(lactose, lacI), CAP_bound(glucose, CAP))\n"
   ]
  },
  {
   "cell_type": "code",
   "execution_count": 19,
   "metadata": {
    "deletable": false,
    "editable": false,
    "nbgrader": {
     "grade": true,
     "grade_id": "lacZ_full_circuit",
     "locked": true,
     "points": 1,
     "schema_version": 3,
     "solution": false
    }
   },
   "outputs": [
    {
     "name": "stdout",
     "output_type": "stream",
     "text": [
      "SUCCESS: lacZ_full_circuit passed all tests!\n"
     ]
    }
   ],
   "source": [
    "# tests for function lacZ_full_circuit\n",
    "# note that these are only a subset of the possible inputs\n",
    "assert lacZ_full_circuit(False, False, False, False) == \"low\", \"Failed on input False, False, False, False\"\n",
    "assert lacZ_full_circuit(False, False, False, True) == \"high\", \"Failed on input False, False, False, True\"\n",
    "assert lacZ_full_circuit(False, True, False, True) == \"absent\", \"Failed on input False, True, False, True\"\n",
    "assert lacZ_full_circuit(False, True, True, True) == \"absent\", \"Failed on input False, True, True, True\"\n",
    "print(\"SUCCESS: lacZ_full_circuit passed all tests!\")"
   ]
  },
  {
   "cell_type": "markdown",
   "metadata": {
    "deletable": false,
    "editable": false,
    "nbgrader": {
     "grade": false,
     "grade_id": "cell-aa970a6041bb3375",
     "locked": true,
     "schema_version": 3,
     "solution": false
    }
   },
   "source": [
    "### PROBLEM 8 - creating and using a module (1 POINT)\n",
    "We will now practice with creating a Python module.  Modules make it easy to reuse your code and keep related functions, variables, and classes in a separate namespace.\n",
    "\n",
    "For this problem, you are to do the following:\n",
    "1. Create a new file `lac_network.py` in your workspace by clicking on \"File\" menu and selecting \"New -> Python file\".\n",
    "2. Copy the Python code for each of your lac circuit functions that you have written above into the `lac_network.py` file.\n",
    "3. Import your `lac_network` module within this notebook and test that you can call functions defined within the module.\n",
    "\n",
    "*Important note regarding module import in notebooks*: If you have already run the import statement for a module in a notebook and then make a change to the source code of the module, using the `import` statement again will not use the updated code.  You can either restart the Python kernel and re-run the cell with the `import` statement (recommended) or use the `reload` function from the [`importlib`](https://docs.python.org/3.7/library/importlib.html) standard module. "
   ]
  },
  {
   "cell_type": "code",
   "execution_count": 20,
   "metadata": {
    "deletable": false,
    "editable": false,
    "nbgrader": {
     "grade": true,
     "grade_id": "lac_network_module",
     "locked": true,
     "points": 1,
     "schema_version": 3,
     "solution": false
    }
   },
   "outputs": [
    {
     "name": "stdout",
     "output_type": "stream",
     "text": [
      "SUCCESS: lacZ_network module passed all tests!\n"
     ]
    }
   ],
   "source": [
    "# tests for the lac_network module\n",
    "import lac_network\n",
    "assert lac_network.lacZ_full_circuit(False, False, False, False) == \"low\", \"lac_network.lacZ_full_circuit failed\"\n",
    "assert lac_network.lacI_bound(False, False) == False, \"lac_network.lacI_bound failed\"\n",
    "assert lac_network.CAP_bound(False, False) == False, \"lac_network.CAP_bound failed\"\n",
    "assert lac_network.lacZ(False, False) == \"low\", \"lac_network.lacZ failed\"\n",
    "print(\"SUCCESS: lacZ_network module passed all tests!\")"
   ]
  },
  {
   "cell_type": "markdown",
   "metadata": {
    "deletable": false,
    "editable": false,
    "nbgrader": {
     "grade": false,
     "grade_id": "cell-53dbe6f80afb0a4c",
     "locked": true,
     "schema_version": 3,
     "solution": false
    }
   },
   "source": [
    "### PROBLEM 9 - reading from a file (1 POINT)\n",
    "We will now practice with reading data from a text file.  In particular, we will read a file that contains some input values for the `lacZ_full_circuit`, with a different set of input values on each line.  The input values will be specified for the variables `lactose`, `lacI`, `glucose`, and `CAP`, and in that order.  On each line, the values will be separated by one or more whitespace characters.\n",
    "\n",
    "Write a function that takes as input the name of a file containing input values for the `lacZ_full_circuit` function and outputs a list of lists of the input values.  The first tuple in the list should correspond to the input values from the first line of the file, and so on for the other lines in the file.\n",
    "\n",
    "You will likely find the following function, which converts the strings \"True\" and \"False\" to Python boolean values, of use.\n",
    "\n",
    "You will also likely find the `split` method of string functions helpful for converting each line of the file into a list of tokens."
   ]
  },
  {
   "cell_type": "code",
   "execution_count": 21,
   "metadata": {
    "deletable": false,
    "editable": false,
    "nbgrader": {
     "grade": false,
     "grade_id": "cell-27a204b0441ec092",
     "locked": true,
     "schema_version": 3,
     "solution": false
    }
   },
   "outputs": [],
   "source": [
    "def str_to_bool(s):\n",
    "    if s == 'True':\n",
    "         return True\n",
    "    elif s == 'False':\n",
    "         return False\n",
    "    else:\n",
    "         raise ValueError(\"Input is neither 'True' nor 'False': \" + s)"
   ]
  },
  {
   "cell_type": "code",
   "execution_count": 51,
   "metadata": {
    "nbgrader": {
     "grade": false,
     "grade_id": "cell-426014a5376e026d",
     "locked": false,
     "schema_version": 3,
     "solution": true,
     "task": false
    }
   },
   "outputs": [],
   "source": [
    "def read_lacZ_full_circuit_inputs(filename):\n",
    "    ### YOUR CODE HERE\n",
    "    f = open(filename)\n",
    "    booleanList = []\n",
    "    twoDList = []\n",
    "    for x in f:\n",
    "        twoDList.append([str_to_bool(i) for i in x.split()])\n",
    "    #print(twoDList)\n",
    "    return twoDList"
   ]
  },
  {
   "cell_type": "code",
   "execution_count": 52,
   "metadata": {
    "deletable": false,
    "editable": false,
    "nbgrader": {
     "grade": true,
     "grade_id": "read_lacZ_full_circuit_inputs",
     "locked": true,
     "points": 1,
     "schema_version": 3,
     "solution": false
    }
   },
   "outputs": [
    {
     "name": "stdout",
     "output_type": "stream",
     "text": [
      "SUCCESS: read_lacZ_full_circuit_inputs passed all tests!\n"
     ]
    }
   ],
   "source": [
    "# tests for read_lacZ_full_circuit_inputs\n",
    "assert read_lacZ_full_circuit_inputs(\"lac_network_inputs.txt\") == [[False, False, False, False],\n",
    "                                                                   [False, False, False, True],\n",
    "                                                                   [False, False, True, False],\n",
    "                                                                   [False, False, True, True]]\n",
    "print(\"SUCCESS: read_lacZ_full_circuit_inputs passed all tests!\")"
   ]
  },
  {
   "cell_type": "markdown",
   "metadata": {
    "deletable": false,
    "editable": false,
    "nbgrader": {
     "grade": false,
     "grade_id": "cell-1a8dbb6192d0ac64",
     "locked": true,
     "schema_version": 3,
     "solution": false
    }
   },
   "source": [
    "### PROBLEM 10 - calling functions with arguments in a list (1 POINT)\n",
    "Finally, we will practice calling a function that takes multiple arguments when the arguments are packed within a single list or tuple.  For this we will use Python's [unpacking](https://docs.python.org/3/tutorial/controlflow.html#unpacking-argument-lists) syntax.\n",
    "\n",
    "For example, suppose we have a number of words in a list, and we want to use the print statement to print all of the words on a single line, separated by a single space character.  We can use unpacking to make this easy."
   ]
  },
  {
   "cell_type": "code",
   "execution_count": 53,
   "metadata": {
    "deletable": false,
    "editable": false,
    "nbgrader": {
     "grade": false,
     "grade_id": "cell-692dd28c3dd37bf7",
     "locked": true,
     "schema_version": 3,
     "solution": false
    }
   },
   "outputs": [],
   "source": [
    "some_words = [\"Here\", \"are\", \"some\", \"words\"]"
   ]
  },
  {
   "cell_type": "code",
   "execution_count": 54,
   "metadata": {
    "deletable": false,
    "editable": false,
    "nbgrader": {
     "grade": false,
     "grade_id": "cell-46d212454cdba7d6",
     "locked": true,
     "schema_version": 3,
     "solution": false
    }
   },
   "outputs": [
    {
     "name": "stdout",
     "output_type": "stream",
     "text": [
      "['Here', 'are', 'some', 'words']\n"
     ]
    }
   ],
   "source": [
    "print(some_words)"
   ]
  },
  {
   "cell_type": "code",
   "execution_count": 55,
   "metadata": {
    "deletable": false,
    "editable": false,
    "nbgrader": {
     "grade": false,
     "grade_id": "cell-41615fb2aee608eb",
     "locked": true,
     "schema_version": 3,
     "solution": false
    }
   },
   "outputs": [
    {
     "name": "stdout",
     "output_type": "stream",
     "text": [
      "Here are some words\n"
     ]
    }
   ],
   "source": [
    "print(*some_words)"
   ]
  },
  {
   "cell_type": "markdown",
   "metadata": {
    "deletable": false,
    "editable": false,
    "nbgrader": {
     "grade": false,
     "grade_id": "cell-8e60e43a2efdbbe2",
     "locked": true,
     "schema_version": 3,
     "solution": false
    }
   },
   "source": [
    "Notice the difference in the output from the two print statements above.  In the first statement, `print` is given a single argument, a list of strings.  In the second statement, `print` is given multiple arguments, each an element from the list `some_words`."
   ]
  },
  {
   "cell_type": "markdown",
   "metadata": {
    "deletable": false,
    "editable": false,
    "nbgrader": {
     "grade": false,
     "grade_id": "cell-9fa01f3b2622c6bc",
     "locked": true,
     "schema_version": 3,
     "solution": false
    }
   },
   "source": [
    "Use this argument unpacking technique to write a function that calls `lacZ_full_circuit` on each of a list of input value lists, such as is returned by the `read_lacZ_full_circuit_inputs` function you defined in the previous problem.  The function should return a list of the corresponding outputs from the `lacZ_full_circuit` function."
   ]
  },
  {
   "cell_type": "code",
   "execution_count": 81,
   "metadata": {
    "nbgrader": {
     "grade": false,
     "grade_id": "cell-612dc5974d182479",
     "locked": false,
     "schema_version": 3,
     "solution": true,
     "task": false
    }
   },
   "outputs": [],
   "source": [
    "def call_lacZ_full_circuit_on_list(inputs_list):\n",
    "    ### YOUR CODE HERE\n",
    "    print(*inputs_list)\n",
    "    solutions = []\n",
    "    \n",
    "    #for x in inputs_list:\n",
    "    #   solutions.append(lacZ_full_circuit(*x))\n",
    "        \n",
    "    solutions = [lacZ_full_circuit(*x) for x in inputs_list]\n",
    "        \n",
    "    print(solutions)    \n",
    "    return solutions\n"
   ]
  },
  {
   "cell_type": "code",
   "execution_count": 82,
   "metadata": {
    "deletable": false,
    "editable": false,
    "nbgrader": {
     "grade": true,
     "grade_id": "call_lacZ_full_circuit_on_list",
     "locked": true,
     "points": 1,
     "schema_version": 3,
     "solution": false
    },
    "scrolled": true
   },
   "outputs": [
    {
     "name": "stdout",
     "output_type": "stream",
     "text": [
      "[False, False, False, False] [False, False, False, True] [False, False, True, False] [False, False, True, True]\n",
      "['low', 'high', 'low', 'low']\n",
      "[False, False, False, True]\n",
      "['high']\n",
      "SUCCESS: call_lacZ_full_circuit_on_list passed all tests!\n"
     ]
    }
   ],
   "source": [
    "# tests for call_lacZ_full_circuit_on_list\n",
    "test1_list = [[False, False, False, False],\n",
    "              [False, False, False, True],\n",
    "              [False, False, True, False],\n",
    "              [False, False, True, True]]\n",
    "assert call_lacZ_full_circuit_on_list(test1_list) == ['low', 'high', 'low', 'low'], \"Failed on test1_list\"\n",
    "test2_list = [[False, False, False, True]]\n",
    "assert call_lacZ_full_circuit_on_list(test2_list) == ['high'], \"Failed on test2_list\"\n",
    "print(\"SUCCESS: call_lacZ_full_circuit_on_list passed all tests!\")"
   ]
  },
  {
   "cell_type": "markdown",
   "metadata": {
    "deletable": false,
    "editable": false,
    "nbgrader": {
     "grade": false,
     "grade_id": "cell-acca63bac61ddac8",
     "locked": true,
     "schema_version": 3,
     "solution": false
    }
   },
   "source": [
    "## Submitting your notebook"
   ]
  },
  {
   "cell_type": "markdown",
   "metadata": {
    "deletable": false,
    "editable": false,
    "nbgrader": {
     "grade": false,
     "grade_id": "cell-e6f723b254cfe2f6",
     "locked": true,
     "schema_version": 3,
     "solution": false
    }
   },
   "source": [
    "Congratulations, you have reached the end of this notebook!  To double check that you have completed all of the problems correctly, you are encouraged to restart Python and run all of the cells in the notebook from beginning to end.  You can do so automatically by running the command \"Restart Kernel and Run All Cells\" from the \"Kernel\" menu.  After running this command, look through your notebook and check that all of the tests ran successfully.\n",
    "\n",
    "To submit your work, click on \"Submit\" button in the upper right corner.  You may submit as many times as you wish and your final grade will be based on your most recent submission.  After you submit, a grade report will become available telling you how many points you received on each problem in the notebook."
   ]
  }
 ],
 "metadata": {
  "celltoolbar": "Create Assignment",
  "kernelspec": {
   "display_name": "Python 3 [3.10]",
   "language": "python",
   "name": "python3"
  },
  "language_info": {
   "codemirror_mode": {
    "name": "ipython",
    "version": 3
   },
   "file_extension": ".py",
   "mimetype": "text/x-python",
   "name": "python",
   "nbconvert_exporter": "python",
   "pygments_lexer": "ipython3",
   "version": "3.10.2"
  }
 },
 "nbformat": 4,
 "nbformat_minor": 4
}
