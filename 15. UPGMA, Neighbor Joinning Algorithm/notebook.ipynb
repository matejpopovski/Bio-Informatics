{
 "cells": [
  {
   "cell_type": "markdown",
   "metadata": {
    "deletable": false,
    "editable": false,
    "nbgrader": {
     "grade": false,
     "grade_id": "cell-00e102fe33d59346",
     "locked": true,
     "schema_version": 3,
     "solution": false
    }
   },
   "source": [
    "# Day 15 notebook\n",
    "\n",
    "The objectives of this notebook are to practice\n",
    "\n",
    "* the UPGMA algorithm\n",
    "* the neighbor joining algorithm"
   ]
  },
  {
   "cell_type": "code",
   "execution_count": 3,
   "metadata": {
    "deletable": false,
    "editable": false,
    "nbgrader": {
     "grade": false,
     "grade_id": "cell-0d7c2db9e2693e53",
     "locked": true,
     "schema_version": 3,
     "solution": false
    }
   },
   "outputs": [],
   "source": [
    "import toytree"
   ]
  },
  {
   "cell_type": "markdown",
   "metadata": {
    "deletable": false,
    "editable": false,
    "nbgrader": {
     "grade": false,
     "grade_id": "cell-801ca41d7a38f7a5",
     "locked": true,
     "schema_version": 3,
     "solution": false
    }
   },
   "source": [
    "## The case of possible HIV transmission from dentist to patient\n",
    "In the early 1990s a controversial case arose in which it was suspected that an HIV-positive dentist had transmitted HIV to at least one of his patients.  For some background on the case, you can read the [obituary of one of the patients who died of AIDS](https://www.nytimes.com/1991/12/09/obituaries/kimberly-bergalis-is-dead-at-23-symbol-of-debate-over-aids-tests.html).  Ultimately, the Centers for Disease Control and Prevention (CDC) became involved and obtained HIV samples from the dentist, HIV-positive patients of this dentist, and a number of HIV-positive individuals in the local community (which served as controls).  The CDC performed DNA sequencing on these samples and a subsequent phylogenetic analysis to determine whether or not the molecular data provided evidence that the dentist had transmitted HIV to his patients ([Ou et al. Science, 1992](http://science.sciencemag.org/content/256/5060/1165)).\n",
    "\n",
    "We will revisit the data from this study and run the UPGMA and neighbor joining algorithms to see if we can reproduce its conclusions.  Below is a pairwise distance matrix for HIV genomic segments obtained from viral samples from five individuals: the dentist (D), patient A (PA), patient B (PB), local control 1 (C1), and local control 2 (C2).  These distances come from a multiple alignment of the V3 variable region of the HIV genome for these samples."
   ]
  },
  {
   "cell_type": "markdown",
   "metadata": {
    "deletable": false,
    "editable": false,
    "nbgrader": {
     "grade": false,
     "grade_id": "cell-8175e30036f1d636",
     "locked": true,
     "schema_version": 3,
     "solution": false
    }
   },
   "source": [
    "              C1      C2       D      PA      PB\n",
    "      C1     0.0    0.09   0.098   0.105    0.12\n",
    "      C2    0.09     0.0   0.072   0.076   0.101\n",
    "       D   0.098   0.072     0.0    0.04   0.061\n",
    "      PA   0.105   0.076    0.04     0.0   0.068\n",
    "      PB    0.12   0.101   0.061   0.068     0.0"
   ]
  },
  {
   "cell_type": "markdown",
   "metadata": {
    "deletable": false,
    "editable": false,
    "nbgrader": {
     "grade": false,
     "grade_id": "cell-86da7d2066cc8e9a",
     "locked": true,
     "schema_version": 3,
     "solution": false
    }
   },
   "source": [
    "Here is that same matrix in the form of a Python dictionary-based distance matrix:"
   ]
  },
  {
   "cell_type": "code",
   "execution_count": 4,
   "metadata": {
    "deletable": false,
    "editable": false,
    "nbgrader": {
     "grade": false,
     "grade_id": "cell-bdf73fbb499f7d12",
     "locked": true,
     "schema_version": 3,
     "solution": false
    }
   },
   "outputs": [],
   "source": [
    "v3_matrix = {\n",
    "    ('C1', 'C1'): 0.0,   ('C1', 'C2'): 0.09,  ('C1', 'D'): 0.098, ('C1', 'PA'): 0.105, ('C1', 'PB'): 0.12,\n",
    "    ('C2', 'C1'): 0.09,  ('C2', 'C2'): 0.0,   ('C2', 'D'): 0.072, ('C2', 'PA'): 0.076, ('C2', 'PB'): 0.101, \n",
    "     ('D', 'C1'): 0.098,  ('D', 'C2'): 0.072,  ('D', 'D'): 0.0,    ('D', 'PA'): 0.04,   ('D', 'PB'): 0.061,\n",
    "    ('PA', 'C1'): 0.105, ('PA', 'C2'): 0.076, ('PA', 'D'): 0.04,  ('PA', 'PA'): 0.0,   ('PA', 'PB'): 0.068,\n",
    "    ('PB', 'C1'): 0.12,  ('PB', 'C2'): 0.101, ('PB', 'D'): 0.061, ('PB', 'PA'): 0.068, ('PB', 'PB'): 0.0}"
   ]
  },
  {
   "cell_type": "markdown",
   "metadata": {
    "deletable": false,
    "editable": false,
    "nbgrader": {
     "grade": false,
     "grade_id": "cell-813bfcef590e5f5c",
     "locked": true,
     "schema_version": 3,
     "solution": false
    }
   },
   "source": [
    "## PROBLEM 1: UPGMA (20 POINTS)\n",
    "Run the UPGMA algorithm (by hand, or by code if you really want to) on this distance matrix.  Record your result by assigning the resulting tree, in Newick string format, to the variable `upgma_tree_newick` below.  Your tree should have branch lengths, with lengths rounded to three digits after the decimal point.  **Important note:** do *not* round the intermediate distances computed during the algorithm."
   ]
  },
  {
   "cell_type": "code",
   "execution_count": 5,
   "metadata": {},
   "outputs": [],
   "source": [
    "###\n",
    "upgma_tree_newick = '(C1:0.052,(C2:0.042,((D:0.02,PA:0.02):0.012,PB:0.032):0.009):0.01);'\n",
    "###\n"
   ]
  },
  {
   "cell_type": "code",
   "execution_count": 6,
   "metadata": {},
   "outputs": [
    {
     "data": {
      "text/html": [
       "<div class=\"toyplot\" id=\"t5e0d7b53a0d64de28066f754febd65fc\" style=\"text-align:center\"><svg class=\"toyplot-canvas-Canvas\" xmlns:toyplot=\"http://www.sandia.gov/toyplot\" xmlns:xlink=\"http://www.w3.org/1999/xlink\" xmlns=\"http://www.w3.org/2000/svg\" width=\"260.0px\" height=\"275.0px\" viewBox=\"0 0 260.0 275.0\" preserveAspectRatio=\"xMidYMid meet\" style=\"background-color:transparent;border-color:#292724;border-style:none;border-width:1.0;fill:rgb(16.1%,15.3%,14.1%);fill-opacity:1.0;font-family:Helvetica;font-size:12px;opacity:1.0;stroke:rgb(16.1%,15.3%,14.1%);stroke-opacity:1.0;stroke-width:1.0\" id=\"ta185dcb39f38421793d8f08025ba821d\"><g class=\"toyplot-coordinates-Cartesian\" id=\"te486f3b4e9f6497ebab437d945a95dda\"><clipPath id=\"t780925182ec149509de7cbdec36e07ad\"><rect x=\"30.0\" y=\"30.0\" width=\"200.0\" height=\"215.0\"></rect></clipPath><g clip-path=\"url(#t780925182ec149509de7cbdec36e07ad)\"><g class=\"toytree-mark-Toytree\" id=\"t6d4ab252681a44d8afbe5f1df1c0fa4e\"><g class=\"toytree-Edges\" style=\"fill:none;stroke:rgb(14.9%,14.9%,14.9%);stroke-linecap:round;stroke-opacity:1;stroke-width:2\"><path d=\"M 51.7 96.9 L 51.7 132.7 L 77.8 132.7\" id=\"8,7\"></path><path d=\"M 77.8 132.7 L 77.8 166.2 L 101.2 166.2\" id=\"7,6\"></path><path d=\"M 101.2 166.2 L 101.2 194.9 L 132.5 194.9\" id=\"6,5\"></path><path d=\"M 51.7 96.9 L 51.7 61.0 L 187.3 61.0\" id=\"8,4\"></path><path d=\"M 77.8 132.7 L 77.8 99.3 L 187.3 99.3\" id=\"7,3\"></path><path d=\"M 101.2 166.2 L 101.2 137.5 L 184.7 137.5\" id=\"6,2\"></path><path d=\"M 132.5 194.9 L 132.5 175.7 L 184.7 175.7\" id=\"5,1\"></path><path d=\"M 132.5 194.9 L 132.5 214.0 L 184.7 214.0\" id=\"5,0\"></path></g><g class=\"toytree-TipLabels\" style=\"fill:rgb(14.9%,14.9%,14.9%);fill-opacity:1.0;font-family:helvetica;font-size:11px;font-weight:normal;stroke:none;white-space:pre\"><g transform=\"translate(184.65,213.99)rotate(0)\"><text x=\"15.00\" y=\"2.81\" style=\"\">PA</text></g><g transform=\"translate(184.65,175.74)rotate(0)\"><text x=\"15.00\" y=\"2.81\" style=\"\">D</text></g><g transform=\"translate(184.65,137.50)rotate(0)\"><text x=\"15.00\" y=\"2.81\" style=\"\">PB</text></g><g transform=\"translate(187.26,99.26)rotate(0)\"><text x=\"15.00\" y=\"2.81\" style=\"\">C2</text></g><g transform=\"translate(187.26,61.01)rotate(0)\"><text x=\"15.00\" y=\"2.81\" style=\"\">C1</text></g></g></g></g><g class=\"toyplot-coordinates-Axis\" id=\"t655a33e5be0b43f695073d4238a7354f\" transform=\"translate(50.0,225.0)translate(0,20.0)\"><line x1=\"1.6945741852804994\" y1=\"0\" x2=\"137.2605090077209\" y2=\"0\" style=\"\"></line><g><line x1=\"137.2605090077209\" y1=\"0\" x2=\"137.2605090077209\" y2=\"-5\" style=\"\"></line><line x1=\"69.47754159650071\" y1=\"0\" x2=\"69.47754159650071\" y2=\"-5\" style=\"\"></line><line x1=\"1.6945741852804994\" y1=\"0\" x2=\"1.6945741852804994\" y2=\"-5\" style=\"\"></line></g><g><g transform=\"translate(137.2605090077209,6)\"><text x=\"-9.729999999999999\" y=\"8.555\" style=\"fill:rgb(16.1%,15.3%,14.1%);fill-opacity:1.0;font-family:helvetica;font-size:10.0px;font-weight:normal;stroke:none;vertical-align:baseline;white-space:pre\">0.00</text></g><g transform=\"translate(69.47754159650071,6)\"><text x=\"-9.729999999999999\" y=\"8.555\" style=\"fill:rgb(16.1%,15.3%,14.1%);fill-opacity:1.0;font-family:helvetica;font-size:10.0px;font-weight:normal;stroke:none;vertical-align:baseline;white-space:pre\">0.03</text></g><g transform=\"translate(1.6945741852804994,6)\"><text x=\"-9.729999999999999\" y=\"8.555\" style=\"fill:rgb(16.1%,15.3%,14.1%);fill-opacity:1.0;font-family:helvetica;font-size:10.0px;font-weight:normal;stroke:none;vertical-align:baseline;white-space:pre\">0.05</text></g></g><g class=\"toyplot-coordinates-Axis-coordinates\" style=\"visibility:hidden\" transform=\"\"><line x1=\"0\" x2=\"0\" y1=\"-3.0\" y2=\"4.5\" style=\"stroke:rgb(43.9%,50.2%,56.5%);stroke-opacity:1.0;stroke-width:1.0\"></line><text x=\"0\" y=\"-6\" style=\"alignment-baseline:alphabetic;fill:rgb(43.9%,50.2%,56.5%);fill-opacity:1.0;font-size:10px;font-weight:normal;stroke:none;text-anchor:middle\"></text></g></g></g></svg><div class=\"toyplot-behavior\"><script>(function()\n",
       "{\n",
       "var modules={};\n",
       "modules[\"toyplot/canvas/id\"] = \"ta185dcb39f38421793d8f08025ba821d\";\n",
       "modules[\"toyplot/canvas\"] = (function(canvas_id)\n",
       "    {\n",
       "        return document.querySelector(\"#\" + canvas_id);\n",
       "    })(modules[\"toyplot/canvas/id\"]);\n",
       "modules[\"toyplot.coordinates.Axis\"] = (\n",
       "        function(canvas)\n",
       "        {\n",
       "            function sign(x)\n",
       "            {\n",
       "                return x < 0 ? -1 : x > 0 ? 1 : 0;\n",
       "            }\n",
       "\n",
       "            function mix(a, b, amount)\n",
       "            {\n",
       "                return ((1.0 - amount) * a) + (amount * b);\n",
       "            }\n",
       "\n",
       "            function log(x, base)\n",
       "            {\n",
       "                return Math.log(Math.abs(x)) / Math.log(base);\n",
       "            }\n",
       "\n",
       "            function in_range(a, x, b)\n",
       "            {\n",
       "                var left = Math.min(a, b);\n",
       "                var right = Math.max(a, b);\n",
       "                return left <= x && x <= right;\n",
       "            }\n",
       "\n",
       "            function inside(range, projection)\n",
       "            {\n",
       "                for(var i = 0; i != projection.length; ++i)\n",
       "                {\n",
       "                    var segment = projection[i];\n",
       "                    if(in_range(segment.range.min, range, segment.range.max))\n",
       "                        return true;\n",
       "                }\n",
       "                return false;\n",
       "            }\n",
       "\n",
       "            function to_domain(range, projection)\n",
       "            {\n",
       "                for(var i = 0; i != projection.length; ++i)\n",
       "                {\n",
       "                    var segment = projection[i];\n",
       "                    if(in_range(segment.range.bounds.min, range, segment.range.bounds.max))\n",
       "                    {\n",
       "                        if(segment.scale == \"linear\")\n",
       "                        {\n",
       "                            var amount = (range - segment.range.min) / (segment.range.max - segment.range.min);\n",
       "                            return mix(segment.domain.min, segment.domain.max, amount)\n",
       "                        }\n",
       "                        else if(segment.scale[0] == \"log\")\n",
       "                        {\n",
       "                            var amount = (range - segment.range.min) / (segment.range.max - segment.range.min);\n",
       "                            var base = segment.scale[1];\n",
       "                            return sign(segment.domain.min) * Math.pow(base, mix(log(segment.domain.min, base), log(segment.domain.max, base), amount));\n",
       "                        }\n",
       "                    }\n",
       "                }\n",
       "            }\n",
       "\n",
       "            var axes = {};\n",
       "\n",
       "            function display_coordinates(e)\n",
       "            {\n",
       "                var current = canvas.createSVGPoint();\n",
       "                current.x = e.clientX;\n",
       "                current.y = e.clientY;\n",
       "\n",
       "                for(var axis_id in axes)\n",
       "                {\n",
       "                    var axis = document.querySelector(\"#\" + axis_id);\n",
       "                    var coordinates = axis.querySelector(\".toyplot-coordinates-Axis-coordinates\");\n",
       "                    if(coordinates)\n",
       "                    {\n",
       "                        var projection = axes[axis_id];\n",
       "                        var local = current.matrixTransform(axis.getScreenCTM().inverse());\n",
       "                        if(inside(local.x, projection))\n",
       "                        {\n",
       "                            var domain = to_domain(local.x, projection);\n",
       "                            coordinates.style.visibility = \"visible\";\n",
       "                            coordinates.setAttribute(\"transform\", \"translate(\" + local.x + \")\");\n",
       "                            var text = coordinates.querySelector(\"text\");\n",
       "                            text.textContent = domain.toFixed(2);\n",
       "                        }\n",
       "                        else\n",
       "                        {\n",
       "                            coordinates.style.visibility= \"hidden\";\n",
       "                        }\n",
       "                    }\n",
       "                }\n",
       "            }\n",
       "\n",
       "            canvas.addEventListener(\"click\", display_coordinates);\n",
       "\n",
       "            var module = {};\n",
       "            module.show_coordinates = function(axis_id, projection)\n",
       "            {\n",
       "                axes[axis_id] = projection;\n",
       "            }\n",
       "\n",
       "            return module;\n",
       "        })(modules[\"toyplot/canvas\"]);\n",
       "(function(axis, axis_id, projection)\n",
       "        {\n",
       "            axis.show_coordinates(axis_id, projection);\n",
       "        })(modules[\"toyplot.coordinates.Axis\"],\"t655a33e5be0b43f695073d4238a7354f\",[{\"domain\": {\"bounds\": {\"max\": Infinity, \"min\": -Infinity}, \"max\": 0.008722349999999993, \"min\": -0.05265}, \"range\": {\"bounds\": {\"max\": Infinity, \"min\": -Infinity}, \"max\": 160.0, \"min\": 0.0}, \"scale\": \"linear\"}]);\n",
       "})();</script></div></div>"
      ]
     },
     "metadata": {},
     "output_type": "display_data"
    }
   ],
   "source": [
    "# draw your UPGMA tree\n",
    "upgma_tree = toytree.tree(upgma_tree_newick)\n",
    "upgma_tree.draw(use_edge_lengths=True, scalebar=True);"
   ]
  },
  {
   "cell_type": "code",
   "execution_count": 7,
   "metadata": {
    "deletable": false,
    "editable": false,
    "nbgrader": {
     "grade": true,
     "grade_id": "upgma_tree_newick_valid_tree",
     "locked": true,
     "points": 4,
     "schema_version": 3,
     "solution": false
    }
   },
   "outputs": [
    {
     "name": "stdout",
     "output_type": "stream",
     "text": [
      "SUCCESS: upgma_tree_newick valid tree test passed\n"
     ]
    }
   ],
   "source": [
    "# test upgma_tree_newick valid tree\n",
    "upgma_tree = toytree.tree(upgma_tree_newick)\n",
    "assert sorted(upgma_tree.get_tip_labels()) == ['C1', 'C2', 'D', 'PA', 'PB']\n",
    "assert upgma_tree.is_rooted()\n",
    "print(\"SUCCESS: upgma_tree_newick valid tree test passed\")"
   ]
  },
  {
   "cell_type": "code",
   "execution_count": 8,
   "metadata": {
    "deletable": false,
    "editable": false,
    "nbgrader": {
     "grade": true,
     "grade_id": "upgma_tree_newick_topology",
     "locked": true,
     "points": 8,
     "schema_version": 3,
     "solution": false
    }
   },
   "outputs": [],
   "source": [
    "# test upgma_tree_newick tree topology\n",
    "###\n",
    "### AUTOGRADER TEST - DO NOT REMOVE\n",
    "###\n"
   ]
  },
  {
   "cell_type": "code",
   "execution_count": 9,
   "metadata": {
    "deletable": false,
    "editable": false,
    "nbgrader": {
     "grade": false,
     "grade_id": "cell-a8caa3efb1397484",
     "locked": true,
     "schema_version": 3,
     "solution": false,
     "task": false
    }
   },
   "outputs": [
    {
     "name": "stdout",
     "output_type": "stream",
     "text": [
      "The standardized list of branch lengths in your tree is:\n",
      "[0.02, 0.02, 0.032, 0.042, 0.052, 0.012, 0.009, 0.01]\n",
      "The ith entry (0-based indexing) of this list will be tested with test upgma_tree_newick_branch_length_i\n"
     ]
    }
   ],
   "source": [
    "# the code below extracts the branch lengths from your tree in a standardized order for testing\n",
    "upgma_tree = toytree.tree(upgma_tree_newick)\n",
    "upgma_tree.treenode.sort_descendants()\n",
    "upgma_tree = toytree.tree(upgma_tree.write(tree_format=5)) # hack to make sure edges are in same order\n",
    "upgma_branch_lengths = [round(x, 3) for x in upgma_tree.get_edge_values(feature=\"dist\")]\n",
    "print(\"The standardized list of branch lengths in your tree is:\", upgma_branch_lengths, sep=\"\\n\")\n",
    "print(\"The ith entry (0-based indexing) of this list will be tested with test upgma_tree_newick_branch_length_i\")"
   ]
  },
  {
   "cell_type": "code",
   "execution_count": 10,
   "metadata": {
    "deletable": false,
    "editable": false,
    "nbgrader": {
     "grade": true,
     "grade_id": "upgma_tree_newick_branch_length_0",
     "locked": true,
     "points": 1,
     "schema_version": 3,
     "solution": false
    },
    "scrolled": true
   },
   "outputs": [],
   "source": [
    "# test upgma_tree_newick_branch_length_0\n",
    "###\n",
    "### AUTOGRADER TEST - DO NOT REMOVE\n",
    "###\n"
   ]
  },
  {
   "cell_type": "code",
   "execution_count": 11,
   "metadata": {
    "deletable": false,
    "editable": false,
    "nbgrader": {
     "grade": true,
     "grade_id": "upgma_tree_newick_branch_length_1",
     "locked": true,
     "points": 1,
     "schema_version": 3,
     "solution": false
    },
    "scrolled": true
   },
   "outputs": [],
   "source": [
    "# test upgma_tree_newick_branch_length_1\n",
    "###\n",
    "### AUTOGRADER TEST - DO NOT REMOVE\n",
    "###\n"
   ]
  },
  {
   "cell_type": "code",
   "execution_count": 12,
   "metadata": {
    "deletable": false,
    "editable": false,
    "nbgrader": {
     "grade": true,
     "grade_id": "upgma_tree_newick_branch_length_2",
     "locked": true,
     "points": 1,
     "schema_version": 3,
     "solution": false
    },
    "scrolled": true
   },
   "outputs": [],
   "source": [
    "# test upgma_tree_newick_branch_length_2\n",
    "###\n",
    "### AUTOGRADER TEST - DO NOT REMOVE\n",
    "###\n"
   ]
  },
  {
   "cell_type": "code",
   "execution_count": 13,
   "metadata": {
    "deletable": false,
    "editable": false,
    "nbgrader": {
     "grade": true,
     "grade_id": "upgma_tree_newick_branch_length_3",
     "locked": true,
     "points": 1,
     "schema_version": 3,
     "solution": false
    },
    "scrolled": true
   },
   "outputs": [],
   "source": [
    "# test upgma_tree_newick_branch_length_3\n",
    "###\n",
    "### AUTOGRADER TEST - DO NOT REMOVE\n",
    "###\n"
   ]
  },
  {
   "cell_type": "code",
   "execution_count": 14,
   "metadata": {
    "deletable": false,
    "editable": false,
    "nbgrader": {
     "grade": true,
     "grade_id": "upgma_tree_newick_branch_length_4",
     "locked": true,
     "points": 1,
     "schema_version": 3,
     "solution": false
    },
    "scrolled": true
   },
   "outputs": [],
   "source": [
    "# test upgma_tree_newick_branch_length_4\n",
    "###\n",
    "### AUTOGRADER TEST - DO NOT REMOVE\n",
    "###\n"
   ]
  },
  {
   "cell_type": "code",
   "execution_count": 15,
   "metadata": {
    "deletable": false,
    "editable": false,
    "nbgrader": {
     "grade": true,
     "grade_id": "upgma_tree_newick_branch_length_5",
     "locked": true,
     "points": 1,
     "schema_version": 3,
     "solution": false
    },
    "scrolled": true
   },
   "outputs": [],
   "source": [
    "# test upgma_tree_newick_branch_length_5\n",
    "###\n",
    "### AUTOGRADER TEST - DO NOT REMOVE\n",
    "###\n"
   ]
  },
  {
   "cell_type": "code",
   "execution_count": 16,
   "metadata": {
    "deletable": false,
    "editable": false,
    "nbgrader": {
     "grade": true,
     "grade_id": "upgma_tree_newick_branch_length_6",
     "locked": true,
     "points": 1,
     "schema_version": 3,
     "solution": false
    },
    "scrolled": true
   },
   "outputs": [],
   "source": [
    "# test upgma_tree_newick_branch_length_6\n",
    "###\n",
    "### AUTOGRADER TEST - DO NOT REMOVE\n",
    "###\n"
   ]
  },
  {
   "cell_type": "code",
   "execution_count": 17,
   "metadata": {
    "deletable": false,
    "editable": false,
    "nbgrader": {
     "grade": true,
     "grade_id": "upgma_tree_newick_branch_length_7",
     "locked": true,
     "points": 1,
     "schema_version": 3,
     "solution": false
    },
    "scrolled": true
   },
   "outputs": [],
   "source": [
    "# test upgma_tree_newick_branch_length_7\n",
    "###\n",
    "### AUTOGRADER TEST - DO NOT REMOVE\n",
    "###\n"
   ]
  },
  {
   "cell_type": "markdown",
   "metadata": {
    "deletable": false,
    "editable": false,
    "nbgrader": {
     "grade": false,
     "grade_id": "cell-d632109283d4c07b",
     "locked": true,
     "schema_version": 3,
     "solution": false
    }
   },
   "source": [
    "## PROBLEM 2: Neighbor joining (20 POINTS)\n",
    "Run the neighbor joining algorithm (by hand, or by code if you really want to) on this distance matrix.  Record your result by assigning the resulting tree, in Newick string format, to the variable `nj_tree_newick` below.  Your tree should have branch lengths, with lengths rounded to three digits after the decimal point.  **Important note:** do *not* round the intermediate distances computed during the algorithm.\n",
    "\n",
    "*Note: in Newick format, an unrooted tree has three children at the top level (e.g., \"(A, B, C);\")*"
   ]
  },
  {
   "cell_type": "code",
   "execution_count": 18,
   "metadata": {},
   "outputs": [],
   "source": [
    "###\n",
    "nj_tree_newick = '(((C1:0.057,C2:0.033):0.022,PB:0.044):0.001,D:0.017,PA:0.023);'\n",
    "###\n"
   ]
  },
  {
   "cell_type": "code",
   "execution_count": 19,
   "metadata": {},
   "outputs": [
    {
     "data": {
      "text/html": [
       "<div class=\"toyplot\" id=\"teb8f4ffa7e2c4460a7bf5999ff2e9687\" style=\"text-align:center\"><svg class=\"toyplot-canvas-Canvas\" xmlns:toyplot=\"http://www.sandia.gov/toyplot\" xmlns:xlink=\"http://www.w3.org/1999/xlink\" xmlns=\"http://www.w3.org/2000/svg\" width=\"260.0px\" height=\"275.0px\" viewBox=\"0 0 260.0 275.0\" preserveAspectRatio=\"xMidYMid meet\" style=\"background-color:transparent;border-color:#292724;border-style:none;border-width:1.0;fill:rgb(16.1%,15.3%,14.1%);fill-opacity:1.0;font-family:Helvetica;font-size:12px;opacity:1.0;stroke:rgb(16.1%,15.3%,14.1%);stroke-opacity:1.0;stroke-width:1.0\" id=\"ta6b51ef9610b4d57a1d4c33a214653f3\"><g class=\"toyplot-coordinates-Cartesian\" id=\"tb0b791c1df9945fbaaa286896c8c6687\"><clipPath id=\"t3b9950219504479c9a23e6b4a121266c\"><rect x=\"30.0\" y=\"30.0\" width=\"200.0\" height=\"215.0\"></rect></clipPath><g clip-path=\"url(#t3b9950219504479c9a23e6b4a121266c)\"><g class=\"toytree-mark-Toytree\" id=\"t6a195012b7724655afe216e03163c7c5\"><g class=\"toytree-Edges\" style=\"fill:none;stroke:rgb(14.9%,14.9%,14.9%);stroke-linecap:round;stroke-opacity:1;stroke-width:2\"><path d=\"M 51.7 108.8 L 51.7 166.2 L 53.4 166.2\" id=\"7,6\"></path><path d=\"M 53.4 166.2 L 53.4 194.9 L 90.7 194.9\" id=\"6,5\"></path><path d=\"M 51.7 108.8 L 51.7 61.0 L 80.5 61.0\" id=\"7,4\"></path><path d=\"M 51.7 108.8 L 51.7 99.3 L 90.7 99.3\" id=\"7,3\"></path><path d=\"M 53.4 166.2 L 53.4 137.5 L 128.0 137.5\" id=\"6,2\"></path><path d=\"M 90.7 194.9 L 90.7 175.7 L 187.3 175.7\" id=\"5,1\"></path><path d=\"M 90.7 194.9 L 90.7 214.0 L 146.6 214.0\" id=\"5,0\"></path></g><g class=\"toytree-TipLabels\" style=\"fill:rgb(14.9%,14.9%,14.9%);fill-opacity:1.0;font-family:helvetica;font-size:11px;font-weight:normal;stroke:none;white-space:pre\"><g transform=\"translate(146.59,213.99)rotate(0)\"><text x=\"15.00\" y=\"2.81\" style=\"\">C2</text></g><g transform=\"translate(187.26,175.74)rotate(0)\"><text x=\"15.00\" y=\"2.81\" style=\"\">C1</text></g><g transform=\"translate(127.95,137.50)rotate(0)\"><text x=\"15.00\" y=\"2.81\" style=\"\">PB</text></g><g transform=\"translate(90.67,99.26)rotate(0)\"><text x=\"15.00\" y=\"2.81\" style=\"\">PA</text></g><g transform=\"translate(80.50,61.01)rotate(0)\"><text x=\"15.00\" y=\"2.81\" style=\"\">D</text></g></g></g></g><g class=\"toyplot-coordinates-Axis\" id=\"tfbc1f1159d74440fa5963e5c8c53b3c7\" transform=\"translate(50.0,225.0)translate(0,20.0)\"><line x1=\"1.6945741852805065\" y1=\"0\" x2=\"137.2605090077209\" y2=\"0\" style=\"\"></line><g><line x1=\"137.2605090077209\" y1=\"0\" x2=\"137.2605090077209\" y2=\"-5\" style=\"\"></line><line x1=\"69.47754159650071\" y1=\"0\" x2=\"69.47754159650071\" y2=\"-5\" style=\"\"></line><line x1=\"1.6945741852805065\" y1=\"0\" x2=\"1.6945741852805065\" y2=\"-5\" style=\"\"></line></g><g><g transform=\"translate(137.2605090077209,6)\"><text x=\"-9.729999999999999\" y=\"8.555\" style=\"fill:rgb(16.1%,15.3%,14.1%);fill-opacity:1.0;font-family:helvetica;font-size:10.0px;font-weight:normal;stroke:none;vertical-align:baseline;white-space:pre\">0.00</text></g><g transform=\"translate(69.47754159650071,6)\"><text x=\"-9.729999999999999\" y=\"8.555\" style=\"fill:rgb(16.1%,15.3%,14.1%);fill-opacity:1.0;font-family:helvetica;font-size:10.0px;font-weight:normal;stroke:none;vertical-align:baseline;white-space:pre\">0.04</text></g><g transform=\"translate(1.6945741852805065,6)\"><text x=\"-9.729999999999999\" y=\"8.555\" style=\"fill:rgb(16.1%,15.3%,14.1%);fill-opacity:1.0;font-family:helvetica;font-size:10.0px;font-weight:normal;stroke:none;vertical-align:baseline;white-space:pre\">0.08</text></g></g><g class=\"toyplot-coordinates-Axis-coordinates\" style=\"visibility:hidden\" transform=\"\"><line x1=\"0\" x2=\"0\" y1=\"-3.0\" y2=\"4.5\" style=\"stroke:rgb(43.9%,50.2%,56.5%);stroke-opacity:1.0;stroke-width:1.0\"></line><text x=\"0\" y=\"-6\" style=\"alignment-baseline:alphabetic;fill:rgb(43.9%,50.2%,56.5%);fill-opacity:1.0;font-size:10px;font-weight:normal;stroke:none;text-anchor:middle\"></text></g></g></g></svg><div class=\"toyplot-behavior\"><script>(function()\n",
       "{\n",
       "var modules={};\n",
       "modules[\"toyplot/canvas/id\"] = \"ta6b51ef9610b4d57a1d4c33a214653f3\";\n",
       "modules[\"toyplot/canvas\"] = (function(canvas_id)\n",
       "    {\n",
       "        return document.querySelector(\"#\" + canvas_id);\n",
       "    })(modules[\"toyplot/canvas/id\"]);\n",
       "modules[\"toyplot.coordinates.Axis\"] = (\n",
       "        function(canvas)\n",
       "        {\n",
       "            function sign(x)\n",
       "            {\n",
       "                return x < 0 ? -1 : x > 0 ? 1 : 0;\n",
       "            }\n",
       "\n",
       "            function mix(a, b, amount)\n",
       "            {\n",
       "                return ((1.0 - amount) * a) + (amount * b);\n",
       "            }\n",
       "\n",
       "            function log(x, base)\n",
       "            {\n",
       "                return Math.log(Math.abs(x)) / Math.log(base);\n",
       "            }\n",
       "\n",
       "            function in_range(a, x, b)\n",
       "            {\n",
       "                var left = Math.min(a, b);\n",
       "                var right = Math.max(a, b);\n",
       "                return left <= x && x <= right;\n",
       "            }\n",
       "\n",
       "            function inside(range, projection)\n",
       "            {\n",
       "                for(var i = 0; i != projection.length; ++i)\n",
       "                {\n",
       "                    var segment = projection[i];\n",
       "                    if(in_range(segment.range.min, range, segment.range.max))\n",
       "                        return true;\n",
       "                }\n",
       "                return false;\n",
       "            }\n",
       "\n",
       "            function to_domain(range, projection)\n",
       "            {\n",
       "                for(var i = 0; i != projection.length; ++i)\n",
       "                {\n",
       "                    var segment = projection[i];\n",
       "                    if(in_range(segment.range.bounds.min, range, segment.range.bounds.max))\n",
       "                    {\n",
       "                        if(segment.scale == \"linear\")\n",
       "                        {\n",
       "                            var amount = (range - segment.range.min) / (segment.range.max - segment.range.min);\n",
       "                            return mix(segment.domain.min, segment.domain.max, amount)\n",
       "                        }\n",
       "                        else if(segment.scale[0] == \"log\")\n",
       "                        {\n",
       "                            var amount = (range - segment.range.min) / (segment.range.max - segment.range.min);\n",
       "                            var base = segment.scale[1];\n",
       "                            return sign(segment.domain.min) * Math.pow(base, mix(log(segment.domain.min, base), log(segment.domain.max, base), amount));\n",
       "                        }\n",
       "                    }\n",
       "                }\n",
       "            }\n",
       "\n",
       "            var axes = {};\n",
       "\n",
       "            function display_coordinates(e)\n",
       "            {\n",
       "                var current = canvas.createSVGPoint();\n",
       "                current.x = e.clientX;\n",
       "                current.y = e.clientY;\n",
       "\n",
       "                for(var axis_id in axes)\n",
       "                {\n",
       "                    var axis = document.querySelector(\"#\" + axis_id);\n",
       "                    var coordinates = axis.querySelector(\".toyplot-coordinates-Axis-coordinates\");\n",
       "                    if(coordinates)\n",
       "                    {\n",
       "                        var projection = axes[axis_id];\n",
       "                        var local = current.matrixTransform(axis.getScreenCTM().inverse());\n",
       "                        if(inside(local.x, projection))\n",
       "                        {\n",
       "                            var domain = to_domain(local.x, projection);\n",
       "                            coordinates.style.visibility = \"visible\";\n",
       "                            coordinates.setAttribute(\"transform\", \"translate(\" + local.x + \")\");\n",
       "                            var text = coordinates.querySelector(\"text\");\n",
       "                            text.textContent = domain.toFixed(2);\n",
       "                        }\n",
       "                        else\n",
       "                        {\n",
       "                            coordinates.style.visibility= \"hidden\";\n",
       "                        }\n",
       "                    }\n",
       "                }\n",
       "            }\n",
       "\n",
       "            canvas.addEventListener(\"click\", display_coordinates);\n",
       "\n",
       "            var module = {};\n",
       "            module.show_coordinates = function(axis_id, projection)\n",
       "            {\n",
       "                axes[axis_id] = projection;\n",
       "            }\n",
       "\n",
       "            return module;\n",
       "        })(modules[\"toyplot/canvas\"]);\n",
       "(function(axis, axis_id, projection)\n",
       "        {\n",
       "            axis.show_coordinates(axis_id, projection);\n",
       "        })(modules[\"toyplot.coordinates.Axis\"],\"tfbc1f1159d74440fa5963e5c8c53b3c7\",[{\"domain\": {\"bounds\": {\"max\": Infinity, \"min\": -Infinity}, \"max\": 0.01341899999999999, \"min\": -0.081}, \"range\": {\"bounds\": {\"max\": Infinity, \"min\": -Infinity}, \"max\": 160.0, \"min\": 0.0}, \"scale\": \"linear\"}]);\n",
       "})();</script></div></div>"
      ]
     },
     "metadata": {},
     "output_type": "display_data"
    }
   ],
   "source": [
    "# draw your NJ tree\n",
    "nj_tree = toytree.tree(nj_tree_newick)\n",
    "nj_tree.draw(use_edge_lengths=True, scalebar=True);"
   ]
  },
  {
   "cell_type": "code",
   "execution_count": 20,
   "metadata": {
    "deletable": false,
    "editable": false,
    "nbgrader": {
     "grade": true,
     "grade_id": "nj_tree_newick_valid_tree",
     "locked": true,
     "points": 6,
     "schema_version": 3,
     "solution": false
    }
   },
   "outputs": [
    {
     "name": "stdout",
     "output_type": "stream",
     "text": [
      "SUCCESS: nj_tree_newick valid tree test passed\n"
     ]
    }
   ],
   "source": [
    "# test nj_tree_newick valid tree\n",
    "nj_tree = toytree.tree(nj_tree_newick)\n",
    "assert sorted(nj_tree.get_tip_labels()) == ['C1', 'C2', 'D', 'PA', 'PB']\n",
    "assert not nj_tree.is_rooted()\n",
    "print(\"SUCCESS: nj_tree_newick valid tree test passed\")"
   ]
  },
  {
   "cell_type": "code",
   "execution_count": 21,
   "metadata": {
    "deletable": false,
    "editable": false,
    "nbgrader": {
     "grade": true,
     "grade_id": "nj_tree_newick_topology",
     "locked": true,
     "points": 7,
     "schema_version": 3,
     "solution": false
    }
   },
   "outputs": [],
   "source": [
    "# test nj_tree_newick tree topology\n",
    "###\n",
    "### AUTOGRADER TEST - DO NOT REMOVE\n",
    "###\n"
   ]
  },
  {
   "cell_type": "code",
   "execution_count": 22,
   "metadata": {
    "deletable": false,
    "editable": false,
    "nbgrader": {
     "grade": false,
     "grade_id": "cell-50ce4809bcedc02e",
     "locked": true,
     "schema_version": 3,
     "solution": false,
     "task": false
    }
   },
   "outputs": [
    {
     "name": "stdout",
     "output_type": "stream",
     "text": [
      "The standardized list of branch lengths in your tree is:\n",
      "[0.023, 0.017, 0.044, 0.033, 0.057, 0.001, 0.022]\n",
      "The ith entry (0-based indexing) of this list will be tested with test nj_tree_newick_branch_length_i\n"
     ]
    }
   ],
   "source": [
    "# the code below extracts the branch lengths from your tree in a standardized order for testing\n",
    "nj_tree = toytree.tree(nj_tree_newick)\n",
    "rooted_nj_tree = nj_tree.root(names=\"C1\")\n",
    "rooted_nj_tree.treenode.sort_descendants()\n",
    "standardized_nj_tree = toytree.tree(rooted_nj_tree.unroot().write(tree_format=5)) # hack to make sure edges are in same order\n",
    "nj_branch_lengths = [round(x, 3) for x in standardized_nj_tree.get_edge_values(feature=\"dist\")]\n",
    "print(\"The standardized list of branch lengths in your tree is:\", nj_branch_lengths, sep=\"\\n\")\n",
    "print(\"The ith entry (0-based indexing) of this list will be tested with test nj_tree_newick_branch_length_i\")"
   ]
  },
  {
   "cell_type": "code",
   "execution_count": 23,
   "metadata": {
    "deletable": false,
    "editable": false,
    "nbgrader": {
     "grade": true,
     "grade_id": "nj_tree_newick_branch_length_0",
     "locked": true,
     "points": 1,
     "schema_version": 3,
     "solution": false
    },
    "scrolled": true
   },
   "outputs": [],
   "source": [
    "# test nj_tree_newick_branch_length_0\n",
    "###\n",
    "### AUTOGRADER TEST - DO NOT REMOVE\n",
    "###\n"
   ]
  },
  {
   "cell_type": "code",
   "execution_count": 24,
   "metadata": {
    "deletable": false,
    "editable": false,
    "nbgrader": {
     "grade": true,
     "grade_id": "nj_tree_newick_branch_length_1",
     "locked": true,
     "points": 1,
     "schema_version": 3,
     "solution": false
    },
    "scrolled": true
   },
   "outputs": [],
   "source": [
    "# test nj_tree_newick_branch_length_1\n",
    "###\n",
    "### AUTOGRADER TEST - DO NOT REMOVE\n",
    "###\n"
   ]
  },
  {
   "cell_type": "code",
   "execution_count": 25,
   "metadata": {
    "deletable": false,
    "editable": false,
    "nbgrader": {
     "grade": true,
     "grade_id": "nj_tree_newick_branch_length_2",
     "locked": true,
     "points": 1,
     "schema_version": 3,
     "solution": false
    },
    "scrolled": true
   },
   "outputs": [],
   "source": [
    "# test nj_tree_newick_branch_length_2\n",
    "###\n",
    "### AUTOGRADER TEST - DO NOT REMOVE\n",
    "###\n"
   ]
  },
  {
   "cell_type": "code",
   "execution_count": 26,
   "metadata": {
    "deletable": false,
    "editable": false,
    "nbgrader": {
     "grade": true,
     "grade_id": "nj_tree_newick_branch_length_3",
     "locked": true,
     "points": 1,
     "schema_version": 3,
     "solution": false
    },
    "scrolled": true
   },
   "outputs": [],
   "source": [
    "# test nj_tree_newick_branch_length_3\n",
    "###\n",
    "### AUTOGRADER TEST - DO NOT REMOVE\n",
    "###\n"
   ]
  },
  {
   "cell_type": "code",
   "execution_count": 27,
   "metadata": {
    "deletable": false,
    "editable": false,
    "nbgrader": {
     "grade": true,
     "grade_id": "nj_tree_newick_branch_length_4",
     "locked": true,
     "points": 1,
     "schema_version": 3,
     "solution": false
    },
    "scrolled": true
   },
   "outputs": [],
   "source": [
    "# test nj_tree_newick_branch_length_4\n",
    "###\n",
    "### AUTOGRADER TEST - DO NOT REMOVE\n",
    "###\n"
   ]
  },
  {
   "cell_type": "code",
   "execution_count": 28,
   "metadata": {
    "deletable": false,
    "editable": false,
    "nbgrader": {
     "grade": true,
     "grade_id": "nj_tree_newick_branch_length_5",
     "locked": true,
     "points": 1,
     "schema_version": 3,
     "solution": false
    },
    "scrolled": true
   },
   "outputs": [],
   "source": [
    "# test nj_tree_newick_branch_length_5\n",
    "###\n",
    "### AUTOGRADER TEST - DO NOT REMOVE\n",
    "###\n"
   ]
  },
  {
   "cell_type": "code",
   "execution_count": 29,
   "metadata": {
    "deletable": false,
    "editable": false,
    "nbgrader": {
     "grade": true,
     "grade_id": "nj_tree_newick_branch_length_6",
     "locked": true,
     "points": 1,
     "schema_version": 3,
     "solution": false
    },
    "scrolled": true
   },
   "outputs": [],
   "source": [
    "# test nj_tree_newick_branch_length_6\n",
    "###\n",
    "### AUTOGRADER TEST - DO NOT REMOVE\n",
    "###\n"
   ]
  },
  {
   "cell_type": "markdown",
   "metadata": {},
   "source": [
    "## Follow-up analysis\n",
    "\n",
    "Consider the following questions:\n",
    "1. How do the two trees that you constructed differ, if at all?\n",
    "2. Are these trees consistent with the possibility that the dentist transmitted HIV to the two patients considered here?"
   ]
  },
  {
   "cell_type": "markdown",
   "metadata": {},
   "source": [
    "###\n",
    "### Your answers here\n",
    "###\n"
   ]
  }
 ],
 "metadata": {
  "celltoolbar": "Create Assignment",
  "kernelspec": {
   "display_name": "Python 3 [3.10]",
   "language": "python",
   "name": "python3"
  },
  "language_info": {
   "codemirror_mode": {
    "name": "ipython",
    "version": 3
   },
   "file_extension": ".py",
   "mimetype": "text/x-python",
   "name": "python",
   "nbconvert_exporter": "python",
   "pygments_lexer": "ipython3",
   "version": "3.10.2"
  }
 },
 "nbformat": 4,
 "nbformat_minor": 4
}
