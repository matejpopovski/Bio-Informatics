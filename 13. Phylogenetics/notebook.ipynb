{
 "cells": [
  {
   "cell_type": "markdown",
   "metadata": {
    "deletable": false,
    "editable": false,
    "nbgrader": {
     "grade": false,
     "grade_id": "cell-f72136f64c7a0259",
     "locked": true,
     "schema_version": 3,
     "solution": false
    }
   },
   "source": [
    "# Day 13 notebook\n",
    "\n",
    "The objectives of this notebook are to practice\n",
    "\n",
    "* representing trees as strings\n",
    "* visualizing trees\n",
    "* enumerating trees\n",
    "* examining trees"
   ]
  },
  {
   "cell_type": "markdown",
   "metadata": {
    "deletable": false,
    "editable": false,
    "nbgrader": {
     "grade": false,
     "grade_id": "cell-6315cddeb19e7ba8",
     "locked": true,
     "schema_version": 3,
     "solution": false
    }
   },
   "source": [
    "## The `toytree` module\n",
    "\n",
    "In this activity we will use the `toytree` (third-party) module to work with phylogenetic trees.  In particular, we will use the newick-format parsing and visualization functionality of this module.  I encourage you to look through the [`toytree` documentation](https://toytree.readthedocs.io/en/latest/4-tutorial.html)."
   ]
  },
  {
   "cell_type": "code",
   "execution_count": 37,
   "metadata": {
    "deletable": false,
    "editable": false,
    "nbgrader": {
     "grade": false,
     "grade_id": "cell-ba0bbd11b63800da",
     "locked": true,
     "schema_version": 3,
     "solution": false
    }
   },
   "outputs": [],
   "source": [
    "import toytree # for working with tree data structures"
   ]
  },
  {
   "cell_type": "markdown",
   "metadata": {
    "deletable": false,
    "editable": false,
    "nbgrader": {
     "grade": false,
     "grade_id": "cell-d81a3868f8672fd0",
     "locked": true,
     "schema_version": 3,
     "solution": false
    }
   },
   "source": [
    "## The newick format for trees\n",
    "The classic string representation for trees is the [Newick format](https://en.wikipedia.org/wiki/Newick_format).  In addition to the Wikipedia article, you can also read the [description by Joe Felsenstein](https://phylipweb.github.io/phylip/newicktree.html), one of the leaders in the field of phylogenetics (and also a UW-Madison alumnus!)."
   ]
  },
  {
   "cell_type": "markdown",
   "metadata": {
    "deletable": false,
    "editable": false,
    "nbgrader": {
     "grade": false,
     "grade_id": "cell-a61856ed0f280919",
     "locked": true,
     "schema_version": 3,
     "solution": false
    }
   },
   "source": [
    "For example, the Newick formatted string `\"((A, B),((C, D),E));\"` corresponds to the tree below:"
   ]
  },
  {
   "cell_type": "code",
   "execution_count": 38,
   "metadata": {
    "deletable": false,
    "editable": false,
    "nbgrader": {
     "grade": false,
     "grade_id": "cell-8324a87088813a64",
     "locked": true,
     "schema_version": 3,
     "solution": false
    },
    "scrolled": true
   },
   "outputs": [
    {
     "data": {
      "text/html": [
       "<div class=\"toyplot\" id=\"tbfe3bb6581c348d28113e9f2dd637b19\" style=\"text-align:center\"><svg class=\"toyplot-canvas-Canvas\" xmlns:toyplot=\"http://www.sandia.gov/toyplot\" xmlns:xlink=\"http://www.w3.org/1999/xlink\" xmlns=\"http://www.w3.org/2000/svg\" width=\"255.0px\" height=\"275.0px\" viewBox=\"0 0 255.0 275.0\" preserveAspectRatio=\"xMidYMid meet\" style=\"background-color:transparent;border-color:#292724;border-style:none;border-width:1.0;fill:rgb(16.1%,15.3%,14.1%);fill-opacity:1.0;font-family:Helvetica;font-size:12px;opacity:1.0;stroke:rgb(16.1%,15.3%,14.1%);stroke-opacity:1.0;stroke-width:1.0\" id=\"t44d7ce5b1e414a7a9dd7e36b221e65c6\"><g class=\"toyplot-coordinates-Cartesian\" id=\"td429ee603f5d443fa35bbd7b5a1bfa49\"><clipPath id=\"t0c3c060aa2f345ef8246388d720da4e8\"><rect x=\"30.0\" y=\"30.0\" width=\"195.0\" height=\"215.0\"></rect></clipPath><g clip-path=\"url(#t0c3c060aa2f345ef8246388d720da4e8)\"><g class=\"toytree-mark-Toytree\" id=\"t182228f6d7874a47a28501b415b82b9a\"><g class=\"toytree-Edges\" style=\"fill:none;stroke:rgb(14.9%,14.9%,14.9%);stroke-linecap:round;stroke-opacity:1;stroke-width:2\"><path d=\"M 51.8 123.2 L 51.8 80.1 L 144.8 80.1\" id=\"8,7\"></path><path d=\"M 51.8 123.2 L 51.8 166.2 L 98.3 166.2\" id=\"8,6\"></path><path d=\"M 98.3 166.2 L 98.3 194.9 L 144.8 194.9\" id=\"6,5\"></path><path d=\"M 144.8 80.1 L 144.8 61.0 L 191.3 61.0\" id=\"7,4\"></path><path d=\"M 144.8 80.1 L 144.8 99.3 L 191.3 99.3\" id=\"7,3\"></path><path d=\"M 98.3 166.2 L 98.3 137.5 L 191.3 137.5\" id=\"6,2\"></path><path d=\"M 144.8 194.9 L 144.8 175.7 L 191.3 175.7\" id=\"5,1\"></path><path d=\"M 144.8 194.9 L 144.8 214.0 L 191.3 214.0\" id=\"5,0\"></path></g><g class=\"toytree-TipLabels\" style=\"fill:rgb(14.9%,14.9%,14.9%);fill-opacity:1.0;font-family:helvetica;font-size:11px;font-weight:normal;stroke:none;white-space:pre\"><g transform=\"translate(191.35,213.99)rotate(0)\"><text x=\"15.00\" y=\"2.81\" style=\"\">D</text></g><g transform=\"translate(191.35,175.74)rotate(0)\"><text x=\"15.00\" y=\"2.81\" style=\"\">C</text></g><g transform=\"translate(191.35,137.50)rotate(0)\"><text x=\"15.00\" y=\"2.81\" style=\"\">E</text></g><g transform=\"translate(191.35,99.26)rotate(0)\"><text x=\"15.00\" y=\"2.81\" style=\"\">B</text></g><g transform=\"translate(191.35,61.01)rotate(0)\"><text x=\"15.00\" y=\"2.81\" style=\"\">A</text></g></g></g></g></g></svg><div class=\"toyplot-behavior\"><script>(function()\n",
       "{\n",
       "var modules={};\n",
       "})();</script></div></div>"
      ]
     },
     "metadata": {},
     "output_type": "display_data"
    }
   ],
   "source": [
    "example_newick = \"((A, B), ((C, D), E));\"\n",
    "example_tree = toytree.tree(example_newick)\n",
    "example_tree.draw(use_edge_lengths=False); # trailing semicolon to suppress printing of return value"
   ]
  },
  {
   "cell_type": "markdown",
   "metadata": {
    "deletable": false,
    "editable": false,
    "nbgrader": {
     "grade": false,
     "grade_id": "cell-872e36fba56df17e",
     "locked": true,
     "schema_version": 3,
     "solution": false
    }
   },
   "source": [
    "You can specify branch lengths in a Newick string using a colon (`:`) followed by a number after the child node of the branch.  For example, the Newick formatted string `\"((A:3, B:3):1,((C:1,D:1):2,E:3):1);\"` corresponds to the tree below:"
   ]
  },
  {
   "cell_type": "code",
   "execution_count": 39,
   "metadata": {
    "deletable": false,
    "editable": false,
    "nbgrader": {
     "grade": false,
     "grade_id": "cell-95fb44eef3472e42",
     "locked": true,
     "schema_version": 3,
     "solution": false
    }
   },
   "outputs": [
    {
     "data": {
      "text/html": [
       "<div class=\"toyplot\" id=\"t94f1792b0c8544848cdb2a9e50154074\" style=\"text-align:center\"><svg class=\"toyplot-canvas-Canvas\" xmlns:toyplot=\"http://www.sandia.gov/toyplot\" xmlns:xlink=\"http://www.w3.org/1999/xlink\" xmlns=\"http://www.w3.org/2000/svg\" width=\"255.0px\" height=\"275.0px\" viewBox=\"0 0 255.0 275.0\" preserveAspectRatio=\"xMidYMid meet\" style=\"background-color:transparent;border-color:#292724;border-style:none;border-width:1.0;fill:rgb(16.1%,15.3%,14.1%);fill-opacity:1.0;font-family:Helvetica;font-size:12px;opacity:1.0;stroke:rgb(16.1%,15.3%,14.1%);stroke-opacity:1.0;stroke-width:1.0\" id=\"t998ba8ea2206422f8ede528d4a86a811\"><g class=\"toyplot-coordinates-Cartesian\" id=\"t0074fafd39b2445b85b3b32d1ffb08e3\"><clipPath id=\"t877a0930f39a4c9fa1e37e846c5f219d\"><rect x=\"30.0\" y=\"30.0\" width=\"195.0\" height=\"215.0\"></rect></clipPath><g clip-path=\"url(#t877a0930f39a4c9fa1e37e846c5f219d)\"><g class=\"toytree-mark-Toytree\" id=\"tdaaf7692a8894d2e984ae07b75fefffd\"><g class=\"toytree-Edges\" style=\"fill:none;stroke:rgb(14.9%,14.9%,14.9%);stroke-linecap:round;stroke-opacity:1;stroke-width:2\"><path d=\"M 51.8 123.2 L 51.8 80.1 L 86.7 80.1\" id=\"8,7\"></path><path d=\"M 51.8 123.2 L 51.8 166.2 L 86.7 166.2\" id=\"8,6\"></path><path d=\"M 86.7 166.2 L 86.7 194.9 L 156.5 194.9\" id=\"6,5\"></path><path d=\"M 86.7 80.1 L 86.7 61.0 L 191.3 61.0\" id=\"7,4\"></path><path d=\"M 86.7 80.1 L 86.7 99.3 L 191.3 99.3\" id=\"7,3\"></path><path d=\"M 86.7 166.2 L 86.7 137.5 L 191.3 137.5\" id=\"6,2\"></path><path d=\"M 156.5 194.9 L 156.5 175.7 L 191.3 175.7\" id=\"5,1\"></path><path d=\"M 156.5 194.9 L 156.5 214.0 L 191.3 214.0\" id=\"5,0\"></path></g><g class=\"toytree-TipLabels\" style=\"fill:rgb(14.9%,14.9%,14.9%);fill-opacity:1.0;font-family:helvetica;font-size:11px;font-weight:normal;stroke:none;white-space:pre\"><g transform=\"translate(191.35,213.99)rotate(0)\"><text x=\"15.00\" y=\"2.81\" style=\"\">D</text></g><g transform=\"translate(191.35,175.74)rotate(0)\"><text x=\"15.00\" y=\"2.81\" style=\"\">C</text></g><g transform=\"translate(191.35,137.50)rotate(0)\"><text x=\"15.00\" y=\"2.81\" style=\"\">E</text></g><g transform=\"translate(191.35,99.26)rotate(0)\"><text x=\"15.00\" y=\"2.81\" style=\"\">B</text></g><g transform=\"translate(191.35,61.01)rotate(0)\"><text x=\"15.00\" y=\"2.81\" style=\"\">A</text></g></g></g></g><g class=\"toyplot-coordinates-Axis\" id=\"tec6f99b2dfb8435fb69fbc228c39369f\" transform=\"translate(50.0,225.0)translate(0,20.0)\"><line x1=\"1.8006296395255676\" y1=\"0\" x2=\"141.34942670275672\" y2=\"0\" style=\"\"></line><g><line x1=\"141.34942670275672\" y1=\"0\" x2=\"141.34942670275672\" y2=\"-5\" style=\"\"></line><line x1=\"71.57502817114114\" y1=\"0\" x2=\"71.57502817114114\" y2=\"-5\" style=\"\"></line><line x1=\"1.8006296395255676\" y1=\"0\" x2=\"1.8006296395255676\" y2=\"-5\" style=\"\"></line></g><g><g transform=\"translate(141.34942670275672,6)\"><text x=\"-2.78\" y=\"8.555\" style=\"fill:rgb(16.1%,15.3%,14.1%);fill-opacity:1.0;font-family:helvetica;font-size:10.0px;font-weight:normal;stroke:none;vertical-align:baseline;white-space:pre\">0</text></g><g transform=\"translate(71.57502817114114,6)\"><text x=\"-2.78\" y=\"8.555\" style=\"fill:rgb(16.1%,15.3%,14.1%);fill-opacity:1.0;font-family:helvetica;font-size:10.0px;font-weight:normal;stroke:none;vertical-align:baseline;white-space:pre\">2</text></g><g transform=\"translate(1.8006296395255676,6)\"><text x=\"-2.78\" y=\"8.555\" style=\"fill:rgb(16.1%,15.3%,14.1%);fill-opacity:1.0;font-family:helvetica;font-size:10.0px;font-weight:normal;stroke:none;vertical-align:baseline;white-space:pre\">4</text></g></g><g class=\"toyplot-coordinates-Axis-coordinates\" style=\"visibility:hidden\" transform=\"\"><line x1=\"0\" x2=\"0\" y1=\"-3.0\" y2=\"4.5\" style=\"stroke:rgb(43.9%,50.2%,56.5%);stroke-opacity:1.0;stroke-width:1.0\"></line><text x=\"0\" y=\"-6\" style=\"alignment-baseline:alphabetic;fill:rgb(43.9%,50.2%,56.5%);fill-opacity:1.0;font-size:10px;font-weight:normal;stroke:none;text-anchor:middle\"></text></g></g></g></svg><div class=\"toyplot-behavior\"><script>(function()\n",
       "{\n",
       "var modules={};\n",
       "modules[\"toyplot/canvas/id\"] = \"t998ba8ea2206422f8ede528d4a86a811\";\n",
       "modules[\"toyplot/canvas\"] = (function(canvas_id)\n",
       "    {\n",
       "        return document.querySelector(\"#\" + canvas_id);\n",
       "    })(modules[\"toyplot/canvas/id\"]);\n",
       "modules[\"toyplot.coordinates.Axis\"] = (\n",
       "        function(canvas)\n",
       "        {\n",
       "            function sign(x)\n",
       "            {\n",
       "                return x < 0 ? -1 : x > 0 ? 1 : 0;\n",
       "            }\n",
       "\n",
       "            function mix(a, b, amount)\n",
       "            {\n",
       "                return ((1.0 - amount) * a) + (amount * b);\n",
       "            }\n",
       "\n",
       "            function log(x, base)\n",
       "            {\n",
       "                return Math.log(Math.abs(x)) / Math.log(base);\n",
       "            }\n",
       "\n",
       "            function in_range(a, x, b)\n",
       "            {\n",
       "                var left = Math.min(a, b);\n",
       "                var right = Math.max(a, b);\n",
       "                return left <= x && x <= right;\n",
       "            }\n",
       "\n",
       "            function inside(range, projection)\n",
       "            {\n",
       "                for(var i = 0; i != projection.length; ++i)\n",
       "                {\n",
       "                    var segment = projection[i];\n",
       "                    if(in_range(segment.range.min, range, segment.range.max))\n",
       "                        return true;\n",
       "                }\n",
       "                return false;\n",
       "            }\n",
       "\n",
       "            function to_domain(range, projection)\n",
       "            {\n",
       "                for(var i = 0; i != projection.length; ++i)\n",
       "                {\n",
       "                    var segment = projection[i];\n",
       "                    if(in_range(segment.range.bounds.min, range, segment.range.bounds.max))\n",
       "                    {\n",
       "                        if(segment.scale == \"linear\")\n",
       "                        {\n",
       "                            var amount = (range - segment.range.min) / (segment.range.max - segment.range.min);\n",
       "                            return mix(segment.domain.min, segment.domain.max, amount)\n",
       "                        }\n",
       "                        else if(segment.scale[0] == \"log\")\n",
       "                        {\n",
       "                            var amount = (range - segment.range.min) / (segment.range.max - segment.range.min);\n",
       "                            var base = segment.scale[1];\n",
       "                            return sign(segment.domain.min) * Math.pow(base, mix(log(segment.domain.min, base), log(segment.domain.max, base), amount));\n",
       "                        }\n",
       "                    }\n",
       "                }\n",
       "            }\n",
       "\n",
       "            var axes = {};\n",
       "\n",
       "            function display_coordinates(e)\n",
       "            {\n",
       "                var current = canvas.createSVGPoint();\n",
       "                current.x = e.clientX;\n",
       "                current.y = e.clientY;\n",
       "\n",
       "                for(var axis_id in axes)\n",
       "                {\n",
       "                    var axis = document.querySelector(\"#\" + axis_id);\n",
       "                    var coordinates = axis.querySelector(\".toyplot-coordinates-Axis-coordinates\");\n",
       "                    if(coordinates)\n",
       "                    {\n",
       "                        var projection = axes[axis_id];\n",
       "                        var local = current.matrixTransform(axis.getScreenCTM().inverse());\n",
       "                        if(inside(local.x, projection))\n",
       "                        {\n",
       "                            var domain = to_domain(local.x, projection);\n",
       "                            coordinates.style.visibility = \"visible\";\n",
       "                            coordinates.setAttribute(\"transform\", \"translate(\" + local.x + \")\");\n",
       "                            var text = coordinates.querySelector(\"text\");\n",
       "                            text.textContent = domain.toFixed(2);\n",
       "                        }\n",
       "                        else\n",
       "                        {\n",
       "                            coordinates.style.visibility= \"hidden\";\n",
       "                        }\n",
       "                    }\n",
       "                }\n",
       "            }\n",
       "\n",
       "            canvas.addEventListener(\"click\", display_coordinates);\n",
       "\n",
       "            var module = {};\n",
       "            module.show_coordinates = function(axis_id, projection)\n",
       "            {\n",
       "                axes[axis_id] = projection;\n",
       "            }\n",
       "\n",
       "            return module;\n",
       "        })(modules[\"toyplot/canvas\"]);\n",
       "(function(axis, axis_id, projection)\n",
       "        {\n",
       "            axis.show_coordinates(axis_id, projection);\n",
       "        })(modules[\"toyplot.coordinates.Axis\"],\"tec6f99b2dfb8435fb69fbc228c39369f\",[{\"domain\": {\"bounds\": {\"max\": Infinity, \"min\": -Infinity}, \"max\": 0.3912774193548385, \"min\": -4.051612903225807}, \"range\": {\"bounds\": {\"max\": Infinity, \"min\": -Infinity}, \"max\": 155.0, \"min\": 0.0}, \"scale\": \"linear\"}]);\n",
       "})();</script></div></div>"
      ]
     },
     "metadata": {},
     "output_type": "display_data"
    }
   ],
   "source": [
    "example2_newick = \"((A:3, B:3):1, ((C:1, D:1):2, E:3):1);\"\n",
    "example2_tree = toytree.tree(example2_newick)\n",
    "example2_tree.draw(use_edge_lengths=True, scalebar=True);"
   ]
  },
  {
   "cell_type": "markdown",
   "metadata": {
    "deletable": false,
    "editable": false,
    "nbgrader": {
     "grade": false,
     "grade_id": "cell-c952f9cac77af96d",
     "locked": true,
     "schema_version": 3,
     "solution": false
    }
   },
   "source": [
    "Here is an alternative tree visualization of the same tree.  Note that the lengths of the vertical lines in the previous visualization are not meaningful."
   ]
  },
  {
   "cell_type": "code",
   "execution_count": 40,
   "metadata": {
    "deletable": false,
    "editable": false,
    "nbgrader": {
     "grade": false,
     "grade_id": "cell-dcdf142dc68e1df3",
     "locked": true,
     "schema_version": 3,
     "solution": false
    }
   },
   "outputs": [
    {
     "data": {
      "text/html": [
       "<div class=\"toyplot\" id=\"ta01c3cb415fd474ba0602bff27d320bc\" style=\"text-align:center\"><svg class=\"toyplot-canvas-Canvas\" xmlns:toyplot=\"http://www.sandia.gov/toyplot\" xmlns:xlink=\"http://www.w3.org/1999/xlink\" xmlns=\"http://www.w3.org/2000/svg\" width=\"350.0px\" height=\"255.0px\" viewBox=\"0 0 350.0 255.0\" preserveAspectRatio=\"xMidYMid meet\" style=\"background-color:transparent;border-color:#292724;border-style:none;border-width:1.0;fill:rgb(16.1%,15.3%,14.1%);fill-opacity:1.0;font-family:Helvetica;font-size:12px;opacity:1.0;stroke:rgb(16.1%,15.3%,14.1%);stroke-opacity:1.0;stroke-width:1.0\" id=\"tf7ffb157405b4e01a515a4033f8a1d4b\"><g class=\"toyplot-coordinates-Cartesian\" id=\"ta5746de6d9d2452ea4a24e097b5b14b8\"><clipPath id=\"tad68edda07794489b09b15bd72b3b69b\"><rect x=\"30.0\" y=\"30.0\" width=\"290.0\" height=\"195.0\"></rect></clipPath><g clip-path=\"url(#tad68edda07794489b09b15bd72b3b69b)\"><g class=\"toytree-mark-Toytree\" id=\"t42616c4916844f31b94736a60120201a\"><g class=\"toytree-Edges\" style=\"fill:none;stroke:rgb(14.9%,14.9%,14.9%);stroke-linecap:round;stroke-opacity:1;stroke-width:2\"><path d=\"M 196.3 56.4 L 260.2 87.5\" id=\"8,7\"></path><path d=\"M 196.3 56.4 L 132.4 87.5\" id=\"8,6\"></path><path d=\"M 132.4 87.5 L 89.8 149.7\" id=\"6,5\"></path><path d=\"M 260.2 87.5 L 288.6 180.8\" id=\"7,4\"></path><path d=\"M 260.2 87.5 L 231.8 180.8\" id=\"7,3\"></path><path d=\"M 132.4 87.5 L 175.0 180.8\" id=\"6,2\"></path><path d=\"M 89.8 149.7 L 118.2 180.8\" id=\"5,1\"></path><path d=\"M 89.8 149.7 L 61.4 180.8\" id=\"5,0\"></path></g><g class=\"toytree-Nodes\" style=\"fill:rgb(40%,76.1%,64.7%);fill-opacity:1.0;stroke:rgb(14.9%,14.9%,14.9%);stroke-opacity:1.0;stroke-width:1.5\"><g id=\"node-0\" transform=\"translate(61.446,180.797)\"><circle r=\"4.0\"></circle></g><g id=\"node-1\" transform=\"translate(118.223,180.797)\"><circle r=\"4.0\"></circle></g><g id=\"node-2\" transform=\"translate(175.000,180.797)\"><circle r=\"4.0\"></circle></g><g id=\"node-3\" transform=\"translate(231.777,180.797)\"><circle r=\"4.0\"></circle></g><g id=\"node-4\" transform=\"translate(288.554,180.797)\"><circle r=\"4.0\"></circle></g><g id=\"node-5\" transform=\"translate(89.835,149.703)\"><circle r=\"4.0\"></circle></g><g id=\"node-6\" transform=\"translate(132.417,87.514)\"><circle r=\"4.0\"></circle></g><g id=\"node-7\" transform=\"translate(260.165,87.514)\"><circle r=\"4.0\"></circle></g><g id=\"node-8\" transform=\"translate(196.291,56.419)\"><circle r=\"4.0\"></circle></g></g><g class=\"toytree-TipLabels\" style=\"fill:rgb(14.9%,14.9%,14.9%);fill-opacity:1.0;font-family:helvetica;font-size:11px;font-weight:normal;stroke:none;white-space:pre\"><g transform=\"translate(61.45,180.80)rotate(-90)\"><text x=\"-22.94\" y=\"2.81\" style=\"\">D</text></g><g transform=\"translate(118.22,180.80)rotate(-90)\"><text x=\"-22.94\" y=\"2.81\" style=\"\">C</text></g><g transform=\"translate(175.00,180.80)rotate(-90)\"><text x=\"-22.34\" y=\"2.81\" style=\"\">E</text></g><g transform=\"translate(231.78,180.80)rotate(-90)\"><text x=\"-22.34\" y=\"2.81\" style=\"\">B</text></g><g transform=\"translate(288.55,180.80)rotate(-90)\"><text x=\"-22.34\" y=\"2.81\" style=\"\">A</text></g></g></g></g><g class=\"toyplot-coordinates-Axis\" id=\"t158137febc954c33a0d4e62294da0bff\" transform=\"translate(50.0,205.0)rotate(-90.0)translate(0,-20.0)\"><line x1=\"24.203052360195073\" y1=\"0\" x2=\"148.58051790724886\" y2=\"0\" style=\"\"></line><g><line x1=\"24.203052360195073\" y1=\"0\" x2=\"24.203052360195073\" y2=\"5\" style=\"\"></line><line x1=\"86.39178513372197\" y1=\"0\" x2=\"86.39178513372197\" y2=\"5\" style=\"\"></line><line x1=\"148.58051790724886\" y1=\"0\" x2=\"148.58051790724886\" y2=\"5\" style=\"\"></line></g><g><g transform=\"translate(24.203052360195073,-6)\"><text x=\"-2.78\" y=\"-4.440892098500626e-16\" style=\"fill:rgb(16.1%,15.3%,14.1%);fill-opacity:1.0;font-family:helvetica;font-size:10.0px;font-weight:normal;stroke:none;vertical-align:baseline;white-space:pre\">0</text></g><g transform=\"translate(86.39178513372197,-6)\"><text x=\"-2.78\" y=\"-4.440892098500626e-16\" style=\"fill:rgb(16.1%,15.3%,14.1%);fill-opacity:1.0;font-family:helvetica;font-size:10.0px;font-weight:normal;stroke:none;vertical-align:baseline;white-space:pre\">2</text></g><g transform=\"translate(148.58051790724886,-6)\"><text x=\"-2.78\" y=\"-4.440892098500626e-16\" style=\"fill:rgb(16.1%,15.3%,14.1%);fill-opacity:1.0;font-family:helvetica;font-size:10.0px;font-weight:normal;stroke:none;vertical-align:baseline;white-space:pre\">4</text></g></g><g class=\"toyplot-coordinates-Axis-coordinates\" style=\"visibility:hidden\" transform=\"\"><line x1=\"0\" x2=\"0\" y1=\"3.0\" y2=\"-4.5\" style=\"stroke:rgb(43.9%,50.2%,56.5%);stroke-opacity:1.0;stroke-width:1.0\"></line><text x=\"0\" y=\"6\" style=\"alignment-baseline:hanging;fill:rgb(43.9%,50.2%,56.5%);fill-opacity:1.0;font-size:10px;font-weight:normal;stroke:none;text-anchor:middle\"></text></g></g></g></svg><div class=\"toyplot-behavior\"><script>(function()\n",
       "{\n",
       "var modules={};\n",
       "modules[\"toyplot/canvas/id\"] = \"tf7ffb157405b4e01a515a4033f8a1d4b\";\n",
       "modules[\"toyplot/canvas\"] = (function(canvas_id)\n",
       "    {\n",
       "        return document.querySelector(\"#\" + canvas_id);\n",
       "    })(modules[\"toyplot/canvas/id\"]);\n",
       "modules[\"toyplot.coordinates.Axis\"] = (\n",
       "        function(canvas)\n",
       "        {\n",
       "            function sign(x)\n",
       "            {\n",
       "                return x < 0 ? -1 : x > 0 ? 1 : 0;\n",
       "            }\n",
       "\n",
       "            function mix(a, b, amount)\n",
       "            {\n",
       "                return ((1.0 - amount) * a) + (amount * b);\n",
       "            }\n",
       "\n",
       "            function log(x, base)\n",
       "            {\n",
       "                return Math.log(Math.abs(x)) / Math.log(base);\n",
       "            }\n",
       "\n",
       "            function in_range(a, x, b)\n",
       "            {\n",
       "                var left = Math.min(a, b);\n",
       "                var right = Math.max(a, b);\n",
       "                return left <= x && x <= right;\n",
       "            }\n",
       "\n",
       "            function inside(range, projection)\n",
       "            {\n",
       "                for(var i = 0; i != projection.length; ++i)\n",
       "                {\n",
       "                    var segment = projection[i];\n",
       "                    if(in_range(segment.range.min, range, segment.range.max))\n",
       "                        return true;\n",
       "                }\n",
       "                return false;\n",
       "            }\n",
       "\n",
       "            function to_domain(range, projection)\n",
       "            {\n",
       "                for(var i = 0; i != projection.length; ++i)\n",
       "                {\n",
       "                    var segment = projection[i];\n",
       "                    if(in_range(segment.range.bounds.min, range, segment.range.bounds.max))\n",
       "                    {\n",
       "                        if(segment.scale == \"linear\")\n",
       "                        {\n",
       "                            var amount = (range - segment.range.min) / (segment.range.max - segment.range.min);\n",
       "                            return mix(segment.domain.min, segment.domain.max, amount)\n",
       "                        }\n",
       "                        else if(segment.scale[0] == \"log\")\n",
       "                        {\n",
       "                            var amount = (range - segment.range.min) / (segment.range.max - segment.range.min);\n",
       "                            var base = segment.scale[1];\n",
       "                            return sign(segment.domain.min) * Math.pow(base, mix(log(segment.domain.min, base), log(segment.domain.max, base), amount));\n",
       "                        }\n",
       "                    }\n",
       "                }\n",
       "            }\n",
       "\n",
       "            var axes = {};\n",
       "\n",
       "            function display_coordinates(e)\n",
       "            {\n",
       "                var current = canvas.createSVGPoint();\n",
       "                current.x = e.clientX;\n",
       "                current.y = e.clientY;\n",
       "\n",
       "                for(var axis_id in axes)\n",
       "                {\n",
       "                    var axis = document.querySelector(\"#\" + axis_id);\n",
       "                    var coordinates = axis.querySelector(\".toyplot-coordinates-Axis-coordinates\");\n",
       "                    if(coordinates)\n",
       "                    {\n",
       "                        var projection = axes[axis_id];\n",
       "                        var local = current.matrixTransform(axis.getScreenCTM().inverse());\n",
       "                        if(inside(local.x, projection))\n",
       "                        {\n",
       "                            var domain = to_domain(local.x, projection);\n",
       "                            coordinates.style.visibility = \"visible\";\n",
       "                            coordinates.setAttribute(\"transform\", \"translate(\" + local.x + \")\");\n",
       "                            var text = coordinates.querySelector(\"text\");\n",
       "                            text.textContent = domain.toFixed(2);\n",
       "                        }\n",
       "                        else\n",
       "                        {\n",
       "                            coordinates.style.visibility= \"hidden\";\n",
       "                        }\n",
       "                    }\n",
       "                }\n",
       "            }\n",
       "\n",
       "            canvas.addEventListener(\"click\", display_coordinates);\n",
       "\n",
       "            var module = {};\n",
       "            module.show_coordinates = function(axis_id, projection)\n",
       "            {\n",
       "                axes[axis_id] = projection;\n",
       "            }\n",
       "\n",
       "            return module;\n",
       "        })(modules[\"toyplot/canvas\"]);\n",
       "(function(axis, axis_id, projection)\n",
       "        {\n",
       "            axis.show_coordinates(axis_id, projection);\n",
       "        })(modules[\"toyplot.coordinates.Axis\"],\"t158137febc954c33a0d4e62294da0bff\",[{\"domain\": {\"bounds\": {\"max\": Infinity, \"min\": -Infinity}, \"max\": 4.2064516129032254, \"min\": -0.7783741935483872}, \"range\": {\"bounds\": {\"max\": Infinity, \"min\": -Infinity}, \"max\": 155.0, \"min\": 0.0}, \"scale\": \"linear\"}]);\n",
       "})();</script></div></div>"
      ]
     },
     "metadata": {},
     "output_type": "display_data"
    }
   ],
   "source": [
    "example2_tree.draw(tree_style=\"c\", tip_labels=True);"
   ]
  },
  {
   "cell_type": "markdown",
   "metadata": {
    "deletable": false,
    "editable": false,
    "nbgrader": {
     "grade": false,
     "grade_id": "cell-e2574babc9f55fbb",
     "locked": true,
     "schema_version": 3,
     "solution": false
    }
   },
   "source": [
    "The Newick format also allows for specifying the names and support values of internal nodes, but we will not generally use those features, so do not worry about that aspect of the format for now."
   ]
  },
  {
   "cell_type": "markdown",
   "metadata": {
    "deletable": false,
    "editable": false,
    "nbgrader": {
     "grade": false,
     "grade_id": "cell-7525a219417e9d7b",
     "locked": true,
     "schema_version": 3,
     "solution": false
    }
   },
   "source": [
    "## PROBLEM 1: Newick string for a tree without branch lengths (1 POINT)"
   ]
  },
  {
   "cell_type": "markdown",
   "metadata": {
    "deletable": false,
    "editable": false,
    "nbgrader": {
     "grade": false,
     "grade_id": "cell-252958cbd167788e",
     "locked": true,
     "schema_version": 3,
     "solution": false
    }
   },
   "source": [
    "Give a Newick string (without branch lengths) that respresents the tree shown below.  Assign that string to the variable `problem1_newick` in the cell below.\n",
    "![problem1_tree](problem1_tree.png)"
   ]
  },
  {
   "cell_type": "code",
   "execution_count": 41,
   "metadata": {
    "scrolled": true
   },
   "outputs": [],
   "source": [
    "###\n",
    "problem1_newick =\"((E, F),(D,(C,(A,B))));\"\n",
    "\n",
    "#\"((((B,A),C),D),(F,E))\"\n",
    "###\n"
   ]
  },
  {
   "cell_type": "code",
   "execution_count": 42,
   "metadata": {
    "deletable": false,
    "editable": false,
    "nbgrader": {
     "grade": true,
     "grade_id": "problem1_newick",
     "locked": true,
     "points": 1,
     "schema_version": 3,
     "solution": false
    }
   },
   "outputs": [
    {
     "name": "stdout",
     "output_type": "stream",
     "text": [
      "SUCCESS: problem1_newick passed all visible tests\n"
     ]
    }
   ],
   "source": [
    "# tests for problem1_newick\n",
    "problem1_tree = toytree.tree(problem1_newick) # this will raise an exception if the string is not valid\n",
    "###\n",
    "### AUTOGRADER TEST - DO NOT REMOVE\n",
    "###\n",
    "print(\"SUCCESS: problem1_newick passed all visible tests\")"
   ]
  },
  {
   "cell_type": "markdown",
   "metadata": {
    "deletable": false,
    "editable": false,
    "nbgrader": {
     "grade": false,
     "grade_id": "cell-cfce986c321a682c",
     "locked": true,
     "schema_version": 3,
     "solution": false
    }
   },
   "source": [
    "## PROBLEM 2: Newick string for a tree with branch lengths (1 POINT)"
   ]
  },
  {
   "cell_type": "markdown",
   "metadata": {
    "deletable": false,
    "editable": false,
    "nbgrader": {
     "grade": false,
     "grade_id": "cell-a3ad703cfa2f231c",
     "locked": true,
     "schema_version": 3,
     "solution": false
    }
   },
   "source": [
    "Give a Newick string (with branch lengths) that respresents the tree shown below.  Assign that string to the variable `problem2_newick` in the cell below.\n",
    "![problem2_tree](problem2_tree.png)"
   ]
  },
  {
   "cell_type": "code",
   "execution_count": 53,
   "metadata": {
    "scrolled": true
   },
   "outputs": [
    {
     "data": {
      "text/html": [
       "<div class=\"toyplot\" id=\"td0b7f99952b24747bca68d3207c32a13\" style=\"text-align:center\"><svg class=\"toyplot-canvas-Canvas\" xmlns:toyplot=\"http://www.sandia.gov/toyplot\" xmlns:xlink=\"http://www.w3.org/1999/xlink\" xmlns=\"http://www.w3.org/2000/svg\" width=\"255.0px\" height=\"275.0px\" viewBox=\"0 0 255.0 275.0\" preserveAspectRatio=\"xMidYMid meet\" style=\"background-color:transparent;border-color:#292724;border-style:none;border-width:1.0;fill:rgb(16.1%,15.3%,14.1%);fill-opacity:1.0;font-family:Helvetica;font-size:12px;opacity:1.0;stroke:rgb(16.1%,15.3%,14.1%);stroke-opacity:1.0;stroke-width:1.0\" id=\"t3b9085c7ee1147128fb224d7872c97a7\"><g class=\"toyplot-coordinates-Cartesian\" id=\"t2df06da2932f4a30809800095b8f5a2a\"><clipPath id=\"t4f668a70952448fab06f969107264e34\"><rect x=\"30.0\" y=\"30.0\" width=\"195.0\" height=\"215.0\"></rect></clipPath><g clip-path=\"url(#t4f668a70952448fab06f969107264e34)\"><g class=\"toytree-mark-Toytree\" id=\"t1716a0074d9a4e1ea659245eb6b5950d\"><g class=\"toytree-Edges\" style=\"fill:none;stroke:rgb(14.9%,14.9%,14.9%);stroke-linecap:round;stroke-opacity:1;stroke-width:2\"><path d=\"M 51.8 129.9 L 51.8 84.0 L 86.7 84.0\" id=\"10,9\"></path><path d=\"M 51.8 129.9 L 51.8 175.7 L 121.6 175.7\" id=\"10,8\"></path><path d=\"M 86.7 84.0 L 86.7 106.9 L 121.6 106.9\" id=\"9,7\"></path><path d=\"M 121.6 175.7 L 121.6 198.7 L 156.5 198.7\" id=\"8,6\"></path><path d=\"M 86.7 84.0 L 86.7 61.0 L 191.3 61.0\" id=\"9,5\"></path><path d=\"M 121.6 106.9 L 121.6 91.6 L 191.3 91.6\" id=\"7,4\"></path><path d=\"M 121.6 106.9 L 121.6 122.2 L 191.3 122.2\" id=\"7,3\"></path><path d=\"M 121.6 175.7 L 121.6 152.8 L 191.3 152.8\" id=\"8,2\"></path><path d=\"M 156.5 198.7 L 156.5 183.4 L 191.3 183.4\" id=\"6,1\"></path><path d=\"M 156.5 198.7 L 156.5 214.0 L 191.3 214.0\" id=\"6,0\"></path></g><g class=\"toytree-TipLabels\" style=\"fill:rgb(14.9%,14.9%,14.9%);fill-opacity:1.0;font-family:helvetica;font-size:11px;font-weight:normal;stroke:none;white-space:pre\"><g transform=\"translate(191.35,213.99)rotate(0)\"><text x=\"15.00\" y=\"2.81\" style=\"\">E</text></g><g transform=\"translate(191.35,183.39)rotate(0)\"><text x=\"15.00\" y=\"2.81\" style=\"\">D</text></g><g transform=\"translate(191.35,152.80)rotate(0)\"><text x=\"15.00\" y=\"2.81\" style=\"\">F</text></g><g transform=\"translate(191.35,122.20)rotate(0)\"><text x=\"15.00\" y=\"2.81\" style=\"\">C</text></g><g transform=\"translate(191.35,91.61)rotate(0)\"><text x=\"15.00\" y=\"2.81\" style=\"\">B</text></g><g transform=\"translate(191.35,61.01)rotate(0)\"><text x=\"15.00\" y=\"2.81\" style=\"\">A</text></g></g></g></g><g class=\"toyplot-coordinates-Axis\" id=\"t1efb2bbd7d944d65b1b3ab6068236450\" transform=\"translate(50.0,225.0)translate(0,20.0)\"><line x1=\"1.8006296395255676\" y1=\"0\" x2=\"141.34942670275672\" y2=\"0\" style=\"\"></line><g><line x1=\"141.34942670275672\" y1=\"0\" x2=\"141.34942670275672\" y2=\"-5\" style=\"\"></line><line x1=\"71.57502817114114\" y1=\"0\" x2=\"71.57502817114114\" y2=\"-5\" style=\"\"></line><line x1=\"1.8006296395255676\" y1=\"0\" x2=\"1.8006296395255676\" y2=\"-5\" style=\"\"></line></g><g><g transform=\"translate(141.34942670275672,6)\"><text x=\"-2.78\" y=\"8.555\" style=\"fill:rgb(16.1%,15.3%,14.1%);fill-opacity:1.0;font-family:helvetica;font-size:10.0px;font-weight:normal;stroke:none;vertical-align:baseline;white-space:pre\">0</text></g><g transform=\"translate(71.57502817114114,6)\"><text x=\"-2.78\" y=\"8.555\" style=\"fill:rgb(16.1%,15.3%,14.1%);fill-opacity:1.0;font-family:helvetica;font-size:10.0px;font-weight:normal;stroke:none;vertical-align:baseline;white-space:pre\">2</text></g><g transform=\"translate(1.8006296395255676,6)\"><text x=\"-2.78\" y=\"8.555\" style=\"fill:rgb(16.1%,15.3%,14.1%);fill-opacity:1.0;font-family:helvetica;font-size:10.0px;font-weight:normal;stroke:none;vertical-align:baseline;white-space:pre\">4</text></g></g><g class=\"toyplot-coordinates-Axis-coordinates\" style=\"visibility:hidden\" transform=\"\"><line x1=\"0\" x2=\"0\" y1=\"-3.0\" y2=\"4.5\" style=\"stroke:rgb(43.9%,50.2%,56.5%);stroke-opacity:1.0;stroke-width:1.0\"></line><text x=\"0\" y=\"-6\" style=\"alignment-baseline:alphabetic;fill:rgb(43.9%,50.2%,56.5%);fill-opacity:1.0;font-size:10px;font-weight:normal;stroke:none;text-anchor:middle\"></text></g></g></g></svg><div class=\"toyplot-behavior\"><script>(function()\n",
       "{\n",
       "var modules={};\n",
       "modules[\"toyplot/canvas/id\"] = \"t3b9085c7ee1147128fb224d7872c97a7\";\n",
       "modules[\"toyplot/canvas\"] = (function(canvas_id)\n",
       "    {\n",
       "        return document.querySelector(\"#\" + canvas_id);\n",
       "    })(modules[\"toyplot/canvas/id\"]);\n",
       "modules[\"toyplot.coordinates.Axis\"] = (\n",
       "        function(canvas)\n",
       "        {\n",
       "            function sign(x)\n",
       "            {\n",
       "                return x < 0 ? -1 : x > 0 ? 1 : 0;\n",
       "            }\n",
       "\n",
       "            function mix(a, b, amount)\n",
       "            {\n",
       "                return ((1.0 - amount) * a) + (amount * b);\n",
       "            }\n",
       "\n",
       "            function log(x, base)\n",
       "            {\n",
       "                return Math.log(Math.abs(x)) / Math.log(base);\n",
       "            }\n",
       "\n",
       "            function in_range(a, x, b)\n",
       "            {\n",
       "                var left = Math.min(a, b);\n",
       "                var right = Math.max(a, b);\n",
       "                return left <= x && x <= right;\n",
       "            }\n",
       "\n",
       "            function inside(range, projection)\n",
       "            {\n",
       "                for(var i = 0; i != projection.length; ++i)\n",
       "                {\n",
       "                    var segment = projection[i];\n",
       "                    if(in_range(segment.range.min, range, segment.range.max))\n",
       "                        return true;\n",
       "                }\n",
       "                return false;\n",
       "            }\n",
       "\n",
       "            function to_domain(range, projection)\n",
       "            {\n",
       "                for(var i = 0; i != projection.length; ++i)\n",
       "                {\n",
       "                    var segment = projection[i];\n",
       "                    if(in_range(segment.range.bounds.min, range, segment.range.bounds.max))\n",
       "                    {\n",
       "                        if(segment.scale == \"linear\")\n",
       "                        {\n",
       "                            var amount = (range - segment.range.min) / (segment.range.max - segment.range.min);\n",
       "                            return mix(segment.domain.min, segment.domain.max, amount)\n",
       "                        }\n",
       "                        else if(segment.scale[0] == \"log\")\n",
       "                        {\n",
       "                            var amount = (range - segment.range.min) / (segment.range.max - segment.range.min);\n",
       "                            var base = segment.scale[1];\n",
       "                            return sign(segment.domain.min) * Math.pow(base, mix(log(segment.domain.min, base), log(segment.domain.max, base), amount));\n",
       "                        }\n",
       "                    }\n",
       "                }\n",
       "            }\n",
       "\n",
       "            var axes = {};\n",
       "\n",
       "            function display_coordinates(e)\n",
       "            {\n",
       "                var current = canvas.createSVGPoint();\n",
       "                current.x = e.clientX;\n",
       "                current.y = e.clientY;\n",
       "\n",
       "                for(var axis_id in axes)\n",
       "                {\n",
       "                    var axis = document.querySelector(\"#\" + axis_id);\n",
       "                    var coordinates = axis.querySelector(\".toyplot-coordinates-Axis-coordinates\");\n",
       "                    if(coordinates)\n",
       "                    {\n",
       "                        var projection = axes[axis_id];\n",
       "                        var local = current.matrixTransform(axis.getScreenCTM().inverse());\n",
       "                        if(inside(local.x, projection))\n",
       "                        {\n",
       "                            var domain = to_domain(local.x, projection);\n",
       "                            coordinates.style.visibility = \"visible\";\n",
       "                            coordinates.setAttribute(\"transform\", \"translate(\" + local.x + \")\");\n",
       "                            var text = coordinates.querySelector(\"text\");\n",
       "                            text.textContent = domain.toFixed(2);\n",
       "                        }\n",
       "                        else\n",
       "                        {\n",
       "                            coordinates.style.visibility= \"hidden\";\n",
       "                        }\n",
       "                    }\n",
       "                }\n",
       "            }\n",
       "\n",
       "            canvas.addEventListener(\"click\", display_coordinates);\n",
       "\n",
       "            var module = {};\n",
       "            module.show_coordinates = function(axis_id, projection)\n",
       "            {\n",
       "                axes[axis_id] = projection;\n",
       "            }\n",
       "\n",
       "            return module;\n",
       "        })(modules[\"toyplot/canvas\"]);\n",
       "(function(axis, axis_id, projection)\n",
       "        {\n",
       "            axis.show_coordinates(axis_id, projection);\n",
       "        })(modules[\"toyplot.coordinates.Axis\"],\"t1efb2bbd7d944d65b1b3ab6068236450\",[{\"domain\": {\"bounds\": {\"max\": Infinity, \"min\": -Infinity}, \"max\": 0.3912774193548385, \"min\": -4.051612903225807}, \"range\": {\"bounds\": {\"max\": Infinity, \"min\": -Infinity}, \"max\": 155.0, \"min\": 0.0}, \"scale\": \"linear\"}]);\n",
       "})();</script></div></div>"
      ]
     },
     "metadata": {},
     "output_type": "display_data"
    }
   ],
   "source": [
    "###\n",
    "\n",
    "problem2_newick = \"((A:3, (B:2, C:2)):1, ((D:1, E:1), F:2):2);\"\n",
    "#\"((A:3, B:2):1, ((C:1, D:1):2, E:3):1);\"\n",
    "###\n",
    "example2_tree = toytree.tree(problem2_newick)\n",
    "example2_tree.draw(use_edge_lengths=True, scalebar=True);\n"
   ]
  },
  {
   "cell_type": "code",
   "execution_count": 50,
   "metadata": {
    "deletable": false,
    "editable": false,
    "nbgrader": {
     "grade": true,
     "grade_id": "problem2_newick",
     "locked": true,
     "points": 1,
     "schema_version": 3,
     "solution": false
    }
   },
   "outputs": [
    {
     "name": "stdout",
     "output_type": "stream",
     "text": [
      "SUCCESS: problem2_newick passed all visible tests\n"
     ]
    }
   ],
   "source": [
    "# tests for problem2_newick\n",
    "problem2_tree = toytree.tree(problem2_newick) # this will raise an exception if the string is not valid\n",
    "###\n",
    "### AUTOGRADER TEST - DO NOT REMOVE\n",
    "###\n",
    "print(\"SUCCESS: problem2_newick passed all visible tests\")"
   ]
  },
  {
   "cell_type": "markdown",
   "metadata": {
    "deletable": false,
    "editable": false,
    "nbgrader": {
     "grade": false,
     "grade_id": "cell-d836b7bb77f7a880",
     "locked": true,
     "schema_version": 3,
     "solution": false
    }
   },
   "source": [
    "## PROBLEM 3: Newick strings for all rooted trees with four leaves (1 POINT)\n",
    "List all possible binary rooted trees with four leaves, $\\{A, B, C, D\\}$.  Assign a list containing the Newick strings for the trees to the variable `problem3_newick_list` below.  A rooted binary tree is tree where each node is either a leaf or has exactly two children."
   ]
  },
  {
   "cell_type": "code",
   "execution_count": 54,
   "metadata": {},
   "outputs": [],
   "source": [
    "###\n",
    "problem3_newick_list = [\"((A,B),(C,D));\",\n",
    "                        \"((A,C),(B,D));\",\n",
    "                        \"((A,D),(B,C));\",\n",
    "                        \"(A,(B,(C,D)));\",\n",
    "                        \"(A,(C,(B,D)));\",\n",
    "                        \"(A,(D,(B,C)));\",\n",
    "                        \"(B,(A,(C,D)));\",\n",
    "                        \"(B,(C,(A,D)));\",\n",
    "                        \"(B,(D,(A,C)));\",\n",
    "                        \"(C,(A,(B,D)));\",\n",
    "                        \"(C,(B,(A,D)));\",\n",
    "                        \"(C,(D,(A,B)));\",\n",
    "                        \"(D,(A,(B,C)));\",\n",
    "                        \"(D,(B,(A,C)));\",\n",
    "                        \"(D,(C,(A,B)));\"]\n",
    "    \n",
    "                                        \n",
    "###\n"
   ]
  },
  {
   "cell_type": "code",
   "execution_count": 55,
   "metadata": {
    "deletable": false,
    "editable": false,
    "nbgrader": {
     "grade": true,
     "grade_id": "problem3_newick_list",
     "locked": true,
     "points": 1,
     "schema_version": 3,
     "solution": false
    }
   },
   "outputs": [
    {
     "name": "stdout",
     "output_type": "stream",
     "text": [
      "SUCCESS: problem3_newick_list passed all visible tests\n"
     ]
    }
   ],
   "source": [
    "# tests for problem3_newick_list\n",
    "assert isinstance(problem3_newick_list, list), \"problem3_newick_list is not a list\"\n",
    "\n",
    "assert all(isinstance(list_element, str) for list_element in problem3_newick_list), \"elements of problem3_newick_list are not all strings\"\n",
    "\n",
    "# the line below will raise an exception if the strings are not valid\n",
    "problem3_trees = toytree.Multitree.MultiTree(\"\\n\".join(problem3_newick_list)) \n",
    "\n",
    "# check that each tree has the correct leaf set\n",
    "for t in problem3_trees.treelist:\n",
    "    assert set(t.get_tip_labels()) == {\"A\", \"B\", \"C\", \"D\"}, f'{t.write(tree_format=9)} does not have the correct leaf names'\n",
    "\n",
    "# check that each tree is binary\n",
    "for t in problem3_trees.treelist:\n",
    "    assert t.is_bifurcating(), f'{t.write(tree_format=9)} is not a rooted binary tree'\n",
    "    \n",
    "# check for duplicate trees\n",
    "def standardize_newick(s):\n",
    "    t = toytree.tree(s)\n",
    "    t.treenode.sort_descendants()\n",
    "    return t.write(tree_format=9)\n",
    "\n",
    "standardized_tree_set = set(map(standardize_newick, problem3_newick_list))\n",
    "assert len(standardized_tree_set) == len(problem3_newick_list), \"problem3_newick_list has duplicate tree structures\"\n",
    "\n",
    "###\n",
    "### AUTOGRADER TEST - DO NOT REMOVE\n",
    "###\n",
    "print(\"SUCCESS: problem3_newick_list passed all visible tests\")"
   ]
  },
  {
   "cell_type": "markdown",
   "metadata": {
    "deletable": false,
    "editable": false,
    "nbgrader": {
     "grade": false,
     "grade_id": "cell-cce8e5658e1a6cb2",
     "locked": true,
     "schema_version": 3,
     "solution": false
    }
   },
   "source": [
    "## PROBLEM 4:  A primate phylogenetic tree (1 POINT)\n",
    "[Perelman et al.](https://doi.org/10.1371/journal.pgen.1001342) sequenced DNA from 186 primate species and constructed one of the most refined phylogenetic trees of the primates to date.  This phyogenetic tree is provided as the file `primates.newick` in this activity.  \n",
    "\n",
    "Examine this tree (you will likely need to use large \"height\" and \"width\" arguments to the `tree.draw` method to see the tree clearly).  Are humans more closely related to [galagos](https://en.wikipedia.org/wiki/Galago), [tarsiers](https://en.wikipedia.org/wiki/Tarsier), or [lemurs](https://en.wikipedia.org/wiki/Lemur), according to this tree?  Give your answer by assigning the string \"galagos\", \"tarsiers\", or \"lemurs\" to the variable `humans_most_closely_related_to`."
   ]
  },
  {
   "cell_type": "code",
   "execution_count": 47,
   "metadata": {},
   "outputs": [
    {
     "data": {
      "text/html": [
       "<div class=\"toyplot\" id=\"t1d2fa3fe403e4f2ea4b9e064d49c88de\" style=\"text-align:center\"><svg class=\"toyplot-canvas-Canvas\" xmlns:toyplot=\"http://www.sandia.gov/toyplot\" xmlns:xlink=\"http://www.w3.org/1999/xlink\" xmlns=\"http://www.w3.org/2000/svg\" width=\"2000.0px\" height=\"3000.0px\" viewBox=\"0 0 2000.0 3000.0\" preserveAspectRatio=\"xMidYMid meet\" style=\"background-color:transparent;border-color:#292724;border-style:none;border-width:1.0;fill:rgb(16.1%,15.3%,14.1%);fill-opacity:1.0;font-family:Helvetica;font-size:12px;opacity:1.0;stroke:rgb(16.1%,15.3%,14.1%);stroke-opacity:1.0;stroke-width:1.0\" id=\"td168be5169804f95811e1360be648cd6\"><g class=\"toyplot-coordinates-Cartesian\" id=\"t3033ad462afb4a24b3fed1b3b0876447\"><clipPath id=\"tf6d9d53deb3847b286798305856331d6\"><rect x=\"30.0\" y=\"30.0\" width=\"1940.0\" height=\"2940.0\"></rect></clipPath><g clip-path=\"url(#tf6d9d53deb3847b286798305856331d6)\"><g class=\"toytree-mark-Toytree\" id=\"t8456effde9d84c0e8b79ed51f3bb7bda\"><g class=\"toytree-Edges\" style=\"fill:none;stroke:rgb(14.9%,14.9%,14.9%);stroke-linecap:round;stroke-opacity:1;stroke-width:2\"><path d=\"M 51.7 159.1 L 51.7 255.7 L 657.7 255.7\" id=\"380,379\"></path><path d=\"M 657.7 255.7 L 657.7 85.2 L 1419.7 85.2\" id=\"379,378\"></path><path d=\"M 657.7 255.7 L 657.7 426.3 L 706.1 426.3\" id=\"379,377\"></path><path d=\"M 706.1 426.3 L 706.1 115.5 L 1209.3 115.5\" id=\"377,376\"></path><path d=\"M 706.1 426.3 L 706.1 737.1 L 758.3 737.1\" id=\"377,375\"></path><path d=\"M 758.3 737.1 L 758.3 298.2 L 929.8 298.2\" id=\"375,374\"></path><path d=\"M 758.3 737.1 L 758.3 1176.1 L 797.8 1176.1\" id=\"375,373\"></path><path d=\"M 929.8 298.2 L 929.8 198.2 L 1380.2 198.2\" id=\"374,372\"></path><path d=\"M 929.8 298.2 L 929.8 398.2 L 975.8 398.2\" id=\"374,371\"></path><path d=\"M 797.8 1176.1 L 797.8 781.2 L 1454.2 781.2\" id=\"373,370\"></path><path d=\"M 797.8 1176.1 L 797.8 1571.0 L 1116.8 1571.0\" id=\"373,369\"></path><path d=\"M 1380.2 198.2 L 1380.2 157.1 L 1513.7 157.1\" id=\"372,368\"></path><path d=\"M 1380.2 198.2 L 1380.2 239.3 L 1396.6 239.3\" id=\"372,367\"></path><path d=\"M 975.8 398.2 L 975.8 491.8 L 1095.1 491.8\" id=\"371,366\"></path><path d=\"M 1116.8 1571.0 L 1116.8 1058.3 L 1292.8 1058.3\" id=\"369,365\"></path><path d=\"M 1116.8 1571.0 L 1116.8 2083.6 L 1216.5 2083.6\" id=\"369,364\"></path><path d=\"M 1513.7 157.1 L 1513.7 176.0 L 1537.0 176.0\" id=\"368,363\"></path><path d=\"M 1396.6 239.3 L 1396.6 221.4 L 1490.9 221.4\" id=\"367,362\"></path><path d=\"M 1396.6 239.3 L 1396.6 257.3 L 1513.2 257.3\" id=\"367,361\"></path><path d=\"M 1095.1 491.8 L 1095.1 359.5 L 1160.4 359.5\" id=\"366,360\"></path><path d=\"M 1095.1 491.8 L 1095.1 624.0 L 1100.8 624.0\" id=\"366,359\"></path><path d=\"M 1292.8 1058.3 L 1292.8 884.8 L 1317.2 884.8\" id=\"365,358\"></path><path d=\"M 1292.8 1058.3 L 1292.8 1231.8 L 1303.3 1231.8\" id=\"365,357\"></path><path d=\"M 1216.5 2083.6 L 1216.5 1862.5 L 1265.8 1862.5\" id=\"364,356\"></path><path d=\"M 1216.5 2083.6 L 1216.5 2304.7 L 1313.4 2304.7\" id=\"364,355\"></path><path d=\"M 1537.0 176.0 L 1537.0 160.8 L 1571.9 160.8\" id=\"363,354\"></path><path d=\"M 1537.0 176.0 L 1537.0 191.1 L 1635.6 191.1\" id=\"363,353\"></path><path d=\"M 1513.2 257.3 L 1513.2 270.6 L 1587.9 270.6\" id=\"361,352\"></path><path d=\"M 1160.4 359.5 L 1160.4 327.3 L 1290.9 327.3\" id=\"360,351\"></path><path d=\"M 1160.4 359.5 L 1160.4 391.7 L 1182.8 391.7\" id=\"360,350\"></path><path d=\"M 1100.8 624.0 L 1100.8 566.6 L 1203.6 566.6\" id=\"359,349\"></path><path d=\"M 1100.8 624.0 L 1100.8 681.5 L 1125.0 681.5\" id=\"359,348\"></path><path d=\"M 1317.2 884.8 L 1317.2 834.2 L 1361.0 834.2\" id=\"358,347\"></path><path d=\"M 1317.2 884.8 L 1317.2 935.4 L 1405.6 935.4\" id=\"358,346\"></path><path d=\"M 1303.3 1231.8 L 1303.3 1079.9 L 1341.7 1079.9\" id=\"357,345\"></path><path d=\"M 1303.3 1231.8 L 1303.3 1383.8 L 1324.4 1383.8\" id=\"357,344\"></path><path d=\"M 1265.8 1862.5 L 1265.8 1798.4 L 1278.6 1798.4\" id=\"356,343\"></path><path d=\"M 1265.8 1862.5 L 1265.8 1926.5 L 1336.3 1926.5\" id=\"356,342\"></path><path d=\"M 1313.4 2304.7 L 1313.4 2063.7 L 1339.3 2063.7\" id=\"355,341\"></path><path d=\"M 1313.4 2304.7 L 1313.4 2545.8 L 1338.0 2545.8\" id=\"355,340\"></path><path d=\"M 1587.9 270.6 L 1587.9 281.9 L 1621.5 281.9\" id=\"352,339\"></path><path d=\"M 1182.8 391.7 L 1182.8 361.3 L 1260.2 361.3\" id=\"350,338\"></path><path d=\"M 1182.8 391.7 L 1182.8 422.1 L 1249.5 422.1\" id=\"350,337\"></path><path d=\"M 1203.6 566.6 L 1203.6 586.4 L 1248.3 586.4\" id=\"349,336\"></path><path d=\"M 1125.0 681.5 L 1125.0 650.7 L 1170.1 650.7\" id=\"348,335\"></path><path d=\"M 1125.0 681.5 L 1125.0 712.2 L 1283.9 712.2\" id=\"348,334\"></path><path d=\"M 1361.0 834.2 L 1361.0 811.5 L 1426.7 811.5\" id=\"347,333\"></path><path d=\"M 1361.0 834.2 L 1361.0 856.9 L 1401.6 856.9\" id=\"347,332\"></path><path d=\"M 1405.6 935.4 L 1405.6 906.1 L 1430.3 906.1\" id=\"346,331\"></path><path d=\"M 1405.6 935.4 L 1405.6 964.7 L 1434.7 964.7\" id=\"346,330\"></path><path d=\"M 1341.7 1079.9 L 1341.7 1029.0 L 1428.3 1029.0\" id=\"345,329\"></path><path d=\"M 1341.7 1079.9 L 1341.7 1130.7 L 1365.9 1130.7\" id=\"345,328\"></path><path d=\"M 1324.4 1383.8 L 1324.4 1281.5 L 1344.4 1281.5\" id=\"344,327\"></path><path d=\"M 1324.4 1383.8 L 1324.4 1486.0 L 1327.5 1486.0\" id=\"344,326\"></path><path d=\"M 1278.6 1798.4 L 1278.6 1779.9 L 1345.8 1779.9\" id=\"343,325\"></path><path d=\"M 1278.6 1798.4 L 1278.6 1816.8 L 1326.9 1816.8\" id=\"343,324\"></path><path d=\"M 1336.3 1926.5 L 1336.3 1901.0 L 1357.9 1901.0\" id=\"342,323\"></path><path d=\"M 1336.3 1926.5 L 1336.3 1952.1 L 1338.9 1952.1\" id=\"342,322\"></path><path d=\"M 1339.3 2063.7 L 1339.3 2012.6 L 1353.3 2012.6\" id=\"341,321\"></path><path d=\"M 1339.3 2063.7 L 1339.3 2114.7 L 1352.4 2114.7\" id=\"341,320\"></path><path d=\"M 1338.0 2545.8 L 1338.0 2380.8 L 1349.2 2380.8\" id=\"340,319\"></path><path d=\"M 1338.0 2545.8 L 1338.0 2710.9 L 1354.5 2710.9\" id=\"340,318\"></path><path d=\"M 1260.2 361.3 L 1260.2 372.7 L 1303.7 372.7\" id=\"338,317\"></path><path d=\"M 1249.5 422.1 L 1249.5 448.8 L 1261.4 448.8\" id=\"337,316\"></path><path d=\"M 1248.3 586.4 L 1248.3 569.4 L 1274.5 569.4\" id=\"336,315\"></path><path d=\"M 1248.3 586.4 L 1248.3 603.4 L 1271.2 603.4\" id=\"336,314\"></path><path d=\"M 1170.1 650.7 L 1170.1 664.0 L 1266.4 664.0\" id=\"335,313\"></path><path d=\"M 1283.9 712.2 L 1283.9 726.4 L 1302.4 726.4\" id=\"334,312\"></path><path d=\"M 1401.6 856.9 L 1401.6 841.8 L 1439.5 841.8\" id=\"332,311\"></path><path d=\"M 1401.6 856.9 L 1401.6 872.0 L 1425.1 872.0\" id=\"332,310\"></path><path d=\"M 1430.3 906.1 L 1430.3 917.4 L 1440.7 917.4\" id=\"331,309\"></path><path d=\"M 1434.7 964.7 L 1434.7 947.7 L 1454.7 947.7\" id=\"330,308\"></path><path d=\"M 1434.7 964.7 L 1434.7 981.7 L 1443.2 981.7\" id=\"330,307\"></path><path d=\"M 1428.3 1029.0 L 1428.3 1042.3 L 1432.9 1042.3\" id=\"329,306\"></path><path d=\"M 1365.9 1130.7 L 1365.9 1099.0 L 1372.4 1099.0\" id=\"328,305\"></path><path d=\"M 1365.9 1130.7 L 1365.9 1162.4 L 1413.5 1162.4\" id=\"328,304\"></path><path d=\"M 1344.4 1281.5 L 1344.4 1240.9 L 1461.5 1240.9\" id=\"327,303\"></path><path d=\"M 1344.4 1281.5 L 1344.4 1322.2 L 1417.2 1322.2\" id=\"327,302\"></path><path d=\"M 1327.5 1486.0 L 1327.5 1404.5 L 1413.9 1404.5\" id=\"326,301\"></path><path d=\"M 1327.5 1486.0 L 1327.5 1567.6 L 1380.2 1567.6\" id=\"326,300\"></path><path d=\"M 1326.9 1816.8 L 1326.9 1831.0 L 1333.8 1831.0\" id=\"324,299\"></path><path d=\"M 1357.9 1901.0 L 1357.9 1885.9 L 1361.1 1885.9\" id=\"323,298\"></path><path d=\"M 1357.9 1901.0 L 1357.9 1916.1 L 1359.1 1916.1\" id=\"323,297\"></path><path d=\"M 1338.9 1952.1 L 1338.9 1965.3 L 1378.9 1965.3\" id=\"322,296\"></path><path d=\"M 1353.3 2012.6 L 1353.3 2025.8 L 1382.7 2025.8\" id=\"321,295\"></path><path d=\"M 1352.4 2114.7 L 1352.4 2067.4 L 1383.4 2067.4\" id=\"320,294\"></path><path d=\"M 1352.4 2114.7 L 1352.4 2162.0 L 1354.0 2162.0\" id=\"320,293\"></path><path d=\"M 1349.2 2380.8 L 1349.2 2337.0 L 1351.1 2337.0\" id=\"319,292\"></path><path d=\"M 1349.2 2380.8 L 1349.2 2424.6 L 1352.3 2424.6\" id=\"319,291\"></path><path d=\"M 1354.5 2710.9 L 1354.5 2634.4 L 1360.2 2634.4\" id=\"318,290\"></path><path d=\"M 1354.5 2710.9 L 1354.5 2787.4 L 1369.1 2787.4\" id=\"318,289\"></path><path d=\"M 1261.4 448.8 L 1261.4 421.9 L 1264.4 421.9\" id=\"316,288\"></path><path d=\"M 1261.4 448.8 L 1261.4 475.8 L 1264.2 475.8\" id=\"316,287\"></path><path d=\"M 1271.2 603.4 L 1271.2 614.8 L 1274.5 614.8\" id=\"314,286\"></path><path d=\"M 1266.4 664.0 L 1266.4 675.3 L 1345.7 675.3\" id=\"313,285\"></path><path d=\"M 1302.4 726.4 L 1302.4 739.6 L 1329.1 739.6\" id=\"312,284\"></path><path d=\"M 1443.2 981.7 L 1443.2 993.1 L 1446.4 993.1\" id=\"307,283\"></path><path d=\"M 1432.9 1042.3 L 1432.9 1053.6 L 1434.9 1053.6\" id=\"306,282\"></path><path d=\"M 1372.4 1099.0 L 1372.4 1083.9 L 1422.1 1083.9\" id=\"305,281\"></path><path d=\"M 1372.4 1099.0 L 1372.4 1114.1 L 1417.7 1114.1\" id=\"305,280\"></path><path d=\"M 1413.5 1162.4 L 1413.5 1144.4 L 1424.5 1144.4\" id=\"304,279\"></path><path d=\"M 1413.5 1162.4 L 1413.5 1180.3 L 1424.9 1180.3\" id=\"304,278\"></path><path d=\"M 1461.5 1240.9 L 1461.5 1254.1 L 1466.3 1254.1\" id=\"303,277\"></path><path d=\"M 1417.2 1322.2 L 1417.2 1299.5 L 1439.0 1299.5\" id=\"302,276\"></path><path d=\"M 1417.2 1322.2 L 1417.2 1344.9 L 1442.8 1344.9\" id=\"302,275\"></path><path d=\"M 1413.9 1404.5 L 1413.9 1386.5 L 1423.8 1386.5\" id=\"301,274\"></path><path d=\"M 1413.9 1404.5 L 1413.9 1422.5 L 1423.1 1422.5\" id=\"301,273\"></path><path d=\"M 1380.2 1567.6 L 1380.2 1497.6 L 1432.9 1497.6\" id=\"300,272\"></path><path d=\"M 1380.2 1567.6 L 1380.2 1637.5 L 1386.9 1637.5\" id=\"300,271\"></path><path d=\"M 1333.8 1831.0 L 1333.8 1844.2 L 1360.9 1844.2\" id=\"299,270\"></path><path d=\"M 1378.9 1965.3 L 1378.9 1976.6 L 1384.6 1976.6\" id=\"296,269\"></path><path d=\"M 1382.7 2025.8 L 1382.7 2037.2 L 1386.2 2037.2\" id=\"295,268\"></path><path d=\"M 1354.0 2162.0 L 1354.0 2104.3 L 1359.5 2104.3\" id=\"293,267\"></path><path d=\"M 1354.0 2162.0 L 1354.0 2219.7 L 1376.8 2219.7\" id=\"293,266\"></path><path d=\"M 1351.1 2337.0 L 1351.1 2356.8 L 1361.3 2356.8\" id=\"292,265\"></path><path d=\"M 1352.3 2424.6 L 1352.3 2441.2 L 1356.3 2441.2\" id=\"291,264\"></path><path d=\"M 1360.2 2634.4 L 1360.2 2598.9 L 1368.8 2598.9\" id=\"290,263\"></path><path d=\"M 1360.2 2634.4 L 1360.2 2669.9 L 1368.7 2669.9\" id=\"290,262\"></path><path d=\"M 1369.1 2787.4 L 1369.1 2834.0 L 1372.1 2834.0\" id=\"289,261\"></path><path d=\"M 1264.4 421.9 L 1264.4 433.2 L 1287.0 433.2\" id=\"288,260\"></path><path d=\"M 1264.2 475.8 L 1264.2 495.6 L 1272.9 495.6\" id=\"287,259\"></path><path d=\"M 1329.1 739.6 L 1329.1 751.0 L 1333.0 751.0\" id=\"284,258\"></path><path d=\"M 1424.9 1180.3 L 1424.9 1193.6 L 1427.1 1193.6\" id=\"278,257\"></path><path d=\"M 1466.3 1254.1 L 1466.3 1265.5 L 1468.0 1265.5\" id=\"277,256\"></path><path d=\"M 1439.0 1299.5 L 1439.0 1310.9 L 1440.2 1310.9\" id=\"276,255\"></path><path d=\"M 1442.8 1344.9 L 1442.8 1356.2 L 1444.2 1356.2\" id=\"275,254\"></path><path d=\"M 1423.1 1422.5 L 1423.1 1435.7 L 1442.5 1435.7\" id=\"273,253\"></path><path d=\"M 1432.9 1497.6 L 1432.9 1525.5 L 1439.5 1525.5\" id=\"272,252\"></path><path d=\"M 1386.9 1637.5 L 1386.9 1613.5 L 1493.2 1613.5\" id=\"271,251\"></path><path d=\"M 1386.9 1637.5 L 1386.9 1661.5 L 1405.3 1661.5\" id=\"271,250\"></path><path d=\"M 1360.9 1844.2 L 1360.9 1855.6 L 1361.3 1855.6\" id=\"270,249\"></path><path d=\"M 1359.5 2104.3 L 1359.5 2118.5 L 1361.1 2118.5\" id=\"267,248\"></path><path d=\"M 1376.8 2219.7 L 1376.8 2179.0 L 1383.7 2179.0\" id=\"266,247\"></path><path d=\"M 1376.8 2219.7 L 1376.8 2260.4 L 1383.4 2260.4\" id=\"266,246\"></path><path d=\"M 1361.3 2356.8 L 1361.3 2339.8 L 1362.8 2339.8\" id=\"265,245\"></path><path d=\"M 1361.3 2356.8 L 1361.3 2373.9 L 1375.9 2373.9\" id=\"265,244\"></path><path d=\"M 1356.3 2441.2 L 1356.3 2459.4 L 1356.3 2459.4\" id=\"264,243\"></path><path d=\"M 1368.8 2598.9 L 1368.8 2581.9 L 1382.6 2581.9\" id=\"263,242\"></path><path d=\"M 1368.8 2598.9 L 1368.8 2616.0 L 1376.4 2616.0\" id=\"263,241\"></path><path d=\"M 1368.7 2669.9 L 1368.7 2689.7 L 1372.1 2689.7\" id=\"262,240\"></path><path d=\"M 1372.1 2834.0 L 1372.1 2781.5 L 1373.0 2781.5\" id=\"261,239\"></path><path d=\"M 1372.1 2834.0 L 1372.1 2886.4 L 1377.1 2886.4\" id=\"261,238\"></path><path d=\"M 1272.9 495.6 L 1272.9 478.6 L 1278.4 478.6\" id=\"259,237\"></path><path d=\"M 1272.9 495.6 L 1272.9 512.7 L 1276.0 512.7\" id=\"259,236\"></path><path d=\"M 1427.1 1193.6 L 1427.1 1204.9 L 1433.2 1204.9\" id=\"257,235\"></path><path d=\"M 1442.5 1435.7 L 1442.5 1447.0 L 1455.3 1447.0\" id=\"253,234\"></path><path d=\"M 1439.5 1525.5 L 1439.5 1496.2 L 1457.4 1496.2\" id=\"252,233\"></path><path d=\"M 1439.5 1525.5 L 1439.5 1554.9 L 1448.8 1554.9\" id=\"252,232\"></path><path d=\"M 1405.3 1661.5 L 1405.3 1686.8 L 1462.0 1686.8\" id=\"250,231\"></path><path d=\"M 1361.1 2118.5 L 1361.1 2131.7 L 1382.0 2131.7\" id=\"248,230\"></path><path d=\"M 1383.7 2179.0 L 1383.7 2192.3 L 1388.5 2192.3\" id=\"247,229\"></path><path d=\"M 1383.4 2260.4 L 1383.4 2237.7 L 1390.0 2237.7\" id=\"246,228\"></path><path d=\"M 1383.4 2260.4 L 1383.4 2283.1 L 1384.6 2283.1\" id=\"246,227\"></path><path d=\"M 1375.9 2373.9 L 1375.9 2385.2 L 1377.1 2385.2\" id=\"244,226\"></path><path d=\"M 1356.3 2459.4 L 1356.3 2480.7 L 1357.1 2480.7\" id=\"243,225\"></path><path d=\"M 1376.4 2616.0 L 1376.4 2627.3 L 1386.8 2627.3\" id=\"241,224\"></path><path d=\"M 1372.1 2689.7 L 1372.1 2672.7 L 1387.7 2672.7\" id=\"240,223\"></path><path d=\"M 1372.1 2689.7 L 1372.1 2706.8 L 1381.8 2706.8\" id=\"240,222\"></path><path d=\"M 1373.0 2781.5 L 1373.0 2763.5 L 1376.4 2763.5\" id=\"239,221\"></path><path d=\"M 1373.0 2781.5 L 1373.0 2799.4 L 1375.2 2799.4\" id=\"239,220\"></path><path d=\"M 1377.1 2886.4 L 1377.1 2858.1 L 1379.8 2858.1\" id=\"238,219\"></path><path d=\"M 1377.1 2886.4 L 1377.1 2914.8 L 1383.4 2914.8\" id=\"238,218\"></path><path d=\"M 1276.0 512.7 L 1276.0 524.0 L 1281.3 524.0\" id=\"236,217\"></path><path d=\"M 1457.4 1496.2 L 1457.4 1507.6 L 1466.3 1507.6\" id=\"233,216\"></path><path d=\"M 1448.8 1554.9 L 1448.8 1537.8 L 1467.0 1537.8\" id=\"232,215\"></path><path d=\"M 1448.8 1554.9 L 1448.8 1571.9 L 1472.9 1571.9\" id=\"232,214\"></path><path d=\"M 1462.0 1686.8 L 1462.0 1662.7 L 1467.9 1662.7\" id=\"231,213\"></path><path d=\"M 1462.0 1686.8 L 1462.0 1710.9 L 1473.7 1710.9\" id=\"231,212\"></path><path d=\"M 1382.0 2131.7 L 1382.0 2143.1 L 1386.1 2143.1\" id=\"230,211\"></path><path d=\"M 1388.5 2192.3 L 1388.5 2203.6 L 1392.0 2203.6\" id=\"229,210\"></path><path d=\"M 1390.0 2237.7 L 1390.0 2249.0 L 1390.7 2249.0\" id=\"228,209\"></path><path d=\"M 1384.6 2283.1 L 1384.6 2294.4 L 1387.5 2294.4\" id=\"227,208\"></path><path d=\"M 1357.1 2480.7 L 1357.1 2460.9 L 1367.5 2460.9\" id=\"225,207\"></path><path d=\"M 1357.1 2480.7 L 1357.1 2500.6 L 1359.0 2500.6\" id=\"225,206\"></path><path d=\"M 1381.8 2706.8 L 1381.8 2718.1 L 1383.5 2718.1\" id=\"222,205\"></path><path d=\"M 1375.2 2799.4 L 1375.2 2812.7 L 1378.6 2812.7\" id=\"220,204\"></path><path d=\"M 1379.8 2858.1 L 1379.8 2869.4 L 1385.4 2869.4\" id=\"219,203\"></path><path d=\"M 1383.4 2914.8 L 1383.4 2899.7 L 1384.3 2899.7\" id=\"218,202\"></path><path d=\"M 1383.4 2914.8 L 1383.4 2929.9 L 1384.8 2929.9\" id=\"218,201\"></path><path d=\"M 1472.9 1571.9 L 1472.9 1583.2 L 1472.9 1583.2\" id=\"214,200\"></path><path d=\"M 1467.9 1662.7 L 1467.9 1674.0 L 1487.3 1674.0\" id=\"213,199\"></path><path d=\"M 1473.7 1710.9 L 1473.7 1725.1 L 1484.2 1725.1\" id=\"212,198\"></path><path d=\"M 1359.0 2500.6 L 1359.0 2517.6 L 1364.7 2517.6\" id=\"206,197\"></path><path d=\"M 1378.6 2812.7 L 1378.6 2824.0 L 1379.0 2824.0\" id=\"204,196\"></path><path d=\"M 1484.2 1725.1 L 1484.2 1738.3 L 1484.2 1738.3\" id=\"198,195\"></path><path d=\"M 1364.7 2517.6 L 1364.7 2536.5 L 1366.9 2536.5\" id=\"197,194\"></path><path d=\"M 1484.2 1738.3 L 1484.2 1749.7 L 1486.7 1749.7\" id=\"195,193\"></path><path d=\"M 1366.9 2536.5 L 1366.9 2521.4 L 1369.6 2521.4\" id=\"194,192\"></path><path d=\"M 1366.9 2536.5 L 1366.9 2551.7 L 1376.0 2551.7\" id=\"194,191\"></path><path d=\"M 51.7 159.1 L 51.7 62.5 L 657.7 62.5\" id=\"380,190\"></path><path d=\"M 1419.7 85.2 L 1419.7 77.6 L 1510.2 77.6\" id=\"378,189\"></path><path d=\"M 1419.7 85.2 L 1419.7 92.8 L 1504.7 92.8\" id=\"378,188\"></path><path d=\"M 1209.3 115.5 L 1209.3 107.9 L 1292.3 107.9\" id=\"376,187\"></path><path d=\"M 1209.3 115.5 L 1209.3 123.0 L 1288.8 123.0\" id=\"376,186\"></path><path d=\"M 1513.7 157.1 L 1513.7 138.1 L 1624.9 138.1\" id=\"368,185\"></path><path d=\"M 1571.9 160.8 L 1571.9 153.3 L 1647.3 153.3\" id=\"354,184\"></path><path d=\"M 1571.9 160.8 L 1571.9 168.4 L 1610.7 168.4\" id=\"354,183\"></path><path d=\"M 1635.6 191.1 L 1635.6 183.5 L 1639.3 183.5\" id=\"353,182\"></path><path d=\"M 1635.6 191.1 L 1635.6 198.7 L 1639.5 198.7\" id=\"353,181\"></path><path d=\"M 1490.9 221.4 L 1490.9 213.8 L 1611.0 213.8\" id=\"362,180\"></path><path d=\"M 1490.9 221.4 L 1490.9 228.9 L 1655.8 228.9\" id=\"362,179\"></path><path d=\"M 1513.2 257.3 L 1513.2 244.1 L 1649.7 244.1\" id=\"361,178\"></path><path d=\"M 1587.9 270.6 L 1587.9 259.2 L 1699.1 259.2\" id=\"352,177\"></path><path d=\"M 1621.5 281.9 L 1621.5 274.3 L 1625.9 274.3\" id=\"339,176\"></path><path d=\"M 1621.5 281.9 L 1621.5 289.5 L 1627.9 289.5\" id=\"339,175\"></path><path d=\"M 975.8 398.2 L 975.8 304.6 L 1210.3 304.6\" id=\"371,174\"></path><path d=\"M 1290.9 327.3 L 1290.9 319.7 L 1298.1 319.7\" id=\"351,173\"></path><path d=\"M 1290.9 327.3 L 1290.9 334.9 L 1298.4 334.9\" id=\"351,172\"></path><path d=\"M 1260.2 361.3 L 1260.2 350.0 L 1304.6 350.0\" id=\"338,171\"></path><path d=\"M 1303.7 372.7 L 1303.7 365.1 L 1368.2 365.1\" id=\"317,170\"></path><path d=\"M 1303.7 372.7 L 1303.7 380.3 L 1307.3 380.3\" id=\"317,169\"></path><path d=\"M 1249.5 422.1 L 1249.5 395.4 L 1292.4 395.4\" id=\"337,168\"></path><path d=\"M 1264.4 421.9 L 1264.4 410.5 L 1292.9 410.5\" id=\"288,167\"></path><path d=\"M 1287.0 433.2 L 1287.0 425.7 L 1290.5 425.7\" id=\"260,166\"></path><path d=\"M 1287.0 433.2 L 1287.0 440.8 L 1297.8 440.8\" id=\"260,165\"></path><path d=\"M 1264.2 475.8 L 1264.2 455.9 L 1290.1 455.9\" id=\"287,164\"></path><path d=\"M 1278.4 478.6 L 1278.4 471.0 L 1287.7 471.0\" id=\"237,163\"></path><path d=\"M 1278.4 478.6 L 1278.4 486.2 L 1282.9 486.2\" id=\"237,162\"></path><path d=\"M 1276.0 512.7 L 1276.0 501.3 L 1283.9 501.3\" id=\"236,161\"></path><path d=\"M 1281.3 524.0 L 1281.3 516.4 L 1288.6 516.4\" id=\"217,160\"></path><path d=\"M 1281.3 524.0 L 1281.3 531.6 L 1290.9 531.6\" id=\"217,159\"></path><path d=\"M 1203.6 566.6 L 1203.6 546.7 L 1321.8 546.7\" id=\"349,158\"></path><path d=\"M 1274.5 569.4 L 1274.5 561.8 L 1287.2 561.8\" id=\"315,157\"></path><path d=\"M 1274.5 569.4 L 1274.5 577.0 L 1287.0 577.0\" id=\"315,156\"></path><path d=\"M 1271.2 603.4 L 1271.2 592.1 L 1288.4 592.1\" id=\"314,155\"></path><path d=\"M 1274.5 614.8 L 1274.5 607.2 L 1293.0 607.2\" id=\"286,154\"></path><path d=\"M 1274.5 614.8 L 1274.5 622.4 L 1284.1 622.4\" id=\"286,153\"></path><path d=\"M 1170.1 650.7 L 1170.1 637.5 L 1290.1 637.5\" id=\"335,152\"></path><path d=\"M 1266.4 664.0 L 1266.4 652.6 L 1405.3 652.6\" id=\"313,151\"></path><path d=\"M 1345.7 675.3 L 1345.7 667.8 L 1352.3 667.8\" id=\"285,150\"></path><path d=\"M 1345.7 675.3 L 1345.7 682.9 L 1361.2 682.9\" id=\"285,149\"></path><path d=\"M 1283.9 712.2 L 1283.9 698.0 L 1349.7 698.0\" id=\"334,148\"></path><path d=\"M 1302.4 726.4 L 1302.4 713.2 L 1338.6 713.2\" id=\"312,147\"></path><path d=\"M 1329.1 739.6 L 1329.1 728.3 L 1349.0 728.3\" id=\"284,146\"></path><path d=\"M 1333.0 751.0 L 1333.0 743.4 L 1343.3 743.4\" id=\"258,145\"></path><path d=\"M 1333.0 751.0 L 1333.0 758.5 L 1341.3 758.5\" id=\"258,144\"></path><path d=\"M 1454.2 781.2 L 1454.2 773.7 L 1524.3 773.7\" id=\"370,143\"></path><path d=\"M 1454.2 781.2 L 1454.2 788.8 L 1508.5 788.8\" id=\"370,142\"></path><path d=\"M 1426.7 811.5 L 1426.7 803.9 L 1451.2 803.9\" id=\"333,141\"></path><path d=\"M 1426.7 811.5 L 1426.7 819.1 L 1449.1 819.1\" id=\"333,140\"></path><path d=\"M 1439.5 841.8 L 1439.5 834.2 L 1446.1 834.2\" id=\"311,139\"></path><path d=\"M 1439.5 841.8 L 1439.5 849.3 L 1454.4 849.3\" id=\"311,138\"></path><path d=\"M 1425.1 872.0 L 1425.1 864.5 L 1451.8 864.5\" id=\"310,137\"></path><path d=\"M 1425.1 872.0 L 1425.1 879.6 L 1440.1 879.6\" id=\"310,136\"></path><path d=\"M 1430.3 906.1 L 1430.3 894.7 L 1453.9 894.7\" id=\"331,135\"></path><path d=\"M 1440.7 917.4 L 1440.7 909.9 L 1457.2 909.9\" id=\"309,134\"></path><path d=\"M 1440.7 917.4 L 1440.7 925.0 L 1455.5 925.0\" id=\"309,133\"></path><path d=\"M 1454.7 947.7 L 1454.7 940.1 L 1458.2 940.1\" id=\"308,132\"></path><path d=\"M 1454.7 947.7 L 1454.7 955.3 L 1471.1 955.3\" id=\"308,131\"></path><path d=\"M 1443.2 981.7 L 1443.2 970.4 L 1451.2 970.4\" id=\"307,130\"></path><path d=\"M 1446.4 993.1 L 1446.4 985.5 L 1466.0 985.5\" id=\"283,129\"></path><path d=\"M 1446.4 993.1 L 1446.4 1000.7 L 1492.7 1000.7\" id=\"283,128\"></path><path d=\"M 1428.3 1029.0 L 1428.3 1015.8 L 1457.1 1015.8\" id=\"329,127\"></path><path d=\"M 1432.9 1042.3 L 1432.9 1030.9 L 1509.5 1030.9\" id=\"306,126\"></path><path d=\"M 1434.9 1053.6 L 1434.9 1046.0 L 1452.9 1046.0\" id=\"282,125\"></path><path d=\"M 1434.9 1053.6 L 1434.9 1061.2 L 1459.5 1061.2\" id=\"282,124\"></path><path d=\"M 1422.1 1083.9 L 1422.1 1076.3 L 1427.1 1076.3\" id=\"281,123\"></path><path d=\"M 1422.1 1083.9 L 1422.1 1091.4 L 1423.6 1091.4\" id=\"281,122\"></path><path d=\"M 1417.7 1114.1 L 1417.7 1106.6 L 1441.2 1106.6\" id=\"280,121\"></path><path d=\"M 1417.7 1114.1 L 1417.7 1121.7 L 1429.3 1121.7\" id=\"280,120\"></path><path d=\"M 1424.5 1144.4 L 1424.5 1136.8 L 1430.1 1136.8\" id=\"279,119\"></path><path d=\"M 1424.5 1144.4 L 1424.5 1152.0 L 1431.5 1152.0\" id=\"279,118\"></path><path d=\"M 1424.9 1180.3 L 1424.9 1167.1 L 1448.7 1167.1\" id=\"278,117\"></path><path d=\"M 1427.1 1193.6 L 1427.1 1182.2 L 1435.4 1182.2\" id=\"257,116\"></path><path d=\"M 1433.2 1204.9 L 1433.2 1197.4 L 1454.1 1197.4\" id=\"235,115\"></path><path d=\"M 1433.2 1204.9 L 1433.2 1212.5 L 1445.0 1212.5\" id=\"235,114\"></path><path d=\"M 1461.5 1240.9 L 1461.5 1227.6 L 1470.2 1227.6\" id=\"303,113\"></path><path d=\"M 1466.3 1254.1 L 1466.3 1242.8 L 1475.4 1242.8\" id=\"277,112\"></path><path d=\"M 1468.0 1265.5 L 1468.0 1257.9 L 1470.5 1257.9\" id=\"256,111\"></path><path d=\"M 1468.0 1265.5 L 1468.0 1273.0 L 1473.6 1273.0\" id=\"256,110\"></path><path d=\"M 1439.0 1299.5 L 1439.0 1288.2 L 1452.9 1288.2\" id=\"276,109\"></path><path d=\"M 1440.2 1310.9 L 1440.2 1303.3 L 1443.0 1303.3\" id=\"255,108\"></path><path d=\"M 1440.2 1310.9 L 1440.2 1318.4 L 1457.2 1318.4\" id=\"255,107\"></path><path d=\"M 1442.8 1344.9 L 1442.8 1333.6 L 1449.3 1333.6\" id=\"275,106\"></path><path d=\"M 1444.2 1356.2 L 1444.2 1348.7 L 1451.6 1348.7\" id=\"254,105\"></path><path d=\"M 1444.2 1356.2 L 1444.2 1363.8 L 1465.9 1363.8\" id=\"254,104\"></path><path d=\"M 1423.8 1386.5 L 1423.8 1378.9 L 1438.5 1378.9\" id=\"274,103\"></path><path d=\"M 1423.8 1386.5 L 1423.8 1394.1 L 1435.8 1394.1\" id=\"274,102\"></path><path d=\"M 1423.1 1422.5 L 1423.1 1409.2 L 1430.7 1409.2\" id=\"273,101\"></path><path d=\"M 1442.5 1435.7 L 1442.5 1424.3 L 1446.9 1424.3\" id=\"253,100\"></path><path d=\"M 1455.3 1447.0 L 1455.3 1439.5 L 1468.5 1439.5\" id=\"234,99\"></path><path d=\"M 1455.3 1447.0 L 1455.3 1454.6 L 1459.0 1454.6\" id=\"234,98\"></path><path d=\"M 1432.9 1497.6 L 1432.9 1469.7 L 1480.4 1469.7\" id=\"272,97\"></path><path d=\"M 1457.4 1496.2 L 1457.4 1484.9 L 1482.3 1484.9\" id=\"233,96\"></path><path d=\"M 1466.3 1507.6 L 1466.3 1500.0 L 1473.2 1500.0\" id=\"216,95\"></path><path d=\"M 1466.3 1507.6 L 1466.3 1515.1 L 1479.4 1515.1\" id=\"216,94\"></path><path d=\"M 1467.0 1537.8 L 1467.0 1530.3 L 1470.9 1530.3\" id=\"215,93\"></path><path d=\"M 1467.0 1537.8 L 1467.0 1545.4 L 1470.6 1545.4\" id=\"215,92\"></path><path d=\"M 1472.9 1571.9 L 1472.9 1560.5 L 1490.8 1560.5\" id=\"214,91\"></path><path d=\"M 1472.9 1583.2 L 1472.9 1575.7 L 1489.3 1575.7\" id=\"200,90\"></path><path d=\"M 1472.9 1583.2 L 1472.9 1590.8 L 1484.3 1590.8\" id=\"200,89\"></path><path d=\"M 1493.2 1613.5 L 1493.2 1605.9 L 1495.7 1605.9\" id=\"251,88\"></path><path d=\"M 1493.2 1613.5 L 1493.2 1621.1 L 1495.3 1621.1\" id=\"251,87\"></path><path d=\"M 1405.3 1661.5 L 1405.3 1636.2 L 1484.2 1636.2\" id=\"250,86\"></path><path d=\"M 1467.9 1662.7 L 1467.9 1651.3 L 1497.8 1651.3\" id=\"213,85\"></path><path d=\"M 1487.3 1674.0 L 1487.3 1666.4 L 1509.3 1666.4\" id=\"199,84\"></path><path d=\"M 1487.3 1674.0 L 1487.3 1681.6 L 1496.3 1681.6\" id=\"199,83\"></path><path d=\"M 1473.7 1710.9 L 1473.7 1696.7 L 1505.4 1696.7\" id=\"212,82\"></path><path d=\"M 1484.2 1725.1 L 1484.2 1711.8 L 1498.9 1711.8\" id=\"198,81\"></path><path d=\"M 1484.2 1738.3 L 1484.2 1727.0 L 1488.7 1727.0\" id=\"195,80\"></path><path d=\"M 1486.7 1749.7 L 1486.7 1742.1 L 1490.4 1742.1\" id=\"193,79\"></path><path d=\"M 1486.7 1749.7 L 1486.7 1757.2 L 1490.7 1757.2\" id=\"193,78\"></path><path d=\"M 1345.8 1779.9 L 1345.8 1772.4 L 1349.9 1772.4\" id=\"325,77\"></path><path d=\"M 1345.8 1779.9 L 1345.8 1787.5 L 1352.2 1787.5\" id=\"325,76\"></path><path d=\"M 1326.9 1816.8 L 1326.9 1802.6 L 1363.5 1802.6\" id=\"324,75\"></path><path d=\"M 1333.8 1831.0 L 1333.8 1817.8 L 1370.7 1817.8\" id=\"299,74\"></path><path d=\"M 1360.9 1844.2 L 1360.9 1832.9 L 1363.1 1832.9\" id=\"270,73\"></path><path d=\"M 1361.3 1855.6 L 1361.3 1848.0 L 1370.9 1848.0\" id=\"249,72\"></path><path d=\"M 1361.3 1855.6 L 1361.3 1863.2 L 1373.4 1863.2\" id=\"249,71\"></path><path d=\"M 1361.1 1885.9 L 1361.1 1878.3 L 1363.3 1878.3\" id=\"298,70\"></path><path d=\"M 1361.1 1885.9 L 1361.1 1893.4 L 1363.4 1893.4\" id=\"298,69\"></path><path d=\"M 1359.1 1916.1 L 1359.1 1908.6 L 1362.0 1908.6\" id=\"297,68\"></path><path d=\"M 1359.1 1916.1 L 1359.1 1923.7 L 1363.6 1923.7\" id=\"297,67\"></path><path d=\"M 1338.9 1952.1 L 1338.9 1938.8 L 1365.0 1938.8\" id=\"322,66\"></path><path d=\"M 1378.9 1965.3 L 1378.9 1954.0 L 1395.9 1954.0\" id=\"296,65\"></path><path d=\"M 1384.6 1976.6 L 1384.6 1969.1 L 1391.6 1969.1\" id=\"269,64\"></path><path d=\"M 1384.6 1976.6 L 1384.6 1984.2 L 1394.8 1984.2\" id=\"269,63\"></path><path d=\"M 1353.3 2012.6 L 1353.3 1999.3 L 1399.1 1999.3\" id=\"321,62\"></path><path d=\"M 1382.7 2025.8 L 1382.7 2014.5 L 1395.4 2014.5\" id=\"295,61\"></path><path d=\"M 1386.2 2037.2 L 1386.2 2029.6 L 1398.9 2029.6\" id=\"268,60\"></path><path d=\"M 1386.2 2037.2 L 1386.2 2044.7 L 1400.0 2044.7\" id=\"268,59\"></path><path d=\"M 1383.4 2067.4 L 1383.4 2059.9 L 1389.1 2059.9\" id=\"294,58\"></path><path d=\"M 1383.4 2067.4 L 1383.4 2075.0 L 1385.1 2075.0\" id=\"294,57\"></path><path d=\"M 1359.5 2104.3 L 1359.5 2090.1 L 1391.4 2090.1\" id=\"267,56\"></path><path d=\"M 1361.1 2118.5 L 1361.1 2105.3 L 1391.4 2105.3\" id=\"248,55\"></path><path d=\"M 1382.0 2131.7 L 1382.0 2120.4 L 1390.8 2120.4\" id=\"230,54\"></path><path d=\"M 1386.1 2143.1 L 1386.1 2135.5 L 1390.1 2135.5\" id=\"211,53\"></path><path d=\"M 1386.1 2143.1 L 1386.1 2150.7 L 1391.6 2150.7\" id=\"211,52\"></path><path d=\"M 1383.7 2179.0 L 1383.7 2165.8 L 1393.2 2165.8\" id=\"247,51\"></path><path d=\"M 1388.5 2192.3 L 1388.5 2180.9 L 1392.5 2180.9\" id=\"229,50\"></path><path d=\"M 1392.0 2203.6 L 1392.0 2196.1 L 1397.8 2196.1\" id=\"210,49\"></path><path d=\"M 1392.0 2203.6 L 1392.0 2211.2 L 1393.7 2211.2\" id=\"210,48\"></path><path d=\"M 1390.0 2237.7 L 1390.0 2226.3 L 1392.5 2226.3\" id=\"228,47\"></path><path d=\"M 1390.7 2249.0 L 1390.7 2241.5 L 1394.8 2241.5\" id=\"209,46\"></path><path d=\"M 1390.7 2249.0 L 1390.7 2256.6 L 1392.7 2256.6\" id=\"209,45\"></path><path d=\"M 1384.6 2283.1 L 1384.6 2271.7 L 1391.9 2271.7\" id=\"227,44\"></path><path d=\"M 1387.5 2294.4 L 1387.5 2286.8 L 1395.3 2286.8\" id=\"208,43\"></path><path d=\"M 1387.5 2294.4 L 1387.5 2302.0 L 1392.1 2302.0\" id=\"208,42\"></path><path d=\"M 1351.1 2337.0 L 1351.1 2317.1 L 1400.2 2317.1\" id=\"292,41\"></path><path d=\"M 1362.8 2339.8 L 1362.8 2332.2 L 1385.4 2332.2\" id=\"245,40\"></path><path d=\"M 1362.8 2339.8 L 1362.8 2347.4 L 1382.1 2347.4\" id=\"245,39\"></path><path d=\"M 1375.9 2373.9 L 1375.9 2362.5 L 1378.9 2362.5\" id=\"244,38\"></path><path d=\"M 1377.1 2385.2 L 1377.1 2377.6 L 1383.7 2377.6\" id=\"226,37\"></path><path d=\"M 1377.1 2385.2 L 1377.1 2392.8 L 1383.4 2392.8\" id=\"226,36\"></path><path d=\"M 1352.3 2424.6 L 1352.3 2407.9 L 1383.3 2407.9\" id=\"291,35\"></path><path d=\"M 1356.3 2441.2 L 1356.3 2423.0 L 1386.5 2423.0\" id=\"264,34\"></path><path d=\"M 1356.3 2459.4 L 1356.3 2438.2 L 1383.0 2438.2\" id=\"243,33\"></path><path d=\"M 1367.5 2460.9 L 1367.5 2453.3 L 1373.3 2453.3\" id=\"207,32\"></path><path d=\"M 1367.5 2460.9 L 1367.5 2468.4 L 1410.8 2468.4\" id=\"207,31\"></path><path d=\"M 1359.0 2500.6 L 1359.0 2483.6 L 1378.7 2483.6\" id=\"206,30\"></path><path d=\"M 1364.7 2517.6 L 1364.7 2498.7 L 1376.8 2498.7\" id=\"197,29\"></path><path d=\"M 1369.6 2521.4 L 1369.6 2513.8 L 1376.3 2513.8\" id=\"192,28\"></path><path d=\"M 1369.6 2521.4 L 1369.6 2529.0 L 1383.8 2529.0\" id=\"192,27\"></path><path d=\"M 1376.0 2551.7 L 1376.0 2544.1 L 1378.2 2544.1\" id=\"191,26\"></path><path d=\"M 1376.0 2551.7 L 1376.0 2559.2 L 1380.8 2559.2\" id=\"191,25\"></path><path d=\"M 1382.6 2581.9 L 1382.6 2574.3 L 1386.2 2574.3\" id=\"242,24\"></path><path d=\"M 1382.6 2581.9 L 1382.6 2589.5 L 1389.7 2589.5\" id=\"242,23\"></path><path d=\"M 1376.4 2616.0 L 1376.4 2604.6 L 1397.2 2604.6\" id=\"241,22\"></path><path d=\"M 1386.8 2627.3 L 1386.8 2619.7 L 1387.4 2619.7\" id=\"224,21\"></path><path d=\"M 1386.8 2627.3 L 1386.8 2634.9 L 1395.4 2634.9\" id=\"224,20\"></path><path d=\"M 1368.7 2669.9 L 1368.7 2650.0 L 1379.2 2650.0\" id=\"262,19\"></path><path d=\"M 1387.7 2672.7 L 1387.7 2665.1 L 1388.8 2665.1\" id=\"223,18\"></path><path d=\"M 1387.7 2672.7 L 1387.7 2680.3 L 1388.6 2680.3\" id=\"223,17\"></path><path d=\"M 1381.8 2706.8 L 1381.8 2695.4 L 1387.1 2695.4\" id=\"222,16\"></path><path d=\"M 1383.5 2718.1 L 1383.5 2710.5 L 1388.0 2710.5\" id=\"205,15\"></path><path d=\"M 1383.5 2718.1 L 1383.5 2725.7 L 1385.1 2725.7\" id=\"205,14\"></path><path d=\"M 1369.1 2787.4 L 1369.1 2740.8 L 1389.5 2740.8\" id=\"289,13\"></path><path d=\"M 1376.4 2763.5 L 1376.4 2755.9 L 1383.0 2755.9\" id=\"221,12\"></path><path d=\"M 1376.4 2763.5 L 1376.4 2771.1 L 1386.2 2771.1\" id=\"221,11\"></path><path d=\"M 1375.2 2799.4 L 1375.2 2786.2 L 1385.3 2786.2\" id=\"220,10\"></path><path d=\"M 1378.6 2812.7 L 1378.6 2801.3 L 1384.4 2801.3\" id=\"204,9\"></path><path d=\"M 1379.0 2824.0 L 1379.0 2816.5 L 1386.3 2816.5\" id=\"196,8\"></path><path d=\"M 1379.0 2824.0 L 1379.0 2831.6 L 1386.8 2831.6\" id=\"196,7\"></path><path d=\"M 1379.8 2858.1 L 1379.8 2846.7 L 1389.6 2846.7\" id=\"219,6\"></path><path d=\"M 1385.4 2869.4 L 1385.4 2861.9 L 1392.8 2861.9\" id=\"203,5\"></path><path d=\"M 1385.4 2869.4 L 1385.4 2877.0 L 1392.5 2877.0\" id=\"203,4\"></path><path d=\"M 1384.3 2899.7 L 1384.3 2892.1 L 1389.1 2892.1\" id=\"202,3\"></path><path d=\"M 1384.3 2899.7 L 1384.3 2907.2 L 1393.8 2907.2\" id=\"202,2\"></path><path d=\"M 1384.8 2929.9 L 1384.8 2922.4 L 1391.2 2922.4\" id=\"201,1\"></path><path d=\"M 1384.8 2929.9 L 1384.8 2937.5 L 1387.8 2937.5\" id=\"201,0\"></path></g><g class=\"toytree-TipLabels\" style=\"fill:rgb(14.9%,14.9%,14.9%);fill-opacity:1.0;font-family:helvetica;font-size:11px;font-weight:normal;stroke:none;white-space:pre\"><g transform=\"translate(1387.81,2937.51)rotate(0)\"><text x=\"15.00\" y=\"2.81\" style=\"\">Macaca_maura_MCA_1</text></g><g transform=\"translate(1391.21,2922.38)rotate(0)\"><text x=\"15.00\" y=\"2.81\" style=\"\">Macaca_tonkeana_MTO_6</text></g><g transform=\"translate(1393.81,2907.25)rotate(0)\"><text x=\"15.00\" y=\"2.81\" style=\"\">Macaca_nigra_MNG_3</text></g><g transform=\"translate(1389.15,2892.11)rotate(0)\"><text x=\"15.00\" y=\"2.81\" style=\"\">Macaca_orchreata_Moc_1</text></g><g transform=\"translate(1392.54,2876.98)rotate(0)\"><text x=\"15.00\" y=\"2.81\" style=\"\">Macaca_nemestrina_MNE_5</text></g><g transform=\"translate(1392.76,2861.85)rotate(0)\"><text x=\"15.00\" y=\"2.81\" style=\"\">Macaca_silenus_MSI_7</text></g><g transform=\"translate(1389.65,2846.72)rotate(0)\"><text x=\"15.00\" y=\"2.81\" style=\"\">Macaca_siberu_MSE_1</text></g><g transform=\"translate(1386.79,2831.59)rotate(0)\"><text x=\"15.00\" y=\"2.81\" style=\"\">Macaca_cyclopis_MCY_3</text></g><g transform=\"translate(1386.31,2816.46)rotate(0)\"><text x=\"15.00\" y=\"2.81\" style=\"\">Macaca_fuscata_MFS_2</text></g><g transform=\"translate(1384.42,2801.32)rotate(0)\"><text x=\"15.00\" y=\"2.81\" style=\"\">Macaca_mulatta_MMA_14</text></g><g transform=\"translate(1385.30,2786.19)rotate(0)\"><text x=\"15.00\" y=\"2.81\" style=\"\">Macaca_fascicularis_MFA_18</text></g><g transform=\"translate(1386.24,2771.06)rotate(0)\"><text x=\"15.00\" y=\"2.81\" style=\"\">Macaca_arctoides_MAC_1</text></g><g transform=\"translate(1382.98,2755.93)rotate(0)\"><text x=\"15.00\" y=\"2.81\" style=\"\">Macaca_thibetana_MTH_3</text></g><g transform=\"translate(1389.48,2740.80)rotate(0)\"><text x=\"15.00\" y=\"2.81\" style=\"\">Macaca_sylvanus_MSY_3</text></g><g transform=\"translate(1385.07,2725.67)rotate(0)\"><text x=\"15.00\" y=\"2.81\" style=\"\">Papio_anubis_PAN_10</text></g><g transform=\"translate(1387.96,2710.53)rotate(0)\"><text x=\"15.00\" y=\"2.81\" style=\"\">Papio_hamadryas_PHM_1</text></g><g transform=\"translate(1387.10,2695.40)rotate(0)\"><text x=\"15.00\" y=\"2.81\" style=\"\">Papio_papio_PPP_2</text></g><g transform=\"translate(1388.64,2680.27)rotate(0)\"><text x=\"15.00\" y=\"2.81\" style=\"\">Lophocebus_albigena_LAA_1</text></g><g transform=\"translate(1388.76,2665.14)rotate(0)\"><text x=\"15.00\" y=\"2.81\" style=\"\">Lophocebus_aterrimus_LAT_2</text></g><g transform=\"translate(1379.21,2650.01)rotate(0)\"><text x=\"15.00\" y=\"2.81\" style=\"\">Theropithecus_gelada_TGE_2</text></g><g transform=\"translate(1395.37,2634.88)rotate(0)\"><text x=\"15.00\" y=\"2.81\" style=\"\">Cercocebus_agilis_CAC_1</text></g><g transform=\"translate(1387.42,2619.74)rotate(0)\"><text x=\"15.00\" y=\"2.81\" style=\"\">Cercocebus_chrysogaster_CCY_1</text></g><g transform=\"translate(1397.18,2604.61)rotate(0)\"><text x=\"15.00\" y=\"2.81\" style=\"\">Cercocebus_torquatus_CTR_1</text></g><g transform=\"translate(1389.73,2589.48)rotate(0)\"><text x=\"15.00\" y=\"2.81\" style=\"\">Mandrillus_leucophaeus_MLE_2</text></g><g transform=\"translate(1386.19,2574.35)rotate(0)\"><text x=\"15.00\" y=\"2.81\" style=\"\">Mandrillus_sphinx_MSP_12</text></g><g transform=\"translate(1380.78,2559.22)rotate(0)\"><text x=\"15.00\" y=\"2.81\" style=\"\">Cercopithecus_albogularis_kolbi_CAB_1</text></g><g transform=\"translate(1378.16,2544.09)rotate(0)\"><text x=\"15.00\" y=\"2.81\" style=\"\">Cercopithecus_mitis_CMT_1</text></g><g transform=\"translate(1383.83,2528.95)rotate(0)\"><text x=\"15.00\" y=\"2.81\" style=\"\">Cercopithecus_ascanius_schmidti_CAS_1</text></g><g transform=\"translate(1376.33,2513.82)rotate(0)\"><text x=\"15.00\" y=\"2.81\" style=\"\">Cercopithecus_cephus_CCE_1</text></g><g transform=\"translate(1376.82,2498.69)rotate(0)\"><text x=\"15.00\" y=\"2.81\" style=\"\">Cercopithecus_petaurista_petaurista_CPP_1</text></g><g transform=\"translate(1378.67,2483.56)rotate(0)\"><text x=\"15.00\" y=\"2.81\" style=\"\">Cercopithecus_diana_CDA_3</text></g><g transform=\"translate(1410.81,2468.43)rotate(0)\"><text x=\"15.00\" y=\"2.81\" style=\"\">Cercopithecus_mona_CMO_2</text></g><g transform=\"translate(1373.32,2453.30)rotate(0)\"><text x=\"15.00\" y=\"2.81\" style=\"\">Cercopithecus_wolfi_wolfi_CWW_1</text></g><g transform=\"translate(1382.98,2438.16)rotate(0)\"><text x=\"15.00\" y=\"2.81\" style=\"\">Cercopithecus_neglectus_CNE_1</text></g><g transform=\"translate(1386.46,2423.03)rotate(0)\"><text x=\"15.00\" y=\"2.81\" style=\"\">Cercopithecus_hamlyni_hamlyni_CHH_1</text></g><g transform=\"translate(1383.30,2407.90)rotate(0)\"><text x=\"15.00\" y=\"2.81\" style=\"\">Miopithecus_ogouensis_MOG_1</text></g><g transform=\"translate(1383.36,2392.77)rotate(0)\"><text x=\"15.00\" y=\"2.81\" style=\"\">Chlorocebus_aethiops_CAE_8</text></g><g transform=\"translate(1383.66,2377.64)rotate(0)\"><text x=\"15.00\" y=\"2.81\" style=\"\">Chlorocebus_sabaeus_CSB_1</text></g><g transform=\"translate(1378.95,2362.51)rotate(0)\"><text x=\"15.00\" y=\"2.81\" style=\"\">Chlorocebus_cynosuros_CAE_4</text></g><g transform=\"translate(1382.07,2347.37)rotate(0)\"><text x=\"15.00\" y=\"2.81\" style=\"\">Cercopithecus_lhoesti_CIH_1</text></g><g transform=\"translate(1385.36,2332.24)rotate(0)\"><text x=\"15.00\" y=\"2.81\" style=\"\">Erythrocebus_patas_EPA_9</text></g><g transform=\"translate(1400.24,2317.11)rotate(0)\"><text x=\"15.00\" y=\"2.81\" style=\"\">Allenopithecus_nigroviridis_ANI_1</text></g><g transform=\"translate(1392.11,2301.98)rotate(0)\"><text x=\"15.00\" y=\"2.81\" style=\"\">Trachypithecus_obscurus_TOB_4</text></g><g transform=\"translate(1395.28,2286.85)rotate(0)\"><text x=\"15.00\" y=\"2.81\" style=\"\">Trachypithecus_phayrei_TPH_1</text></g><g transform=\"translate(1391.92,2271.72)rotate(0)\"><text x=\"15.00\" y=\"2.81\" style=\"\">Trachypithecus_auratus_TAU_1</text></g><g transform=\"translate(1392.69,2256.58)rotate(0)\"><text x=\"15.00\" y=\"2.81\" style=\"\">Trachypithecus_delacouri_TDE_1</text></g><g transform=\"translate(1394.82,2241.45)rotate(0)\"><text x=\"15.00\" y=\"2.81\" style=\"\">Trachypithecus_francoisi_TFR_1</text></g><g transform=\"translate(1392.53,2226.32)rotate(0)\"><text x=\"15.00\" y=\"2.81\" style=\"\">Trachypithecus_hatinhensis_THA_1</text></g><g transform=\"translate(1393.73,2211.19)rotate(0)\"><text x=\"15.00\" y=\"2.81\" style=\"\">Semnopithecus_entellus_SEF_2</text></g><g transform=\"translate(1397.76,2196.06)rotate(0)\"><text x=\"15.00\" y=\"2.81\" style=\"\">Semnopithecus_hector_SHE_1</text></g><g transform=\"translate(1392.52,2180.93)rotate(0)\"><text x=\"15.00\" y=\"2.81\" style=\"\">Semnopithecus_entellus_entellus_SEE_1</text></g><g transform=\"translate(1393.21,2165.79)rotate(0)\"><text x=\"15.00\" y=\"2.81\" style=\"\">Trachypithecus_vetulus_monticola_TVV_2</text></g><g transform=\"translate(1391.64,2150.66)rotate(0)\"><text x=\"15.00\" y=\"2.81\" style=\"\">Pygathrix_cinerea_PCN_2</text></g><g transform=\"translate(1390.13,2135.53)rotate(0)\"><text x=\"15.00\" y=\"2.81\" style=\"\">Pygathrix_nemaeus_PNE_2</text></g><g transform=\"translate(1390.84,2120.40)rotate(0)\"><text x=\"15.00\" y=\"2.81\" style=\"\">Pygathrix_nigripes_PNI_1</text></g><g transform=\"translate(1391.42,2105.27)rotate(0)\"><text x=\"15.00\" y=\"2.81\" style=\"\">Nasalis_larvatus_NLA_2</text></g><g transform=\"translate(1391.37,2090.14)rotate(0)\"><text x=\"15.00\" y=\"2.81\" style=\"\">Rhinopithecus_brelichi_RBR_1</text></g><g transform=\"translate(1385.11,2075.00)rotate(0)\"><text x=\"15.00\" y=\"2.81\" style=\"\">Presbytis_comata_PCM_1</text></g><g transform=\"translate(1389.11,2059.87)rotate(0)\"><text x=\"15.00\" y=\"2.81\" style=\"\">Presbytis_melalophos_PME_2</text></g><g transform=\"translate(1400.00,2044.74)rotate(0)\"><text x=\"15.00\" y=\"2.81\" style=\"\">Colobus_guereza_CGU_7</text></g><g transform=\"translate(1398.89,2029.61)rotate(0)\"><text x=\"15.00\" y=\"2.81\" style=\"\">Colobus_polykomos_CPO_2</text></g><g transform=\"translate(1395.38,2014.48)rotate(0)\"><text x=\"15.00\" y=\"2.81\" style=\"\">Colobus_angolensis_palliatus_CAN_1</text></g><g transform=\"translate(1399.08,1999.35)rotate(0)\"><text x=\"15.00\" y=\"2.81\" style=\"\">Piliocolobus_badius_PBD_1</text></g><g transform=\"translate(1394.76,1984.21)rotate(0)\"><text x=\"15.00\" y=\"2.81\" style=\"\">Hylobates_agilis_HAG_6</text></g><g transform=\"translate(1391.59,1969.08)rotate(0)\"><text x=\"15.00\" y=\"2.81\" style=\"\">Hylobates_muelleri_HMU_6</text></g><g transform=\"translate(1395.86,1953.95)rotate(0)\"><text x=\"15.00\" y=\"2.81\" style=\"\">Hylobates_lar_HLA_1</text></g><g transform=\"translate(1364.96,1938.82)rotate(0)\"><text x=\"15.00\" y=\"2.81\" style=\"\">Symphalangus_syndactylus_SSY_2</text></g><g transform=\"translate(1363.59,1923.69)rotate(0)\"><text x=\"15.00\" y=\"2.81\" style=\"\">Nomascus_concolor_NCN_2</text></g><g transform=\"translate(1362.00,1908.56)rotate(0)\"><text x=\"15.00\" y=\"2.81\" style=\"\">Nomascus_gabriellae_NGA_2</text></g><g transform=\"translate(1363.43,1893.42)rotate(0)\"><text x=\"15.00\" y=\"2.81\" style=\"\">Nomascus_leucogenys_HCO_3</text></g><g transform=\"translate(1363.27,1878.29)rotate(0)\"><text x=\"15.00\" y=\"2.81\" style=\"\">Nomascus_siki_NSI_1</text></g><g transform=\"translate(1373.43,1863.16)rotate(0)\"><text x=\"15.00\" y=\"2.81\" style=\"\">Pan_paniscus_PPN_8</text></g><g transform=\"translate(1370.92,1848.03)rotate(0)\"><text x=\"15.00\" y=\"2.81\" style=\"\">Pan_troglodytes_verus_PTR_104</text></g><g transform=\"translate(1363.09,1832.90)rotate(0)\"><text x=\"15.00\" y=\"2.81\" style=\"\">Pan_troglodytes_troglodytes_PTR_60</text></g><g transform=\"translate(1370.68,1817.77)rotate(0)\"><text x=\"15.00\" y=\"2.81\" style=\"\">Homo_sapiens_HSA_34</text></g><g transform=\"translate(1363.51,1802.63)rotate(0)\"><text x=\"15.00\" y=\"2.81\" style=\"\">Gorilla_gorilla_GGO_9</text></g><g transform=\"translate(1352.22,1787.50)rotate(0)\"><text x=\"15.00\" y=\"2.81\" style=\"\">Pongo_abelii_PPY_155</text></g><g transform=\"translate(1349.90,1772.37)rotate(0)\"><text x=\"15.00\" y=\"2.81\" style=\"\">Pongo_pygmaeus_PPY_157</text></g><g transform=\"translate(1490.67,1757.24)rotate(0)\"><text x=\"15.00\" y=\"2.81\" style=\"\">Callithrix_jacchus_CJA_1</text></g><g transform=\"translate(1490.36,1742.11)rotate(0)\"><text x=\"15.00\" y=\"2.81\" style=\"\">Callithrix_penicillata_CPE_10</text></g><g transform=\"translate(1488.72,1726.98)rotate(0)\"><text x=\"15.00\" y=\"2.81\" style=\"\">Callithrix_geoffroyi_CGE_4</text></g><g transform=\"translate(1498.91,1711.84)rotate(0)\"><text x=\"15.00\" y=\"2.81\" style=\"\">Callithrix_kuhlii_CKU_1</text></g><g transform=\"translate(1505.43,1696.71)rotate(0)\"><text x=\"15.00\" y=\"2.81\" style=\"\">Callithrix_aurita_CAI_1</text></g><g transform=\"translate(1496.29,1681.58)rotate(0)\"><text x=\"15.00\" y=\"2.81\" style=\"\">Mico_argentata_CAR_1</text></g><g transform=\"translate(1509.28,1666.45)rotate(0)\"><text x=\"15.00\" y=\"2.81\" style=\"\">Mico_humeralifer_MHU_1</text></g><g transform=\"translate(1497.75,1651.32)rotate(0)\"><text x=\"15.00\" y=\"2.81\" style=\"\">Cebuella_pygmaea_CPY_5</text></g><g transform=\"translate(1484.18,1636.19)rotate(0)\"><text x=\"15.00\" y=\"2.81\" style=\"\">Callimico_goeldii_CGO_1</text></g><g transform=\"translate(1495.32,1621.05)rotate(0)\"><text x=\"15.00\" y=\"2.81\" style=\"\">Leontopithecus_chrysomelas_LCH_1</text></g><g transform=\"translate(1495.73,1605.92)rotate(0)\"><text x=\"15.00\" y=\"2.81\" style=\"\">Leontopithecus_rosalia_LRO_244</text></g><g transform=\"translate(1484.30,1590.79)rotate(0)\"><text x=\"15.00\" y=\"2.81\" style=\"\">Saguinus_bicolor_SBI_1</text></g><g transform=\"translate(1489.29,1575.66)rotate(0)\"><text x=\"15.00\" y=\"2.81\" style=\"\">Saguinus_midas_SMD_1</text></g><g transform=\"translate(1490.78,1560.53)rotate(0)\"><text x=\"15.00\" y=\"2.81\" style=\"\">Saguinus_martinsi_SSI_1</text></g><g transform=\"translate(1470.57,1545.40)rotate(0)\"><text x=\"15.00\" y=\"2.81\" style=\"\">Saguinus_geoffroyi_SGE_3</text></g><g transform=\"translate(1470.90,1530.26)rotate(0)\"><text x=\"15.00\" y=\"2.81\" style=\"\">Saguinus_oedipus_SOE_3</text></g><g transform=\"translate(1479.44,1515.13)rotate(0)\"><text x=\"15.00\" y=\"2.81\" style=\"\">Saguinus_labiatus_SLA_1</text></g><g transform=\"translate(1473.16,1500.00)rotate(0)\"><text x=\"15.00\" y=\"2.81\" style=\"\">Saguinus_mystax_SMY_3</text></g><g transform=\"translate(1482.31,1484.87)rotate(0)\"><text x=\"15.00\" y=\"2.81\" style=\"\">Saguinus_imperator_SIM_2</text></g><g transform=\"translate(1480.36,1469.74)rotate(0)\"><text x=\"15.00\" y=\"2.81\" style=\"\">Saguinus_fuscicollis_SFU_6</text></g><g transform=\"translate(1459.00,1454.60)rotate(0)\"><text x=\"15.00\" y=\"2.81\" style=\"\">Aotus_azarae_boliviensis_AZB_1</text></g><g transform=\"translate(1468.45,1439.47)rotate(0)\"><text x=\"15.00\" y=\"2.81\" style=\"\">Aotus_azarae_infulatus_AZI_1</text></g><g transform=\"translate(1446.89,1424.34)rotate(0)\"><text x=\"15.00\" y=\"2.81\" style=\"\">Aotus_azarae_AZA_1</text></g><g transform=\"translate(1430.70,1409.21)rotate(0)\"><text x=\"15.00\" y=\"2.81\" style=\"\">Aotus_nancymaae_ANA_1</text></g><g transform=\"translate(1435.82,1394.08)rotate(0)\"><text x=\"15.00\" y=\"2.81\" style=\"\">Aotus_lemurinus_griseimembra_ALM_1</text></g><g transform=\"translate(1438.55,1378.95)rotate(0)\"><text x=\"15.00\" y=\"2.81\" style=\"\">Aotus_trivirgatus_ATR_1</text></g><g transform=\"translate(1465.91,1363.81)rotate(0)\"><text x=\"15.00\" y=\"2.81\" style=\"\">Cebus_albifrons_CEA_1</text></g><g transform=\"translate(1451.56,1348.68)rotate(0)\"><text x=\"15.00\" y=\"2.81\" style=\"\">Cebus_capucinus_CCP_3</text></g><g transform=\"translate(1449.26,1333.55)rotate(0)\"><text x=\"15.00\" y=\"2.81\" style=\"\">Cebus_olivaceus_COV_1</text></g><g transform=\"translate(1457.24,1318.42)rotate(0)\"><text x=\"15.00\" y=\"2.81\" style=\"\">Cebus_robustus_CRO_1</text></g><g transform=\"translate(1442.95,1303.29)rotate(0)\"><text x=\"15.00\" y=\"2.81\" style=\"\">Cebus_xanthosternos_CXA_1</text></g><g transform=\"translate(1452.94,1288.16)rotate(0)\"><text x=\"15.00\" y=\"2.81\" style=\"\">Cebus_apella_CAP_13</text></g><g transform=\"translate(1473.58,1273.02)rotate(0)\"><text x=\"15.00\" y=\"2.81\" style=\"\">Saimiri_oerstedii_oerstedii_SOO_1</text></g><g transform=\"translate(1470.48,1257.89)rotate(0)\"><text x=\"15.00\" y=\"2.81\" style=\"\">Saimiri_sciureus_SSC_7</text></g><g transform=\"translate(1475.38,1242.76)rotate(0)\"><text x=\"15.00\" y=\"2.81\" style=\"\">Saimiri_ustus_SAU_1</text></g><g transform=\"translate(1470.23,1227.63)rotate(0)\"><text x=\"15.00\" y=\"2.81\" style=\"\">Saimiri_boliviensis_boliviensis_SBO_3</text></g><g transform=\"translate(1444.97,1212.50)rotate(0)\"><text x=\"15.00\" y=\"2.81\" style=\"\">Ateles_belzebuth_ABZ_1</text></g><g transform=\"translate(1454.11,1197.37)rotate(0)\"><text x=\"15.00\" y=\"2.81\" style=\"\">Ateles_geoffroyi_AGO_2</text></g><g transform=\"translate(1435.45,1182.23)rotate(0)\"><text x=\"15.00\" y=\"2.81\" style=\"\">Ateles_fusciceps_AFC_7</text></g><g transform=\"translate(1448.74,1167.10)rotate(0)\"><text x=\"15.00\" y=\"2.81\" style=\"\">Ateles_hybridus_AHY_1</text></g><g transform=\"translate(1431.47,1151.97)rotate(0)\"><text x=\"15.00\" y=\"2.81\" style=\"\">Ateles_chamek_ACM_1</text></g><g transform=\"translate(1430.13,1136.84)rotate(0)\"><text x=\"15.00\" y=\"2.81\" style=\"\">Ateles_paniscus_APC_1</text></g><g transform=\"translate(1429.35,1121.71)rotate(0)\"><text x=\"15.00\" y=\"2.81\" style=\"\">Brachyteles_arachnoides_BAR_1</text></g><g transform=\"translate(1441.20,1106.58)rotate(0)\"><text x=\"15.00\" y=\"2.81\" style=\"\">Brachyteles_hypoxanthus_BHY_1</text></g><g transform=\"translate(1423.63,1091.44)rotate(0)\"><text x=\"15.00\" y=\"2.81\" style=\"\">Lagothrix_cana_LAC_2</text></g><g transform=\"translate(1427.08,1076.31)rotate(0)\"><text x=\"15.00\" y=\"2.81\" style=\"\">Lagothrix_lagotricha_LLG_1</text></g><g transform=\"translate(1459.51,1061.18)rotate(0)\"><text x=\"15.00\" y=\"2.81\" style=\"\">Alouatta_caraya_ACA_3</text></g><g transform=\"translate(1452.94,1046.05)rotate(0)\"><text x=\"15.00\" y=\"2.81\" style=\"\">Alouatta_sara_ASA_1</text></g><g transform=\"translate(1509.51,1030.92)rotate(0)\"><text x=\"15.00\" y=\"2.81\" style=\"\">Alouatta_belzebul_ABE_1</text></g><g transform=\"translate(1457.08,1015.79)rotate(0)\"><text x=\"15.00\" y=\"2.81\" style=\"\">Alouatta_palliata_APL_1</text></g><g transform=\"translate(1492.72,1000.65)rotate(0)\"><text x=\"15.00\" y=\"2.81\" style=\"\">Callicebus_brunneus_CBS_1</text></g><g transform=\"translate(1466.04,985.52)rotate(0)\"><text x=\"15.00\" y=\"2.81\" style=\"\">Callicebus_moloch_CMH_1</text></g><g transform=\"translate(1451.24,970.39)rotate(0)\"><text x=\"15.00\" y=\"2.81\" style=\"\">Callicebus_cupreus_CCU_2</text></g><g transform=\"translate(1471.08,955.26)rotate(0)\"><text x=\"15.00\" y=\"2.81\" style=\"\">Callicebus_caligatus_CCG_1</text></g><g transform=\"translate(1458.22,940.13)rotate(0)\"><text x=\"15.00\" y=\"2.81\" style=\"\">Callicebus_donacophilus_CDO_1</text></g><g transform=\"translate(1455.47,925.00)rotate(0)\"><text x=\"15.00\" y=\"2.81\" style=\"\">Callicebus_coimbrai_CCO_1</text></g><g transform=\"translate(1457.24,909.86)rotate(0)\"><text x=\"15.00\" y=\"2.81\" style=\"\">Callicebus_personatus_CLP_1</text></g><g transform=\"translate(1453.86,894.73)rotate(0)\"><text x=\"15.00\" y=\"2.81\" style=\"\">Callicebus_nigrifrons_CNI_1</text></g><g transform=\"translate(1440.12,879.60)rotate(0)\"><text x=\"15.00\" y=\"2.81\" style=\"\">Cacajao_calvus_CCL_1</text></g><g transform=\"translate(1451.77,864.47)rotate(0)\"><text x=\"15.00\" y=\"2.81\" style=\"\">Cacajao_melanocephalus_CAM_1</text></g><g transform=\"translate(1454.42,849.34)rotate(0)\"><text x=\"15.00\" y=\"2.81\" style=\"\">Chiropotes_israelita_CIS_1</text></g><g transform=\"translate(1446.05,834.21)rotate(0)\"><text x=\"15.00\" y=\"2.81\" style=\"\">Chiropotes_satanas_chiropotes_CSA_2</text></g><g transform=\"translate(1449.11,819.07)rotate(0)\"><text x=\"15.00\" y=\"2.81\" style=\"\">Pithecia_irrorata_PIR_1</text></g><g transform=\"translate(1451.21,803.94)rotate(0)\"><text x=\"15.00\" y=\"2.81\" style=\"\">Pithecia_pithecia_PPT_1</text></g><g transform=\"translate(1508.52,788.81)rotate(0)\"><text x=\"15.00\" y=\"2.81\" style=\"\">Tarsius_bancanus_TBA_1</text></g><g transform=\"translate(1524.29,773.68)rotate(0)\"><text x=\"15.00\" y=\"2.81\" style=\"\">Tarsius_syrichta_TSY_1</text></g><g transform=\"translate(1341.34,758.55)rotate(0)\"><text x=\"15.00\" y=\"2.81\" style=\"\">Lepilemur_ankaranensis_LAN_1</text></g><g transform=\"translate(1343.25,743.42)rotate(0)\"><text x=\"15.00\" y=\"2.81\" style=\"\">Lepilemur_septentrionalis_LSP_1</text></g><g transform=\"translate(1348.99,728.28)rotate(0)\"><text x=\"15.00\" y=\"2.81\" style=\"\">Lepilemur_dorsalis_LDO_1</text></g><g transform=\"translate(1338.58,713.15)rotate(0)\"><text x=\"15.00\" y=\"2.81\" style=\"\">Lepilemur_ruficaudatus_LER_1</text></g><g transform=\"translate(1349.70,698.02)rotate(0)\"><text x=\"15.00\" y=\"2.81\" style=\"\">Lepilemur_jamesi_LJA_1</text></g><g transform=\"translate(1361.22,682.89)rotate(0)\"><text x=\"15.00\" y=\"2.81\" style=\"\">Microcebus_murinus_subspecies1_CMI_3</text></g><g transform=\"translate(1352.33,667.76)rotate(0)\"><text x=\"15.00\" y=\"2.81\" style=\"\">Microcebus_murinus_subspecies2_MMR_2</text></g><g transform=\"translate(1405.28,652.63)rotate(0)\"><text x=\"15.00\" y=\"2.81\" style=\"\">Mirza_zaza_MCE_1</text></g><g transform=\"translate(1290.15,637.49)rotate(0)\"><text x=\"15.00\" y=\"2.81\" style=\"\">Cheirogaleus_medius_CMD_1</text></g><g transform=\"translate(1284.07,622.36)rotate(0)\"><text x=\"15.00\" y=\"2.81\" style=\"\">Propithecus_verreauxi_coquereli_PVC_2</text></g><g transform=\"translate(1293.03,607.23)rotate(0)\"><text x=\"15.00\" y=\"2.81\" style=\"\">Propithecus_verreauxi_PVE_1</text></g><g transform=\"translate(1288.35,592.10)rotate(0)\"><text x=\"15.00\" y=\"2.81\" style=\"\">Propithecus_tattersalli_PTA_1</text></g><g transform=\"translate(1287.02,576.97)rotate(0)\"><text x=\"15.00\" y=\"2.81\" style=\"\">Propithecus_diadema_PDI_2</text></g><g transform=\"translate(1287.22,561.84)rotate(0)\"><text x=\"15.00\" y=\"2.81\" style=\"\">Propithecus_edwardsi_PED_1</text></g><g transform=\"translate(1321.78,546.70)rotate(0)\"><text x=\"15.00\" y=\"2.81\" style=\"\">Avahi_laniger_ALN_1</text></g><g transform=\"translate(1290.94,531.57)rotate(0)\"><text x=\"15.00\" y=\"2.81\" style=\"\">Eulemur_collaris_EFL_15</text></g><g transform=\"translate(1288.55,516.44)rotate(0)\"><text x=\"15.00\" y=\"2.81\" style=\"\">Eulemur_rufus_ERF_1</text></g><g transform=\"translate(1283.93,501.31)rotate(0)\"><text x=\"15.00\" y=\"2.81\" style=\"\">Eulemur_fulvus_EFL_4</text></g><g transform=\"translate(1282.92,486.18)rotate(0)\"><text x=\"15.00\" y=\"2.81\" style=\"\">Eulemur_albifrons_EFL_7</text></g><g transform=\"translate(1287.74,471.05)rotate(0)\"><text x=\"15.00\" y=\"2.81\" style=\"\">Eulemur_sanfordi_EFL_16</text></g><g transform=\"translate(1290.09,455.91)rotate(0)\"><text x=\"15.00\" y=\"2.81\" style=\"\">Eulemur_mongoz_EMO_1</text></g><g transform=\"translate(1297.80,440.78)rotate(0)\"><text x=\"15.00\" y=\"2.81\" style=\"\">Eulemur_macaco_EMC_1</text></g><g transform=\"translate(1290.46,425.65)rotate(0)\"><text x=\"15.00\" y=\"2.81\" style=\"\">Eulemur_macaco_flavifrons_EMC_5</text></g><g transform=\"translate(1292.91,410.52)rotate(0)\"><text x=\"15.00\" y=\"2.81\" style=\"\">Eulemur_coronatus_ECR_2</text></g><g transform=\"translate(1292.35,395.39)rotate(0)\"><text x=\"15.00\" y=\"2.81\" style=\"\">Eulemur_rubriventer_ERB_4</text></g><g transform=\"translate(1307.31,380.26)rotate(0)\"><text x=\"15.00\" y=\"2.81\" style=\"\">Hapalemur_griseus_HGR_1</text></g><g transform=\"translate(1368.17,365.12)rotate(0)\"><text x=\"15.00\" y=\"2.81\" style=\"\">Hapalemur_occidentalis_HOC_1</text></g><g transform=\"translate(1304.60,349.99)rotate(0)\"><text x=\"15.00\" y=\"2.81\" style=\"\">Lemur_catta_LCT_10</text></g><g transform=\"translate(1298.35,334.86)rotate(0)\"><text x=\"15.00\" y=\"2.81\" style=\"\">Varecia_variegata_rubra_VVA_7</text></g><g transform=\"translate(1298.06,319.73)rotate(0)\"><text x=\"15.00\" y=\"2.81\" style=\"\">Varecia_variegata_variegata_VVA_2</text></g><g transform=\"translate(1210.35,304.60)rotate(0)\"><text x=\"15.00\" y=\"2.81\" style=\"\">Daubentonia_madagascariensis_DMD_5</text></g><g transform=\"translate(1627.87,289.47)rotate(0)\"><text x=\"15.00\" y=\"2.81\" style=\"\">Nycticebus_bengalensis_NBE_1</text></g><g transform=\"translate(1625.94,274.33)rotate(0)\"><text x=\"15.00\" y=\"2.81\" style=\"\">Nycticebus_coucang_NCO_2</text></g><g transform=\"translate(1699.05,259.20)rotate(0)\"><text x=\"15.00\" y=\"2.81\" style=\"\">Nycticebus_pygmaeus_NPY_1</text></g><g transform=\"translate(1649.71,244.07)rotate(0)\"><text x=\"15.00\" y=\"2.81\" style=\"\">Loris_tardigradus_LTA_2</text></g><g transform=\"translate(1655.79,228.94)rotate(0)\"><text x=\"15.00\" y=\"2.81\" style=\"\">Arctocebus_calabarensis_ACL_1</text></g><g transform=\"translate(1611.04,213.81)rotate(0)\"><text x=\"15.00\" y=\"2.81\" style=\"\">Perodicticus_potto_PEP_2</text></g><g transform=\"translate(1639.48,198.68)rotate(0)\"><text x=\"15.00\" y=\"2.81\" style=\"\">Galago_moholi_GMO_4</text></g><g transform=\"translate(1639.33,183.54)rotate(0)\"><text x=\"15.00\" y=\"2.81\" style=\"\">Galago_senegalensis_GSE_1</text></g><g transform=\"translate(1610.69,168.41)rotate(0)\"><text x=\"15.00\" y=\"2.81\" style=\"\">Otolemur_crassicaudatus_OCR_1</text></g><g transform=\"translate(1647.31,153.28)rotate(0)\"><text x=\"15.00\" y=\"2.81\" style=\"\">Otolemur_garnetti_GGR_2</text></g><g transform=\"translate(1624.91,138.15)rotate(0)\"><text x=\"15.00\" y=\"2.81\" style=\"\">Galago_thomasi_GTH_1</text></g><g transform=\"translate(1288.76,123.02)rotate(0)\"><text x=\"15.00\" y=\"2.81\" style=\"\">Cynocephalus_volans_CVO_1</text></g><g transform=\"translate(1292.27,107.89)rotate(0)\"><text x=\"15.00\" y=\"2.81\" style=\"\">Galeopterus_variegatus_CVA_5</text></g><g transform=\"translate(1504.67,92.75)rotate(0)\"><text x=\"15.00\" y=\"2.81\" style=\"\">Tupaia_glis_TGL_4</text></g><g transform=\"translate(1510.17,77.62)rotate(0)\"><text x=\"15.00\" y=\"2.81\" style=\"\">Tupaia_minor_TMI_1</text></g><g transform=\"translate(657.71,62.49)rotate(0)\"><text x=\"15.00\" y=\"2.81\" style=\"\">Oryctolagus_cuniculus</text></g></g></g></g></g></svg><div class=\"toyplot-behavior\"><script>(function()\n",
       "{\n",
       "var modules={};\n",
       "})();</script></div></div>"
      ]
     },
     "metadata": {},
     "output_type": "display_data"
    }
   ],
   "source": [
    "###\n",
    "primates_tree_filename = \"primates.newick\"\n",
    "primates_tree_newick = open(primates_tree_filename).read()\n",
    "primates_tree = toytree.tree(primates_tree_newick)\n",
    "primates_tree.draw(height=3000, width=2000)\n",
    "humans_most_closely_related_to = \"tarsiers\"\n",
    "###\n"
   ]
  },
  {
   "cell_type": "code",
   "execution_count": 48,
   "metadata": {
    "deletable": false,
    "editable": false,
    "nbgrader": {
     "grade": true,
     "grade_id": "humans_most_closely_related_to",
     "locked": true,
     "points": 1,
     "schema_version": 3,
     "solution": false
    }
   },
   "outputs": [
    {
     "name": "stdout",
     "output_type": "stream",
     "text": [
      "SUCCESS: humans_most_closely_related_to passed all visible tests\n"
     ]
    }
   ],
   "source": [
    "# tests for humans_most_closely_related_to\n",
    "assert humans_most_closely_related_to in {\"galagos\", \"tarsiers\", \"lemurs\"}\n",
    "###\n",
    "### AUTOGRADER TEST - DO NOT REMOVE\n",
    "###\n",
    "print(\"SUCCESS: humans_most_closely_related_to passed all visible tests\")"
   ]
  },
  {
   "cell_type": "code",
   "execution_count": null,
   "metadata": {},
   "outputs": [],
   "source": []
  }
 ],
 "metadata": {
  "celltoolbar": "Create Assignment",
  "kernelspec": {
   "display_name": "Python 3 [3.10]",
   "language": "python",
   "name": "python3"
  },
  "language_info": {
   "codemirror_mode": {
    "name": "ipython",
    "version": 3
   },
   "file_extension": ".py",
   "mimetype": "text/x-python",
   "name": "python",
   "nbconvert_exporter": "python",
   "pygments_lexer": "ipython3",
   "version": "3.10.2"
  }
 },
 "nbformat": 4,
 "nbformat_minor": 4
}
