{
 "cells": [
  {
   "cell_type": "markdown",
   "metadata": {
    "deletable": false,
    "editable": false,
    "nbgrader": {
     "grade": false,
     "grade_id": "cell-122da478470e7bbe",
     "locked": true,
     "schema_version": 3,
     "solution": false
    }
   },
   "source": [
    "# Day 14 notebook\n",
    "\n",
    "The objectives of this notebook are to practice\n",
    "\n",
    "* simulating DNA sequence evolution\n",
    "* computing distances from sequences\n",
    "\n",
    "We will practice these tasks by building a DNA sequence evolution simulator, that takes as input a phylogenetic tree and a sequence for the ancestral (root) node of the tree.  The simulation task will be broken down into three steps:\n",
    "1. Converting branch lengths to substitution probabilities (problem 1)\n",
    "2. Evolving a sequence along a single branch of the tree (problem 2)\n",
    "3. Evolving sequences over the entire tree (provided)\n",
    "\n",
    "We will then perform a simulation and compute the pairwise distance matrix of the resulting leaf sequences (problem 3), as one would do in the first step of a distance-based phylogenetic tree method.  Lastly, we will see how the pairwise distance matrix compares with the original tree."
   ]
  },
  {
   "cell_type": "markdown",
   "metadata": {
    "deletable": false,
    "editable": false,
    "nbgrader": {
     "grade": false,
     "grade_id": "cell-c154395a02f03743",
     "locked": true,
     "schema_version": 3,
     "solution": false
    }
   },
   "source": [
    "## Modules used for this assignment"
   ]
  },
  {
   "cell_type": "code",
   "execution_count": 2,
   "metadata": {
    "deletable": false,
    "editable": false,
    "nbgrader": {
     "grade": false,
     "grade_id": "cell-90793dc912dca761",
     "locked": true,
     "schema_version": 3,
     "solution": false
    }
   },
   "outputs": [],
   "source": [
    "# standard library modules\n",
    "import math                   # for log and exp\n",
    "import random                 # for random sampling\n",
    "import collections            # for Counter\n",
    "\n",
    "# third-party modules\n",
    "import numpy                  # for sampling from a binomial distribution\n",
    "import toytree                # for working with trees\n",
    "from matplotlib import pyplot # for plotting"
   ]
  },
  {
   "cell_type": "markdown",
   "metadata": {
    "deletable": false,
    "editable": false,
    "nbgrader": {
     "grade": false,
     "grade_id": "cell-a865475479898227",
     "locked": true,
     "schema_version": 3,
     "solution": false
    }
   },
   "source": [
    "## The `toytree` module and Newick format\n",
    "\n",
    "In this activity we will use again use the [`toytree` module](https://toytree.readthedocs.io/en/latest/4-tutorial.html) to work with phylogenetic trees and [Newick format](https://en.wikipedia.org/wiki/Newick_format) to specify trees."
   ]
  },
  {
   "cell_type": "markdown",
   "metadata": {
    "deletable": false,
    "editable": false,
    "nbgrader": {
     "grade": false,
     "grade_id": "cell-0b4aaf8b19eab326",
     "locked": true,
     "schema_version": 3,
     "solution": false
    }
   },
   "source": [
    "## PROBLEM 1: Converting branch lengths to substitution probabilities (1 POINT)\n",
    "The branch lengths of phylogenetic trees often represent the number of mutation events that have occurred along that branch, from the parent sequence to the child sequence.  More precisely, branch lengths are often measured in terms of *expected substitutions per site*, which is essentially the average number of mutations that have occurred at each position within the sequence.  This differs from the frequency of mismatches between the child and parent sequences because multiple mutations may occur at the same site.  Recall that the Jukes—Cantor correction is a way to estimate a distance from an observed frequency of mismatches between two sequences.  The equation for this correction is:\n",
    "$d = -\\frac{3}{4}\\log(1 - \\frac{4}{3}f)$\n",
    "where $f$ is the fraction of positions in the two sequences that are mismatched.  This equation is implemented in the function below.\n",
    " "
   ]
  },
  {
   "cell_type": "code",
   "execution_count": 3,
   "metadata": {
    "deletable": false,
    "editable": false,
    "nbgrader": {
     "grade": false,
     "grade_id": "cell-a6d041e8f539859c",
     "locked": true,
     "schema_version": 3,
     "solution": false
    }
   },
   "outputs": [],
   "source": [
    "def jukes_cantor_distance(mismatch_prob):\n",
    "    \"\"\"Computes the Jukes Cantor distance estimate given a frequency of mismatches.\n",
    "    \n",
    "    Args:\n",
    "        mismatch_prob: The frequency of mismatches in a sequence (floating point value in [0, 1])\n",
    "    Returns:\n",
    "        The Jukes Cantor distance estimate (floating point value in [0, ∞) )\n",
    "    \"\"\"\n",
    "    \n",
    "    \"\"\"Returns the Jukes Cantor distance estimate given a frequency of mismatches.\"\"\"\n",
    "    return -3/4 * math.log(1 - 4/3 * mismatch_prob) if mismatch_prob < 0.75 else float(\"inf\")"
   ]
  },
  {
   "cell_type": "markdown",
   "metadata": {
    "deletable": false,
    "editable": false,
    "nbgrader": {
     "grade": false,
     "grade_id": "cell-f169070ba40b95e6",
     "locked": true,
     "schema_version": 3,
     "solution": false
    }
   },
   "source": [
    "For the purposes of simulation, we will need to convert branch lengths (distances) to the probability of a given site having a mismatch.  Implement the *inverse* of the Juke Cantor distance below:"
   ]
  },
  {
   "cell_type": "code",
   "execution_count": 4,
   "metadata": {
    "nbgrader": {
     "grade": false,
     "grade_id": "cell-24f782a965075e3f",
     "locked": false,
     "schema_version": 3,
     "solution": true,
     "task": false
    }
   },
   "outputs": [],
   "source": [
    "def mismatch_prob_from_distance(distance):\n",
    "    \"\"\"Computes a frequency/probability of mismatches given a distance, assuming the Jukes Cantor model.\n",
    "    \n",
    "    Args:\n",
    "        distance: a non-negative floating point value\n",
    "    Returns:\n",
    "        The expected frequency of mismatches in a sequence (a floating point value in [0, 0.75])\n",
    "    \"\"\"\n",
    "    ###\n",
    "    ### YOUR CODE HERE\n",
    "    # d = distance\n",
    "    # d = d * (-4/3)\n",
    "    # d = math.exp(d)\n",
    "    # d = d - 1\n",
    "    # d = d * (-3/4)\n",
    "    # return d\n",
    "\n",
    "    return (math.exp(-4*distance/3)-1)*(-3/4)"
   ]
  },
  {
   "cell_type": "code",
   "execution_count": 5,
   "metadata": {
    "deletable": false,
    "editable": false,
    "nbgrader": {
     "grade": true,
     "grade_id": "mismatch_prob_from_distance",
     "locked": true,
     "points": 1,
     "schema_version": 3,
     "solution": false
    }
   },
   "outputs": [
    {
     "name": "stdout",
     "output_type": "stream",
     "text": [
      "SUCCESS: mismatch_prob_from_distance passed all tests\n"
     ]
    }
   ],
   "source": [
    "# tests for mismatch_prob_from_distance\n",
    "assert mismatch_prob_from_distance(0) == 0\n",
    "assert mismatch_prob_from_distance(float(\"inf\")) == 0.75\n",
    "assert round(mismatch_prob_from_distance(0.01), 2) == 0.01\n",
    "assert round(mismatch_prob_from_distance(1), 2) == 0.55\n",
    "print(\"SUCCESS: mismatch_prob_from_distance passed all tests\")"
   ]
  },
  {
   "cell_type": "markdown",
   "metadata": {
    "deletable": false,
    "editable": false,
    "nbgrader": {
     "grade": false,
     "grade_id": "cell-430396e83c7273e1",
     "locked": true,
     "schema_version": 3,
     "solution": false
    }
   },
   "source": [
    "Let's plot this inverse function."
   ]
  },
  {
   "cell_type": "code",
   "execution_count": 6,
   "metadata": {},
   "outputs": [
    {
     "data": {
      "image/png": "[encoded data removed]",
      "text/plain": [
       "<Figure size 432x288 with 1 Axes>"
      ]
     },
     "metadata": {
      "needs_background": "light"
     },
     "output_type": "display_data"
    }
   ],
   "source": [
    "num_points = 100\n",
    "max_distance = 5\n",
    "distances = [max_distance * (i / num_points) for i in range(num_points)]\n",
    "mismatch_probs = list(map(mismatch_prob_from_distance, distances))\n",
    "pyplot.plot(distances, mismatch_probs)\n",
    "pyplot.xlabel(\"distance\")\n",
    "pyplot.ylabel(\"mismatch probability\")\n",
    "pyplot.hlines(0.75, 0, max_distance, linestyles=\"dashed\", alpha=0.25)\n",
    "pyplot.show()"
   ]
  },
  {
   "cell_type": "markdown",
   "metadata": {
    "deletable": false,
    "editable": false,
    "nbgrader": {
     "grade": false,
     "grade_id": "cell-ead87f6d54d4ee06",
     "locked": true,
     "schema_version": 3,
     "solution": false
    }
   },
   "source": [
    "## PROBLEM 2: Simulating DNA sequence evolution (1 POINT)\n",
    "We will now implement a function that simulates DNA sequence evolution along a single branch in a tree.  For simplicity, we will only consider subsitutions (i.e., not insertions or deletions) in this simulation.  The top level function for this is given below, which takes as input a parent sequence and an evolutionary distance, and returns an evolved child sequence.  It calls your `mismatch_prob_from_distance` function from above to compute the probablity of a mismatch at any given position and then samples from a binomial distribution with this probability to determine the number of mismatches in the child sequence.  You are to provide the function `mutate_sequence`, which is given a parent sequence and a number of mismatches, and returns a sequence with the given number of mismatches with respect to the parent, and with mismatched positions selected uniformly and at random across the sequence.  I have provided the function `mutate_base` which I recommend that you use to randomly sample a mismatched base for a given position."
   ]
  },
  {
   "cell_type": "code",
   "execution_count": 7,
   "metadata": {
    "deletable": false,
    "editable": false,
    "nbgrader": {
     "grade": false,
     "grade_id": "cell-35c0521e81805247",
     "locked": true,
     "schema_version": 3,
     "solution": false
    }
   },
   "outputs": [],
   "source": [
    "def evolve_sequence(parent_seq, distance):\n",
    "    \"\"\"Evolves a DNA sequence over a given evolutionary distance.\n",
    "    \n",
    "    Args:\n",
    "        parent_seq: the parent DNA sequence (a string)\n",
    "        distance: the distance over which to evolve the sequence (a non-negative float)\n",
    "    Returns:\n",
    "        The child (evolved) sequence.\n",
    "    \"\"\"\n",
    "    p_mismatch = mismatch_prob_from_distance(distance)\n",
    "    num_mismatches = numpy.random.binomial(len(parent_seq), p_mismatch)\n",
    "    return mutate_sequence(parent_seq, num_mismatches)"
   ]
  },
  {
   "cell_type": "code",
   "execution_count": 8,
   "metadata": {
    "deletable": false,
    "editable": false,
    "nbgrader": {
     "grade": false,
     "grade_id": "cell-3ae9d0ae7a636c7d",
     "locked": true,
     "schema_version": 3,
     "solution": false
    }
   },
   "outputs": [],
   "source": [
    "BASES = \"ACGT\"\n",
    "MUTANTS = {base: BASES.replace(base, '') for base in BASES}\n",
    "def mutate_base(base):\n",
    "    \"\"\"Returns a randomly sampled base that mismatches with the base given as input.\"\"\"\n",
    "    return random.choice(MUTANTS[base])"
   ]
  },
  {
   "cell_type": "markdown",
   "metadata": {
    "deletable": false,
    "editable": false,
    "nbgrader": {
     "grade": false,
     "grade_id": "cell-f656fb5bc8a10397",
     "locked": true,
     "schema_version": 3,
     "solution": false
    }
   },
   "source": [
    "You are to fill in the function below.  I recommend that you use the [`random.sample`](https://docs.python.org/3/library/random.html#random.sample) function to sample the positions at which there are mismatches."
   ]
  },
  {
   "cell_type": "code",
   "execution_count": 43,
   "metadata": {
    "nbgrader": {
     "grade": false,
     "grade_id": "cell-2f4ef8632e85672e",
     "locked": false,
     "schema_version": 3,
     "solution": true,
     "task": false
    }
   },
   "outputs": [],
   "source": [
    "def mutate_sequence(seq, num_mismatches):\n",
    "    \"\"\"Mutates a DNA sequence at a given number of randomly selected positions.\n",
    "\n",
    "    Args:\n",
    "        seq: the original sequence (a string)\n",
    "        num_mismatches: the number of mismatches that the mutated sequence should\n",
    "                        have with respect to the original sequence.\n",
    "    Returns:\n",
    "        The mutated sequence as a string.\n",
    "    \"\"\"\n",
    "    ###\n",
    "    ### YOUR CODE HERE\n",
    "\n",
    "    mismatch_positions = random.sample(range(len(seq)), num_mismatches)\n",
    "    evolved = list(seq)\n",
    "    for i in mismatch_positions:\n",
    "        evolved[i] = mutate_base(evolved[i])\n",
    "    return ''.join(evolved)\n"
   ]
  },
  {
   "cell_type": "markdown",
   "metadata": {
    "deletable": false,
    "editable": false,
    "nbgrader": {
     "grade": false,
     "grade_id": "cell-193a07855aa37fef",
     "locked": true,
     "schema_version": 3,
     "solution": false
    }
   },
   "source": [
    "The functions below will be useful for counting mismatches in alignments."
   ]
  },
  {
   "cell_type": "code",
   "execution_count": 44,
   "metadata": {
    "deletable": false,
    "editable": false,
    "nbgrader": {
     "grade": false,
     "grade_id": "cell-7740db0c1d505162",
     "locked": true,
     "schema_version": 3,
     "solution": false
    }
   },
   "outputs": [],
   "source": [
    "def num_alignment_mismatches(alignment):\n",
    "    \"\"\"Returns the number of mismatched positions in the given ungapped alignment.\"\"\"\n",
    "    return sum(c1 != c2 for c1, c2 in zip(*alignment))\n",
    "\n",
    "def mismatched_alignment_positions(alignment):\n",
    "    \"\"\"Returns a list of the positions at which there are mismatches in the given ungapped alignment.\"\"\"\n",
    "    return [i for i, (c1, c2) in enumerate(zip(*alignment)) if c1 != c2]"
   ]
  },
  {
   "cell_type": "code",
   "execution_count": 45,
   "metadata": {
    "deletable": false,
    "editable": false,
    "nbgrader": {
     "grade": true,
     "grade_id": "mutate_sequence",
     "locked": true,
     "points": 1,
     "schema_version": 3,
     "solution": false
    },
    "scrolled": true
   },
   "outputs": [
    {
     "name": "stdout",
     "output_type": "stream",
     "text": [
      "SUCCESS: mutate_sequence passed all tests\n"
     ]
    }
   ],
   "source": [
    "# tests for mutate_sequence\n",
    "seq = \"TACTACTATTTTCGTACCGA\"\n",
    "assert mutate_sequence(seq, 0) == seq\n",
    "assert num_alignment_mismatches([seq, mutate_sequence(seq, 1)]) == 1\n",
    "assert num_alignment_mismatches([seq, mutate_sequence(seq, 7)]) == 7\n",
    "assert num_alignment_mismatches([seq, mutate_sequence(seq, len(seq))]) == len(seq)\n",
    "\n",
    "num_trials = 5000\n",
    "num_mismatches = 4\n",
    "mismatch_counts = collections.Counter()\n",
    "for i in range(num_trials):\n",
    "    alignment = [seq, mutate_sequence(seq, num_mismatches)]\n",
    "    mismatch_counts.update(mismatched_alignment_positions(alignment))\n",
    "mismatch_freqs = [round(mismatch_counts[i] / num_trials, 1) for i in range(len(seq))]\n",
    "# With 4 mismatches the average number of times that each position is mismatched should be 0.2\n",
    "# this assertion should pass with very high probability\n",
    "assert mismatch_freqs == [num_mismatches / len(seq)] * len(seq)\n",
    "print(\"SUCCESS: mutate_sequence passed all tests\")"
   ]
  },
  {
   "cell_type": "markdown",
   "metadata": {
    "deletable": false,
    "editable": false,
    "nbgrader": {
     "grade": false,
     "grade_id": "cell-c98da91c5635efd7",
     "locked": true,
     "schema_version": 3,
     "solution": false
    }
   },
   "source": [
    "### A function for simulating evolution along an entire tree\n",
    "Finally, here is a function that performs an evolutionary simulation along an entire tree."
   ]
  },
  {
   "cell_type": "code",
   "execution_count": 46,
   "metadata": {
    "deletable": false,
    "editable": false,
    "nbgrader": {
     "grade": false,
     "grade_id": "cell-ad6f7ded738b8cf4",
     "locked": true,
     "schema_version": 3,
     "solution": false
    }
   },
   "outputs": [],
   "source": [
    "def evolve_sequences_along_tree(ancestral_seq, newick_tree):\n",
    "    \"\"\"Evolves DNA sequences along a tree given an ancestral sequence at the root.\n",
    "\n",
    "    The ancestral sequence is assigned to the root node and evolution is simulated along \n",
    "    each branch according to the branch lengths.\n",
    "    \n",
    "    Args:\n",
    "        ancestral_seq: the ancestral DNA sequence\n",
    "        newick_tree: A newick string specifying the tree\n",
    "    Returns:\n",
    "        A toytree.tree object with simulated evolved sequences assigned to each node.\n",
    "    \"\"\"\n",
    "    tree = toytree.tree(newick_tree)\n",
    "    for node in tree.treenode.traverse(\"preorder\"):\n",
    "        if node.is_root():\n",
    "            node_seq = ancestral_seq\n",
    "        else:\n",
    "            node_seq = evolve_sequence(node.up.sequence, node.dist)\n",
    "        node.add_feature(\"sequence\", node_seq)\n",
    "    return tree"
   ]
  },
  {
   "cell_type": "markdown",
   "metadata": {
    "deletable": false,
    "editable": false,
    "nbgrader": {
     "grade": false,
     "grade_id": "cell-79faa68e223f4a13",
     "locked": true,
     "schema_version": 3,
     "solution": false
    }
   },
   "source": [
    "The following function will be useful for extracting the resulting leaf sequences from the tree."
   ]
  },
  {
   "cell_type": "code",
   "execution_count": 47,
   "metadata": {
    "deletable": false,
    "editable": false,
    "nbgrader": {
     "grade": false,
     "grade_id": "cell-9b3f1d839664773e",
     "locked": true,
     "schema_version": 3,
     "solution": false
    }
   },
   "outputs": [],
   "source": [
    "def leaf_sequences(tree):\n",
    "    \"\"\"Returns a dictionary of the leaf names mapped to their sequences for the given toytree.tree.\"\"\"\n",
    "    return {leaf.name: leaf.sequence for leaf in tree.treenode}"
   ]
  },
  {
   "cell_type": "markdown",
   "metadata": {
    "deletable": false,
    "editable": false,
    "nbgrader": {
     "grade": false,
     "grade_id": "cell-4362de47810100f2",
     "locked": true,
     "schema_version": 3,
     "solution": false
    }
   },
   "source": [
    "Here are some test runs of the simulator with small trees and an ancestral sequence that is all As (so that it is easier to visualize where the subsitutions have occurred)."
   ]
  },
  {
   "cell_type": "code",
   "execution_count": 48,
   "metadata": {
    "deletable": false,
    "editable": false,
    "nbgrader": {
     "grade": false,
     "grade_id": "cell-19847d0651fd3550",
     "locked": true,
     "schema_version": 3,
     "solution": false
    }
   },
   "outputs": [
    {
     "data": {
      "text/html": [
       "<div class=\"toyplot\" id=\"t314bb1fff78a4b45aa0aea334ce5fd67\" style=\"text-align:center\"><svg class=\"toyplot-canvas-Canvas\" xmlns:toyplot=\"http://www.sandia.gov/toyplot\" xmlns:xlink=\"http://www.w3.org/1999/xlink\" xmlns=\"http://www.w3.org/2000/svg\" width=\"1200.0px\" height=\"275.0px\" viewBox=\"0 0 1200.0 275.0\" preserveAspectRatio=\"xMidYMid meet\" style=\"background-color:transparent;border-color:#292724;border-style:none;border-width:1.0;fill:rgb(16.1%,15.3%,14.1%);fill-opacity:1.0;font-family:Helvetica;font-size:12px;opacity:1.0;stroke:rgb(16.1%,15.3%,14.1%);stroke-opacity:1.0;stroke-width:1.0\" id=\"t8ea250b522964d2696777a8370892ee9\"><g class=\"toyplot-coordinates-Cartesian\" id=\"td3ae8d43d2c24f18914a300b31bb17a4\"><clipPath id=\"t6fb530af0ece405884e0cc03238173f8\"><rect x=\"30.0\" y=\"30.0\" width=\"1140.0\" height=\"215.0\"></rect></clipPath><g clip-path=\"url(#t6fb530af0ece405884e0cc03238173f8)\"><g class=\"toytree-mark-Toytree\" id=\"tb1048a8b42ca48f9a17c60430b2a4d39\"><g class=\"toytree-Edges\" style=\"fill:none;stroke:rgb(14.9%,14.9%,14.9%);stroke-linecap:round;stroke-opacity:1;stroke-width:2\"><path d=\"M 54.8 137.5 L 609.1 87.7\" id=\"6,5\"></path><path d=\"M 54.8 137.5 L 387.4 187.3\" id=\"6,4\"></path><path d=\"M 609.1 87.7 L 719.9 62.8\" id=\"5,3\"></path><path d=\"M 609.1 87.7 L 719.9 112.6\" id=\"5,2\"></path><path d=\"M 387.4 187.3 L 719.9 162.4\" id=\"4,1\"></path><path d=\"M 387.4 187.3 L 719.9 212.2\" id=\"4,0\"></path></g><g class=\"toytree-AlignEdges\" style=\"stroke:rgb(66.3%,66.3%,66.3%);stroke-dasharray:2, 4;stroke-linecap:round;stroke-opacity:1.0;stroke-width:2\"><path d=\"M 719.9 212.2 L 719.9 212.2\"></path><path d=\"M 719.9 162.4 L 719.9 162.4\"></path><path d=\"M 719.9 112.6 L 719.9 112.6\"></path><path d=\"M 719.9 62.8 L 719.9 62.8\"></path></g><g class=\"toytree-Nodes\" style=\"fill:rgb(10.6%,62%,46.7%);fill-opacity:1.0;stroke:rgb(100%,100%,100%);stroke-opacity:1.0;stroke-width:1.5\"><g id=\"node-0\" transform=\"translate(719.900,212.195)\"><circle r=\"4.0\"></circle></g><g id=\"node-1\" transform=\"translate(719.900,162.398)\"><circle r=\"4.0\"></circle></g><g id=\"node-2\" transform=\"translate(719.900,112.602)\"><circle r=\"4.0\"></circle></g><g id=\"node-3\" transform=\"translate(719.900,62.805)\"><circle r=\"4.0\"></circle></g><g id=\"node-4\" transform=\"translate(387.369,187.297)\"><circle r=\"4.0\"></circle></g><g id=\"node-5\" transform=\"translate(609.056,87.703)\"><circle r=\"4.0\"></circle></g><g id=\"node-6\" transform=\"translate(54.837,137.500)\"><circle r=\"4.0\"></circle></g></g><g class=\"toytree-TipLabels\" style=\"fill:rgb(14.9%,14.9%,14.9%);fill-opacity:1.0;font-family:monospace;font-size:15px;font-weight:normal;stroke:none;white-space:pre\"><g transform=\"translate(719.90,212.20)rotate(0)\"><text x=\"15.00\" y=\"3.54\" style=\"\">D: AAAAAAAAAAATAAAGAACAATAAAACACAAAGGAAAAAA</text></g><g transform=\"translate(719.90,162.40)rotate(0)\"><text x=\"15.00\" y=\"3.54\" style=\"\">C: AAAACAAAAAAAAAAGAACAATAAAAAGAAAGACAAAACA</text></g><g transform=\"translate(719.90,112.60)rotate(0)\"><text x=\"15.00\" y=\"3.54\" style=\"\">B: AAAAAAAGAAATAGATAAAATAAAATTACAAACAAACAAA</text></g><g transform=\"translate(719.90,62.80)rotate(0)\"><text x=\"15.00\" y=\"3.54\" style=\"\">A: AAAAAAAGAAGTAGATAAAATAAAATAAAAAACAAGCAAA</text></g></g></g></g></g></svg><div class=\"toyplot-behavior\"><script>(function()\n",
       "{\n",
       "var modules={};\n",
       "})();</script></div></div>"
      ]
     },
     "metadata": {},
     "output_type": "display_data"
    },
    {
     "data": {
      "text/html": [
       "<div class=\"toyplot\" id=\"t81237794668542ba916eb6959a5971fe\" style=\"text-align:center\"><svg class=\"toyplot-canvas-Canvas\" xmlns:toyplot=\"http://www.sandia.gov/toyplot\" xmlns:xlink=\"http://www.w3.org/1999/xlink\" xmlns=\"http://www.w3.org/2000/svg\" width=\"1200.0px\" height=\"275.0px\" viewBox=\"0 0 1200.0 275.0\" preserveAspectRatio=\"xMidYMid meet\" style=\"background-color:transparent;border-color:#292724;border-style:none;border-width:1.0;fill:rgb(16.1%,15.3%,14.1%);fill-opacity:1.0;font-family:Helvetica;font-size:12px;opacity:1.0;stroke:rgb(16.1%,15.3%,14.1%);stroke-opacity:1.0;stroke-width:1.0\" id=\"tca1808de3671409896711c30eec5b312\"><g class=\"toyplot-coordinates-Cartesian\" id=\"t4dbea04fef0743f89416875fe1eeecfd\"><clipPath id=\"t5a52064db3454f169c2234dffbed19be\"><rect x=\"30.0\" y=\"30.0\" width=\"1140.0\" height=\"215.0\"></rect></clipPath><g clip-path=\"url(#t5a52064db3454f169c2234dffbed19be)\"><g class=\"toytree-mark-Toytree\" id=\"tcf56c0bf3485447aabef2e95087834e4\"><g class=\"toytree-Edges\" style=\"fill:none;stroke:rgb(14.9%,14.9%,14.9%);stroke-linecap:round;stroke-opacity:1;stroke-width:2\"><path d=\"M 54.8 109.5 L 137.9 156.2\" id=\"8,7\"></path><path d=\"M 137.9 156.2 L 304.1 118.8\" id=\"7,6\"></path><path d=\"M 137.9 156.2 L 387.1 193.5\" id=\"7,5\"></path><path d=\"M 54.8 109.5 L 470.2 62.8\" id=\"8,4\"></path><path d=\"M 304.1 118.8 L 470.2 100.2\" id=\"6,3\"></path><path d=\"M 304.1 118.8 L 387.1 137.5\" id=\"6,2\"></path><path d=\"M 387.1 193.5 L 719.4 174.8\" id=\"5,1\"></path><path d=\"M 387.1 193.5 L 636.3 212.2\" id=\"5,0\"></path></g><g class=\"toytree-AlignEdges\" style=\"stroke:rgb(66.3%,66.3%,66.3%);stroke-dasharray:2, 4;stroke-linecap:round;stroke-opacity:1.0;stroke-width:2\"><path d=\"M 719.4 212.2 L 636.3 212.2\"></path><path d=\"M 719.4 174.8 L 719.4 174.8\"></path><path d=\"M 719.4 137.5 L 387.1 137.5\"></path><path d=\"M 719.4 100.2 L 470.2 100.2\"></path><path d=\"M 719.4 62.8 L 470.2 62.8\"></path></g><g class=\"toytree-Nodes\" style=\"fill:rgb(10.6%,62%,46.7%);fill-opacity:1.0;stroke:rgb(100%,100%,100%);stroke-opacity:1.0;stroke-width:1.5\"><g id=\"node-0\" transform=\"translate(636.348,212.195)\"><circle r=\"4.0\"></circle></g><g id=\"node-1\" transform=\"translate(719.422,174.848)\"><circle r=\"4.0\"></circle></g><g id=\"node-2\" transform=\"translate(387.128,137.500)\"><circle r=\"4.0\"></circle></g><g id=\"node-3\" transform=\"translate(470.201,100.152)\"><circle r=\"4.0\"></circle></g><g id=\"node-4\" transform=\"translate(470.201,62.805)\"><circle r=\"4.0\"></circle></g><g id=\"node-5\" transform=\"translate(387.128,193.521)\"><circle r=\"4.0\"></circle></g><g id=\"node-6\" transform=\"translate(304.054,118.826)\"><circle r=\"4.0\"></circle></g><g id=\"node-7\" transform=\"translate(137.907,156.174)\"><circle r=\"4.0\"></circle></g><g id=\"node-8\" transform=\"translate(54.833,109.489)\"><circle r=\"4.0\"></circle></g></g><g class=\"toytree-TipLabels\" style=\"fill:rgb(14.9%,14.9%,14.9%);fill-opacity:1.0;font-family:monospace;font-size:15px;font-weight:normal;stroke:none;white-space:pre\"><g transform=\"translate(719.42,212.20)rotate(0)\"><text x=\"15.00\" y=\"3.54\" style=\"\">D: AAAAAAAAAAAAACAAAAAAGAAAACCAAGAAGACGAAGC</text></g><g transform=\"translate(719.42,174.85)rotate(0)\"><text x=\"15.00\" y=\"3.54\" style=\"\">C: AACTATAAAAAAATCAAAATGAAACATAACTCGAGGTAGG</text></g><g transform=\"translate(719.42,137.50)rotate(0)\"><text x=\"15.00\" y=\"3.54\" style=\"\">B: AAAAGAGAAAACATAAAAAAAAAAAACAAAAGAAGGTAGT</text></g><g transform=\"translate(719.42,100.15)rotate(0)\"><text x=\"15.00\" y=\"3.54\" style=\"\">A: AAAAGAGAAAAAATAAAAAAAAAAAACAAAAGCAGGTCGA</text></g><g transform=\"translate(719.42,62.80)rotate(0)\"><text x=\"15.00\" y=\"3.54\" style=\"\">E: AAACAAAAAGAAAAATAAAACAAAAAAATAAAAAGAAAAA</text></g></g></g></g></g></svg><div class=\"toyplot-behavior\"><script>(function()\n",
       "{\n",
       "var modules={};\n",
       "})();</script></div></div>"
      ]
     },
     "metadata": {},
     "output_type": "display_data"
    }
   ],
   "source": [
    "ancestral_sequence = \"A\" * 40\n",
    "newick1 = \"((A:0.05, B:0.05):0.25, (C:0.15, D:0.15):0.15);\"\n",
    "test_tree1 = evolve_sequences_along_tree(ancestral_sequence, newick1)\n",
    "newick2 = \"(((A:0.1, B:0.05):0.1, (C:0.2, D:0.15):0.15):0.05, E:0.25);\"\n",
    "test_tree2 = evolve_sequences_along_tree(ancestral_sequence, newick2)\n",
    "\n",
    "def tip_labels_with_seqs(tree):\n",
    "    leaf_seqs = leaf_sequences(tree)\n",
    "    label_format = \"{}: {}\"\n",
    "    return [label_format.format(name, leaf_seqs[name]) for name in tree.get_tip_labels()]\n",
    "\n",
    "tip_labels_style = {\"font-family\": \"monospace\", \"font-size\": \"15px\"}\n",
    "\n",
    "test_tree1.draw(tree_style=\"o\", node_labels=False, width=1200, \n",
    "                tip_labels=tip_labels_with_seqs(test_tree1),\n",
    "                tip_labels_style=tip_labels_style);\n",
    "\n",
    "test_tree2.draw(tree_style=\"o\", node_labels=False, width=1200, \n",
    "                tip_labels_align=True,\n",
    "                tip_labels=tip_labels_with_seqs(test_tree2),\n",
    "                tip_labels_style=tip_labels_style);"
   ]
  },
  {
   "cell_type": "markdown",
   "metadata": {
    "deletable": false,
    "editable": false,
    "nbgrader": {
     "grade": false,
     "grade_id": "cell-1d843569c7d6fdfa",
     "locked": true,
     "schema_version": 3,
     "solution": false
    }
   },
   "source": [
    "## PROBLEM 3: Computing pairwise distances between sequences (1 POINT)\n",
    "We will now write a function that computes all pairwise distances for a set of sequences.  The function will take as input a dictionary mapping names to sequences and the output will be a dictionary mapping pairs (two element tuples) of names to pairwise distances of the corresponding sequences.  Your function should use the `jukes_cantor_distance` function and you may find the `num_alignment_mismatches` function defined above of use.  Note that we are not including insertions or deletions in our simulations, so the pairwise alignments between the sequences are trivial."
   ]
  },
  {
   "cell_type": "code",
   "execution_count": 49,
   "metadata": {},
   "outputs": [],
   "source": [
    "def compute_pairwise_distances(sequences):\n",
    "    \"\"\"Computes the pairwise distance matrix for the given set of DNA sequences.\n",
    "    \n",
    "    Args:\n",
    "        sequences: a dictionary mapping names to sequences.\n",
    "    Returns:\n",
    "        A pairwise distance matrix in the form of a dictionary that maps pairs (tuples)\n",
    "        of names to pairwise distances of the corresponding sequences.  The output matrix\n",
    "        will be symmetric (i.e., both (a, b) and (b, a) will map to the same distance value).\n",
    "    \"\"\"    \n",
    "    ###\n",
    "    ### YOUR CODE HERE\n",
    "    d = {}\n",
    "    for name1, seq1 in sequences.items():\n",
    "        for name2, seq2 in sequences.items():\n",
    "            pair_distance = jukes_cantor_distance(num_alignment_mismatches([seq1, seq2]) / len(seq1))\n",
    "            d[(name1, name2)] = d[(name2, name1)] = pair_distance\n",
    "    return d\n"
   ]
  },
  {
   "cell_type": "code",
   "execution_count": 50,
   "metadata": {
    "deletable": false,
    "editable": false,
    "nbgrader": {
     "grade": true,
     "grade_id": "compute_pairwise_distances",
     "locked": true,
     "points": 1,
     "schema_version": 3,
     "solution": false
    }
   },
   "outputs": [
    {
     "name": "stdout",
     "output_type": "stream",
     "text": [
      "SUCCESS: compute_pairwise_distances passed all tests\n"
     ]
    }
   ],
   "source": [
    "# tests for compute_pairwise_distances\n",
    "def round_dict(d, digits=2):\n",
    "    return {key: round(value, 2) for key, value in d.items()}\n",
    "test_seqs1 = {\n",
    "    'A': 'AAAAACAAAAAAAGCAAAGGAAAAAGATTGAAATGAAAAA',\n",
    "    'B': 'AAAAACATAAAATCCAAAGGAAAAAGATGCAAATGAAAAA',\n",
    "    'C': 'AAAAAAAGAAAAGAAGAAAAAGATAAAATACAAAAAAAAA',\n",
    "    'D': 'AAGAACAGAAAAAAAAAAGAACATAAAAGACAAAAAAAAA'}\n",
    "test_dists1 = {\n",
    "    ('A', 'A'): 0,    ('A', 'B'): 0.14, ('A', 'C'): 0.57, ('A', 'D'): 0.47,\n",
    "    ('B', 'A'): 0.14, ('B', 'B'): 0,    ('B', 'C'): 0.63, ('B', 'D'): 0.47,\n",
    "    ('C', 'A'): 0.57, ('C', 'B'): 0.63, ('C', 'C'): 0,    ('C', 'D'): 0.2,\n",
    "    ('D', 'A'): 0.47, ('D', 'B'): 0.47, ('D', 'C'): 0.2,  ('D', 'D'): 0}\n",
    "assert round_dict(compute_pairwise_distances(test_seqs1)) == test_dists1\n",
    "\n",
    "test_seqs2 = {\n",
    "    'A': 'CATCTAG',\n",
    "    'B': 'CATCTAG',\n",
    "    'C': 'CATCTAG'}\n",
    "test_dists2 = {\n",
    "    ('A', 'A'): 0, ('A', 'B'): 0, ('A', 'C'): 0,\n",
    "    ('B', 'A'): 0, ('B', 'B'): 0, ('B', 'C'): 0,\n",
    "    ('C', 'A'): 0, ('C', 'B'): 0, ('C', 'C'): 0}\n",
    "assert round_dict(compute_pairwise_distances(test_seqs2)) == test_dists2\n",
    "\n",
    "test_seqs3 = {\n",
    "    'A': 'AAAAATAAAAAAATAGTCAAAAATTAAAAAAACAAAAAAA',\n",
    "    'B': 'AAAAATAAAAAAATAAACAAAAATAAAAAAAAAAAAAAAA',\n",
    "    'C': 'AAGACTGAAAAACGAAAGGAACAGTAGACCATAATAAAGA',\n",
    "    'D': 'AAAAATAAAAAAAGAAAGGAAAAAAAAAACAAAATAAAGA',\n",
    "    'E': 'GCGGAAAAGAAAAGATATAAAAAAAAAAAATTTACGAAAA'}\n",
    "test_dists3 = {\n",
    "    ('A', 'A'): 0,    ('A', 'B'): 0.11, ('A', 'C'): 0.69, ('A', 'D'): 0.34, ('A', 'E'): 0.63,\n",
    "    ('B', 'A'): 0.11, ('B', 'B'): 0,    ('B', 'C'): 0.57, ('B', 'D'): 0.2,  ('B', 'E'): 0.52, \n",
    "    ('C', 'A'): 0.69, ('C', 'B'): 0.57, ('C', 'C'): 0,    ('C', 'D'): 0.3,  ('C', 'E'): 0.99,\n",
    "    ('D', 'A'): 0.34, ('D', 'B'): 0.2,  ('D', 'C'): 0.3,  ('D', 'D'): 0,    ('D', 'E'): 0.57,\n",
    "    ('E', 'A'): 0.63, ('E', 'B'): 0.52, ('E', 'C'): 0.99, ('E', 'D'): 0.57, ('E', 'E'): 0}\n",
    "assert round_dict(compute_pairwise_distances(test_seqs3)) == test_dists3\n",
    "print(\"SUCCESS: compute_pairwise_distances passed all tests\")"
   ]
  },
  {
   "cell_type": "markdown",
   "metadata": {
    "deletable": false,
    "editable": false,
    "nbgrader": {
     "grade": false,
     "grade_id": "cell-92a2018a95b3ba9a",
     "locked": true,
     "schema_version": 3,
     "solution": false
    }
   },
   "source": [
    "## Bonus exploration\n",
    "\n",
    "Try some simulations and compute the pairwise distance marix for each result.\n",
    "\n",
    "1. How well do the pairwise distances match the tree?\n",
    "2. Do the pairwise distances satisfy the ultrametric property?\n",
    "3. How do your results (and answers to 1 and 2) change as you increase the length of the sequences?"
   ]
  },
  {
   "cell_type": "markdown",
   "metadata": {},
   "source": [
    "###\n",
    "### Your results here\n",
    "###\n"
   ]
  }
 ],
 "metadata": {
  "celltoolbar": "Create Assignment",
  "kernelspec": {
   "display_name": "Python 3 [3.10]",
   "language": "python",
   "name": "python3"
  },
  "language_info": {
   "codemirror_mode": {
    "name": "ipython",
    "version": 3
   },
   "file_extension": ".py",
   "mimetype": "text/x-python",
   "name": "python",
   "nbconvert_exporter": "python",
   "pygments_lexer": "ipython3",
   "version": "3.10.2"
  }
 },
 "nbformat": 4,
 "nbformat_minor": 4
}
