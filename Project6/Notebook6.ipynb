{
 "cells": [
  {
   "cell_type": "markdown",
   "metadata": {
    "deletable": false,
    "editable": false,
    "nbgrader": {
     "grade": false,
     "grade_id": "cell-5cbb556bc98f2124",
     "locked": true,
     "schema_version": 3,
     "solution": false
    }
   },
   "source": [
    "# Day 6 notebook\n",
    "\n",
    "The objectives of this notebook are to practice with the concepts of\n",
    "\n",
    "* de Bruijn assembly\n",
    "* sequencing errors\n",
    "* repeats\n",
    "\n",
    "This notebook is intended to be solved by hand.  You are welcome to use any code if that helps you.  You are strongly encouraged to work with your group members to understand and solve each problem."
   ]
  },
  {
   "cell_type": "markdown",
   "metadata": {
    "deletable": false,
    "editable": false,
    "nbgrader": {
     "grade": false,
     "grade_id": "cell-6d0236d29631f9bb",
     "locked": true,
     "schema_version": 3,
     "solution": false
    }
   },
   "source": [
    "## PROBLEM 1: Minimum overlap lengths and read spectra (1 POINT)\n",
    "Recall that the de Bruijn approach to genome assembly with shotgun sequencing reads is to approximate the $k$-mer spectrum of the genome by the union of the $k$-mer spectra of the reads and then to use an Eulerian path approach to computing the assembly.  In the absence of sequencing errors, this approach may be successful if the read spectrum is equal to the genome spectrum.\n",
    "\n",
    "On the other hand, the fragment assembly approach for the same shotgun sequencing data is to find overlaps between pairs of reads and then to compute a superstring (ideally the shortest such superstring).  In practice, one typically only considers overlaps between pairs of reads that are at least of some minimum length, `min_overlap`.  Thus, in the absence of sequencing errors, this approach may be successful if the reads cover every position of the genome *and*  each pair of adjacent reads (in terms of their position along the genome) overlaps by at least `min_overlap`.\n",
    "\n",
    "In this problem, we will explore the relationship between the `min_overlap` parameter for fragment assembly and the value of $k$ for the de Bruijn approach.\n",
    "\n",
    "Suppose that a set of error-free shotgun sequencing reads satisfies the requirements for fragment assembly to be successful with a minimum overlap length of `min_overlap` and that all reads are longer than twice the value of `min_overlap`.  Write a function, `largest_k`, that given `min_overlap` as input, outputs the largest value of $k$ such that we are guaranteed that the read spectrum is equal to the genome spectrum (such that the de Bruijn approach may be successful).\n",
    "\n",
    "*Hint: consider k-mers that come from a region of the genome where two reads overlap by exactly `min_overlap` bases*"
   ]
  },
  {
   "cell_type": "code",
   "execution_count": 4,
   "metadata": {
    "nbgrader": {
     "grade": false,
     "grade_id": "cell-07671210270ae9d3",
     "locked": false,
     "schema_version": 3,
     "solution": true
    }
   },
   "outputs": [],
   "source": [
    "def largest_k(min_overlap):\n",
    "    \"\"\"Returns the largest value of k for which the read spectrum = genome spectrum\n",
    "       when all reads overlap by at least min_overlap\n",
    "    Args:\n",
    "        min_overlap: an integer specifying the minimum overlap length between adjacent reads\n",
    "    Returns:\n",
    "        k, an integer\n",
    "    \"\"\"    \n",
    "    ###\n",
    "    ### YOUR CODE HERE\n",
    "    k = min_overlap + 1\n",
    "    return k\n"
   ]
  },
  {
   "cell_type": "markdown",
   "metadata": {},
   "source": [
    "###\n",
    "### Written reasoning for your function\n",
    "###\n"
   ]
  },
  {
   "cell_type": "code",
   "execution_count": 5,
   "metadata": {
    "deletable": false,
    "editable": false,
    "nbgrader": {
     "grade": true,
     "grade_id": "problem_1",
     "locked": true,
     "points": 1,
     "schema_version": 3,
     "solution": false
    }
   },
   "outputs": [],
   "source": [
    "assert isinstance(largest_k(20), int), \"return value should be an integer\"\n",
    "###\n",
    "### AUTOGRADER TEST - DO NOT REMOVE\n",
    "###\n"
   ]
  },
  {
   "cell_type": "markdown",
   "metadata": {
    "deletable": false,
    "editable": false,
    "nbgrader": {
     "grade": false,
     "grade_id": "cell-e0bc2a991e58baaf",
     "locked": true,
     "schema_version": 3,
     "solution": false
    }
   },
   "source": [
    "## PROBLEM 2: Sequencing errors and $k$-mers (1 POINT)\n",
    "Sequencing errors in reads result in the spectra for those reads having potentially false $k$-mers (i.e., $k$-mers that are not in the genome spectrum).  Write a function `minimum_errors` that takes as input $k$ and the length, $L$, of a read and returns the *minimum* number of base substitution errors in the read such that the read may contain *only* false $k$-mers."
   ]
  },
  {
   "cell_type": "code",
   "execution_count": 16,
   "metadata": {
    "nbgrader": {
     "grade": false,
     "grade_id": "cell-39204f38b2763da3",
     "locked": false,
     "schema_version": 3,
     "solution": true,
     "task": false
    },
    "scrolled": true
   },
   "outputs": [],
   "source": [
    "def minimum_errors(k, l):\n",
    "    \"\"\"Returns the minimum number of base substitution errors in a read\n",
    "    such that the read may contain only false k-mers.\n",
    "    Args:\n",
    "        k: the length of substrings in the spectrum, an integer\n",
    "        l: the length of a read, an integer\n",
    "    Returns:\n",
    "        number of base substitution errors, an integer\n",
    "    \"\"\"  \n",
    "    \n",
    "    ### YOUR CODE HERE\n",
    "    return l//k\n"
   ]
  },
  {
   "cell_type": "code",
   "execution_count": 17,
   "metadata": {
    "deletable": false,
    "editable": false,
    "nbgrader": {
     "grade": true,
     "grade_id": "problem_2",
     "locked": true,
     "points": 1,
     "schema_version": 3,
     "solution": false
    }
   },
   "outputs": [],
   "source": [
    "assert isinstance(minimum_errors(13, 100), int), \"minimum_errors should return an integer value\"\n",
    "###\n",
    "### AUTOGRADER TEST - DO NOT REMOVE\n",
    "###\n"
   ]
  },
  {
   "cell_type": "markdown",
   "metadata": {
    "deletable": false,
    "editable": false,
    "nbgrader": {
     "grade": false,
     "grade_id": "cell-59081d22b228c71e",
     "locked": true,
     "schema_version": 3,
     "solution": false
    }
   },
   "source": [
    "## PROBLEM 3: Repeats (1 POINT)\n",
    "Suppose you are given the following set of reads:\n",
    "\n",
    "    AAACT\n",
    "    AAAGG\n",
    "    AAAGT\n",
    "    AAATT\n",
    "    CCAAA\n",
    "    CTAAA\n",
    "    GGAAA\n",
    "    TTAAA\n",
    "\n",
    "How many shortest superstrings are there for this set of reads?"
   ]
  },
  {
   "cell_type": "markdown",
   "metadata": {
    "deletable": false,
    "editable": false,
    "nbgrader": {
     "grade": false,
     "grade_id": "cell-25aca39fe05320a5",
     "locked": true,
     "schema_version": 3,
     "solution": false
    }
   },
   "source": [
    "For autograding purposes, answer this question below by assigning the appropriate value to the variable `num_shortest_superstrings`."
   ]
  },
  {
   "cell_type": "code",
   "execution_count": 12,
   "metadata": {
    "nbgrader": {
     "grade": false,
     "grade_id": "cell-41e22d418828d35b",
     "locked": false,
     "schema_version": 3,
     "solution": true
    }
   },
   "outputs": [],
   "source": [
    "###\n",
    "num_shortest_superstrings = 6\n",
    "###\n"
   ]
  },
  {
   "cell_type": "code",
   "execution_count": 13,
   "metadata": {
    "deletable": false,
    "editable": false,
    "nbgrader": {
     "grade": true,
     "grade_id": "problem_3",
     "locked": true,
     "points": 1,
     "schema_version": 3,
     "solution": false
    }
   },
   "outputs": [],
   "source": [
    "# autograding tests for num_shortest_superstrings\n",
    "assert isinstance(num_shortest_superstrings, int), \"num_shortest_superstrings should be assigned an integer value\"\n",
    "###\n",
    "### AUTOGRADER TEST - DO NOT REMOVE\n",
    "###\n"
   ]
  },
  {
   "cell_type": "code",
   "execution_count": null,
   "metadata": {},
   "outputs": [],
   "source": []
  },
  {
   "cell_type": "code",
   "execution_count": null,
   "metadata": {},
   "outputs": [],
   "source": []
  }
 ],
 "metadata": {
  "celltoolbar": "Create Assignment",
  "kernelspec": {
   "display_name": "Python 3 [3.10]",
   "language": "python",
   "name": "python3"
  },
  "language_info": {
   "codemirror_mode": {
    "name": "ipython",
    "version": 3
   },
   "file_extension": ".py",
   "mimetype": "text/x-python",
   "name": "python",
   "nbconvert_exporter": "python",
   "pygments_lexer": "ipython3",
   "version": "3.10.2"
  }
 },
 "nbformat": 4,
 "nbformat_minor": 4
}
