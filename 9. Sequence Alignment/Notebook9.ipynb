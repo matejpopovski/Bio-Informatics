{
 "cells": [
  {
   "cell_type": "markdown",
   "metadata": {
    "deletable": false,
    "editable": false,
    "nbgrader": {
     "grade": false,
     "grade_id": "cell-8ea1291f2dde9a37",
     "locked": true,
     "schema_version": 3,
     "solution": false
    }
   },
   "source": [
    "# Day 9 notebook\n",
    "\n",
    "The objectives of this notebook are to practice running (by hand) the dynamic programming algorithms for \n",
    "\n",
    "* global alignment with linear gap penalty\n",
    "* local alignment with linear gap penalty\n",
    "* global alignment with affine gap penalty"
   ]
  },
  {
   "cell_type": "markdown",
   "metadata": {
    "deletable": false,
    "editable": false,
    "nbgrader": {
     "grade": false,
     "grade_id": "cell-fd8f76b65a977bef",
     "locked": true,
     "schema_version": 3,
     "solution": false
    }
   },
   "source": [
    "## Sequences to align\n",
    "\n",
    "In this activity, you will align the same pair of sequences multiple times, but with different alignment algorithms.  The two sequences to align are: `CAATATG` and `CATA`.\n",
    "\n",
    "You may find the included [worksheet](day09_activity_worksheet.pdf) useful for running the dynamic programming algorithms."
   ]
  },
  {
   "cell_type": "markdown",
   "metadata": {
    "deletable": false,
    "editable": false,
    "nbgrader": {
     "grade": false,
     "grade_id": "cell-12aecf613ceacaf7",
     "locked": true,
     "schema_version": 3,
     "solution": false
    }
   },
   "source": [
    "### PROBLEM 1: Global alignment with linear gap penalty (3 POINTS)\n",
    "\n",
    "Align the sequences by hand using the Needleman–Wunsch algorithm (global alignment with linear gap penalty).  Use the following scoring scheme:\n",
    "* Match: +1\n",
    "* Mismatch: -1\n",
    "* Space: -2\n",
    "\n",
    "To submit your solution, do the following variable assignments in the solution cell below:\n",
    "\n",
    "* assign to the variable `global_linear_opt_score` the optimal alignment *score* \n",
    "* assign to the variable `global_linear_opt_alignments` a *list* of *all* alignments that achieve that optimal score\n",
    "* assign to the variable `global_linear_last_row` a *list* representing the entries in the last row of the dynamic programming matrix.\n",
    "\n",
    "Each alignment should be represented by a list of two strings.  The first sequence, `CAATATG`, should be represented by the first string.  For example, here is an example of a list of alignments (non-optimal alignments):"
   ]
  },
  {
   "cell_type": "code",
   "execution_count": 25,
   "metadata": {
    "deletable": false,
    "editable": false,
    "nbgrader": {
     "grade": false,
     "grade_id": "cell-c324a7d07edd0817",
     "locked": true,
     "schema_version": 3,
     "solution": false
    }
   },
   "outputs": [
    {
     "data": {
      "text/plain": [
       "[['CAATATG', 'CATA---'], ['CAATATG', '--C-ATA'], ['CA-ATATG', 'CATA----']]"
      ]
     },
     "execution_count": 25,
     "metadata": {},
     "output_type": "execute_result"
    }
   ],
   "source": [
    "# example of a list of alignments\n",
    "[[\"CAATATG\",\n",
    "  \"CATA---\"],\n",
    " [\"CAATATG\",\n",
    "  \"--C-ATA\"],\n",
    " [\"CA-ATATG\",\n",
    "  \"CATA----\"]]"
   ]
  },
  {
   "cell_type": "markdown",
   "metadata": {},
   "source": [
    "To make sure you are formatting your alignments correctly, below are functions to check that an alignment is valid."
   ]
  },
  {
   "cell_type": "code",
   "execution_count": 26,
   "metadata": {},
   "outputs": [],
   "source": [
    "def check_global_alignment(alignment, x, y):\n",
    "    \"\"\"Checks if alignment is a valid global alignment of strings x and y\"\"\"\n",
    "    check_alignment_format(alignment)\n",
    "    assert alignment[0].replace('-', '') == x, \"The first alignment string does not match x\"\n",
    "    assert alignment[1].replace('-', '') == y, \"The second alignment string does not match y\"\n",
    "    \n",
    "def check_local_alignment(alignment, x, y):\n",
    "    \"\"\"Checks if alignment is a valid local alignment of strings x and y\"\"\"\n",
    "    check_alignment_format(alignment)\n",
    "    assert alignment[0].replace('-', '') in x, \"The first alignment string is not a substring of x\"\n",
    "    assert alignment[1].replace('-', '') in y, \"The second alignment string is not a substring of y\"\n",
    "    \n",
    "def check_alignment_format(alignment):\n",
    "    \"\"\"Checks if alignment is in the correct format\"\"\"\n",
    "    assert isinstance(alignment, list), \"Alignment is not a list\"\n",
    "    assert len(alignment) == 2, \"Alignment does not have two elements\"\n",
    "    assert all(isinstance(s, str) for s in alignment), \"Elements of alignment are not strings\"\n",
    "    assert len(alignment[0]) == len(alignment[1]), \"Alignment strings do not have the same length\""
   ]
  },
  {
   "cell_type": "code",
   "execution_count": 60,
   "metadata": {
    "nbgrader": {
     "grade": false,
     "grade_id": "cell-20a6640bc4fe8616",
     "locked": false,
     "schema_version": 3,
     "solution": true
    }
   },
   "outputs": [],
   "source": [
    "###\n",
    "global_linear_opt_score = -2\n",
    "###\n",
    "###\n",
    "global_linear_opt_alignments = [['CAATATG', 'C-ATA--'], ['CAATATG', 'CA-TA--']]\n",
    "###\n",
    "###\n",
    "global_linear_last_row = [-14, -11, -8, -5, -2]\n",
    "###\n"
   ]
  },
  {
   "cell_type": "code",
   "execution_count": 61,
   "metadata": {
    "deletable": false,
    "editable": false,
    "nbgrader": {
     "grade": true,
     "grade_id": "global_linear_opt_score",
     "locked": true,
     "points": 1,
     "schema_version": 3,
     "solution": false
    }
   },
   "outputs": [],
   "source": [
    "# tests for global_linear_opt_score\n",
    "assert isinstance(global_linear_opt_score, int)\n",
    "###\n",
    "### AUTOGRADER TEST - DO NOT REMOVE\n",
    "###\n"
   ]
  },
  {
   "cell_type": "code",
   "execution_count": 62,
   "metadata": {
    "deletable": false,
    "editable": false,
    "nbgrader": {
     "grade": true,
     "grade_id": "global_linear_opt_alignments",
     "locked": true,
     "points": 1,
     "schema_version": 3,
     "solution": false
    }
   },
   "outputs": [],
   "source": [
    "# test for global_linear_opt_alignments\n",
    "assert isinstance(global_linear_opt_alignments, list)\n",
    "for alignment in global_linear_opt_alignments: check_global_alignment(alignment, \"CAATATG\", \"CATA\")\n",
    "###\n",
    "### AUTOGRADER TEST - DO NOT REMOVE\n",
    "###\n"
   ]
  },
  {
   "cell_type": "code",
   "execution_count": 63,
   "metadata": {
    "deletable": false,
    "editable": false,
    "nbgrader": {
     "grade": true,
     "grade_id": "global_linear_last_row_entry_0",
     "locked": true,
     "points": 0.25,
     "schema_version": 3,
     "solution": false
    }
   },
   "outputs": [],
   "source": [
    "# test for global_linear_last_row_entry_0\n",
    "assert isinstance(global_linear_last_row[0], int)\n",
    "###\n",
    "### AUTOGRADER TEST - DO NOT REMOVE\n",
    "###\n"
   ]
  },
  {
   "cell_type": "code",
   "execution_count": 64,
   "metadata": {
    "deletable": false,
    "editable": false,
    "nbgrader": {
     "grade": true,
     "grade_id": "global_linear_last_row_entry_1",
     "locked": true,
     "points": 0.25,
     "schema_version": 3,
     "solution": false
    }
   },
   "outputs": [],
   "source": [
    "# test for global_linear_last_row_entry_1\n",
    "assert isinstance(global_linear_last_row[1], int)\n",
    "###\n",
    "### AUTOGRADER TEST - DO NOT REMOVE\n",
    "###\n"
   ]
  },
  {
   "cell_type": "code",
   "execution_count": 65,
   "metadata": {
    "deletable": false,
    "editable": false,
    "nbgrader": {
     "grade": true,
     "grade_id": "global_linear_last_row_entry_2",
     "locked": true,
     "points": 0.25,
     "schema_version": 3,
     "solution": false
    }
   },
   "outputs": [],
   "source": [
    "# test for global_linear_last_row_entry_2\n",
    "assert isinstance(global_linear_last_row[2], int)\n",
    "###\n",
    "### AUTOGRADER TEST - DO NOT REMOVE\n",
    "###\n"
   ]
  },
  {
   "cell_type": "code",
   "execution_count": 66,
   "metadata": {
    "deletable": false,
    "editable": false,
    "nbgrader": {
     "grade": true,
     "grade_id": "global_linear_last_row_entry_3",
     "locked": true,
     "points": 0.25,
     "schema_version": 3,
     "solution": false
    }
   },
   "outputs": [],
   "source": [
    "# test for global_linear_last_row_entry_3\n",
    "assert isinstance(global_linear_last_row[3], int)\n",
    "###\n",
    "### AUTOGRADER TEST - DO NOT REMOVE\n",
    "###\n"
   ]
  },
  {
   "cell_type": "markdown",
   "metadata": {
    "deletable": false,
    "editable": false,
    "nbgrader": {
     "grade": false,
     "grade_id": "cell-4cbc0a5ad85897c2",
     "locked": true,
     "schema_version": 3,
     "solution": false
    }
   },
   "source": [
    "### PROBLEM 2: Local alignment with linear gap penalty (3 POINTS)\n",
    "\n",
    "Align the sequences by hand using the Smith–Waterman algorithm (local alignment with linear gap penalty).  Use the following scoring scheme:\n",
    "* Match: +1\n",
    "* Mismatch: -1\n",
    "* Space: -2\n",
    "\n",
    "To submit your solution, do the following variable assignments in the solution cell below:\n",
    "\n",
    "* assign to the variable `local_linear_opt_score` the optimal alignment *score* \n",
    "* assign to the variable `local_linear_opt_alignments` a *list* of *all* alignments that achieve that optimal score\n",
    "* assign to the variable `local_linear_last_row` a *list* representing the entries in the last row of the dynamic programming matrix."
   ]
  },
  {
   "cell_type": "code",
   "execution_count": 75,
   "metadata": {
    "nbgrader": {
     "grade": false,
     "grade_id": "cell-1fad94222ab0532a",
     "locked": false,
     "schema_version": 3,
     "solution": true
    }
   },
   "outputs": [],
   "source": [
    "###\n",
    "local_linear_opt_score = 3\n",
    "###\n",
    "###\n",
    "local_linear_opt_alignments = [['ATA', 'ATA']]\n",
    "###\n",
    "###\n",
    "local_linear_last_row = [0, 0, 0, 0, 1]\n",
    "###\n"
   ]
  },
  {
   "cell_type": "code",
   "execution_count": 76,
   "metadata": {
    "deletable": false,
    "editable": false,
    "nbgrader": {
     "grade": true,
     "grade_id": "local_linear_opt_score",
     "locked": true,
     "points": 1,
     "schema_version": 3,
     "solution": false
    },
    "scrolled": true
   },
   "outputs": [],
   "source": [
    "# tests for local_linear_opt_score\n",
    "assert isinstance(local_linear_opt_score, int)\n",
    "###\n",
    "### AUTOGRADER TEST - DO NOT REMOVE\n",
    "###\n"
   ]
  },
  {
   "cell_type": "code",
   "execution_count": 77,
   "metadata": {
    "deletable": false,
    "editable": false,
    "nbgrader": {
     "grade": true,
     "grade_id": "local_linear_opt_alignments",
     "locked": true,
     "points": 1,
     "schema_version": 3,
     "solution": false
    }
   },
   "outputs": [],
   "source": [
    "# test for local_linear_opt_alignments\n",
    "assert isinstance(local_linear_opt_alignments, list)\n",
    "for alignment in local_linear_opt_alignments: check_local_alignment(alignment, \"CAATATG\", \"CATA\")\n",
    "###\n",
    "### AUTOGRADER TEST - DO NOT REMOVE\n",
    "###\n"
   ]
  },
  {
   "cell_type": "code",
   "execution_count": 78,
   "metadata": {
    "deletable": false,
    "editable": false,
    "nbgrader": {
     "grade": true,
     "grade_id": "local_linear_last_row_entry_0",
     "locked": true,
     "points": 0.2,
     "schema_version": 3,
     "solution": false
    }
   },
   "outputs": [],
   "source": [
    "# test for local_linear_last_row_entry_0\n",
    "assert isinstance(local_linear_last_row[0], int)\n",
    "###\n",
    "### AUTOGRADER TEST - DO NOT REMOVE\n",
    "###\n"
   ]
  },
  {
   "cell_type": "code",
   "execution_count": 79,
   "metadata": {
    "deletable": false,
    "editable": false,
    "nbgrader": {
     "grade": true,
     "grade_id": "local_linear_last_row_entry_1",
     "locked": true,
     "points": 0.2,
     "schema_version": 3,
     "solution": false
    }
   },
   "outputs": [],
   "source": [
    "# test for local_linear_last_row_entry_1\n",
    "assert isinstance(local_linear_last_row[1], int)\n",
    "###\n",
    "### AUTOGRADER TEST - DO NOT REMOVE\n",
    "###\n"
   ]
  },
  {
   "cell_type": "code",
   "execution_count": 80,
   "metadata": {
    "deletable": false,
    "editable": false,
    "nbgrader": {
     "grade": true,
     "grade_id": "local_linear_last_row_entry_2",
     "locked": true,
     "points": 0.2,
     "schema_version": 3,
     "solution": false
    }
   },
   "outputs": [],
   "source": [
    "# test for local_linear_last_row_entry_2\n",
    "assert isinstance(local_linear_last_row[2], int)\n",
    "###\n",
    "### AUTOGRADER TEST - DO NOT REMOVE\n",
    "###\n"
   ]
  },
  {
   "cell_type": "code",
   "execution_count": 81,
   "metadata": {
    "deletable": false,
    "editable": false,
    "nbgrader": {
     "grade": true,
     "grade_id": "local_linear_last_row_entry_3",
     "locked": true,
     "points": 0.2,
     "schema_version": 3,
     "solution": false
    }
   },
   "outputs": [],
   "source": [
    "# test for local_linear_last_row_entry_3\n",
    "assert isinstance(local_linear_last_row[3], int)\n",
    "###\n",
    "### AUTOGRADER TEST - DO NOT REMOVE\n",
    "###\n"
   ]
  },
  {
   "cell_type": "code",
   "execution_count": 82,
   "metadata": {
    "deletable": false,
    "editable": false,
    "nbgrader": {
     "grade": true,
     "grade_id": "local_linear_last_row_entry_4",
     "locked": true,
     "points": 0.2,
     "schema_version": 3,
     "solution": false
    }
   },
   "outputs": [],
   "source": [
    "# test for local_linear_last_row_entry_4\n",
    "assert isinstance(local_linear_last_row[4], int)\n",
    "###\n",
    "### AUTOGRADER TEST - DO NOT REMOVE\n",
    "###\n"
   ]
  },
  {
   "cell_type": "markdown",
   "metadata": {
    "deletable": false,
    "editable": false,
    "nbgrader": {
     "grade": false,
     "grade_id": "cell-55189aaf6eaad576",
     "locked": true,
     "schema_version": 3,
     "solution": false
    }
   },
   "source": [
    "### PROBLEM 3: Global alignment with affine gap penalty (3 POINTS)\n",
    "\n",
    "Align the sequences by hand using the global alignment with affine gap penalty algorithm.  Use the following scoring scheme:\n",
    "* Match: +1\n",
    "* Mismatch: -1\n",
    "* Gap: -3\n",
    "* Space: -2\n",
    "\n",
    "To submit your solution, do the following variable assignments in the solution cell below:\n",
    "\n",
    "* assign to the variable `global_affine_opt_score` the optimal alignment *score* \n",
    "* assign to the variable `global_affine_opt_alignments` a *list* of *all* alignments that achieve that optimal score\n",
    "* assign to the variable `global_affine_last_row` a *list* representing the entries in the last row of the dynamic programming matrix.\n",
    "\n",
    "For the last row, we will imagine that the three matrices, $M$, $I_x$, and $I_y$ have been collapsed into a single matrix, where the entry in each cell of the collapsed matrix has the entries from the three matrices represented as a tuple.  That is, if $C$ is the collapsed matrix, then $C[i, j] = (M[i,j], I_x[i,j], I_y[i,j])$."
   ]
  },
  {
   "cell_type": "code",
   "execution_count": 85,
   "metadata": {
    "deletable": false,
    "editable": false,
    "nbgrader": {
     "grade": false,
     "grade_id": "cell-895d65f931b27e48",
     "locked": true,
     "schema_version": 3,
     "solution": false
    }
   },
   "outputs": [],
   "source": [
    "# Constant variable with the value of negative infinity to use in specifying entries of the last row\n",
    "NEG_INF = float(\"-inf\")"
   ]
  },
  {
   "cell_type": "code",
   "execution_count": 86,
   "metadata": {
    "nbgrader": {
     "grade": false,
     "grade_id": "cell-d39e491fb0cf19d5",
     "locked": false,
     "schema_version": 3,
     "solution": true
    }
   },
   "outputs": [],
   "source": [
    "###\n",
    "global_affine_opt_score = -7\n",
    "###\n",
    "###\n",
    "global_affine_opt_alignments = [[\"CAATATG\",\n",
    "                                 \"C---ATA\"],\n",
    "                                [\"CAATATG\",\n",
    "                                 \"CA---TA\"]]\n",
    "###\n",
    "###\n",
    "global_affine_last_row = [(NEG_INF, -17, NEG_INF),\n",
    "                          (-16, -14, NEG_INF),\n",
    "                          (-13, -11, -21),\n",
    "                          (-10, -10, -18),\n",
    "                          (-7, -8, -15)]\n",
    "###\n"
   ]
  },
  {
   "cell_type": "code",
   "execution_count": 87,
   "metadata": {
    "deletable": false,
    "editable": false,
    "nbgrader": {
     "grade": true,
     "grade_id": "global_affine_opt_score",
     "locked": true,
     "points": 1,
     "schema_version": 3,
     "solution": false
    },
    "scrolled": true
   },
   "outputs": [],
   "source": [
    "# tests for global_affine_opt_score\n",
    "assert isinstance(global_affine_opt_score, int)\n",
    "###\n",
    "### AUTOGRADER TEST - DO NOT REMOVE\n",
    "###\n"
   ]
  },
  {
   "cell_type": "code",
   "execution_count": 88,
   "metadata": {
    "deletable": false,
    "editable": false,
    "nbgrader": {
     "grade": true,
     "grade_id": "global_affine_opt_alignments",
     "locked": true,
     "points": 1,
     "schema_version": 3,
     "solution": false
    }
   },
   "outputs": [],
   "source": [
    "# test for global_affine_opt_alignments\n",
    "assert isinstance(global_affine_opt_alignments, list)\n",
    "for alignment in global_affine_opt_alignments: check_global_alignment(alignment, \"CAATATG\", \"CATA\")\n",
    "###\n",
    "### AUTOGRADER TEST - DO NOT REMOVE\n",
    "###\n"
   ]
  },
  {
   "cell_type": "code",
   "execution_count": 89,
   "metadata": {
    "deletable": false,
    "editable": false,
    "nbgrader": {
     "grade": true,
     "grade_id": "global_affine_last_row_entry_0",
     "locked": true,
     "points": 0.25,
     "schema_version": 3,
     "solution": false
    }
   },
   "outputs": [],
   "source": [
    "# test for global_affine_last_row_entry_0\n",
    "assert isinstance(global_affine_last_row[0], tuple)\n",
    "assert len(global_affine_last_row[0]) == 3\n",
    "###\n",
    "### AUTOGRADER TEST - DO NOT REMOVE\n",
    "###\n"
   ]
  },
  {
   "cell_type": "code",
   "execution_count": 90,
   "metadata": {
    "deletable": false,
    "editable": false,
    "nbgrader": {
     "grade": true,
     "grade_id": "global_affine_last_row_entry_1",
     "locked": true,
     "points": 0.25,
     "schema_version": 3,
     "solution": false
    }
   },
   "outputs": [],
   "source": [
    "# test for global_affine_last_row_entry_1\n",
    "assert isinstance(global_affine_last_row[1], tuple)\n",
    "assert len(global_affine_last_row[1]) == 3\n",
    "###\n",
    "### AUTOGRADER TEST - DO NOT REMOVE\n",
    "###\n"
   ]
  },
  {
   "cell_type": "code",
   "execution_count": 91,
   "metadata": {
    "deletable": false,
    "editable": false,
    "nbgrader": {
     "grade": true,
     "grade_id": "global_affine_last_row_entry_2",
     "locked": true,
     "points": 0.25,
     "schema_version": 3,
     "solution": false
    }
   },
   "outputs": [],
   "source": [
    "# test for global_affine_last_row_entry_2\n",
    "assert isinstance(global_affine_last_row[2], tuple)\n",
    "assert len(global_affine_last_row[2]) == 3\n",
    "###\n",
    "### AUTOGRADER TEST - DO NOT REMOVE\n",
    "###\n"
   ]
  },
  {
   "cell_type": "code",
   "execution_count": 92,
   "metadata": {
    "deletable": false,
    "editable": false,
    "nbgrader": {
     "grade": true,
     "grade_id": "global_affine_last_row_entry_3",
     "locked": true,
     "points": 0.25,
     "schema_version": 3,
     "solution": false
    }
   },
   "outputs": [],
   "source": [
    "# test for global_affine_last_row_entry_3\n",
    "assert isinstance(global_affine_last_row[3], tuple)\n",
    "assert len(global_affine_last_row[3]) == 3\n",
    "###\n",
    "### AUTOGRADER TEST - DO NOT REMOVE\n",
    "###\n"
   ]
  },
  {
   "cell_type": "code",
   "execution_count": null,
   "metadata": {},
   "outputs": [],
   "source": []
  }
 ],
 "metadata": {
  "celltoolbar": "Create Assignment",
  "kernelspec": {
   "display_name": "Python 3 [3.10]",
   "language": "python",
   "name": "python3"
  },
  "language_info": {
   "codemirror_mode": {
    "name": "ipython",
    "version": 3
   },
   "file_extension": ".py",
   "mimetype": "text/x-python",
   "name": "python",
   "nbconvert_exporter": "python",
   "pygments_lexer": "ipython3",
   "version": "3.10.2"
  }
 },
 "nbformat": 4,
 "nbformat_minor": 4
}
