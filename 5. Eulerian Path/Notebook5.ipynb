{
 "cells": [
  {
   "cell_type": "markdown",
   "metadata": {
    "deletable": false,
    "editable": false,
    "nbgrader": {
     "grade": false,
     "grade_id": "cell-408adc022ab8411b",
     "locked": true,
     "schema_version": 3,
     "solution": false
    }
   },
   "source": [
    "# Day 5 notebook\n",
    "\n",
    "The objectives of this notebook are to practice\n",
    "\n",
    "* checking if a graph is Eulerian\n",
    "* finding a cycle in a graph\n",
    "* using multiple inheritance in Python"
   ]
  },
  {
   "cell_type": "markdown",
   "metadata": {
    "deletable": false,
    "editable": false,
    "nbgrader": {
     "grade": false,
     "grade_id": "cell-0e3a545d742f4102",
     "locked": true,
     "schema_version": 3,
     "solution": false
    }
   },
   "source": [
    "In this notebook we will work with graph data structures.  Included with this notebook is a graph module (graph.py), which contains the abstract base class `DirectedGraph` and an adjacency list implementation, `AdjacencyListDirectedGraph`, from the Day 4 notebook.  We will use these graph interfaces and implementations throughout."
   ]
  },
  {
   "cell_type": "code",
   "execution_count": 7,
   "metadata": {
    "deletable": false,
    "editable": false,
    "nbgrader": {
     "grade": false,
     "grade_id": "cell-8d1b5c58f8dd1dd5",
     "locked": true,
     "schema_version": 3,
     "solution": false
    }
   },
   "outputs": [],
   "source": [
    "import graph"
   ]
  },
  {
   "cell_type": "markdown",
   "metadata": {
    "deletable": false,
    "editable": false,
    "nbgrader": {
     "grade": false,
     "grade_id": "cell-e190ceacb8703c05",
     "locked": true,
     "schema_version": 3,
     "solution": false
    }
   },
   "source": [
    "### PROBLEM 1: Check if a graph is Eulerian (3 POINTS)\n",
    "First, write a function that takes as input a directed graph (i.e., an object that \"is a\" DirectedGraph), and returns whether the graph is Eulerian or not.  The function should assume that the graph is connected (i.e., there exists a path between every pair of vertices)."
   ]
  },
  {
   "cell_type": "code",
   "execution_count": 8,
   "metadata": {
    "nbgrader": {
     "grade": false,
     "grade_id": "cell-0c90cef2559041cf",
     "locked": false,
     "schema_version": 3,
     "solution": true
    }
   },
   "outputs": [],
   "source": [
    "def is_eulerian(g):\n",
    "    \"\"\"Checks if a directed graph is Eulerian.  Assumes that g is connected.\n",
    "    \n",
    "    Args:\n",
    "        g: a DirectedGraph object\n",
    "    Returns:\n",
    "        True if g is Eulerian, False otherwise.\n",
    "    \"\"\"\n",
    "    ### YOUR CODE HERE\n",
    "    for vertex in range(g.num_vertices()):\n",
    "        if g.outdegree(vertex) != g.indegree(vertex):\n",
    "            return False\n",
    "    return True\n",
    "    "
   ]
  },
  {
   "cell_type": "code",
   "execution_count": 9,
   "metadata": {
    "deletable": false,
    "editable": false,
    "nbgrader": {
     "grade": true,
     "grade_id": "is_eulerian_g1",
     "locked": true,
     "points": 1,
     "schema_version": 3,
     "solution": false
    }
   },
   "outputs": [
    {
     "name": "stdout",
     "output_type": "stream",
     "text": [
      "SUCCESS: is_eulerian g1 test passed!\n"
     ]
    }
   ],
   "source": [
    "# test for is_eulerian g1\n",
    "g1 = graph.AdjacencyListDirectedGraph(4)\n",
    "g1.add_edges([(0, 1), (1, 2), (1, 3), (2, 0), (2, 1), (3, 2)])\n",
    "assert is_eulerian(g1) == True\n",
    "print(\"SUCCESS: is_eulerian g1 test passed!\")"
   ]
  },
  {
   "cell_type": "code",
   "execution_count": 10,
   "metadata": {
    "deletable": false,
    "editable": false,
    "nbgrader": {
     "grade": true,
     "grade_id": "is_eulerian_g2_and_g3",
     "locked": true,
     "points": 1,
     "schema_version": 3,
     "solution": false
    }
   },
   "outputs": [
    {
     "name": "stdout",
     "output_type": "stream",
     "text": [
      "SUCCESS: is_eulerian g2 & g3 tests passed!\n"
     ]
    }
   ],
   "source": [
    "# test for is_eulerian g2 and g3\n",
    "g2 = graph.AdjacencyListDirectedGraph(4)\n",
    "g2.add_edges([(0, 1), (1, 2), (1, 3), (2, 0), (3, 2)])\n",
    "assert is_eulerian(g2) == False\n",
    "g3 = graph.AdjacencyListDirectedGraph(4)\n",
    "g3.add_edges([(0, 1), (1, 2), (1, 3), (2, 1), (3, 2)])\n",
    "assert is_eulerian(g3) == False\n",
    "print(\"SUCCESS: is_eulerian g2 & g3 tests passed!\")"
   ]
  },
  {
   "cell_type": "code",
   "execution_count": 11,
   "metadata": {
    "deletable": false,
    "editable": false,
    "nbgrader": {
     "grade": true,
     "grade_id": "is_eulerian_g4_and_g5",
     "locked": true,
     "points": 1,
     "schema_version": 3,
     "solution": false
    }
   },
   "outputs": [
    {
     "name": "stdout",
     "output_type": "stream",
     "text": [
      "SUCCESS: is_eulerian g4 & g5 tests passed!\n"
     ]
    }
   ],
   "source": [
    "# test for is_eulerian g4 and g5\n",
    "g4 = graph.AdjacencyListDirectedGraph(2)\n",
    "g4.add_edges([(0, 0), (0, 1), (1, 1), (1, 0)])\n",
    "g5 = graph.AdjacencyListDirectedGraph(1)\n",
    "g5.add_edges([(0, 0)])\n",
    "assert is_eulerian(g4) == True\n",
    "assert is_eulerian(g5) == True\n",
    "print(\"SUCCESS: is_eulerian g4 & g5 tests passed!\")"
   ]
  },
  {
   "cell_type": "markdown",
   "metadata": {
    "deletable": false,
    "editable": false,
    "nbgrader": {
     "grade": false,
     "grade_id": "cell-6b3055cd402d8e90",
     "locked": true,
     "schema_version": 3,
     "solution": false
    }
   },
   "source": [
    "### PROBLEM 2: Finding a cycle in an Eulerian graph (3 POINTS)\n",
    "Next, write a function that takes as input an Eulerian directed graph and a designated start vertex, and returns a cycle in the graph that starts and ends at the designated vertex and does not use any edge more than once.  Note that this does **not** need to be an Eulerian cycle (which would traverse *all* edges).  Essentially, this function is tracing out the *first* cycle that would be found during the Eulerian cycle algorithm discussed in the online lecture.\n",
    "\n",
    "I encourage you to use the simple algorithm described in lecture, which is simply to traverse unused edges until you return to the start vertex.  You may find it useful to use a [`set`](https://docs.python.org/3/library/stdtypes.html#set-types-set-frozenset) object to keep track of edges that you have already used.\n",
    "\n",
    "We will represent paths by lists of vertex indices.  For example, we will represent the path (cycle) $1 \\rightarrow 3 \\rightarrow 4 \\rightarrow 1$ as the list:"
   ]
  },
  {
   "cell_type": "code",
   "execution_count": 12,
   "metadata": {},
   "outputs": [
    {
     "data": {
      "text/plain": [
       "[1, 3, 4, 1]"
      ]
     },
     "execution_count": 12,
     "metadata": {},
     "output_type": "execute_result"
    }
   ],
   "source": [
    "[1, 3, 4, 1]"
   ]
  },
  {
   "cell_type": "code",
   "execution_count": 17,
   "metadata": {
    "nbgrader": {
     "grade": false,
     "grade_id": "cell-164341968a3fdb63",
     "locked": false,
     "schema_version": 3,
     "solution": true
    }
   },
   "outputs": [],
   "source": [
    "def find_cycle_in_eulerian_graph(g, start_vertex):\n",
    "    \"\"\"Finds an arbitrary cycle starting at a given vertex in a directed graph.\n",
    "    Assumes that the graph is Eulerian, and thus that such a cycle exists.\"\n",
    "    \n",
    "    Args:\n",
    "        g: a DirectedGraph object\n",
    "        start_vertex: the index of the vertex from which the cycle should start\n",
    "    Returns:\n",
    "        A cycle represented by a list of indices of the vertices traversed, in order, by the cycle.  \n",
    "        The first and last entries of the list will be identical and equal to start_vertex.\n",
    "    \"\"\"\n",
    "    ### YOUR CODE HERE\n",
    "    cycle = [start_vertex]\n",
    "    used_edges = set()\n",
    "\n",
    "    while cycle[-1] != start_vertex or len(cycle) == 1:\n",
    "        for edge in g.out_edges(cycle[-1]):\n",
    "            if edge not in used_edges:\n",
    "                used_edges.add(edge)\n",
    "                cycle.append(edge[1])\n",
    "                break\n",
    "    \n",
    "    return cycle\n",
    "    \n",
    "    \n"
   ]
  },
  {
   "cell_type": "code",
   "execution_count": 18,
   "metadata": {
    "deletable": false,
    "editable": false,
    "nbgrader": {
     "grade": true,
     "grade_id": "find_cycle_in_eulerian_graph_g1",
     "locked": true,
     "points": 1,
     "schema_version": 3,
     "solution": false
    }
   },
   "outputs": [
    {
     "name": "stdout",
     "output_type": "stream",
     "text": [
      "SUCCESS: find_cycle_in_eulerian_graph g1 test passed!\n"
     ]
    }
   ],
   "source": [
    "# test for find_cycle_in_eulerian_graph g1\n",
    "def is_cycle(g, path, vertex):\n",
    "    \"\"\"Returns True if path is a cycle in g that starts and ends with vertex.\"\"\"\n",
    "    # check for cyclical path with given start/end vertex\n",
    "    if len(path) < 2 or path[0] != vertex or path[-1] != vertex:\n",
    "        return False\n",
    "    # check for distinct edges\n",
    "    path_edges = set(zip(path[:-1], path[1:]))    \n",
    "    if len(path_edges) != len(path) - 1:\n",
    "        return False\n",
    "    # check for existence of edges\n",
    "    for i, j in path_edges:\n",
    "        if not g.has_edge(i, j):\n",
    "            return False\n",
    "    return True\n",
    "\n",
    "g1 = graph.AdjacencyListDirectedGraph(4)\n",
    "g1.add_edges([(0, 1), (1, 2), (1, 3), (2, 0), (2, 1), (3, 2)])\n",
    "assert is_cycle(g1, find_cycle_in_eulerian_graph(g1, 0), 0)\n",
    "assert is_cycle(g1, find_cycle_in_eulerian_graph(g1, 3), 3)\n",
    "print(\"SUCCESS: find_cycle_in_eulerian_graph g1 test passed!\")"
   ]
  },
  {
   "cell_type": "code",
   "execution_count": 19,
   "metadata": {
    "deletable": false,
    "editable": false,
    "nbgrader": {
     "grade": true,
     "grade_id": "find_cycle_in_eulerian_graph_g4",
     "locked": true,
     "points": 1,
     "schema_version": 3,
     "solution": false
    }
   },
   "outputs": [
    {
     "name": "stdout",
     "output_type": "stream",
     "text": [
      "SUCCESS: find_cycle_in_eulerian_graph g4 test passed!\n"
     ]
    }
   ],
   "source": [
    "# test for find_cycle_in_eulerian_graph g4\n",
    "g4 = graph.AdjacencyListDirectedGraph(2)\n",
    "g4.add_edges([(0, 0), (0, 1), (1, 1), (1, 0)])\n",
    "assert is_cycle(g4, find_cycle_in_eulerian_graph(g4, 0), 0)\n",
    "assert is_cycle(g4, find_cycle_in_eulerian_graph(g4, 1), 1)\n",
    "print(\"SUCCESS: find_cycle_in_eulerian_graph g4 test passed!\")"
   ]
  },
  {
   "cell_type": "code",
   "execution_count": 20,
   "metadata": {
    "deletable": false,
    "editable": false,
    "nbgrader": {
     "grade": true,
     "grade_id": "find_cycle_in_eulerian_graph_g6",
     "locked": true,
     "points": 1,
     "schema_version": 3,
     "solution": false
    }
   },
   "outputs": [
    {
     "name": "stdout",
     "output_type": "stream",
     "text": [
      "SUCCESS: find_cycle_in_eulerian_graph g6 test passed!\n"
     ]
    }
   ],
   "source": [
    "# test for find_cycle_in_eulerian_graph g6\n",
    "g6 = graph.AdjacencyListDirectedGraph(4)\n",
    "g6.add_edges([(0, 1), (0, 2), (0, 3),\n",
    "              (1, 0), (1, 2), (1, 3),\n",
    "              (2, 0), (2, 1), (2, 3),\n",
    "              (3, 0), (3, 1), (3, 2)])\n",
    "assert is_cycle(g6, find_cycle_in_eulerian_graph(g6, 3), 3)\n",
    "assert is_cycle(g6, find_cycle_in_eulerian_graph(g6, 0), 0)\n",
    "print(\"SUCCESS: find_cycle_in_eulerian_graph g6 test passed!\")"
   ]
  },
  {
   "cell_type": "markdown",
   "metadata": {
    "deletable": false,
    "editable": false,
    "nbgrader": {
     "grade": false,
     "grade_id": "cell-225ba51587f465ab",
     "locked": true,
     "schema_version": 3,
     "solution": false
    }
   },
   "source": [
    "## Adding edge weights and vertex labels to graphs via \"mixin\" classes\n",
    "In the Day 4 notebook, we saw how we could implement a graph data structure via Python classes and use inheritance to provide multiple alternative implementations.  Here, we will see how to easily add other features to graphs with \"mixin\" classes.  For example, we may want to allow edges to have weights and for vertices to have labels (e.g., read strings for overlap graphs)."
   ]
  },
  {
   "cell_type": "markdown",
   "metadata": {
    "deletable": false,
    "editable": false,
    "nbgrader": {
     "grade": false,
     "grade_id": "cell-adebea09c03d9d50",
     "locked": true,
     "schema_version": 3,
     "solution": false
    }
   },
   "source": [
    "Below is a \"mixin\" class `VertexLabeledDirectedGraph`, which allows you to \"mix in\" the feature of vertices having labels, with any particular implementation of a directed graph.  This eliminates the need to make vertex labeled versions of every possible graph implementation ahead of time.  Take a look at how `VertexLabeledDirectedGraph` is implemented."
   ]
  },
  {
   "cell_type": "code",
   "execution_count": 21,
   "metadata": {
    "deletable": false,
    "editable": false,
    "nbgrader": {
     "grade": false,
     "grade_id": "cell-20549661e2aa1020",
     "locked": true,
     "schema_version": 3,
     "solution": false
    }
   },
   "outputs": [],
   "source": [
    "class VertexLabeledDirectedGraph(graph.DirectedGraph):\n",
    "    \"\"\"A mixin class that allows for vertices in a directed graph to have labels.\"\"\"\n",
    "    \n",
    "    def __init__(self, num_vertices):\n",
    "        # call the next constructor in Python's Method Resolution Order\n",
    "        super().__init__(num_vertices)\n",
    "        self._vertex_labels = [None] * num_vertices\n",
    "\n",
    "    def set_vertex_label(self, i, label):\n",
    "        \"\"\"Adds a label to vertex i.\"\"\"\n",
    "        self._vertex_labels[i] = label\n",
    "       \n",
    "    def vertex_label(self, i):\n",
    "        \"\"\"Returns the label of vertex i or None if it is not assigned a label\"\"\"\n",
    "        return self._vertex_labels[i]"
   ]
  },
  {
   "cell_type": "markdown",
   "metadata": {
    "deletable": false,
    "editable": false,
    "nbgrader": {
     "grade": false,
     "grade_id": "cell-db9912a5d2f326fd",
     "locked": true,
     "schema_version": 3,
     "solution": false
    }
   },
   "source": [
    "Below is how we would use this \"mix in\" class to add vertex labels to the adjacency list implementation of directed graphs."
   ]
  },
  {
   "cell_type": "code",
   "execution_count": 22,
   "metadata": {
    "deletable": false,
    "editable": false,
    "nbgrader": {
     "grade": false,
     "grade_id": "cell-6facc26e582cd0be",
     "locked": true,
     "schema_version": 3,
     "solution": false
    }
   },
   "outputs": [],
   "source": [
    "# To \"mix\", simply inherit from multiple classes!\n",
    "class VertexLabeledALDirectedGraph(graph.AdjacencyListDirectedGraph, VertexLabeledDirectedGraph):\n",
    "    pass"
   ]
  },
  {
   "cell_type": "markdown",
   "metadata": {
    "deletable": false,
    "editable": false,
    "nbgrader": {
     "grade": false,
     "grade_id": "cell-ac469a46c6298c7c",
     "locked": true,
     "schema_version": 3,
     "solution": false
    }
   },
   "source": [
    "And below is an example of how this new mixed class could be used."
   ]
  },
  {
   "cell_type": "code",
   "execution_count": 23,
   "metadata": {
    "deletable": false,
    "editable": false,
    "nbgrader": {
     "grade": false,
     "grade_id": "cell-584618e86219e231",
     "locked": true,
     "schema_version": 3,
     "solution": false
    }
   },
   "outputs": [
    {
     "name": "stdout",
     "output_type": "stream",
     "text": [
      "DirectedGraph with 3 vertices and 2 edge(s):\n",
      "[(0, 2), (1, 2)]\n",
      "The label of vertex 0 is 'the first vertex'\n",
      "The label of vertex 1 is None\n",
      "The label of vertex 2 is 'the third vertex'\n"
     ]
    }
   ],
   "source": [
    "g = VertexLabeledALDirectedGraph(3)\n",
    "g.add_edge(0, 2)\n",
    "g.add_edge(1, 2)\n",
    "g.set_vertex_label(0, \"the first vertex\")\n",
    "g.set_vertex_label(2, \"the third vertex\")\n",
    "print(g)\n",
    "print(\"The label of vertex 0 is\", repr(g.vertex_label(0)))\n",
    "print(\"The label of vertex 1 is\", repr(g.vertex_label(1)))\n",
    "print(\"The label of vertex 2 is\", repr(g.vertex_label(2)))"
   ]
  },
  {
   "cell_type": "markdown",
   "metadata": {
    "deletable": false,
    "editable": false,
    "nbgrader": {
     "grade": false,
     "grade_id": "cell-813b3d9834e59250",
     "locked": true,
     "schema_version": 3,
     "solution": false
    }
   },
   "source": [
    "### PROBLEM 3: Adding functionality for edge weights via a \"mixin\" class (3 POINTS)\n",
    "Now try your hand at defining another mixin class that allows for DirectedGraphs to have edge weights.  Consider using a `dict` to store the weights of edges and take note of the [`get`](https://docs.python.org/3/library/stdtypes.html#dict.get) method of `dict` objects. "
   ]
  },
  {
   "cell_type": "code",
   "execution_count": 24,
   "metadata": {
    "nbgrader": {
     "grade": false,
     "grade_id": "cell-a320042d0dbf8c51",
     "locked": false,
     "schema_version": 3,
     "solution": true
    }
   },
   "outputs": [],
   "source": [
    "class EdgeWeightedDirectedGraph(graph.DirectedGraph):\n",
    "    \"\"\"A mixin class that allows for edges in a directed graph to have weights.\"\"\"\n",
    "    \n",
    "    def __init__(self, num_vertices):\n",
    "        ### YOUR CODE HERE\n",
    "        super().__init__(num_vertices)\n",
    "        self._edge_weights = dict()\n",
    "\n",
    "    def add_weighted_edge(self, i, j, weight):\n",
    "        \"\"\"Adds an edge to the graph with the given weight.\"\"\"        \n",
    "        ### YOUR CODE HERE\n",
    "        self.add_edge(i, j)\n",
    "        self._edge_weights[(i, j)] = weight\n",
    "       \n",
    "    def edge_weight(self, i, j):\n",
    "        \"\"\"Returns the weight of edge (i, j) or None if it is not assigned a weight\"\"\"\n",
    "        ### YOUR CODE HERE\n",
    "        return self._edge_weights.get((i, j), None)\n"
   ]
  },
  {
   "cell_type": "markdown",
   "metadata": {
    "deletable": false,
    "editable": false,
    "nbgrader": {
     "grade": false,
     "grade_id": "cell-0d0c703012c42888",
     "locked": true,
     "schema_version": 3,
     "solution": false
    }
   },
   "source": [
    "We can then use your class to add edge weight functionality to the adjacency list implementation:"
   ]
  },
  {
   "cell_type": "code",
   "execution_count": 25,
   "metadata": {
    "deletable": false,
    "editable": false,
    "nbgrader": {
     "grade": false,
     "grade_id": "cell-6f1d09c8bd46bdc5",
     "locked": true,
     "schema_version": 3,
     "solution": false
    }
   },
   "outputs": [],
   "source": [
    "class EdgeWeightedTSDirectedGraph(graph.AdjacencyListDirectedGraph, EdgeWeightedDirectedGraph):\n",
    "    pass"
   ]
  },
  {
   "cell_type": "markdown",
   "metadata": {
    "deletable": false,
    "editable": false,
    "nbgrader": {
     "grade": false,
     "grade_id": "cell-2b46a4ed2a3617bf",
     "locked": true,
     "schema_version": 3,
     "solution": false
    }
   },
   "source": [
    "Below is some example code that should run using the `EdgeWeightedTSDirectedGraph` class above."
   ]
  },
  {
   "cell_type": "code",
   "execution_count": 26,
   "metadata": {
    "deletable": false,
    "editable": false,
    "nbgrader": {
     "grade": false,
     "grade_id": "cell-9e7504cc27de2a0f",
     "locked": true,
     "schema_version": 3,
     "solution": false
    }
   },
   "outputs": [
    {
     "name": "stdout",
     "output_type": "stream",
     "text": [
      "DirectedGraph with 10 vertices and 3 edge(s):\n",
      "[(1, 2), (2, 4), (6, 1)]\n",
      "Weight of edge (2, 4): 11\n",
      "Weight of edge (6, 1): 9\n",
      "Weight of edge (1, 2): None\n"
     ]
    }
   ],
   "source": [
    "g = EdgeWeightedTSDirectedGraph(10)\n",
    "g.add_weighted_edge(2, 4, 11)\n",
    "g.add_weighted_edge(6, 1, 9)\n",
    "g.add_edge(1, 2) # add unweighted edge\n",
    "print(g)\n",
    "print(\"Weight of edge (2, 4):\", g.edge_weight(2, 4))\n",
    "print(\"Weight of edge (6, 1):\", g.edge_weight(6, 1))\n",
    "print(\"Weight of edge (1, 2):\", g.edge_weight(1, 2))"
   ]
  },
  {
   "cell_type": "code",
   "execution_count": 27,
   "metadata": {
    "deletable": false,
    "editable": false,
    "nbgrader": {
     "grade": true,
     "grade_id": "EdgeWeightedTSDirectedGraph_constructor",
     "locked": true,
     "points": 1,
     "schema_version": 3,
     "solution": false
    }
   },
   "outputs": [
    {
     "name": "stdout",
     "output_type": "stream",
     "text": [
      "SUCCESS: EdgeWeightedTSDirectedGraph constructor passed all tests!\n"
     ]
    }
   ],
   "source": [
    "# tests for EdgeWeightedTSDirectedGraph constructor\n",
    "assert EdgeWeightedTSDirectedGraph.__init__ != graph.DirectedGraph.__init__, \"__init__ not overridden\"\n",
    "test_graph = EdgeWeightedTSDirectedGraph(10)\n",
    "assert str(test_graph) == \"DirectedGraph with 10 vertices and 0 edge(s):\\n[]\"\n",
    "print(\"SUCCESS: EdgeWeightedTSDirectedGraph constructor passed all tests!\")"
   ]
  },
  {
   "cell_type": "code",
   "execution_count": 28,
   "metadata": {
    "deletable": false,
    "editable": false,
    "nbgrader": {
     "grade": true,
     "grade_id": "EdgeWeightedTSDirectedGraph_add_weighted_edge",
     "locked": true,
     "points": 1,
     "schema_version": 3,
     "solution": false
    }
   },
   "outputs": [
    {
     "name": "stdout",
     "output_type": "stream",
     "text": [
      "SUCCESS: EdgeWeightedTSDirectedGraph add_weighted_edge passed all tests!\n"
     ]
    }
   ],
   "source": [
    "# test for EdgeWeightedTSDirectedGraph add_weighted_edge\n",
    "test_graph = EdgeWeightedTSDirectedGraph(10)\n",
    "test_graph.add_weighted_edge(3, 5, 42)\n",
    "assert test_graph.has_edge(3, 5)\n",
    "test_graph.add_weighted_edge(2, 3, 43)\n",
    "assert test_graph.has_edge(2, 3)\n",
    "###\n",
    "### AUTOGRADER TEST - DO NOT REMOVE\n",
    "###\n",
    "print(\"SUCCESS: EdgeWeightedTSDirectedGraph add_weighted_edge passed all tests!\")"
   ]
  },
  {
   "cell_type": "code",
   "execution_count": 29,
   "metadata": {
    "deletable": false,
    "editable": false,
    "nbgrader": {
     "grade": true,
     "grade_id": "EdgeWeightedTSDirectedGraph_edge_weight",
     "locked": true,
     "points": 1,
     "schema_version": 3,
     "solution": false
    }
   },
   "outputs": [
    {
     "name": "stdout",
     "output_type": "stream",
     "text": [
      "SUCCESS: EdgeWeightedTSDirectedGraph add_weighted_edge passed all tests!\n"
     ]
    }
   ],
   "source": [
    "# test for EdgeWeightedTSDirectedGraph edge_weight\n",
    "test_graph = EdgeWeightedTSDirectedGraph(10)\n",
    "test_graph.add_weighted_edge(3, 5, 42)\n",
    "assert test_graph.edge_weight(3, 5) == 42\n",
    "test_graph.add_weighted_edge(2, 3, 43)\n",
    "assert test_graph.edge_weight(2, 3) == 43\n",
    "test_graph.add_edge(1, 2) # We should be able to add an edge without a weight\n",
    "assert test_graph.edge_weight(1, 2) is None\n",
    "###\n",
    "### AUTOGRADER TEST - DO NOT REMOVE\n",
    "###\n",
    "print(\"SUCCESS: EdgeWeightedTSDirectedGraph add_weighted_edge passed all tests!\")"
   ]
  },
  {
   "cell_type": "code",
   "execution_count": null,
   "metadata": {},
   "outputs": [],
   "source": []
  }
 ],
 "metadata": {
  "celltoolbar": "Create Assignment",
  "kernelspec": {
   "display_name": "Python 3 [3.10]",
   "language": "python",
   "name": "python3"
  },
  "language_info": {
   "codemirror_mode": {
    "name": "ipython",
    "version": 3
   },
   "file_extension": ".py",
   "mimetype": "text/x-python",
   "name": "python",
   "nbconvert_exporter": "python",
   "pygments_lexer": "ipython3",
   "version": "3.10.2"
  }
 },
 "nbformat": 4,
 "nbformat_minor": 4
}
