{
 "cells": [
  {
   "cell_type": "markdown",
   "metadata": {
    "deletable": false,
    "editable": false,
    "nbgrader": {
     "grade": false,
     "grade_id": "cell-df42c92fa6255e08",
     "locked": true,
     "schema_version": 3,
     "solution": false
    }
   },
   "source": [
    "# Day 3 notebook\n",
    "\n",
    "The objectives of this notebook are to practice\n",
    "* how data are generated from universal DNA arrays\n",
    "* how data are generated from a DNA shotgun sequencing experiment\n",
    "* plotting with matplotlib\n",
    "* raising and handling exceptions"
   ]
  },
  {
   "cell_type": "markdown",
   "metadata": {
    "deletable": false,
    "editable": false,
    "nbgrader": {
     "grade": false,
     "grade_id": "cell-8861246efb034c50",
     "locked": true,
     "schema_version": 3,
     "solution": false
    }
   },
   "source": [
    "## The SARS-CoV-2 virus genome\n",
    "\n",
    "COVID-19 (COronaVIrus Disease 2019) is a disease caused by the virus SARS-CoV-2 (Severe Acute Respiratory Syndrome CoronaVirus 2).  The genome of this virus was first sequenced and assembled in January 2020 from a sample taken from a patient who was a worker at a seafood market in Wuhan, China ([Wu et al. 2020](https://www.nature.com/articles/s41586-020-2008-3)). In this notebook, we will work with the SARS-CoV-2 genome assembly produced by this study.\n",
    "\n",
    "The SARS-CoV-2 virus is a positive-sense single-stranded RNA virus.  This means that its genome is actually an RNA, rather than a DNA, molecule.  It has a genome that is in the \"positive-sense\" orientation, meaning that the mRNAs encoded in the genome are in the same orientation as the genome itself.  After entering a host cell, negative-sense RNA copies (the reverse complement) of the genome are synthesized by an RNA-dependent RNA polymerase (i.e., an RNA to RNA transfer of information, another missing link from the original Central Dogma).  Then, the genome is both replicated and transcribed by RNA synthesis using the negative-sense copies as templates. \n",
    "\n",
    "The genome encodes 11 genes, the locations of which are shown along the genome in the figure below.  Translation of these genes and subsequent cleavage (cutting) of the resulting peptides results in over 30 proteins produced from the genome.  For example, the S gene encodes for the \"spike\" protein, which covers the surface of the virus when it is packaged up into what is called a \"virion.\" \n",
    "\n",
    "![SARS-CoV-2 gene annotation](sarscov2_gene_annotation.png)"
   ]
  },
  {
   "cell_type": "markdown",
   "metadata": {
    "deletable": false,
    "editable": false,
    "nbgrader": {
     "grade": false,
     "grade_id": "cell-26982a5c7e3154a8",
     "locked": true,
     "schema_version": 3,
     "solution": false
    }
   },
   "source": [
    "### Problem 1: Reading from a FASTA file (1 POINT)"
   ]
  },
  {
   "cell_type": "markdown",
   "metadata": {
    "deletable": false,
    "editable": false,
    "nbgrader": {
     "grade": false,
     "grade_id": "cell-408be4437203d9f8",
     "locked": true,
     "schema_version": 3,
     "solution": false
    }
   },
   "source": [
    "The genome assembly that we will work with in this notebook is saved in the file `sarscov2_genome.fasta` and was downloaded from its [Genbank record](https://www.ncbi.nlm.nih.gov/nuccore/NC_045512). Although the virus's genome is an RNA molecule, we will work with it as though it were DNA, as one typically needs to convert from RNA to DNA (via reverse transcription) before using the latest sequencing technologies.  The assembly file is in [FASTA format](https://en.wikipedia.org/wiki/FASTA_format), one of the most common formats for storing biological sequence data.  To save you some time, I have provided you with a `fasta` module that you can use to read in the viral sequence that is in this file.  In the code block below, use one of the functions from the `fasta` module to read in the name and sequence of the SARS-CoV-2 virus genome assembly."
   ]
  },
  {
   "cell_type": "code",
   "execution_count": 4,
   "metadata": {
    "deletable": false,
    "editable": false,
    "nbgrader": {
     "grade": false,
     "grade_id": "cell-e4553d83f64d925d",
     "locked": true,
     "schema_version": 3,
     "solution": false
    }
   },
   "outputs": [
    {
     "name": "stdout",
     "output_type": "stream",
     "text": [
      "Help on function read_sequences_from_fasta_file in module fasta:\n",
      "\n",
      "read_sequences_from_fasta_file(filename)\n",
      "    Reads all sequence records from a FASTA-formatted file.\n",
      "    \n",
      "    Args:\n",
      "        filename: the name of the FASTA-formatted file\n",
      "    Returns:\n",
      "        A list of records, where each record is represented by a tuple (name, sequence)\n",
      "\n"
     ]
    }
   ],
   "source": [
    "import fasta\n",
    "help(fasta.read_sequences_from_fasta_file)"
   ]
  },
  {
   "cell_type": "markdown",
   "metadata": {
    "deletable": false,
    "editable": false,
    "nbgrader": {
     "grade": false,
     "grade_id": "cell-6804adb73cc60ad2",
     "locked": true,
     "schema_version": 3,
     "solution": false
    }
   },
   "source": [
    "Here is an example of the output of the `read_sequences_from_fasta_file` on a small file:"
   ]
  },
  {
   "cell_type": "code",
   "execution_count": 5,
   "metadata": {
    "deletable": false,
    "editable": false,
    "nbgrader": {
     "grade": false,
     "grade_id": "cell-d5239a0ae0b32ab2",
     "locked": true,
     "schema_version": 3,
     "solution": false
    }
   },
   "outputs": [
    {
     "data": {
      "text/plain": [
       "[('first', 'CGATG'), ('second', 'AGCTACGA'), ('third', 'TGA')]"
      ]
     },
     "execution_count": 5,
     "metadata": {},
     "output_type": "execute_result"
    }
   ],
   "source": [
    "fasta.read_sequences_from_fasta_file(\"small_fasta_example.fasta\")"
   ]
  },
  {
   "cell_type": "markdown",
   "metadata": {
    "deletable": false,
    "editable": false,
    "nbgrader": {
     "grade": false,
     "grade_id": "cell-5f69db2e38198fac",
     "locked": true,
     "schema_version": 3,
     "solution": false
    }
   },
   "source": [
    "In the code block below, use the `read_sequences_from_fasta_file` on the SARS-CoV-2 genome FASTA file and assign the name of the viral sequence to the variable `sarscov2_sequence_name`\n",
    "and assign the sequence to the variable `sarscov2_sequence`."
   ]
  },
  {
   "cell_type": "code",
   "execution_count": 6,
   "metadata": {
    "nbgrader": {
     "grade": false,
     "grade_id": "cell-37fea2f77111afb1",
     "locked": false,
     "schema_version": 3,
     "solution": true,
     "task": false
    }
   },
   "outputs": [
    {
     "name": "stdout",
     "output_type": "stream",
     "text": [
      "NC_045512.2 Severe acute respiratory syndrome coronavirus 2 isolate Wuhan-Hu-1, complete genome\n"
     ]
    }
   ],
   "source": [
    "sarscov2_sequence_filename = \"sarscov2_genome.fasta\"\n",
    "### YOUR CODE HERE\n",
    "sarscov2_sequence_name = fasta.read_sequences_from_fasta_file(sarscov2_sequence_filename)[0][0]\n",
    "sarscov2_sequence = fasta.read_sequences_from_fasta_file(sarscov2_sequence_filename)[0][1]\n",
    "print(sarscov2_sequence_name)\n",
    "#return sarscov2_sequence_name[0][1]\n",
    "\n",
    "\n",
    "\n"
   ]
  },
  {
   "cell_type": "code",
   "execution_count": 7,
   "metadata": {
    "deletable": false,
    "editable": false,
    "nbgrader": {
     "grade": true,
     "grade_id": "reading_sarscov2_fasta",
     "locked": true,
     "points": 1,
     "schema_version": 3,
     "solution": false
    }
   },
   "outputs": [
    {
     "name": "stdout",
     "output_type": "stream",
     "text": [
      "SUCCESS: reading in the sarscov2 sequence from a FASTA file passed all tests!\n"
     ]
    }
   ],
   "source": [
    "# tests for reading in the sarscov2 sequence from a FASTA file\n",
    "assert isinstance(sarscov2_sequence_name, str) and len(sarscov2_sequence_name) == 95, \"Failed to assign sarscov2_sequence_name\"\n",
    "assert isinstance(sarscov2_sequence, str) and len(sarscov2_sequence) == 29903, \"Failed to assign sarscov2_sequence\"\n",
    "print(\"SUCCESS: reading in the sarscov2 sequence from a FASTA file passed all tests!\")"
   ]
  },
  {
   "cell_type": "markdown",
   "metadata": {
    "deletable": false,
    "editable": false,
    "nbgrader": {
     "grade": false,
     "grade_id": "cell-d561b4fed59b8f4f",
     "locked": true,
     "schema_version": 3,
     "solution": false
    }
   },
   "source": [
    "## Simulating universal DNA array data\n",
    "\n",
    "We will start by generating the sort of data that one would hope to get from a universal DNA array.  Recall that a universal DNA array gives you information about the presence or absence of each possible DNA \"$k$-mer\", which is a DNA substring of length $k$, within your sample of DNA.  Here, we will assume that we have universal DNA arrays that give us perfect error-free data.  In practice, such arrays are far from perfect, and are no longer used for sequencing purposes.  However, the type of data they generate is useful to think about from a computational perspective."
   ]
  },
  {
   "cell_type": "markdown",
   "metadata": {
    "deletable": false,
    "editable": false,
    "nbgrader": {
     "grade": false,
     "grade_id": "cell-f3eff4e3ee6d94b5",
     "locked": true,
     "schema_version": 3,
     "solution": false
    }
   },
   "source": [
    "### Problem 2: $k$-mer spectrum of a DNA sequence (1 POINT)\n",
    "\n",
    "Write a function `kmer_spectrum` below that takes as input a DNA sequence and a length $k$ and returns a `set` object representing the non-redundant set of $k$-mers within the input sequence, which we will refer to as its \"$k$-mer spectrum\".  This is an idealized form of the data that a universal DNA array would give us.  For simplicity, in this activity we will treat a DNA sequence as a *single-stranded molecule*.  In practice, one would have to handle the fact that DNA is double-stranded.  You may want to get familiar with how to work with Python [`set`](https://docs.python.org/3/library/stdtypes.html#set) objects."
   ]
  },
  {
   "cell_type": "code",
   "execution_count": 8,
   "metadata": {
    "nbgrader": {
     "grade": false,
     "grade_id": "cell-507133c1f21b38b0",
     "locked": false,
     "schema_version": 3,
     "solution": true,
     "task": false
    }
   },
   "outputs": [],
   "source": [
    "def kmer_spectrum(dna_sequence, k):\n",
    "    \"\"\"Gives the k-mer spectrum of a DNA sequence.\n",
    "    \n",
    "    Args:\n",
    "        dna_sequence: a DNA sequence\n",
    "        k: an integer length\n",
    "    Returns:\n",
    "        A set object containing all unique k-mers within dna_sequence\n",
    "    \"\"\"\n",
    "    \n",
    "    ### YOUR CODE HERE\n",
    "    array = []\n",
    "    for x in range(0, len(dna_sequence), 1):\n",
    "        if len(dna_sequence[x:x+k]) == k:\n",
    "            array.append(dna_sequence[x:x+k])\n",
    "        \n",
    "    #print(array)\n",
    "    return set(array)\n",
    "    \n",
    "    \n",
    "    \n"
   ]
  },
  {
   "cell_type": "code",
   "execution_count": 9,
   "metadata": {
    "deletable": false,
    "editable": false,
    "nbgrader": {
     "grade": true,
     "grade_id": "kmer_spectrum",
     "locked": true,
     "points": 1,
     "schema_version": 3,
     "solution": false
    },
    "scrolled": true
   },
   "outputs": [
    {
     "name": "stdout",
     "output_type": "stream",
     "text": [
      "SUCCESS: kmer_spectrum passed all tests!\n"
     ]
    }
   ],
   "source": [
    "# tests for kmer_spectrum\n",
    "assert kmer_spectrum(\"ACGTCGA\", 3) == {'ACG', 'CGA', 'CGT', 'GTC', 'TCG'}\n",
    "assert kmer_spectrum(\"TCTATCT\", 3) == {'ATC', 'CTA', 'TAT', 'TCT'}\n",
    "assert kmer_spectrum(\"ACGTCGA\", 2) == {'AC', 'CG', 'GA', 'GT', 'TC'}\n",
    "assert kmer_spectrum(\"AAAAAAA\", 2) == {'AA'}\n",
    "assert kmer_spectrum(\"T\", 3) == set()\n",
    "print(\"SUCCESS: kmer_spectrum passed all tests!\")"
   ]
  },
  {
   "cell_type": "markdown",
   "metadata": {
    "deletable": false,
    "editable": false,
    "nbgrader": {
     "grade": false,
     "grade_id": "cell-f729e145c2a1eb58",
     "locked": true,
     "schema_version": 3,
     "solution": false
    }
   },
   "source": [
    "### Problem 3: $k$-mer spectrum of the SARS-CoV-2 genome sequence (1 POINT)\n",
    "\n",
    "Use your `kmer_spectrum` function to compute the spectrum for the SARS-CoV-2 genome sequence for $k = 1, 2, \\ldots, 35$.  Assign to the variable `sarscov2_spectrum_sizes` a *list* of the *sizes* (number of elements) of these spectra."
   ]
  },
  {
   "cell_type": "code",
   "execution_count": 10,
   "metadata": {
    "nbgrader": {
     "grade": false,
     "grade_id": "cell-6cd668789ed4105b",
     "locked": false,
     "schema_version": 3,
     "solution": true,
     "task": false
    }
   },
   "outputs": [
    {
     "name": "stdout",
     "output_type": "stream",
     "text": [
      "35\n",
      "4\n"
     ]
    }
   ],
   "source": [
    "sarscov2_sequence_filename = \"sarscov2_genome.fasta\"\n",
    "##\n",
    "k_values = range(1, 36)\n",
    "### YOUR CODE HERE\n",
    "sarscov2_spectrum_sizes = []\n",
    "for x in k_values:\n",
    "    sarscov2_spectrum_sizes.append(len(kmer_spectrum(fasta.read_sequences_from_fasta_file(sarscov2_sequence_filename)[0][1], x)))\n",
    "\n",
    "print(len(sarscov2_spectrum_sizes))\n",
    "print(sarscov2_spectrum_sizes[0])\n",
    "#return sarscov2_spectrum_sizes\n",
    "\n",
    "\n"
   ]
  },
  {
   "cell_type": "code",
   "execution_count": 11,
   "metadata": {
    "deletable": false,
    "editable": false,
    "nbgrader": {
     "grade": true,
     "grade_id": "sarscov2_spectrum_sizes",
     "locked": true,
     "points": 1,
     "schema_version": 3,
     "solution": false
    }
   },
   "outputs": [
    {
     "name": "stdout",
     "output_type": "stream",
     "text": [
      "SUCCESS: sarscov2_spectrum_sizes passed all tests!\n"
     ]
    }
   ],
   "source": [
    "# tests for sarscov2_spectrum_sizes\n",
    "assert len(sarscov2_spectrum_sizes) == 35, \"Failed required size\"\n",
    "assert sarscov2_spectrum_sizes[0] == 4, \"Failed on value of first entry\"\n",
    "###\n",
    "### AUTOGRADER TEST - DO NOT REMOVE\n",
    "###\n",
    "print(\"SUCCESS: sarscov2_spectrum_sizes passed all tests!\")"
   ]
  },
  {
   "cell_type": "markdown",
   "metadata": {
    "deletable": false,
    "editable": false,
    "nbgrader": {
     "grade": false,
     "grade_id": "cell-5bf2c754ee1f171a",
     "locked": true,
     "schema_version": 3,
     "solution": false
    }
   },
   "source": [
    "Next let us make a plot of the size of the SARS-CoV-2 spectra vs. $k$.  To do this, we will use the Python package [`matplotlib`](https://matplotlib.org/).  For simplicity, we will use the Pyplot interface of this package.  I encourage you to read through the [Pyplot tutorial](https://matplotlib.org/stable/tutorials/pyplot.html)."
   ]
  },
  {
   "cell_type": "code",
   "execution_count": 51,
   "metadata": {
    "deletable": false,
    "editable": false,
    "nbgrader": {
     "grade": false,
     "grade_id": "cell-1c4edf62e259edf1",
     "locked": true,
     "schema_version": 3,
     "solution": false
    }
   },
   "outputs": [
    {
     "name": "stderr",
     "output_type": "stream",
     "text": [
      "Matplotlib is building the font cache; this may take a moment.\n"
     ]
    },
    {
     "data": {
      "image/png": "[encoded data removed]",
      "text/plain": [
       "<Figure size 576x360 with 1 Axes>"
      ]
     },
     "metadata": {
      "needs_background": "light"
     },
     "output_type": "display_data"
    }
   ],
   "source": [
    "import matplotlib.pyplot as plt\n",
    "plt.figure(figsize = (8, 5))\n",
    "plt.plot(k_values, sarscov2_spectrum_sizes, 'o')\n",
    "plt.xlabel('k')\n",
    "plt.ylabel('# of distinct k-mers in SARS-CoV-2 genome')\n",
    "plt.show()"
   ]
  },
  {
   "cell_type": "markdown",
   "metadata": {
    "deletable": false,
    "editable": false,
    "nbgrader": {
     "grade": false,
     "grade_id": "cell-1e7f0b9675270a79",
     "locked": true,
     "schema_version": 3,
     "solution": false,
     "task": false
    }
   },
   "source": [
    "Examine the plot above.  \n",
    "* Why does it have this shape?\n",
    "* For which value of $k$ are all $k$-mers in the SARS-CoV-2 genome unique?  \n",
    "* Is this value of $k$ surprising?\n",
    "Talk with your neighbors and write your thoughts about these questions below."
   ]
  },
  {
   "cell_type": "markdown",
   "metadata": {},
   "source": [
    "###\n",
    "### your thoughts here\n",
    "###\n"
   ]
  },
  {
   "cell_type": "code",
   "execution_count": null,
   "metadata": {},
   "outputs": [],
   "source": []
  },
  {
   "cell_type": "markdown",
   "metadata": {
    "deletable": false,
    "editable": false,
    "nbgrader": {
     "grade": false,
     "grade_id": "cell-f18282fee77f97d2",
     "locked": true,
     "schema_version": 3,
     "solution": false
    }
   },
   "source": [
    "## Simulating reads from a DNA shotgun sequencing experiment\n",
    "\n",
    "Recall that a DNA shotgun sequencing experiment involves three steps to generate read data:\n",
    "1. Fragmentation of many identical copies of the DNA of interest.\n",
    "2. Random sampling of a subset of the resulting DNA fragments.\n",
    "3. Sequencing a read of limited length from one end from each of the sampled fragments.\n",
    "\n",
    "We will write functions to model each aspect of this process and then put them all together to simulate a set of reads from a DNA shotgun sequencing experiment."
   ]
  },
  {
   "cell_type": "markdown",
   "metadata": {
    "deletable": false,
    "editable": false,
    "nbgrader": {
     "grade": false,
     "grade_id": "cell-af5cf55c040d3c72",
     "locked": true,
     "schema_version": 3,
     "solution": false
    }
   },
   "source": [
    "### PROBLEM 4 - Fragmentation simulation (1 POINT)\n",
    "\n",
    "We will first model the fragmentation of the DNA sequence, for which we have a very large number of identical copies.  Each copy of the DNA will be fragmented randomly, likely resulting in a unique fragmentation pattern for each DNA molecule.  Fragmentation is a complex process to model, however, for the purposes of this activity, we will simulate it in a very simple manner, by choosing `k` distinct positions along a given DNA molecule at which to cut the molecule.  Each cut position will be chosen randomly and uniformly across the entire DNA molecule.  We will specify the cut position by the index (0-based) of the base to the *right* of the cut.\n",
    "\n",
    "We will break this task into two functions: `random_cuts`, which determines a random set of `k` positions at which to cut a DNA molecule and `fragment_dna`, which will call `random_cuts` and then return the set of fragment intervals resulting from those cuts."
   ]
  },
  {
   "cell_type": "markdown",
   "metadata": {},
   "source": [
    "#### random_cuts\n",
    "\n",
    "Write a function that takes as input the length of the DNA sequence that is to be fragmented and the number of positions, `k`, at which to cut the DNA, and returns a random set of `k` distinct cut positions, in sorted order.  A cut position `i` is interpreted as a cut that occurs immediately after the $i$th base of the sequence (1-based coordinates).  Note that the ends of the DNA sequence are not valid cut points, as the sequence is effectively already cut at those positions.\n",
    "\n",
    "To generate random cut points, you will use the pseudorandom number generating functionality provided by Python's [random module](https://docs.python.org/3/library/random.html).  For the purposes of being to able to test your code, you will need to use **a single call** of the [`random.sample`](https://docs.python.org/3/library/random.html#random.sample) function to randomly generate all of the cut points simultaneously within your function"
   ]
  },
  {
   "cell_type": "code",
   "execution_count": 19,
   "metadata": {},
   "outputs": [],
   "source": [
    "import random\n",
    "def random_cuts(length, k):\n",
    "    \"\"\"Generates a random set of k distinct cut positions along a DNA sequence of a given length.\n",
    "    \n",
    "    Args:\n",
    "        length: an integer specifying the length of the sequence\n",
    "        k: the number of distinct cut positions\n",
    "    Returns:\n",
    "        A sorted list of k integers, representing the cut positions, with a cut position i representing\n",
    "        a cut immediately after the ith base of the sequence.\n",
    "    \"\"\"\n",
    "    ### YOUR CODE HERE\n",
    "    \n",
    "    randomAarray = random.sample(range(1,length), k)\n",
    "    return sorted(randomAarray)\n"
   ]
  },
  {
   "cell_type": "code",
   "execution_count": 20,
   "metadata": {
    "deletable": false,
    "editable": false,
    "nbgrader": {
     "grade": true,
     "grade_id": "random_cuts",
     "locked": true,
     "points": 1,
     "schema_version": 3,
     "solution": false,
     "task": false
    }
   },
   "outputs": [
    {
     "name": "stdout",
     "output_type": "stream",
     "text": [
      "SUCCESS: random_cuts passed all tests!\n"
     ]
    }
   ],
   "source": [
    "# tests for random_cuts\n",
    "# We will use the seed function to reset the pseudorandom number generator to a specific state\n",
    "# so that we can test inputs with known outputs\n",
    "def random_cuts_with_seed(length, k, seed):\n",
    "    random.seed(seed)\n",
    "    return random_cuts(length, k)\n",
    "assert random_cuts_with_seed(100, 3, 42) == [4, 15, 82], \"Failed on 100, 3 (seed 42)\"\n",
    "assert random_cuts_with_seed(100, 2, 43) == [5, 37], \"Failed on 100, 2 (seed 43)\"\n",
    "assert random_cuts_with_seed(100, 1, 44) == [53], \"Failed on 100, 1 (seed 44)\"\n",
    "assert random_cuts_with_seed(100, 0, 45) == [], \"Failed on 100, 0 (seed 45)\"\n",
    "assert random_cuts_with_seed(5, 4, 46) == [1, 2, 3, 4], \"Failed on 5, 4 (seed 46)\"\n",
    "print(\"SUCCESS: random_cuts passed all tests!\")"
   ]
  },
  {
   "cell_type": "markdown",
   "metadata": {},
   "source": [
    "#### fragment_dna\n",
    "\n",
    "Write a function that takes as input the length of the DNA sequence that is to be fragmented and the number of positions, `k`, at which to cut the DNA, and returns a *sorted* list of the intervals of the resulting DNA fragments.  Each interval should be specified by a tuple, of the form `(start, end)`, which will represent the fragment of DNA beginning at `start` (0-based coordinates) and spanning up to, **but not including**, `end` (another way to think about it is that these are the indices that you would use to slice the Python string to obtain the fragment's sequence).  This function will call `random_cuts` exactly once to obtain the cut positions, and this is call is already included in the code template below."
   ]
  },
  {
   "cell_type": "code",
   "execution_count": 23,
   "metadata": {
    "nbgrader": {
     "grade": false,
     "grade_id": "cell-f4da142bcc0bf1f3",
     "locked": false,
     "schema_version": 3,
     "solution": true,
     "task": false
    }
   },
   "outputs": [],
   "source": [
    "def fragment_dna(length, k):\n",
    "    \"\"\"Randomly cuts a sequence of a given length into k fragments.\n",
    "    \n",
    "    Args:\n",
    "        length: an integer specifying the length of the sequence\n",
    "        k: the number of fragments that should result from random cuts\n",
    "    Returns:\n",
    "        A sorted list of fragment intervals, where each interval\n",
    "        is specified as a tuple (start, end).  For each interval, \n",
    "        the coordinates are 0-based and the end coordinate is \n",
    "        *not* included in the fragment.\n",
    "    \"\"\"\n",
    "    cut_positions = random_cuts(length, k)\n",
    "    ### YOUR CODE HERE\n",
    "    cut_positions = [0] + cut_positions\n",
    "    cut_positions.append(length)\n",
    "    arr = []\n",
    "    for x in range(len(cut_positions)-1):\n",
    "        arr.append((cut_positions[x],cut_positions[x+1]))\n",
    "    return arr\n"
   ]
  },
  {
   "cell_type": "code",
   "execution_count": 24,
   "metadata": {
    "deletable": false,
    "editable": false,
    "nbgrader": {
     "grade": true,
     "grade_id": "fragment_dna",
     "locked": true,
     "points": 1,
     "schema_version": 3,
     "solution": false
    }
   },
   "outputs": [
    {
     "name": "stdout",
     "output_type": "stream",
     "text": [
      "SUCCESS: fragment_dna passed all tests!\n"
     ]
    }
   ],
   "source": [
    "# tests for fragment_dna\n",
    "# We will use the seed function to reset the pseudorandom number generator to a specific state\n",
    "# so that we can test inputs with known outputs\n",
    "def fragment_dna_with_seed(length, k, seed):\n",
    "    random.seed(seed)\n",
    "    return fragment_dna(length, k)\n",
    "assert fragment_dna_with_seed(100, 3, 42) == [(0, 4), (4, 15), (15, 82), (82, 100)], \"Failed on 100, 3 (seed 42)\"\n",
    "assert fragment_dna_with_seed(100, 2, 43) == [(0, 5), (5, 37), (37, 100)], \"Failed on 100, 2 (seed 43)\"\n",
    "assert fragment_dna_with_seed(100, 1, 44) == [(0, 53), (53, 100)], \"Failed on 100, 3 (seed 44)\"\n",
    "assert fragment_dna_with_seed(100, 0, 45) == [(0, 100)], \"Failed on 100, 3 (seed 45)\"\n",
    "assert fragment_dna_with_seed(5, 4, 46) == [(0, 1), (1, 2), (2, 3), (3, 4), (4, 5)], \"Failed on 5, 4 (seed 46)\"\n",
    "print(\"SUCCESS: fragment_dna passed all tests!\")"
   ]
  },
  {
   "cell_type": "markdown",
   "metadata": {
    "deletable": false,
    "editable": false,
    "nbgrader": {
     "grade": false,
     "grade_id": "cell-1d6232853fcc690b",
     "locked": true,
     "schema_version": 3,
     "solution": false
    }
   },
   "source": [
    "For your convenience, below is a function that will fragment multiple copies of a genome of a given length and return a list with all fragment intervals combined and sorted."
   ]
  },
  {
   "cell_type": "code",
   "execution_count": 25,
   "metadata": {
    "deletable": false,
    "editable": false,
    "nbgrader": {
     "grade": false,
     "grade_id": "cell-db91be85cdbc4ad1",
     "locked": true,
     "schema_version": 3,
     "solution": false,
     "task": false
    }
   },
   "outputs": [],
   "source": [
    "def fragment_multiple_dna_copies(length, k, num_copies):\n",
    "    \"\"\"Randomly cuts multiple sequences of a given length, each sequence\n",
    "    cut into k fragments.\n",
    "    \n",
    "    Args:\n",
    "        length: an integer specifying the length of each sequence\n",
    "        k: the number of fragments that should result from each sequence\n",
    "        num_copies: the number of sequences\n",
    "    Returns:\n",
    "        A sorted list of fragment intervals from all sequences, where intervals\n",
    "        are represented in the same way as for the fragment_dna function.\n",
    "    \"\"\"\n",
    "     \n",
    "    intervals = []\n",
    "    for i in range(num_copies):\n",
    "        intervals.extend(fragment_dna(length, k))\n",
    "    return sorted(intervals)"
   ]
  },
  {
   "cell_type": "markdown",
   "metadata": {
    "deletable": false,
    "editable": false,
    "nbgrader": {
     "grade": false,
     "grade_id": "cell-982e182562e53813",
     "locked": true,
     "schema_version": 3,
     "solution": false
    }
   },
   "source": [
    "### PROBLEM 5 - Filtering fragments (1 POINT)\n",
    "\n",
    "We will next model the random sampling of a set of fragments to be sequenced by our sequencing technology of choice.  Typically, only fragments longer than a certain minimum length will be sequenceable, so we will first filter the set of possible fragments by length before selecting a subset.\n",
    "\n",
    "Let us first write a function that filters fragments by length.  This function should take a list of fragment intervals (as would be produced by `fragment_multiple_dna_copies`) and a minimum length and returns a *new* list that contains only those intervals whose lengths are at least the minimum, in the same order as they appeared in the input list.\n",
    "\n",
    "You might consider using a [list comprehension](https://docs.python.org/3/tutorial/datastructures.html#list-comprehensions) with an `if` clause for this purpose.  Alternatively, you might consider using the [`filter`](https://docs.python.org/3/library/functions.html#filter) higher-order function with a [`lambda`](https://docs.python.org/3/tutorial/controlflow.html#lambda-expressions) expression.  For example, the following expressions both select the odd elements of a list of integers:"
   ]
  },
  {
   "cell_type": "code",
   "execution_count": null,
   "metadata": {},
   "outputs": [],
   "source": [
    "sample_integers = range(20)\n",
    "odd_only = [x for x in sample_integers if x % 2 == 1]\n",
    "# OR\n",
    "odd_only = list(filter(lambda x: x % 2 == 1, sample_integers))"
   ]
  },
  {
   "cell_type": "code",
   "execution_count": 31,
   "metadata": {
    "nbgrader": {
     "grade": false,
     "grade_id": "cell-c5f2c60fa8b4fad5",
     "locked": false,
     "schema_version": 3,
     "solution": true,
     "task": false
    }
   },
   "outputs": [],
   "source": [
    "def filter_for_long_fragments(fragment_list, min_length):\n",
    "    \"\"\"Returns a list of all fragments that are at least as long as a\n",
    "    given minimum length.\n",
    "\n",
    "    Args:\n",
    "        fragment_list: a list of fragments, in the format returned by fragment_dna\n",
    "        min_length: the minimum length of a fragment to return in the output\n",
    "    Returns:\n",
    "        A list of fragments.\n",
    "    \"\"\"    \n",
    "    arr = []\n",
    "    ### YOUR CODE HERE\n",
    "    for x in range(len(fragment_list)):\n",
    "        if fragment_list[x][1]-fragment_list[x][0] > min_length:\n",
    "            arr.append(fragment_list[x])\n",
    "    return arr\n"
   ]
  },
  {
   "cell_type": "code",
   "execution_count": 32,
   "metadata": {
    "deletable": false,
    "editable": false,
    "nbgrader": {
     "grade": true,
     "grade_id": "filter_for_long_fragments",
     "locked": true,
     "points": 1,
     "schema_version": 3,
     "solution": false
    }
   },
   "outputs": [
    {
     "name": "stdout",
     "output_type": "stream",
     "text": [
      "SUCCESS: filter_for_long_fragments passed all tests!\n"
     ]
    }
   ],
   "source": [
    "# tests for filter_for_long_fragments\n",
    "test_fragment_list = [(0, 4), (4, 15), (15, 82), (82, 100)]\n",
    "assert filter_for_long_fragments(test_fragment_list, 20) == [(15, 82)], \"Failed for min_length = 20\"\n",
    "assert filter_for_long_fragments(test_fragment_list, 5) == [(4, 15), (15, 82), (82, 100)], \"Failed for min_length = 5\"\n",
    "assert filter_for_long_fragments(test_fragment_list, 0) == test_fragment_list, \"Failed for min_length = 0\"\n",
    "assert filter_for_long_fragments(test_fragment_list, 100) == [], \"Failed for min_length = 100\"\n",
    "print(\"SUCCESS: filter_for_long_fragments passed all tests!\")"
   ]
  },
  {
   "cell_type": "markdown",
   "metadata": {
    "deletable": false,
    "editable": false,
    "nbgrader": {
     "grade": false,
     "grade_id": "cell-7af8680d0320c14c",
     "locked": true,
     "schema_version": 3,
     "solution": false
    }
   },
   "source": [
    "### PROBLEM 6 - Sampling fragments (1 POINT)\n",
    "Next, we will write a function to sample fragments.  We will again use the `random.sample` function from the `random` module.  Note that this function raises an exception if you ask it to sample more elements than are present in the sequence input (since it samples *without* replacement).  For example,"
   ]
  },
  {
   "cell_type": "code",
   "execution_count": 33,
   "metadata": {
    "deletable": false,
    "editable": false,
    "nbgrader": {
     "grade": false,
     "grade_id": "cell-c408cb0e88f82f95",
     "locked": true,
     "schema_version": 3,
     "solution": false
    }
   },
   "outputs": [
    {
     "name": "stdout",
     "output_type": "stream",
     "text": [
      "Sample larger than population or is negative\n"
     ]
    }
   ],
   "source": [
    "try:\n",
    "    random.sample([1, 2, 3, 4], 6)\n",
    "except Exception as err:\n",
    "    print(err)"
   ]
  },
  {
   "cell_type": "markdown",
   "metadata": {
    "deletable": false,
    "editable": false,
    "nbgrader": {
     "grade": false,
     "grade_id": "cell-94ce6a82f8b8b0d8",
     "locked": true,
     "schema_version": 3,
     "solution": false
    }
   },
   "source": [
    "This error is not as user-friendly as we might like it to be for someone who is using our functions to randomly sample DNA fragments from a large pool of DNA fragments.  Let us remedy this by explicitly checking that the number of fragments requested is smaller than the size of the pool and if it is not, raising a `ValueError` exception with a more informative message.  Let the format of the error message be `\"The number of fragments to be sampled (INSERT_NUM_FRAGMENTS_HERE) is larger than the fragment pool (INSERT_FRAGMENT_LIST_LENGTH_HERE)`\"."
   ]
  },
  {
   "cell_type": "code",
   "execution_count": 38,
   "metadata": {
    "nbgrader": {
     "grade": false,
     "grade_id": "cell-55e8d69ed65f52cc",
     "locked": false,
     "schema_version": 3,
     "solution": true,
     "task": false
    }
   },
   "outputs": [],
   "source": [
    "def sample_fragments(fragment_list, num_fragments):\n",
    "    \"\"\"Randomly samples a specified number of fragments from a \n",
    "    a list of fragments without replacement.\n",
    "    \n",
    "    Args:\n",
    "        fragment_list: a list of fragments, in the format returned by fragment_dna\n",
    "        num_fragments: the number of fragments to randomly sample from the list\n",
    "    Returns:\n",
    "        A sorted list of fragments.\n",
    "    \"\"\"\n",
    "    \n",
    "    # Check for num_fragments being valid\n",
    "    ### YOUR CODE HERE\n",
    "        # raise ValueError('Represents a hidden bug, do not catch this')\n",
    "    if len(fragment_list) < num_fragments:\n",
    "        raise ValueError(\"The number of fragments to be sampled (\" + str(num_fragments) + \") is larger than the fragment pool (\" + str(len(fragment_list)) + \")\")\n",
    "    return sorted(random.sample(fragment_list, num_fragments))\n",
    "    # except Exception as err:\n",
    "    # print(\"The number of fragments to be sampled (INSERT_NUM_FRAGMENTS_HERE) is larger than the fragment pool (INSERT_FRAGMENT_LIST_LENGTH_HERE)\")"
   ]
  },
  {
   "cell_type": "code",
   "execution_count": 39,
   "metadata": {
    "deletable": false,
    "editable": false,
    "nbgrader": {
     "grade": true,
     "grade_id": "sample_fragments",
     "locked": true,
     "points": 1,
     "schema_version": 3,
     "solution": false
    }
   },
   "outputs": [
    {
     "name": "stdout",
     "output_type": "stream",
     "text": [
      "SUCCESS: sample_fragments passed all tests!\n"
     ]
    }
   ],
   "source": [
    "# tests for sample_fragments\n",
    "test_fragment_list = [(0, 4), (4, 15), (15, 82), (82, 100)]\n",
    "random.seed(42)\n",
    "assert sample_fragments(test_fragment_list, 2) == [(0, 4), (82, 100)]\n",
    "random.seed(42)\n",
    "assert sample_fragments(test_fragment_list, 4) == [(0, 4), (4, 15), (15, 82), (82, 100)]\n",
    "\n",
    "# The tests below check that you are raising an exception properly\n",
    "random.seed(42)\n",
    "try:\n",
    "    sample_fragments(test_fragment_list, 5)\n",
    "except ValueError as err:\n",
    "    assert str(err) == \"The number of fragments to be sampled (5) is larger than the fragment pool (4)\", \"Failed to raise the correct error message\"\n",
    "except Exception as err:\n",
    "    raise AssertionError(\"Raised something other than a ValueError\")\n",
    "else:\n",
    "    raise AssertionError(\"Failed to raise an exception with num_fragments = 5\")\n",
    "print(\"SUCCESS: sample_fragments passed all tests!\")"
   ]
  },
  {
   "cell_type": "markdown",
   "metadata": {
    "deletable": false,
    "editable": false,
    "nbgrader": {
     "grade": false,
     "grade_id": "cell-7ae40f8e895d6df5",
     "locked": true,
     "schema_version": 3,
     "solution": false
    }
   },
   "source": [
    "### PROBLEM 7 - Sequencing fragments (1 POINT)\n",
    "Finally, a sequencer will be applied to the sampled fragments to read one or both of its ends. We will assume that we are using a sequencing technology (such as Illumina) that reads a fixed length from one strand of the fragment starting at the 5' end of that strand and reading in the 5' to 3' direction.  Thus, the end of the fragment that is sequenced depends on which strand is chosen.  We will assume that for each fragment independently, the strand that is sequenced is chosen at random."
   ]
  },
  {
   "cell_type": "markdown",
   "metadata": {
    "deletable": false,
    "editable": false,
    "nbgrader": {
     "grade": false,
     "grade_id": "cell-b395e1f25275191c",
     "locked": true,
     "schema_version": 3,
     "solution": false
    }
   },
   "source": [
    "Write a function `read_fragment` that takes as input a fragment interval and a maximum read length and returns an \"oriented\" read interval `(start, end, strand)` representing the interval of the genome that is read by the sequencer and the orientation (strand) of that read.  For example, with a read length of 100 the fragment interval (500, 800) would result in an oriented read interval of either `(500, 600, +)` or `(700, 800, -)`.  We will use `+` to represent the forward strand (the strand whose sequence is represented by the genome string) and `-` to represent the reverse strand."
   ]
  },
  {
   "cell_type": "code",
   "execution_count": 46,
   "metadata": {
    "nbgrader": {
     "grade": false,
     "grade_id": "cell-9ab7202c13508014",
     "locked": false,
     "schema_version": 3,
     "solution": true,
     "task": false
    }
   },
   "outputs": [],
   "source": [
    "def read_fragment(fragment, read_length):\n",
    "    \"\"\"Returns the interval sequenced from one end of a given fragment, \n",
    "    given a maximum read length and a randomly sampled orientation.\n",
    "    \n",
    "    Args:\n",
    "        fragment: a fragment, represented as a tuple (start, end)\n",
    "        read_length: the maximum length of a read\n",
    "    Returns:\n",
    "        The interval of the read, represented as a tuple (start, end, orientation),\n",
    "        where orientation is \"+\" for a forward strand read and \"-\" for a reverse strand\n",
    "        read. If the fragment is shorter than the maximum read length, the entire fragment\n",
    "        is read.\n",
    "    \"\"\"\n",
    "    \n",
    "    strand = random.choice(\"+-\")\n",
    "    ###\n",
    "    ### YOUR CODE HERE\n",
    "    if fragment[1]-fragment[0] < read_length:\n",
    "        return (fragment[0], fragment[1], strand)\n",
    "    if strand == \"+\":\n",
    "        return (fragment[0], fragment[0] + read_length, strand)\n",
    "    else:\n",
    "        return (fragment[1] - read_length, fragment[1], strand)\n",
    "    \n"
   ]
  },
  {
   "cell_type": "code",
   "execution_count": 47,
   "metadata": {
    "deletable": false,
    "editable": false,
    "nbgrader": {
     "grade": true,
     "grade_id": "read_fragment",
     "locked": true,
     "points": 1,
     "schema_version": 3,
     "solution": false
    }
   },
   "outputs": [
    {
     "name": "stdout",
     "output_type": "stream",
     "text": [
      "SUCCESS: read_fragment passed all tests!\n"
     ]
    }
   ],
   "source": [
    "# tests for read_fragment\n",
    "random.seed(42)\n",
    "assert read_fragment((500, 800), 100) == (500, 600, '+'), \"Failed on (500, 800), 100 (seed 42)\"\n",
    "random.seed(44)\n",
    "assert read_fragment((500, 800), 100) == (700, 800, '-'), \"Failed on (500, 800), 100 (seed 44)\"\n",
    "random.seed(42)\n",
    "assert read_fragment((500, 800), 400) == (500, 800, '+'), \"Failed on (500, 800), 400 (seed 42)\"\n",
    "print(\"SUCCESS: read_fragment passed all tests!\")"
   ]
  },
  {
   "cell_type": "markdown",
   "metadata": {
    "deletable": false,
    "editable": false,
    "nbgrader": {
     "grade": false,
     "grade_id": "cell-ed47076697d420e4",
     "locked": true,
     "schema_version": 3,
     "solution": false
    }
   },
   "source": [
    "### Problem 8 - Putting it all together: simulating shotgun sequencing oriented read intervals (1 POINT)\n",
    "\n",
    "We will now put all of the functions you have written for \n",
    "1. simulating fragmentation, (note the `fragment_multiple_dna_copies` function that is provided to you)\n",
    "2. filtering fragments by length, \n",
    "3. random sampling of fragments, and\n",
    "4. fragment sequencing  \n",
    "\n",
    "together. Write a function below to do this using the documentation string\n",
    "as the specification."
   ]
  },
  {
   "cell_type": "code",
   "execution_count": 48,
   "metadata": {
    "nbgrader": {
     "grade": false,
     "grade_id": "cell-c72bee8aef68dbbe",
     "locked": false,
     "schema_version": 3,
     "solution": true,
     "task": false
    }
   },
   "outputs": [],
   "source": [
    "def simulate_shotgun_sequencing_read_intervals(genome_length, \n",
    "                                               num_copies, \n",
    "                                               k,\n",
    "                                               min_fragment_length,\n",
    "                                               num_fragments, \n",
    "                                               read_length):\n",
    "    \"\"\"Simulates shotgun sequence read intervals.\n",
    "    \n",
    "    Args:\n",
    "        genome_length: the integer length of the DNA sequence\n",
    "        num_copies: the number of identical copies of the DNA in the sample\n",
    "        k: the number of cuts in each DNA during fragmentation\n",
    "        min_fragment_length: the minimum length of a fragment to be sequenced\n",
    "        num_fragments: the number of fragments to sequence\n",
    "        read_length: the length of the reads\n",
    "    Returns:\n",
    "        A list of oriented read intervals, each represented as a tuple (start, end, orientation)\n",
    "    \"\"\"    \n",
    "    \n",
    "    ###\n",
    "    ### YOUR CODE HERE\n",
    "    \n",
    "    fragment_list = fragment_multiple_dna_copies(genome_length, k, num_copies)\n",
    "    \n",
    "    fragment_list = filter_for_long_fragments(fragment_list, min_fragment_length)\n",
    "    \n",
    "    fragment_list = sample_fragments(fragment_list, num_fragments)\n",
    "    \n",
    "    result = [read_fragment(x, read_length) for x in fragment_list]\n",
    "    \n",
    "    return result \n"
   ]
  },
  {
   "cell_type": "code",
   "execution_count": 49,
   "metadata": {
    "deletable": false,
    "editable": false,
    "nbgrader": {
     "grade": true,
     "grade_id": "simulate_shotgun_sequencing_read_intervals",
     "locked": true,
     "points": 1,
     "schema_version": 3,
     "solution": false
    }
   },
   "outputs": [
    {
     "name": "stdout",
     "output_type": "stream",
     "text": [
      "SUCCESS: simulate_shotgun_sequencing_read_intervals passed all tests!\n"
     ]
    }
   ],
   "source": [
    "# tests for simulate_shotgun_sequencing_read_intervals\n",
    "random.seed(42)\n",
    "assert simulate_shotgun_sequencing_read_intervals(genome_length = 100,\n",
    "                                                  num_copies = 10,\n",
    "                                                  k = 5,\n",
    "                                                  min_fragment_length = 10,\n",
    "                                                  num_fragments = 3,\n",
    "                                                  read_length = 10) == [(34, 44, '-'), (36, 46, '+'), (77, 87, '-')]\n",
    "print(\"SUCCESS: simulate_shotgun_sequencing_read_intervals passed all tests!\")"
   ]
  },
  {
   "cell_type": "markdown",
   "metadata": {
    "deletable": false,
    "editable": false,
    "nbgrader": {
     "grade": false,
     "grade_id": "cell-1e34ef63d7032b59",
     "locked": true,
     "schema_version": 3,
     "solution": false
    }
   },
   "source": [
    "### Simulating read intervals from the SARS-CoV-2 genome\n",
    "Let us use our function from the last section to simulate some read intervals along the SARS-CoV-2 genome."
   ]
  },
  {
   "cell_type": "code",
   "execution_count": 50,
   "metadata": {},
   "outputs": [],
   "source": [
    "simulated_sarscov2_read_intervals = simulate_shotgun_sequencing_read_intervals(\n",
    "    genome_length = len(sarscov2_sequence),\n",
    "    num_copies = 10000,\n",
    "    k = 30,\n",
    "    min_fragment_length = 300,\n",
    "    num_fragments = 1000,\n",
    "    read_length = 100)"
   ]
  },
  {
   "cell_type": "markdown",
   "metadata": {
    "deletable": false,
    "editable": false,
    "nbgrader": {
     "grade": false,
     "grade_id": "cell-3ea060ff9d70c97a",
     "locked": true,
     "schema_version": 3,
     "solution": false
    }
   },
   "source": [
    "A common feature to examine in shotgun sequencing data is the \"read coverage\" distribution, which is how many reads cover (overlap) each position along the genome.  Below is a function that you can use to quickly compute read coverage given a list of oriented read intervals."
   ]
  },
  {
   "cell_type": "code",
   "execution_count": 51,
   "metadata": {
    "deletable": false,
    "editable": false,
    "nbgrader": {
     "grade": false,
     "grade_id": "cell-5c6b2b7bca5e28cd",
     "locked": true,
     "schema_version": 3,
     "solution": false
    }
   },
   "outputs": [],
   "source": [
    "def read_coverage(read_intervals, genome_length):\n",
    "    \"\"\"Computes the number of reads covering (overlapping) each position\n",
    "    along the genome.\n",
    "    \n",
    "    Args:\n",
    "        read_intervals: a list of oriented read intervals\n",
    "        genome_length: the integer length of the genome sequence\n",
    "    Returns:\n",
    "        A list of coverage values with the ith entry in the list giving\n",
    "        the read coverage at position i in the genome.\n",
    "    \"\"\"    \n",
    "    num_reads_starting = [0] * genome_length\n",
    "    num_reads_ending = [0] * genome_length\n",
    "    for start, end, strand in read_intervals:\n",
    "        num_reads_starting[start] += 1\n",
    "        num_reads_ending[end - 1] += 1\n",
    "    coverage = [0] * genome_length\n",
    "    coverage[0] = num_reads_starting[0]\n",
    "    for i in range(1, genome_length):\n",
    "        coverage[i] = coverage[i - 1] - num_reads_ending[i - 1] + num_reads_starting[i] \n",
    "    return coverage"
   ]
  },
  {
   "cell_type": "markdown",
   "metadata": {
    "deletable": false,
    "editable": false,
    "nbgrader": {
     "grade": false,
     "grade_id": "cell-0c03c7e310642af3",
     "locked": true,
     "schema_version": 3,
     "solution": false
    }
   },
   "source": [
    "And here is a function to plot the read coverage."
   ]
  },
  {
   "cell_type": "code",
   "execution_count": 52,
   "metadata": {
    "deletable": false,
    "editable": false,
    "nbgrader": {
     "grade": false,
     "grade_id": "cell-190f2afb0cd76b8b",
     "locked": true,
     "schema_version": 3,
     "solution": false
    },
    "scrolled": true
   },
   "outputs": [],
   "source": [
    "def plot_read_coverage(coverage):\n",
    "    import matplotlib.pyplot as plt\n",
    "    plt.figure(figsize=(16,4))\n",
    "    plt.plot(range(len(coverage)), coverage)\n",
    "    plt.xlabel('position along SARS-CoV-2 genome')\n",
    "    plt.ylabel('# of reads covering position')\n",
    "    plt.show()"
   ]
  },
  {
   "cell_type": "markdown",
   "metadata": {
    "deletable": false,
    "editable": false,
    "nbgrader": {
     "grade": false,
     "grade_id": "cell-a75039e43c680627",
     "locked": true,
     "schema_version": 3,
     "solution": false
    }
   },
   "source": [
    "Now let us compute and plot the read coverage across the genome."
   ]
  },
  {
   "cell_type": "code",
   "execution_count": 53,
   "metadata": {
    "deletable": false,
    "editable": false,
    "nbgrader": {
     "grade": false,
     "grade_id": "cell-55914397b6b0fd24",
     "locked": true,
     "schema_version": 3,
     "solution": false
    }
   },
   "outputs": [
    {
     "data": {
      "image/png": "[encoded data removed]",
      "text/plain": [
       "<Figure size 1152x288 with 1 Axes>"
      ]
     },
     "metadata": {
      "needs_background": "light"
     },
     "output_type": "display_data"
    }
   ],
   "source": [
    "simulated_sarscov2_read_coverage = read_coverage(simulated_sarscov2_read_intervals, len(sarscov2_sequence))\n",
    "plot_read_coverage(simulated_sarscov2_read_coverage)"
   ]
  },
  {
   "cell_type": "markdown",
   "metadata": {
    "deletable": false,
    "editable": false,
    "nbgrader": {
     "grade": false,
     "grade_id": "cell-9273dc22035598ab",
     "locked": true,
     "schema_version": 3,
     "solution": false,
     "task": false
    }
   },
   "source": [
    "Examine the plot above and discuss the following questions with your neighbors:  \n",
    "* Why does it have this shape?\n",
    "* Try changing the parameters of the simulation slightly.  Which parameters have the greatest effect on the read coverage distribution?\n",
    "* What might be important about this distribution for the purposes of assembling the genome?\n",
    "Write your thoughts about these questions below."
   ]
  },
  {
   "cell_type": "markdown",
   "metadata": {},
   "source": [
    "###\n",
    "### WRITE YOUR THOUGHTS HERE\n",
    "###\n"
   ]
  },
  {
   "cell_type": "markdown",
   "metadata": {
    "deletable": false,
    "editable": false,
    "nbgrader": {
     "grade": false,
     "grade_id": "cell-cce78ce1dbfb8d43",
     "locked": true,
     "schema_version": 3,
     "solution": false
    }
   },
   "source": [
    "### Problem 9 - Read intervals to read sequences (1 POINT)\n",
    "\n",
    "Although it has been convenient and efficient to work with read intervals, we will ultimately want to simulate actual read sequences, which will be the input to a genome assembly method.  For simplicity, we assume that the sequencer is error free.  Later, we will consider how sequencing errors might occur and complicate the assembly task."
   ]
  },
  {
   "cell_type": "markdown",
   "metadata": {
    "deletable": false,
    "editable": false,
    "nbgrader": {
     "grade": false,
     "grade_id": "cell-4cac76a4a6ef7f89",
     "locked": true,
     "schema_version": 3,
     "solution": false
    }
   },
   "source": [
    "Write a function that takes as input the genome sequence and a single oriented read interval and outputs the DNA  sequence of the read for the given interval and orientation.  You will need to use your `reverse_complement` function from the Day 1 notebook."
   ]
  },
  {
   "cell_type": "code",
   "execution_count": 57,
   "metadata": {
    "nbgrader": {
     "grade": false,
     "grade_id": "cell-f8e6547c851dfee2",
     "locked": false,
     "schema_version": 3,
     "solution": true,
     "task": false
    }
   },
   "outputs": [],
   "source": [
    "def sequence_for_read_interval(read_interval, genome_sequence):\n",
    "    \"\"\"Returns the sequence of a read given its oriented interval along\n",
    "    a genome sequence.\n",
    "    \n",
    "    Args:\n",
    "        read_interval: an oriented read interval, represented as a tuple (start, end, orientation)\n",
    "        genome_sequence: the genome sequence as a string\n",
    "    Returns:\n",
    "        The sequence of the read as a string.\n",
    "    \"\"\"    \n",
    "    \n",
    "    ###\n",
    "    ### YOUR CODE HERE\n",
    "    if read_interval[2] == \"-\":\n",
    "        return reverse_complement(genome_sequence[read_interval[0]:read_interval[1]])\n",
    "    \n",
    "    return genome_sequence[read_interval[0]:read_interval[1]]\n",
    "    \n",
    "    \n",
    "# You will likely want to use your reverse_complement function from day 1\n",
    "# which you can paste below\n",
    "###\n",
    "### YOUR CODE HERE\n",
    "\n",
    "def reverse_complement(s):\n",
    "    # we first start with an empty list\n",
    "    opposite_bases = []\n",
    "    # using a for loop, we loop through the bases of s in *reverse* order\n",
    "    # and append the complementary base to the opposite bases list\n",
    "    ### YOUR CODE HERE\n",
    "    for x in reversed(s):\n",
    "        opposite_bases.append(complement(x))\n",
    "    \n",
    "    # we can use the 'join' method with an empty string\n",
    "    # to concatenate all strings in the list\n",
    "    return ''.join(opposite_bases)\n",
    "\n",
    "def complement(base):\n",
    "    if base == 'A':\n",
    "        return 'T'\n",
    "    elif base == 'C':\n",
    "    ### YOUR CODE HERE\n",
    "        return 'G'\n",
    "    elif base == 'T':\n",
    "        return 'A'\n",
    "    elif base == 'G':\n",
    "        return 'C'\n",
    "    else:\n",
    "        raise ValueError(base + \" is not a valid DNA base\")"
   ]
  },
  {
   "cell_type": "code",
   "execution_count": 58,
   "metadata": {
    "deletable": false,
    "editable": false,
    "nbgrader": {
     "grade": true,
     "grade_id": "sequence_for_read_interval",
     "locked": true,
     "points": 1,
     "schema_version": 3,
     "solution": false
    }
   },
   "outputs": [
    {
     "name": "stdout",
     "output_type": "stream",
     "text": [
      "SUCCESS: sequence_for_read_interval passed all tests!\n"
     ]
    }
   ],
   "source": [
    "# tests for sequence_for_read_interval\n",
    "assert sequence_for_read_interval((0, 5, '+'), \"CGATGCTTAA\") == 'CGATG', \"Failed on (0, 5, '+')\"\n",
    "assert sequence_for_read_interval((0, 5, '-'), \"CGATGCTTAA\") == 'CATCG', \"Failed on (0, 5, '-')\"\n",
    "assert sequence_for_read_interval((4, 10, '+'), \"CGATGCTTAA\") == 'GCTTAA', \"Failed on (4, 10, '+')\"\n",
    "assert sequence_for_read_interval((4, 10, '-'), \"CGATGCTTAA\") == 'TTAAGC', \"Failed on (4, 10, '-')\"\n",
    "print(\"SUCCESS: sequence_for_read_interval passed all tests!\")"
   ]
  },
  {
   "cell_type": "markdown",
   "metadata": {
    "deletable": false,
    "editable": false,
    "nbgrader": {
     "grade": false,
     "grade_id": "cell-2995e344eb1ab997",
     "locked": true,
     "schema_version": 3,
     "solution": false
    }
   },
   "source": [
    "### Putting it all together: simulating shotgun sequencing read sequences\n",
    "\n",
    "For completeness, Below you are provided with a function that puts all of your work above together and simulates a set of read sequences for shotgun sequencing given a genome sequence."
   ]
  },
  {
   "cell_type": "code",
   "execution_count": 59,
   "metadata": {
    "deletable": false,
    "editable": false,
    "nbgrader": {
     "grade": false,
     "grade_id": "simulate_shotgun_sequencing_reads",
     "locked": true,
     "schema_version": 3,
     "solution": false
    }
   },
   "outputs": [],
   "source": [
    "def simulate_shotgun_sequencing_reads(genome_sequence, \n",
    "                                      num_copies, \n",
    "                                      k,\n",
    "                                      min_fragment_length,\n",
    "                                      num_fragments, \n",
    "                                      read_length):\n",
    "    \"\"\"Simulates shotgun sequence reads from a genome.\n",
    "    \n",
    "    Args:\n",
    "        genome_sequence: the genome sequence as a string\n",
    "        num_copies: the number of identical copies of the DNA in the sample\n",
    "        k: the number of cuts in each DNA during fragmentation\n",
    "        min_fragment_length: the minimum length of a fragment to be sequenced\n",
    "        num_fragments: the number of fragments to sequence\n",
    "        read_length: the length of the reads\n",
    "    Returns:\n",
    "        A list of read sequences.\n",
    "    \"\"\"    \n",
    "    \n",
    "    read_intervals = simulate_shotgun_sequencing_read_intervals(len(genome_sequence),\n",
    "                                                                num_copies,\n",
    "                                                                k,\n",
    "                                                                min_fragment_length,\n",
    "                                                                num_fragments,\n",
    "                                                                read_length)\n",
    "    reads = [sequence_for_read_interval(interval, genome_sequence)\n",
    "             for interval in read_intervals]\n",
    "    return reads"
   ]
  },
  {
   "cell_type": "markdown",
   "metadata": {
    "deletable": false,
    "editable": false,
    "nbgrader": {
     "grade": false,
     "grade_id": "cell-e82e5b9e1865b759",
     "locked": true,
     "schema_version": 3,
     "solution": false
    }
   },
   "source": [
    "Let's try simulating from the SARS-CoV-2 genome to see what sequencing data look like.  For example,"
   ]
  },
  {
   "cell_type": "code",
   "execution_count": 60,
   "metadata": {
    "deletable": false,
    "editable": false,
    "nbgrader": {
     "grade": false,
     "grade_id": "cell-b456cc093d78cc19",
     "locked": true,
     "schema_version": 3,
     "solution": false,
     "task": false
    }
   },
   "outputs": [
    {
     "data": {
      "text/plain": [
       "['AGTGCGTGACAAATGTTTCACCTAAATTCA',\n",
       " 'GGTAAAACATTTTATGTTTTACCTAATGAT',\n",
       " 'AAAAACAATTGCATGATTGCAGCCAATCCA',\n",
       " 'ACTTAGCTCTTTATAATAAGTACAAGTATT',\n",
       " 'TAACATAGATTATGACTGTGTCTCTTTTTG',\n",
       " 'GTGATGCAGCCATGCAACGTAAGTTGGAAA',\n",
       " 'AGATTTGACACTAGAGTGCTATCTAACCTT',\n",
       " 'TATTTGACTCCTGGTGATTCTTCTTCAGGT',\n",
       " 'CAAGGTGTGCTACCGGCCTGATAGATTTCA',\n",
       " 'TTTTTTTTTTTTTTTTTTTTTTTTTTTTTT']"
      ]
     },
     "execution_count": 60,
     "metadata": {},
     "output_type": "execute_result"
    }
   ],
   "source": [
    "simulate_shotgun_sequencing_reads(\n",
    "    genome_sequence = sarscov2_sequence,\n",
    "    num_copies = 10000,\n",
    "    k = 30,\n",
    "    min_fragment_length = 300,\n",
    "    num_fragments = 10,\n",
    "    read_length = 30)"
   ]
  },
  {
   "cell_type": "code",
   "execution_count": null,
   "metadata": {},
   "outputs": [],
   "source": []
  }
 ],
 "metadata": {
  "celltoolbar": "Create Assignment",
  "kernelspec": {
   "display_name": "Python 3 [3.10]",
   "language": "python",
   "name": "python3"
  },
  "language_info": {
   "codemirror_mode": {
    "name": "ipython",
    "version": 3
   },
   "file_extension": ".py",
   "mimetype": "text/x-python",
   "name": "python",
   "nbconvert_exporter": "python",
   "pygments_lexer": "ipython3",
   "version": "3.10.2"
  }
 },
 "nbformat": 4,
 "nbformat_minor": 4
}
